{
 "cells": [
  {
   "metadata": {},
   "cell_type": "markdown",
   "source": [
    "## Library Maintenance\n",
    "\n",
    "대부분의 파이썬 라이브러리는 객체 형태로 되어 있다. 이번 과제에서는 배운 내용을 활용해 기존의 인터페이스를 상속 받아 목표한 기능을 수행하는 클래스들을 제작해 보자."
   ],
   "id": "c1224c047761dbdc"
  },
  {
   "metadata": {},
   "cell_type": "markdown",
   "source": [
    "### 1. 라이브러리 구조 체크\n",
    "\n",
    "라이브러리 구조를 체크해 보자. 동봉된 `prac1` library에는 `data.py`와 `util.py`가 존재한다. `DataLoader`를 불러와서 사용해 보도록 한다."
   ],
   "id": "753ea4b014f872b"
  },
  {
   "cell_type": "code",
   "id": "initial_id",
   "metadata": {
    "collapsed": true,
    "ExecuteTime": {
     "end_time": "2025-01-26T13:12:17.130682Z",
     "start_time": "2025-01-26T13:12:13.805949Z"
    }
   },
   "source": [
    "import numpy as np\n",
    "import pandas as pd\n",
    "from prac01.data import DataLoader\n",
    "\n",
    "data = DataLoader.get_data(\n",
    "    'AAPL', \n",
    "    start = '2000-01-01'\n",
    ")"
   ],
   "outputs": [
    {
     "name": "stdout",
     "output_type": "stream",
     "text": [
      "get from yahoo finance...\n"
     ]
    }
   ],
   "execution_count": 3
  },
  {
   "metadata": {
    "ExecuteTime": {
     "end_time": "2025-01-26T13:12:25.492575Z",
     "start_time": "2025-01-26T13:12:25.485630Z"
    }
   },
   "cell_type": "code",
   "source": "data",
   "id": "c03932632e22e205",
   "outputs": [
    {
     "data": {
      "text/plain": [
       "                  Open        High         Low       Close   Adj Close  \\\n",
       "Date                                                                     \n",
       "2000-01-03    0.936384    1.004464    0.907924    0.999442    0.843076   \n",
       "2000-01-04    0.966518    0.987723    0.903460    0.915179    0.771997   \n",
       "2000-01-05    0.926339    0.987165    0.919643    0.928571    0.783293   \n",
       "2000-01-06    0.947545    0.955357    0.848214    0.848214    0.715508   \n",
       "2000-01-07    0.861607    0.901786    0.852679    0.888393    0.749401   \n",
       "...                ...         ...         ...         ...         ...   \n",
       "2025-01-17  232.119995  232.289993  228.479996  229.979996  229.979996   \n",
       "2025-01-21  224.000000  224.419998  219.380005  222.639999  222.639999   \n",
       "2025-01-22  219.789993  224.119995  219.789993  223.830002  223.830002   \n",
       "2025-01-23  224.740005  227.029999  222.300003  223.660004  223.660004   \n",
       "2025-01-24  224.779999  225.630005  221.410004  222.779999  222.779999   \n",
       "\n",
       "               Volume  \n",
       "Date                   \n",
       "2000-01-03  535796800  \n",
       "2000-01-04  512377600  \n",
       "2000-01-05  778321600  \n",
       "2000-01-06  767972800  \n",
       "2000-01-07  460734400  \n",
       "...               ...  \n",
       "2025-01-17   68488300  \n",
       "2025-01-21   98070400  \n",
       "2025-01-22   64126500  \n",
       "2025-01-23   60234800  \n",
       "2025-01-24   54619500  \n",
       "\n",
       "[6304 rows x 6 columns]"
      ],
      "text/html": [
       "<div>\n",
       "<style scoped>\n",
       "    .dataframe tbody tr th:only-of-type {\n",
       "        vertical-align: middle;\n",
       "    }\n",
       "\n",
       "    .dataframe tbody tr th {\n",
       "        vertical-align: top;\n",
       "    }\n",
       "\n",
       "    .dataframe thead th {\n",
       "        text-align: right;\n",
       "    }\n",
       "</style>\n",
       "<table border=\"1\" class=\"dataframe\">\n",
       "  <thead>\n",
       "    <tr style=\"text-align: right;\">\n",
       "      <th></th>\n",
       "      <th>Open</th>\n",
       "      <th>High</th>\n",
       "      <th>Low</th>\n",
       "      <th>Close</th>\n",
       "      <th>Adj Close</th>\n",
       "      <th>Volume</th>\n",
       "    </tr>\n",
       "    <tr>\n",
       "      <th>Date</th>\n",
       "      <th></th>\n",
       "      <th></th>\n",
       "      <th></th>\n",
       "      <th></th>\n",
       "      <th></th>\n",
       "      <th></th>\n",
       "    </tr>\n",
       "  </thead>\n",
       "  <tbody>\n",
       "    <tr>\n",
       "      <th>2000-01-03</th>\n",
       "      <td>0.936384</td>\n",
       "      <td>1.004464</td>\n",
       "      <td>0.907924</td>\n",
       "      <td>0.999442</td>\n",
       "      <td>0.843076</td>\n",
       "      <td>535796800</td>\n",
       "    </tr>\n",
       "    <tr>\n",
       "      <th>2000-01-04</th>\n",
       "      <td>0.966518</td>\n",
       "      <td>0.987723</td>\n",
       "      <td>0.903460</td>\n",
       "      <td>0.915179</td>\n",
       "      <td>0.771997</td>\n",
       "      <td>512377600</td>\n",
       "    </tr>\n",
       "    <tr>\n",
       "      <th>2000-01-05</th>\n",
       "      <td>0.926339</td>\n",
       "      <td>0.987165</td>\n",
       "      <td>0.919643</td>\n",
       "      <td>0.928571</td>\n",
       "      <td>0.783293</td>\n",
       "      <td>778321600</td>\n",
       "    </tr>\n",
       "    <tr>\n",
       "      <th>2000-01-06</th>\n",
       "      <td>0.947545</td>\n",
       "      <td>0.955357</td>\n",
       "      <td>0.848214</td>\n",
       "      <td>0.848214</td>\n",
       "      <td>0.715508</td>\n",
       "      <td>767972800</td>\n",
       "    </tr>\n",
       "    <tr>\n",
       "      <th>2000-01-07</th>\n",
       "      <td>0.861607</td>\n",
       "      <td>0.901786</td>\n",
       "      <td>0.852679</td>\n",
       "      <td>0.888393</td>\n",
       "      <td>0.749401</td>\n",
       "      <td>460734400</td>\n",
       "    </tr>\n",
       "    <tr>\n",
       "      <th>...</th>\n",
       "      <td>...</td>\n",
       "      <td>...</td>\n",
       "      <td>...</td>\n",
       "      <td>...</td>\n",
       "      <td>...</td>\n",
       "      <td>...</td>\n",
       "    </tr>\n",
       "    <tr>\n",
       "      <th>2025-01-17</th>\n",
       "      <td>232.119995</td>\n",
       "      <td>232.289993</td>\n",
       "      <td>228.479996</td>\n",
       "      <td>229.979996</td>\n",
       "      <td>229.979996</td>\n",
       "      <td>68488300</td>\n",
       "    </tr>\n",
       "    <tr>\n",
       "      <th>2025-01-21</th>\n",
       "      <td>224.000000</td>\n",
       "      <td>224.419998</td>\n",
       "      <td>219.380005</td>\n",
       "      <td>222.639999</td>\n",
       "      <td>222.639999</td>\n",
       "      <td>98070400</td>\n",
       "    </tr>\n",
       "    <tr>\n",
       "      <th>2025-01-22</th>\n",
       "      <td>219.789993</td>\n",
       "      <td>224.119995</td>\n",
       "      <td>219.789993</td>\n",
       "      <td>223.830002</td>\n",
       "      <td>223.830002</td>\n",
       "      <td>64126500</td>\n",
       "    </tr>\n",
       "    <tr>\n",
       "      <th>2025-01-23</th>\n",
       "      <td>224.740005</td>\n",
       "      <td>227.029999</td>\n",
       "      <td>222.300003</td>\n",
       "      <td>223.660004</td>\n",
       "      <td>223.660004</td>\n",
       "      <td>60234800</td>\n",
       "    </tr>\n",
       "    <tr>\n",
       "      <th>2025-01-24</th>\n",
       "      <td>224.779999</td>\n",
       "      <td>225.630005</td>\n",
       "      <td>221.410004</td>\n",
       "      <td>222.779999</td>\n",
       "      <td>222.779999</td>\n",
       "      <td>54619500</td>\n",
       "    </tr>\n",
       "  </tbody>\n",
       "</table>\n",
       "<p>6304 rows × 6 columns</p>\n",
       "</div>"
      ]
     },
     "execution_count": 4,
     "metadata": {},
     "output_type": "execute_result"
    }
   ],
   "execution_count": 4
  },
  {
   "metadata": {},
   "cell_type": "markdown",
   "source": [
    "#### 1.1 `__init__.py`\n",
    "\n",
    "library의 `__init__.py`는 class에서 `__init__()` 메서드를 지정하는 것과 같이, 라이브러리가 호출될 때 초기화되는 파일이다. 직접 `__init__.py`를 추가해 아래의 기능을 추가해 보자.\n",
    "\n",
    "- 라이브러리를 실행할 때, 외부 라이브러리를 무조건 import하고, 라이브러리가 존재하지 않을 때 module import error를 발생시킨다\n",
    "- 변수 `LIBRARY_VERSION`을 초기화하고, `0.0.1`로 설정해 보자."
   ],
   "id": "e539b03b21f45863"
  },
  {
   "metadata": {},
   "cell_type": "code",
   "outputs": [],
   "execution_count": null,
   "source": [
    "# __init__.py 내부에서...\n",
    "import numpy as np\n",
    "import pandas as pd\n",
    "\n",
    "LIBRARY_VERSION = '0.0.1'"
   ],
   "id": "b3ab2be7c57dd70d"
  },
  {
   "metadata": {},
   "cell_type": "markdown",
   "source": [
    "### 2. 추상 클래스 구현\n",
    "\n",
    "아래의 기능 명세를 만족하는 클래스를 만들어 보자. `stats.py`에는 이를 구현하기 위한 인터페이스`Stats`가 구현되어 있다. 이를 상속받아 새로운 클래스 `StockStats`를 구현해 보자."
   ],
   "id": "5de6cbb6d1434640"
  },
  {
   "metadata": {},
   "cell_type": "code",
   "outputs": [],
   "execution_count": null,
   "source": [
    "from prac01.stats import Stats\n",
    "\n",
    "class StockStats(Stats) :\n",
    "    \"\"\"\n",
    "    이 부분에 인터페이스에서 구상된 method를 구현한 뒤, 추가적인 method를 더 추가해 주세요.\n",
    "    \"\"\"\n",
    "    pass"
   ],
   "id": "6b6dc06ff6502e8a"
  },
  {
   "metadata": {},
   "cell_type": "markdown",
   "source": [
    "### 3. 추가 기능의 구현\n",
    "\n",
    "2번에서 생성한 `StockStats` 클래스에서 beta를 계산하는 method를 만들어 보자. 단, 시장 수익률과 무위험이자율은 인수로 받는 형태로 만들도록 하자. 여기서 beta는 자산가격결정모형으로부터 다음과 같이 유도된다.\n",
    "\n",
    "$$r_i - r_f = \\alpha + \\beta(r_m - r_f) + \\varepsilon$$"
   ],
   "id": "9142c33799ae02cf"
  },
  {
   "metadata": {},
   "cell_type": "code",
   "outputs": [],
   "execution_count": null,
   "source": "",
   "id": "d6c6a9d1b3301f9d"
  },
  {
   "metadata": {},
   "cell_type": "markdown",
   "source": [
    "### 4. Polymorphism\n",
    "\n",
    "`data.py`에 존재하는 `DataLoader`와 `stats.py`에 존재하는 `StockStats`를 상속받는 새로운 클래스 `Stocks`를 만들어 보자. 이를 이용해, 가격 수집과 통계량을 동시에 도출할 수 있는 클래스를 만들어 본다."
   ],
   "id": "b831237e658025dc"
  },
  {
   "metadata": {},
   "cell_type": "code",
   "outputs": [],
   "execution_count": null,
   "source": "",
   "id": "adb4e43b22b742d9"
  },
  {
   "metadata": {},
   "cell_type": "markdown",
   "source": [
    "### 5. Portfolio Construction\n",
    "\n",
    "Torch를 import하여 다음의 기능을 수행해 보자.\n",
    "\n",
    "1. DataLoader를 상속받는 클래스 `PortfolioConstruction`을 생성한다.\n",
    "2. 여러 개의 자산의 종가를 이용해 각 자산별 투자 비중을 결정하는 method `get_weights`를 만든다.\n",
    "\n",
    "객체 지향 프로그래밍의 원칙 중 **단일 책임 원칙**에 유의하며 구조를 완성해 보도록 한다."
   ],
   "id": "4834bb24a3cc795d"
  },
  {
   "metadata": {},
   "cell_type": "code",
   "outputs": [],
   "execution_count": null,
   "source": "",
   "id": "98f289e6cf1211c6"
  }
 ],
 "metadata": {
  "kernelspec": {
   "display_name": "Python 3",
   "language": "python",
   "name": "python3"
  },
  "language_info": {
   "codemirror_mode": {
    "name": "ipython",
    "version": 2
   },
   "file_extension": ".py",
   "mimetype": "text/x-python",
   "name": "python",
   "nbconvert_exporter": "python",
   "pygments_lexer": "ipython2",
   "version": "2.7.6"
  }
 },
 "nbformat": 4,
 "nbformat_minor": 5
}
