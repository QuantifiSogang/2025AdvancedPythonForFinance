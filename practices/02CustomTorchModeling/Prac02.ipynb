{
 "cells": [
  {
   "metadata": {},
   "cell_type": "markdown",
   "source": [
    "## Custom Torch Modeling\n",
    "\n",
    "이번 실습에서는 시계열 예측을 수행하는 class를 제작해, 전체적인 시계열 예측 파이프라인을 생성하는 것을 목표로 한다. 구조는 객체지향의 디자인 패턴을 고려하면서 만들어 보자."
   ],
   "id": "c1224c047761dbdc"
  },
  {
   "metadata": {},
   "cell_type": "markdown",
   "source": [
    "### 데이터 준비\n",
    "\n",
    "S&P500 Index (yfinance : `^GSPC`)의 일별 데이터에 대해서 가격을 다운받는다."
   ],
   "id": "500769e90daf4690"
  },
  {
   "cell_type": "code",
   "id": "initial_id",
   "metadata": {
    "collapsed": true,
    "ExecuteTime": {
     "end_time": "2025-02-02T13:54:41.394368Z",
     "start_time": "2025-02-02T13:54:38.391832Z"
    }
   },
   "source": [
    "import yfinance as yf\n",
    "\n",
    "START = '2000-01-01'\n",
    "TICKER = '^GSPC'\n",
    "\n",
    "data = yf.download(\n",
    "    TICKER,\n",
    "    start = START,\n",
    "    progress = False,\n",
    "    interval = '1d'\n",
    ")"
   ],
   "outputs": [],
   "execution_count": 1
  },
  {
   "metadata": {
    "ExecuteTime": {
     "end_time": "2025-02-02T13:54:58.184649Z",
     "start_time": "2025-02-02T13:54:58.177715Z"
    }
   },
   "cell_type": "code",
   "source": "data['Close'].tail() # 데이터 확인",
   "id": "ee9d9b2fb717cf70",
   "outputs": [
    {
     "data": {
      "text/plain": [
       "Date\n",
       "2025-01-27    6012.279785\n",
       "2025-01-28    6067.700195\n",
       "2025-01-29    6039.310059\n",
       "2025-01-30    6071.169922\n",
       "2025-01-31    6040.529785\n",
       "Name: Close, dtype: float64"
      ]
     },
     "execution_count": 2,
     "metadata": {},
     "output_type": "execute_result"
    }
   ],
   "execution_count": 2
  },
  {
   "metadata": {},
   "cell_type": "markdown",
   "source": [
    "### 1. Statistical Prediction Model\n",
    "\n",
    "준비된 데이터에 대해서 아래의 인터페이스에 맞는 class 를 제작해 보자.\n",
    "\n",
    "1. AR Model에 대해 1-step ahead prediction을 진행하는 class `ARForecast`\n",
    "2. MA Model에 대해 1-step ahead prediction을 진행하는 class `MAForecast`\n",
    "3. ARMA Model에 대해 1-step ahead prediction을 진행하는 class `ARMAForecast`\n",
    "\n",
    "을 제작해 본다. 생성하는 클래스는 아래의 추상 클래스 `Forecast`를 상속받는다. 내부 계산에서는 `statsmodels`의 시계열 모형을 사용한다. 1-step ahead prediction을 진행하기 위해서는 학습에 사용할 window 기간을 설정하는 parameter `window`를 `fit()` method에 over-riding하여 확장한다. "
   ],
   "id": "94249af84f4ddf87"
  },
  {
   "metadata": {
    "ExecuteTime": {
     "end_time": "2025-02-02T14:06:05.548563Z",
     "start_time": "2025-02-02T14:06:05.539965Z"
    }
   },
   "cell_type": "code",
   "source": [
    "from abc import ABC, abstractmethod\n",
    "import pandas as pd\n",
    "\n",
    "class Forecast(ABC) :\n",
    "    '''\n",
    "    Abstract base class for all Forecasts\n",
    "    '''\n",
    "    def __init__(self, data) :\n",
    "        self.data = data\n",
    "    \n",
    "    @abstractmethod\n",
    "    def prepare_data(self) :\n",
    "        \"\"\"\n",
    "        model fitting을 위해 데이터를 모델의 형태에 맞게 정제하는 method\n",
    "        \"\"\"\n",
    "        pass\n",
    "    \n",
    "    @abstractmethod\n",
    "    def fit(self) -> pd.Series :\n",
    "        \"\"\"\n",
    "        model fitting을 진행하는 method\n",
    "        :return: fitted 된 pandas.Series 형태의 적합화된 시계열 데이터\n",
    "        \"\"\"\n",
    "        pass\n",
    "    \n",
    "    @abstractmethod\n",
    "    def predict(self) -> pd.Series :\n",
    "        '''\n",
    "        fitting된 모형을 기반으로 예측값을 출력하는 method\n",
    "        :return: pd.Series 형태의 예측된 데이터\n",
    "        '''\n",
    "        pass\n",
    "    \n",
    "    @abstractmethod\n",
    "    def mse_score(self) -> float :\n",
    "        '''\n",
    "        예측 모형과 실제 값 간의 mean squared error를 계산하는 method\n",
    "        :return: \n",
    "        '''\n",
    "        pass"
   ],
   "id": "3a432b077f34e44b",
   "outputs": [],
   "execution_count": 3
  },
  {
   "metadata": {},
   "cell_type": "code",
   "outputs": [],
   "execution_count": null,
   "source": [
    "# 이 부분에서 코드를 작성해 주세요\n",
    "class ARForecast(Forecast) :\n",
    "    pass\n",
    "\n",
    "class MAForecast(Forecast) :\n",
    "    pass\n",
    "\n",
    "class ARMAForecast(Forecast) :\n",
    "    pass"
   ],
   "id": "7644523714bd1c6a"
  },
  {
   "metadata": {},
   "cell_type": "markdown",
   "source": [
    "### 2. Torch Prediction Model\n",
    "\n",
    "1번에서 사용된 인터페이스 `Forecast`를 상속하여 \n",
    "\n",
    "1. RNN에 대해 test기간에서의 예측을 수행하는 class `RNNForecast`\n",
    "2. GRU에 대해 test기간에서의 예측을 수행하는 class `GRUForecast`\n",
    "3. LSTM에 대해 test기간에서의 예측을 수행하는 class `LSTMForecast`\n",
    "\n",
    "를 생성해 본다. 여기서 Torch 기반의 예측 클래스에서는 train 기간과 test 기간을 따로 사용해야 하기 때문에, `fit()`에서는 학습 데이터를 넣고, `predict()`에서는 실습 데이터를 넣어서 예측값을 생성하도록 디자인한다. RNN 모형, GRU 모형과 LSTM모형은 강의자료에 있는 클래스를 그대로 받아서 사용해도 무방하다. (혹은 layer를 임의로 변경하여도 상관없다)"
   ],
   "id": "88ae86724a468744"
  },
  {
   "metadata": {},
   "cell_type": "code",
   "outputs": [],
   "execution_count": null,
   "source": [
    "# 이 부분에서 코드를 작성해 주세요\n",
    "class RNNForecast(Forecast) :\n",
    "    pass\n",
    "\n",
    "class GRUForecast(Forecast) :\n",
    "    pass\n",
    "\n",
    "class LSTMForecast(Forecast) :\n",
    "    pass"
   ],
   "id": "476d3295b0345ca"
  },
  {
   "metadata": {},
   "cell_type": "markdown",
   "source": [
    "### 3. Generalized Forecast Module\n",
    "\n",
    "1번과 2번에서 작성한 Forecast Module을 통합적으로 사용하기 위해 class `TimeSeriesForecast`를 생성한다. 예상되는 use case는 다음과 같다.\n",
    "\n",
    "```{python}\n",
    "# Torch Model을 사용하는 경우\n",
    "forecast = TimeSeriesForecast(train_data, method = 'RNN')\n",
    "forecast.fit(p = 2) # 사용할 과거 데이터의 개수\n",
    "y_pred = forecast.predict(test_data)\n",
    "\n",
    "# Statistical Model을 사용하는 경우\n",
    "forecast = TimeSeriesForecast(data, method = 'AR')\n",
    "forecast.fit(p = 2, window = 252) # p : 사용할 과거 데이터의 개수, window : 1기간 예측값을 생성할 때 사용할 데이터의 개수\n",
    "y_pred = forecast.predict()\n",
    "```"
   ],
   "id": "72d31fa344f91acd"
  },
  {
   "metadata": {},
   "cell_type": "code",
   "outputs": [],
   "execution_count": null,
   "source": "# 이 부분에서 코드를 작성해 주세요",
   "id": "3f5271c03e42c960"
  }
 ],
 "metadata": {
  "kernelspec": {
   "display_name": "Python 3",
   "language": "python",
   "name": "python3"
  },
  "language_info": {
   "codemirror_mode": {
    "name": "ipython",
    "version": 2
   },
   "file_extension": ".py",
   "mimetype": "text/x-python",
   "name": "python",
   "nbconvert_exporter": "python",
   "pygments_lexer": "ipython2",
   "version": "2.7.6"
  }
 },
 "nbformat": 4,
 "nbformat_minor": 5
}
