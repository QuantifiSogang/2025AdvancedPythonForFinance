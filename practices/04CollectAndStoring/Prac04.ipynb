{
 "cells": [
  {
   "metadata": {},
   "cell_type": "markdown",
   "source": [
    "## Collect & Storing Data\n",
    "\n",
    "이번 과제에서는 그간 배운 내용을 이용해 데이터를 적재하고 사용하는 일련에 과정에 대해 실습해 보도록 한다."
   ],
   "id": "14d79d90fb7c8701"
  },
  {
   "metadata": {
    "ExecuteTime": {
     "end_time": "2025-02-16T14:42:56.079993Z",
     "start_time": "2025-02-16T14:42:55.489751Z"
    }
   },
   "cell_type": "code",
   "source": [
    "import numpy as np\n",
    "import pandas as pd\n",
    "import sqlite3\n",
    "import yfinance as yf"
   ],
   "id": "6736ba444aa6d4a4",
   "outputs": [],
   "execution_count": 1
  },
  {
   "metadata": {},
   "cell_type": "markdown",
   "source": [
    "### 1. Daily Data\n",
    "\n",
    "`yfinance`로부터 사용자가 지정한 종목에 대해 거래가 종료될 때마다 하루동안의 시가, 고가, 저가, 종가를 수집한다고 가정하자. ticker는 다음과 같이 지정되어 있다."
   ],
   "id": "b64e4201ec2e167a"
  },
  {
   "metadata": {},
   "cell_type": "code",
   "outputs": [],
   "execution_count": null,
   "source": "TICKERS = ['AAPL','MSFT','NVDA','GOOGL','WMT','XOM','LLY','TSLA','META','JPM','V']",
   "id": "9286b56f601cab4c"
  },
  {
   "metadata": {},
   "cell_type": "markdown",
   "source": [
    "#### 1.1 Collect data from yahoo finance\n",
    "\n",
    "주어진 티커에 대해서 일간 OHLCV 데이터를 yahoo finance로부터 수집하는 과정을 구현하자. 수집 시작 기한은 아래와 같이 1990년 1월 1일로 지정한다. 수집 종료 기간은 오늘까지로 명시한다. 여기서, yahoo finance library는 당일까지의 가격을 수집하기 위해서는 그 다음날의 날짜 인덱스를 사용해야 하는 것을 유의하자."
   ],
   "id": "ff6c275ac55f7097"
  },
  {
   "cell_type": "code",
   "execution_count": null,
   "id": "initial_id",
   "metadata": {
    "collapsed": true
   },
   "outputs": [],
   "source": "START_DATE = '1990-01-01'"
  },
  {
   "metadata": {},
   "cell_type": "markdown",
   "source": [
    "#### 1.2 Store to SQL\n",
    "\n",
    "SQL문을 사용하여 수집된 데이터를 `prac4.db`를 생성해 저장하자. primary key로는 (date, field, ticker)를 사용한다."
   ],
   "id": "1b9c1cecb6c95dd8"
  },
  {
   "metadata": {},
   "cell_type": "code",
   "outputs": [],
   "execution_count": null,
   "source": "",
   "id": "d17871b7a2a947db"
  },
  {
   "metadata": {},
   "cell_type": "markdown",
   "source": [
    "#### 1.3 Using Database\n",
    "\n",
    "`prac4.db`로부터 저장된 가격데이터로부터 AAPL, WMT, XOM, JPM, LLY의 가격을 다음의 조건에 맞게 가져오자.\n",
    "\n",
    "- 수집 기한은 2015년 1월 1일부터 가져온다\n",
    "- 수정 종가 데이터를 가져온다\n",
    "\n",
    "단, 가격을 importing할 때 SQL 쿼리문을 사용한다. 가져온 이후에는 connection을 닫아 미연의 오류를 방지하도록 한다."
   ],
   "id": "765437a84aed5b41"
  },
  {
   "metadata": {},
   "cell_type": "code",
   "outputs": [],
   "execution_count": null,
   "source": "",
   "id": "3dcbdd05eeb34dbb"
  },
  {
   "metadata": {},
   "cell_type": "markdown",
   "source": [
    "#### 1.4 Processing\n",
    "\n",
    "주어진 가격 데이터로부터 각 종목이 컬럼으로 되어 있는 새로운 DataFrame을 생성하라. 그런 다음, 새롭게 생성된 DataFrame으로부터 일간 수익률과 금요일 종가 기준의 주간 수익률을 계산하라."
   ],
   "id": "51a01a564fd6bb79"
  },
  {
   "metadata": {},
   "cell_type": "code",
   "outputs": [],
   "execution_count": null,
   "source": "",
   "id": "cca49de72831e6f8"
  },
  {
   "metadata": {},
   "cell_type": "markdown",
   "source": [
    "#### 1.5 Annual Statistics\n",
    "\n",
    "주어진 수익률 데이터로부터 1년 단위의 수익률과 연간 주간 수익률을 각각 데이터프레임으로 계산해 보자."
   ],
   "id": "6c30f179da18830c"
  },
  {
   "metadata": {},
   "cell_type": "code",
   "outputs": [],
   "execution_count": null,
   "source": "",
   "id": "1a1dcfb0d30802b1"
  },
  {
   "metadata": {},
   "cell_type": "markdown",
   "source": [
    "### 2. Real Time Data\n",
    "\n",
    "`ccxt`로부터 다음의 과제를 수행해 본다. 강의 자료 내에 있는 비동기 함수를 사용하여 해결해 보자."
   ],
   "id": "7a30c5fe244be915"
  },
  {
   "metadata": {},
   "cell_type": "markdown",
   "source": [
    "#### 2.1 Collect Data from Upbit\n",
    "\n",
    "Upbit로부터 다음의 가격 데이터를 수집하는 비동기 함수 `get_btc_price()`를 작성해 보자. 함수 내부에서 가격을 실시간으로 db에 저장하는 로직도 함께 구현한다."
   ],
   "id": "c5245645d0b4771a"
  },
  {
   "metadata": {},
   "cell_type": "code",
   "outputs": [],
   "execution_count": null,
   "source": [
    "async def get_btc_price(ticker, exchange, db_path) :\n",
    "    \"\"\"\n",
    "    Get btc-price of a given ticker.\n",
    "    :param ticker: 수집할 자산의 티커를 작성합니다.\n",
    "    :param exchange: 가격을 가져올 거래소를 지정합니다.\n",
    "    :param db_path: 수집된 가격을 저장할 디렉토리를 지정합니다.\n",
    "    :return: \n",
    "    \"\"\"\n",
    "    pass"
   ],
   "id": "7c0ebeb9165f8cf8"
  },
  {
   "metadata": {},
   "cell_type": "markdown",
   "source": [
    "#### 2.2 Run\n",
    "\n",
    "비동기 함수를 10분간 실행시켜 가격 데이터를 수집한다. 실시간으로 수집한 데이터를 사용하여 DataBase로부터 추출한다."
   ],
   "id": "4a215efa4903ff30"
  },
  {
   "metadata": {},
   "cell_type": "code",
   "outputs": [],
   "execution_count": null,
   "source": "",
   "id": "33be517a00301800"
  },
  {
   "metadata": {},
   "cell_type": "markdown",
   "source": [
    "#### 2.3 Processing\n",
    "\n",
    "주어진 가격 데이터에 대해서 1분 단위로 sampling을 한 뒤, 다음을 만족하는 가격의 DataFrame을 생성하라\n",
    "\n",
    "1. 1분 가격 내에서 가장 작은 가격은 'Low' 컬럼에 매칭한다.\n",
    "2. 1분 가격 내에서 가장 높은 가격은 'High' 컬럼에 매칭한다.\n",
    "3. 1분 가격의 시작가는 'Open' 컬럼에 매칭한다.\n",
    "4. 1분 가격의 종가는 'Close' 컬럼에 매칭한다."
   ],
   "id": "f4ec384704b73d33"
  },
  {
   "metadata": {},
   "cell_type": "code",
   "outputs": [],
   "execution_count": null,
   "source": "",
   "id": "9ece470ebf553654"
  },
  {
   "metadata": {},
   "cell_type": "markdown",
   "source": [
    "#### 2.4 High-Low Spread\n",
    "\n",
    "생성된 가격 데이터 프레임으로부터, 고가와 저가의 차이를 구한다. 이를 High-Low Spread라고 한다. 샘풀 10개에 대해 High-Low Spread를 구하고 평균 스프레드를 계산해 보자."
   ],
   "id": "542a66fa0136cc47"
  },
  {
   "metadata": {},
   "cell_type": "code",
   "outputs": [],
   "execution_count": null,
   "source": "",
   "id": "421f22fa1166828d"
  }
 ],
 "metadata": {
  "kernelspec": {
   "display_name": "Python 3",
   "language": "python",
   "name": "python3"
  },
  "language_info": {
   "codemirror_mode": {
    "name": "ipython",
    "version": 2
   },
   "file_extension": ".py",
   "mimetype": "text/x-python",
   "name": "python",
   "nbconvert_exporter": "python",
   "pygments_lexer": "ipython2",
   "version": "2.7.6"
  }
 },
 "nbformat": 4,
 "nbformat_minor": 5
}
