{
 "cells": [
  {
   "cell_type": "code",
   "id": "initial_id",
   "metadata": {
    "collapsed": true,
    "ExecuteTime": {
     "end_time": "2025-01-04T17:43:38.981494Z",
     "start_time": "2025-01-04T17:43:38.978036Z"
    }
   },
   "source": [
    "import yfinance as yf\n",
    "import numpy as np\n",
    "import pandas as pd\n",
    "import matplotlib.pyplot as plt\n",
    "import sqlite3\n",
    "\n",
    "TICKERS = ['^SPX','^IXIC','^RUT','^DJI','^XAX']\n",
    "START_DATE = '1990-01-01'"
   ],
   "outputs": [],
   "execution_count": 5
  },
  {
   "metadata": {
    "ExecuteTime": {
     "end_time": "2025-01-04T17:43:39.684847Z",
     "start_time": "2025-01-04T17:43:39.681620Z"
    }
   },
   "cell_type": "code",
   "source": [
    "from tqdm import tqdm\n",
    "\n",
    "TABLE_NAMES = {\n",
    "    'SP500':'^SPX',\n",
    "    'NASDAQ':'^IXIC',\n",
    "    'RUSSELL':'^RUT',\n",
    "    'DOWJONES':'^DJI',\n",
    "    'AMEX':'^XAX'\n",
    "}\n",
    "DB_PATH = '../../data/price.db'\n",
    "conn = sqlite3.connect(DB_PATH)\n",
    "cursor = conn.cursor()"
   ],
   "id": "67333704e08f1f54",
   "outputs": [],
   "execution_count": 6
  },
  {
   "metadata": {
    "ExecuteTime": {
     "end_time": "2025-01-04T17:50:44.903606Z",
     "start_time": "2025-01-04T17:50:27.871478Z"
    }
   },
   "cell_type": "code",
   "source": [
    "for table_name in tqdm(list(TABLE_NAMES.keys())) :\n",
    "    data = yf.download(\n",
    "        TABLE_NAMES[table_name],\n",
    "        start = START_DATE,\n",
    "        progress = False,\n",
    "        interval = '1d'\n",
    "    )\n",
    "    data = data.reset_index()\n",
    "    data = data[['Date', 'Open', 'High', 'Low', 'Close', 'Adj Close', 'Volume']]\n",
    "    \n",
    "    for _, row in data.iterrows():  # Use iterrows to iterate through each row\n",
    "        cursor.execute( # SQL Query Statement\n",
    "            f\"\"\"INSERT OR IGNORE INTO {table_name}(\n",
    "                timestamp, open, high, low, close, adj_close, volume\n",
    "            )\n",
    "            VALUES (?, ?, ?, ?, ?, ?, ?)\n",
    "            \"\"\", \n",
    "            (\n",
    "                row['Date'].strftime('%Y-%m-%d'), \n",
    "                row['Open'], \n",
    "                row['High'], \n",
    "                row['Low'], \n",
    "                row['Close'], \n",
    "                row['Adj Close'], \n",
    "                row['Volume']\n",
    "            )\n",
    "        )\n",
    "        conn.commit()"
   ],
   "id": "86fda3a9bf2eafeb",
   "outputs": [
    {
     "name": "stderr",
     "output_type": "stream",
     "text": [
      "100%|██████████| 5/5 [00:17<00:00,  3.40s/it]\n"
     ]
    }
   ],
   "execution_count": 14
  },
  {
   "metadata": {},
   "cell_type": "code",
   "outputs": [],
   "execution_count": null,
   "source": "",
   "id": "7fae501aa891de56"
  }
 ],
 "metadata": {
  "kernelspec": {
   "display_name": "Python 3",
   "language": "python",
   "name": "python3"
  },
  "language_info": {
   "codemirror_mode": {
    "name": "ipython",
    "version": 2
   },
   "file_extension": ".py",
   "mimetype": "text/x-python",
   "name": "python",
   "nbconvert_exporter": "python",
   "pygments_lexer": "ipython2",
   "version": "2.7.6"
  }
 },
 "nbformat": 4,
 "nbformat_minor": 5
}
