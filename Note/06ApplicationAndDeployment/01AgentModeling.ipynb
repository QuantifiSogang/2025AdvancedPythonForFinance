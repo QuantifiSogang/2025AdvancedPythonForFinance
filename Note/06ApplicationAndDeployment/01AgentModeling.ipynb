{
 "cells": [
  {
   "metadata": {},
   "cell_type": "markdown",
   "source": [
    "### Portfolio Management System\n",
    "\n",
    "지금까지 배운 내용을 바탕으로 개인의 투자를 도와주는 Management System을 LLM 모델을 통해 만들어 보도록 하자. 디스플레이를 위해 앱 구동은 streamlit library를 사용한다."
   ],
   "id": "72d2f94cdf968d24"
  },
  {
   "metadata": {},
   "cell_type": "markdown",
   "source": [
    "### 1. Agent Modeling\n",
    "\n",
    "금융 데이터를 input으로 하여 LLM으로부터 분석을 의뢰한다."
   ],
   "id": "bebf539ecffec021"
  },
  {
   "cell_type": "code",
   "id": "initial_id",
   "metadata": {
    "collapsed": true,
    "ExecuteTime": {
     "end_time": "2025-03-01T08:59:42.587177Z",
     "start_time": "2025-03-01T08:59:39.499497Z"
    }
   },
   "source": [
    "import numpy as np\n",
    "import pandas as pd\n",
    "import openai\n",
    "from openai import OpenAI\n",
    "import os\n",
    "\n",
    "with open('../../config/api.key') as file :\n",
    "    lines = file.readlines()\n",
    "    api_key = lines[0].strip()\n",
    "    serp_api_key = lines[1].strip()\n",
    "    langsmith_api_key = lines[2].strip()\n",
    "\n",
    "openai.api_key = api_key"
   ],
   "outputs": [],
   "execution_count": 1
  },
  {
   "metadata": {},
   "cell_type": "markdown",
   "source": [
    "#### 1.1 Technical Indicator Analyst\n",
    "\n",
    "Technical Indicator만을 전문적으로 분석하여 현재 상황이 Bullish, Bearish, Neutral 중 어느 상황에 가까운지 판단하는 에이전트이다. pandas.DataFrame 자체를 input으로 이용한다."
   ],
   "id": "6e15e3702fccf04f"
  },
  {
   "metadata": {},
   "cell_type": "code",
   "outputs": [],
   "execution_count": null,
   "source": "",
   "id": "b4dfb9ebbe026b08"
  }
 ],
 "metadata": {
  "kernelspec": {
   "display_name": "Python 3",
   "language": "python",
   "name": "python3"
  },
  "language_info": {
   "codemirror_mode": {
    "name": "ipython",
    "version": 2
   },
   "file_extension": ".py",
   "mimetype": "text/x-python",
   "name": "python",
   "nbconvert_exporter": "python",
   "pygments_lexer": "ipython2",
   "version": "2.7.6"
  }
 },
 "nbformat": 4,
 "nbformat_minor": 5
}
