{
 "cells": [
  {
   "metadata": {},
   "cell_type": "markdown",
   "source": [
    "### Portfolio Management System\n",
    "\n",
    "지금까지 배운 내용을 바탕으로 개인의 투자를 도와주는 Management System을 LLM 모델을 통해 만들어 보도록 하자. 디스플레이를 위해 앱 구동은 streamlit library를 사용한다."
   ],
   "id": "72d2f94cdf968d24"
  },
  {
   "metadata": {},
   "cell_type": "markdown",
   "source": [
    "### 1. Agent Modeling\n",
    "\n",
    "금융 데이터를 input으로 하여 LLM으로부터 분석을 의뢰한다."
   ],
   "id": "bebf539ecffec021"
  },
  {
   "cell_type": "code",
   "id": "initial_id",
   "metadata": {
    "collapsed": true,
    "ExecuteTime": {
     "end_time": "2025-03-01T11:12:54.124764Z",
     "start_time": "2025-03-01T11:12:53.386650Z"
    }
   },
   "source": [
    "import numpy as np\n",
    "import pandas as pd\n",
    "import openai\n",
    "from openai import OpenAI\n",
    "import os\n",
    "\n",
    "with open('../../config/api.key') as file :\n",
    "    lines = file.readlines()\n",
    "    api_key = lines[0].strip()\n",
    "    serp_api_key = lines[1].strip()\n",
    "    langsmith_api_key = lines[2].strip()\n",
    "\n",
    "openai.api_key = api_key"
   ],
   "outputs": [],
   "execution_count": 1
  },
  {
   "metadata": {
    "ExecuteTime": {
     "end_time": "2025-03-01T11:13:29.877175Z",
     "start_time": "2025-03-01T11:13:27.803138Z"
    }
   },
   "cell_type": "code",
   "source": [
    "import yfinance as yf\n",
    "\n",
    "ASSET = 'TSLA'\n",
    "\n",
    "data = yf.download(\n",
    "    ASSET, start='2000-01-01', \n",
    "    interval='1d', \n",
    "    progress=False, \n",
    "    auto_adjust=True, \n",
    "    multi_level_index=False \n",
    ").loc['2000':]"
   ],
   "id": "3d53ed934ff4264f",
   "outputs": [],
   "execution_count": 2
  },
  {
   "metadata": {},
   "cell_type": "markdown",
   "source": [
    "#### 1.1 Technical Indicator Analyst\n",
    "\n",
    "Technical Indicator만을 전문적으로 분석하여 현재 상황이 Bullish, Bearish, Neutral 중 어느 상황에 가까운지 판단하는 에이전트이다. pandas.DataFrame 자체를 input으로 이용한다."
   ],
   "id": "6e15e3702fccf04f"
  },
  {
   "metadata": {
    "ExecuteTime": {
     "end_time": "2025-03-01T11:14:48.045089Z",
     "start_time": "2025-03-01T11:14:48.038115Z"
    }
   },
   "cell_type": "code",
   "source": [
    "from utils import *\n",
    "\n",
    "momentum = MomentumIndicator(data, resample='1d')\n",
    "contrarian = ContrarianIndicator(data, resample='1d')"
   ],
   "id": "b4dfb9ebbe026b08",
   "outputs": [],
   "execution_count": 3
  },
  {
   "metadata": {
    "ExecuteTime": {
     "end_time": "2025-03-01T11:15:13.429054Z",
     "start_time": "2025-03-01T11:15:13.181832Z"
    }
   },
   "cell_type": "code",
   "source": [
    "# Simple moving average\n",
    "sma_5 = momentum.simple_moving_average(5)\n",
    "sma_20 = momentum.simple_moving_average(20)\n",
    "sma_golden_cross = ((sma_5 >= sma_20) & (sma_5.shift(1) < sma_20.shift(1))).astype(int)\n",
    "sma_dead_cross = ((sma_5 < sma_20) & (sma_5.shift(1) >= sma_20.shift(1))).astype(int)\n",
    "\n",
    "# True Strength Index\n",
    "tsi_25_13 = momentum.true_strength_index(13, 25)\n",
    "tsi_up = ((tsi_25_13 >= 0) & (tsi_25_13.shift(1) < 0)).astype(int)\n",
    "tsi_down = ((tsi_25_13 < 0) & (tsi_25_13.shift(1) >= 0)).astype(int)\n",
    "\n",
    "# ADL\n",
    "adl14 = momentum.average_daily_range(14)\n",
    "adl50 = momentum.average_daily_range(50)\n",
    "adl_up = ((adl14 >= adl50) & (adl14.shift(1) < adl50.shift(1))).astype(int)\n",
    "adl_down = ((adl14 < adl50) & (adl14.shift(1) >= adl50.shift(1))).astype(int)\n",
    "\n",
    "# ADR\n",
    "adr20 = momentum.average_daily_range(20)\n",
    "adr50 = momentum.average_daily_range(50)\n",
    "adr_up = ((adr20 >= adr50) & (adr20.shift(1) < adr50.shift(1))).astype(int)\n",
    "adr_down = ((adr20 < adr50) & (adr20.shift(1) >= adr50.shift(1))).astype(int)\n",
    "\n",
    "# Aroon\n",
    "aroon = momentum.aroon_indicator(14)\n",
    "aroon_up = ((aroon['Aroon(14) up'] >= aroon['Aroon(14) down']) & (\n",
    "            aroon['Aroon(14) up'].shift(1) < aroon['Aroon(14) down'].shift(1))).astype(int)\n",
    "aroon_down = ((aroon['Aroon(14) up'] < aroon['Aroon(14) down']) & (\n",
    "        aroon['Aroon(14) up'].shift(1) >= aroon['Aroon(14) down'].shift(1))).astype(int)\n",
    "\n",
    "# RSI\n",
    "rsi = contrarian.relative_strength_index(20)\n",
    "rsi_up = ((rsi <= 70) & (rsi.shift(1) > 70)).astype(int)\n",
    "rsi_down = ((rsi >= 30) & (rsi.shift(1) < 30)).astype(int)\n",
    "\n",
    "# BB\n",
    "bb = contrarian.bollinger_band(2, 20)\n",
    "bb_up = ((data['Close'] < bb['BB_UP(2)']) & (data['Close'].shift(1) >= bb['BB_UP(2)'].shift(1))).astype(int)\n",
    "bb_down = ((data['Close'] >= bb['BB_DOWN(2)']) & (data['Close'].shift(1) < bb['BB_DOWN(2)'].shift(1))).astype(int)\n",
    "\n",
    "# DEMARKER\n",
    "demark = contrarian.demarker_indicator(20)\n",
    "demark_up = ((demark < 0.7) & (demark.shift(1) >= 0.7)).astype(int)\n",
    "demark_down = ((demark >= 0.3) & (demark.shift(1) < 0.3)).astype(int)\n",
    "\n",
    "# psycological line\n",
    "psycological_line = contrarian.psycological_line(20)\n",
    "pl_up = ((psycological_line < 0.7) & (psycological_line.shift(1) >= 0.7)).astype(int)\n",
    "pl_down = ((psycological_line >= 0.3) & (psycological_line.shift(1) < 0.3)).astype(int)\n",
    "\n",
    "#concatenate\n",
    "res = pd.concat(\n",
    "    [sma_golden_cross, sma_dead_cross,tsi_up, tsi_down, adl_up, adl_down, adr_up, adr_down, aroon_up, aroon_down, rsi_up, rsi_down,bb_up, bb_down, demark_up, demark_down,\n",
    "     pl_up, pl_down], axis = 1\n",
    ")\n",
    "res.columns = [\n",
    "    'SMA(5,20) Golden', 'SMA(5,20) Dead', \n",
    "    'TSI(13,25) Golden', 'TSI(13,25) Dead',\n",
    "    'ADL(14,50) Golden', 'ADL(14,50) Dead',\n",
    "    'ADR(20,50) Golden', 'ADR(20,50) Dead',\n",
    "    'Aroon(14) Golden', 'Aroon(14) Dead',\n",
    "    'RSI(30,70) up','RSI(30,70) down',\n",
    "    'Bollinger Band(2, 20) up','Bollinger Band(2, 20) down',\n",
    "    'Demark(30,70) up','Demark(30,70) down',\n",
    "    'Psy (30, 70) up','Psy (30, 70) down'\n",
    "]"
   ],
   "id": "65ed841c9b94ec17",
   "outputs": [],
   "execution_count": 4
  },
  {
   "metadata": {
    "ExecuteTime": {
     "end_time": "2025-03-01T11:15:18.300345Z",
     "start_time": "2025-03-01T11:15:18.292444Z"
    }
   },
   "cell_type": "code",
   "source": "res.tail()",
   "id": "6bb063bf18eb4f6d",
   "outputs": [
    {
     "data": {
      "text/plain": [
       "            SMA(5,20) Golden  SMA(5,20) Dead  TSI(13,25) Golden  \\\n",
       "Date                                                              \n",
       "2025-02-24                 0               0                  0   \n",
       "2025-02-25                 0               0                  0   \n",
       "2025-02-26                 0               0                  0   \n",
       "2025-02-27                 0               0                  0   \n",
       "2025-02-28                 0               0                  0   \n",
       "\n",
       "            TSI(13,25) Dead  ADL(14,50) Golden  ADL(14,50) Dead  \\\n",
       "Date                                                              \n",
       "2025-02-24                0                  0                0   \n",
       "2025-02-25                0                  0                0   \n",
       "2025-02-26                0                  0                0   \n",
       "2025-02-27                0                  0                0   \n",
       "2025-02-28                0                  0                0   \n",
       "\n",
       "            ADR(20,50) Golden  ADR(20,50) Dead  Aroon(14) Golden  \\\n",
       "Date                                                               \n",
       "2025-02-24                  0                0                 0   \n",
       "2025-02-25                  0                0                 0   \n",
       "2025-02-26                  0                0                 0   \n",
       "2025-02-27                  0                0                 0   \n",
       "2025-02-28                  0                0                 0   \n",
       "\n",
       "            Aroon(14) Dead  RSI(30,70) up  RSI(30,70) down  \\\n",
       "Date                                                         \n",
       "2025-02-24               0              0                0   \n",
       "2025-02-25               0              0                0   \n",
       "2025-02-26               0              0                0   \n",
       "2025-02-27               0              0                0   \n",
       "2025-02-28               0              0                0   \n",
       "\n",
       "            Bollinger Band(2, 20) up  Bollinger Band(2, 20) down  \\\n",
       "Date                                                               \n",
       "2025-02-24                         0                           0   \n",
       "2025-02-25                         0                           0   \n",
       "2025-02-26                         0                           0   \n",
       "2025-02-27                         0                           0   \n",
       "2025-02-28                         0                           0   \n",
       "\n",
       "            Demark(30,70) up  Demark(30,70) down  Psy (30, 70) up  \\\n",
       "Date                                                                \n",
       "2025-02-24                 0                   0                0   \n",
       "2025-02-25                 0                   0                0   \n",
       "2025-02-26                 0                   0                0   \n",
       "2025-02-27                 0                   0                0   \n",
       "2025-02-28                 0                   0                0   \n",
       "\n",
       "            Psy (30, 70) down  \n",
       "Date                           \n",
       "2025-02-24                  0  \n",
       "2025-02-25                  0  \n",
       "2025-02-26                  0  \n",
       "2025-02-27                  0  \n",
       "2025-02-28                  0  "
      ],
      "text/html": [
       "<div>\n",
       "<style scoped>\n",
       "    .dataframe tbody tr th:only-of-type {\n",
       "        vertical-align: middle;\n",
       "    }\n",
       "\n",
       "    .dataframe tbody tr th {\n",
       "        vertical-align: top;\n",
       "    }\n",
       "\n",
       "    .dataframe thead th {\n",
       "        text-align: right;\n",
       "    }\n",
       "</style>\n",
       "<table border=\"1\" class=\"dataframe\">\n",
       "  <thead>\n",
       "    <tr style=\"text-align: right;\">\n",
       "      <th></th>\n",
       "      <th>SMA(5,20) Golden</th>\n",
       "      <th>SMA(5,20) Dead</th>\n",
       "      <th>TSI(13,25) Golden</th>\n",
       "      <th>TSI(13,25) Dead</th>\n",
       "      <th>ADL(14,50) Golden</th>\n",
       "      <th>ADL(14,50) Dead</th>\n",
       "      <th>ADR(20,50) Golden</th>\n",
       "      <th>ADR(20,50) Dead</th>\n",
       "      <th>Aroon(14) Golden</th>\n",
       "      <th>Aroon(14) Dead</th>\n",
       "      <th>RSI(30,70) up</th>\n",
       "      <th>RSI(30,70) down</th>\n",
       "      <th>Bollinger Band(2, 20) up</th>\n",
       "      <th>Bollinger Band(2, 20) down</th>\n",
       "      <th>Demark(30,70) up</th>\n",
       "      <th>Demark(30,70) down</th>\n",
       "      <th>Psy (30, 70) up</th>\n",
       "      <th>Psy (30, 70) down</th>\n",
       "    </tr>\n",
       "    <tr>\n",
       "      <th>Date</th>\n",
       "      <th></th>\n",
       "      <th></th>\n",
       "      <th></th>\n",
       "      <th></th>\n",
       "      <th></th>\n",
       "      <th></th>\n",
       "      <th></th>\n",
       "      <th></th>\n",
       "      <th></th>\n",
       "      <th></th>\n",
       "      <th></th>\n",
       "      <th></th>\n",
       "      <th></th>\n",
       "      <th></th>\n",
       "      <th></th>\n",
       "      <th></th>\n",
       "      <th></th>\n",
       "      <th></th>\n",
       "    </tr>\n",
       "  </thead>\n",
       "  <tbody>\n",
       "    <tr>\n",
       "      <th>2025-02-24</th>\n",
       "      <td>0</td>\n",
       "      <td>0</td>\n",
       "      <td>0</td>\n",
       "      <td>0</td>\n",
       "      <td>0</td>\n",
       "      <td>0</td>\n",
       "      <td>0</td>\n",
       "      <td>0</td>\n",
       "      <td>0</td>\n",
       "      <td>0</td>\n",
       "      <td>0</td>\n",
       "      <td>0</td>\n",
       "      <td>0</td>\n",
       "      <td>0</td>\n",
       "      <td>0</td>\n",
       "      <td>0</td>\n",
       "      <td>0</td>\n",
       "      <td>0</td>\n",
       "    </tr>\n",
       "    <tr>\n",
       "      <th>2025-02-25</th>\n",
       "      <td>0</td>\n",
       "      <td>0</td>\n",
       "      <td>0</td>\n",
       "      <td>0</td>\n",
       "      <td>0</td>\n",
       "      <td>0</td>\n",
       "      <td>0</td>\n",
       "      <td>0</td>\n",
       "      <td>0</td>\n",
       "      <td>0</td>\n",
       "      <td>0</td>\n",
       "      <td>0</td>\n",
       "      <td>0</td>\n",
       "      <td>0</td>\n",
       "      <td>0</td>\n",
       "      <td>0</td>\n",
       "      <td>0</td>\n",
       "      <td>0</td>\n",
       "    </tr>\n",
       "    <tr>\n",
       "      <th>2025-02-26</th>\n",
       "      <td>0</td>\n",
       "      <td>0</td>\n",
       "      <td>0</td>\n",
       "      <td>0</td>\n",
       "      <td>0</td>\n",
       "      <td>0</td>\n",
       "      <td>0</td>\n",
       "      <td>0</td>\n",
       "      <td>0</td>\n",
       "      <td>0</td>\n",
       "      <td>0</td>\n",
       "      <td>0</td>\n",
       "      <td>0</td>\n",
       "      <td>0</td>\n",
       "      <td>0</td>\n",
       "      <td>0</td>\n",
       "      <td>0</td>\n",
       "      <td>0</td>\n",
       "    </tr>\n",
       "    <tr>\n",
       "      <th>2025-02-27</th>\n",
       "      <td>0</td>\n",
       "      <td>0</td>\n",
       "      <td>0</td>\n",
       "      <td>0</td>\n",
       "      <td>0</td>\n",
       "      <td>0</td>\n",
       "      <td>0</td>\n",
       "      <td>0</td>\n",
       "      <td>0</td>\n",
       "      <td>0</td>\n",
       "      <td>0</td>\n",
       "      <td>0</td>\n",
       "      <td>0</td>\n",
       "      <td>0</td>\n",
       "      <td>0</td>\n",
       "      <td>0</td>\n",
       "      <td>0</td>\n",
       "      <td>0</td>\n",
       "    </tr>\n",
       "    <tr>\n",
       "      <th>2025-02-28</th>\n",
       "      <td>0</td>\n",
       "      <td>0</td>\n",
       "      <td>0</td>\n",
       "      <td>0</td>\n",
       "      <td>0</td>\n",
       "      <td>0</td>\n",
       "      <td>0</td>\n",
       "      <td>0</td>\n",
       "      <td>0</td>\n",
       "      <td>0</td>\n",
       "      <td>0</td>\n",
       "      <td>0</td>\n",
       "      <td>0</td>\n",
       "      <td>0</td>\n",
       "      <td>0</td>\n",
       "      <td>0</td>\n",
       "      <td>0</td>\n",
       "      <td>0</td>\n",
       "    </tr>\n",
       "  </tbody>\n",
       "</table>\n",
       "</div>"
      ]
     },
     "execution_count": 5,
     "metadata": {},
     "output_type": "execute_result"
    }
   ],
   "execution_count": 5
  },
  {
   "metadata": {
    "ExecuteTime": {
     "end_time": "2025-03-01T11:16:56.510785Z",
     "start_time": "2025-03-01T11:16:56.507487Z"
    }
   },
   "cell_type": "code",
   "source": [
    "from langchain.prompts import PromptTemplate\n",
    "from langchain.chat_models import ChatOpenAI\n",
    "from langchain.schema.runnable import RunnablePassthrough, RunnableSequence\n",
    "import warnings\n",
    "warnings.filterwarnings('ignore')\n",
    "\n",
    "def technical_agent(signals):\n",
    "    \"\"\"\n",
    "    OpenAI GPT API를 사용하여 0과 1로 구성된 기술적 지표 신호를 해석하고\n",
    "    시장 상황을 Bullish, Bearish, Neutral 중 하나로 판단하여 매매 조언을 제공하는 함수입니다.\n",
    "    :param signals: signal이 기록된 pd.DataFrame형태의 \n",
    "    \"\"\"\n",
    "    llm = ChatOpenAI(\n",
    "        model = \"gpt-4o-mini\", \n",
    "        temperature = 0.5, \n",
    "        openai_api_key = api_key\n",
    "    )\n",
    "    \n",
    "    prompt = \"\"\"\n",
    "    다음은 최근 금융 시장의 기술적 지표 신호(0 또는 1) 기록입니다.\n",
    "    1은 해당 신호가 발생했음을 의미하고, 0은 신호가 발생하지 않았음을 의미합니다.\n",
    "\n",
    "    최근 40개 데이터:\n",
    "    {signals}\n",
    "\n",
    "    판단 기준:\n",
    "    - 매수 신호가 다수 발생하면 Bullish (강세)로 판단.\n",
    "    - 매도 신호가 다수 발생하면 Bearish (약세)로 판단.\n",
    "    - 신호가 혼재되어 있거나 강한 추세가 없으면 Neutral (중립)로 판단.\n",
    "    - 현재 상태에 따라 투자자에게 Buy(매수), Sell(매도), Hold(관망) 조언을 제공.\n",
    "\n",
    "    시장 상황을 분석하고, 현재 상태를 Bullish, Bearish, Neutral 중 하나로 판단한 후\n",
    "    투자자에게 적절한 조언을 한 줄로 제공하세요.\n",
    "    \"\"\"\n",
    "\n",
    "    # OpenAI GPT-4 호출\n",
    "    prompt = PromptTemplate(\n",
    "        template=prompt,\n",
    "        input_variables=[\"signals\"]\n",
    "    )\n",
    "\n",
    "    # RunnableSequence를 사용하여 체인 구성\n",
    "    chain = RunnableSequence(\n",
    "        {\n",
    "            \"signals\": RunnablePassthrough()\n",
    "        }\n",
    "        | prompt\n",
    "        | llm\n",
    "        | (lambda x: x.content)\n",
    "    )\n",
    "\n",
    "    latest_signals = signals.to_string(index=False)\n",
    "\n",
    "    # 시장 분석 실행\n",
    "    result = chain.invoke({\"signals\": latest_signals})\n",
    "    \n",
    "    return result"
   ],
   "id": "753d6cec528cbc11",
   "outputs": [],
   "execution_count": 8
  },
  {
   "metadata": {
    "ExecuteTime": {
     "end_time": "2025-03-01T11:16:59.162689Z",
     "start_time": "2025-03-01T11:16:57.102552Z"
    }
   },
   "cell_type": "code",
   "source": "tech_resp = technical_agent(res.tail(40))",
   "id": "d968a958fbeb6c63",
   "outputs": [],
   "execution_count": 9
  },
  {
   "metadata": {
    "ExecuteTime": {
     "end_time": "2025-03-01T11:16:59.987548Z",
     "start_time": "2025-03-01T11:16:59.985093Z"
    }
   },
   "cell_type": "code",
   "source": "print(tech_resp)",
   "id": "20c6ab3c93422096",
   "outputs": [
    {
     "name": "stdout",
     "output_type": "stream",
     "text": [
      "주어진 신호 데이터에 따르면, 매수 신호는 거의 없고 매도 신호도 적은 편이며, 전반적으로 신호가 혼재되어 있습니다. 따라서 현재 상태는 Neutral (중립)으로 판단됩니다. 투자자에게는 \"Hold(관망)\"을 권장합니다.\n"
     ]
    }
   ],
   "execution_count": 10
  },
  {
   "metadata": {},
   "cell_type": "markdown",
   "source": [
    "### 1.2 Fundamental Analyst\n",
    "\n",
    "yahoo finance로부터 기업의 재무상황을 불러올 수 있다. 이를 LLM에 넣고 판단을 해주는 에이전트를 생성한다."
   ],
   "id": "419890f17a47a743"
  },
  {
   "metadata": {},
   "cell_type": "markdown",
   "source": [
    "**Fundamental Data Import**\n",
    "\n",
    "재무 데이터만을 가져오는 함수를 먼저 지정한다"
   ],
   "id": "d936c80d6826b5eb"
  },
  {
   "metadata": {
    "ExecuteTime": {
     "end_time": "2025-03-01T11:19:57.620323Z",
     "start_time": "2025-03-01T11:19:57.617144Z"
    }
   },
   "cell_type": "code",
   "source": [
    "def get_fundamental_data(ticker):\n",
    "    \"\"\"\n",
    "    Yahoo Finance API를 사용하여 해당 종목의 기본적 분석(Fundamental Analysis) 데이터를 가져오는 함수\n",
    "    :param ticker: 종목 코드 (예: \"AAPL\", \"TSLA\")\n",
    "    :return: 해당 종목의 재무 지표가 포함된 pd.DataFrame\n",
    "    \"\"\"\n",
    "    stock = yf.Ticker(ticker)\n",
    "    \n",
    "    # 종목의 주요 재무 지표 가져오기\n",
    "    try:\n",
    "        info = stock.info\n",
    "        data = {\n",
    "            \"Ticker\": ticker,\n",
    "            \"Company\": info.get(\"longName\", \"N/A\"), # 회사 이름 \n",
    "            \"Sector\": info.get(\"sector\", \"N/A\"), # 섹터 이름, GICS기준\n",
    "            \"Market Cap\": info.get(\"marketCap\", \"N/A\"), # 시가총액\n",
    "            \"PER\": info.get(\"trailingPE\", \"N/A\"), # Price to Earning ratio\n",
    "            \"Forward PER\": info.get(\"forwardPE\", \"N/A\"), # forward PER\n",
    "            \"PBR\": info.get(\"priceToBook\", \"N/A\"), # Price to Book ratio\n",
    "            \"EV/EBITDA\": info.get(\"enterpriseToEbitda\", \"N/A\"), # EV/EBITDA\n",
    "            \"52 Week High\": info.get(\"fiftyTwoWeekHigh\", \"N/A\"), # 52주 최고가\n",
    "            \"52 Week Low\": info.get(\"fiftyTwoWeekLow\", \"N/A\"), # 52주 최저가\n",
    "            \"Dividend Yield\": info.get(\"dividendYield\", \"N/A\"), # 배당수익률\n",
    "            \"Recommendation\": info.get(\"recommendationKey\", \"N/A\"), \n",
    "        }\n",
    "        return pd.DataFrame([data])\n",
    "    \n",
    "    except Exception as e:\n",
    "        print(f\"data download error: {e}\")\n",
    "        return None"
   ],
   "id": "cc0903eb990caf1e",
   "outputs": [],
   "execution_count": 11
  },
  {
   "metadata": {
    "ExecuteTime": {
     "end_time": "2025-03-01T11:20:43.305611Z",
     "start_time": "2025-03-01T11:20:43.299654Z"
    }
   },
   "cell_type": "code",
   "source": [
    "def fundamental_agent(ticker):\n",
    "    \"\"\"\n",
    "    OpenAI GPT API를 사용하여 Yahoo Finance에서 불러온 재무 데이터를 기반으로\n",
    "    주식이 고평가(Bearish)인지, 저평가(Bullish)인지 분석하고, 매매 조언을 제공하는 함수.\n",
    "    \n",
    "    :param ticker: 주식 종목 코드 (예: \"AAPL\", \"GOOGL\")\n",
    "    :return: LLM 분석 결과 (Bullish, Bearish, Neutral 및 매매 조언)\n",
    "    \"\"\"\n",
    "    # Yahoo Finance에서 재무 데이터 가져오기\n",
    "    fund_data = get_fundamental_data(ticker)\n",
    "    \n",
    "    if fund_data is None:\n",
    "        return {\"signal\": \"Error\", \"message\": \"재무 데이터 불러오기 실패\"}\n",
    "    \n",
    "    llm = ChatOpenAI(\n",
    "        model = \"gpt-4o-mini\", \n",
    "        temperature = 0.5, \n",
    "        openai_api_key = api_key\n",
    "    )\n",
    "\n",
    "    # LLM 프롬프트 템플릿 설정\n",
    "    prompt = \"\"\"\n",
    "    다음은 {ticker}({company})의 최신 펀더멘털(재무) 데이터입니다:\n",
    "    {fundamental_data}\n",
    "\n",
    "    판단 기준:\n",
    "    - PER, PBR, EV/EBITDA가 업종 평균보다 낮으면 저평가(Bullish)로 판단.\n",
    "    - 반대로 PER, PBR, EV/EBITDA가 높으면 고평가(Bearish)로 판단.\n",
    "    - 업종 평균과 비슷한 수준이면 중립(Neutral)로 판단.\n",
    "    - 배당률이 높거나 성장성이 좋은 경우도 고려하여 판단.\n",
    "    - 현재 상태에 따라 투자자에게 Buy(매수), Sell(매도), Hold(관망) 조언을 제공.\n",
    "\n",
    "    재무 상황을 분석하고, 현재 상태를 Bullish, Bearish, Neutral 중 하나로 판단한 후\n",
    "    투자자에게 적절한 조언을 한 줄로 제공하세요.\n",
    "    \"\"\"\n",
    "\n",
    "    prompt = PromptTemplate(\n",
    "        template=prompt,\n",
    "        input_variables=[\"ticker\", \"company\", \"fundamental_data\"]\n",
    "    )\n",
    "\n",
    "    # RunnableSequence를 사용하여 체인 구성\n",
    "    chain = RunnableSequence(\n",
    "        {\n",
    "            \"ticker\": RunnablePassthrough(),\n",
    "            \"company\": RunnablePassthrough(),\n",
    "            \"fundamental_data\": RunnablePassthrough()\n",
    "        }\n",
    "        | prompt\n",
    "        | llm\n",
    "        | (lambda x: x.content)\n",
    "    )\n",
    "\n",
    "    # LLM 실행\n",
    "    result = chain.invoke({\n",
    "        \"ticker\": fund_data[\"Ticker\"][0],\n",
    "        \"company\": fund_data[\"Company\"][0],\n",
    "        \"fundamental_data\": fund_data.to_string(index=False)\n",
    "    })\n",
    "\n",
    "    return result"
   ],
   "id": "c487d44b0fe9db7f",
   "outputs": [],
   "execution_count": 12
  },
  {
   "metadata": {
    "ExecuteTime": {
     "end_time": "2025-03-01T11:20:46.393527Z",
     "start_time": "2025-03-01T11:20:44.009716Z"
    }
   },
   "cell_type": "code",
   "source": "fund_resp = fundamental_agent(\"TSLA\")",
   "id": "fed9ac7601f0d01b",
   "outputs": [],
   "execution_count": 13
  },
  {
   "metadata": {
    "ExecuteTime": {
     "end_time": "2025-03-01T11:20:47.447706Z",
     "start_time": "2025-03-01T11:20:47.444987Z"
    }
   },
   "cell_type": "code",
   "source": "fund_resp",
   "id": "12e3ece8f0c1091c",
   "outputs": [
    {
     "data": {
      "text/plain": [
       "'Tesla, Inc. (TSLA)의 PER(142.92), PBR(12.92), EV/EBITDA(70.64)는 업종 평균보다 높은 수준으로, 따라서 고평가(Bearish)로 판단됩니다. 현재 상태에 따라 투자자에게 \"Sell(매도)\" 조언을 제공합니다.'"
      ]
     },
     "execution_count": 14,
     "metadata": {},
     "output_type": "execute_result"
    }
   ],
   "execution_count": 14
  },
  {
   "metadata": {},
   "cell_type": "markdown",
   "source": [
    "### 1.3 Sentiment Analyst\n",
    "\n",
    "투자 의사결정에는 Technical지표, 재무 지표 뿐만 아니라 시장의 Sentiment 또한 중요하다. google news로부터 기사를 수집한 뒤, 이를 기반으로 매도, 매수 조언을 하는 에이전트를 생성한다."
   ],
   "id": "a8ff8d7c10f54536"
  },
  {
   "metadata": {},
   "cell_type": "markdown",
   "source": [
    "**news parser**\n",
    "\n",
    "market sentiment를 구하기 위해 우선 뉴스를 스크랩하는 함수를 정의해야 한다. 기존에 사용되었던 `search_from_google`함수를 사용하자."
   ],
   "id": "5717c79d17143204"
  },
  {
   "metadata": {
    "ExecuteTime": {
     "end_time": "2025-03-01T11:22:26.672322Z",
     "start_time": "2025-03-01T11:22:26.568169Z"
    }
   },
   "cell_type": "code",
   "source": [
    "from bs4 import BeautifulSoup\n",
    "import requests\n",
    "import urllib\n",
    "import re\n",
    "import pandas as pd\n",
    "from newspaper import Article\n",
    "from selenium import webdriver\n",
    "\n",
    "def search_from_google(asset:str, page_nums:int) -> pd.DataFrame :\n",
    "    '''\n",
    "    google news로부터 검색을 한 뒤, selenium을 통해 뉴스 데이터들을 가져옵니다.\n",
    "    :param asset: 검색할 자산\n",
    "    :param page_nums: 뉴스를 검색할 총 페이지의 수\n",
    "    :return: news data가 들어있는 DataFrame\n",
    "    '''\n",
    "    keyword = f'{asset} buying reason'\n",
    "    news_df = pd.DataFrame()\n",
    "    \n",
    "    # selenium headless mode\n",
    "    options = webdriver.ChromeOptions()\n",
    "    options.add_argument('headless')\n",
    "    driver = webdriver.Chrome(options=options)\n",
    "    \n",
    "    for page_num in range(0, page_nums-1):\n",
    "        # google news crawling\n",
    "        url = f'https://www.google.com/search?q={keyword}&sca_esv=1814fa2a4600643d&tbas=0&tbs=qdr:m&tbm=nws&ei=rE3pZeLxNeHX1e8PpdOcMA&start={page_num}&sa=N&ved=2ahUKEwji9-zrsuGEAxXha_UHHaUpBwYQ8tMDegQIBBAE&biw=2560&bih=1313&dpr=1'\n",
    "        req = requests.get(url)\n",
    "        content = req.content\n",
    "        soup = BeautifulSoup(content, 'html.parser')\n",
    "    \n",
    "        # last page check\n",
    "        if soup.select('div.BNeawe.vvjwJb') == []: break\n",
    "    \n",
    "        title_list = [t.text for t in soup.select('div.BNeawe.vvjwJb')]  # title\n",
    "        url_list = []\n",
    "    \n",
    "        # url\n",
    "        for u in soup.select('a'):\n",
    "            for t in title_list:\n",
    "                if t in u.text:\n",
    "                    temp_url = urllib.parse.unquote(u['href'])\n",
    "                    temp_url = re.findall('http\\S+&sa',temp_url)[0][:-3]\n",
    "                    url_list.append(temp_url)\n",
    "    \n",
    "        # article\n",
    "        for ind, news_url in enumerate(url_list):\n",
    "            try:\n",
    "                article = Article(url=news_url)\n",
    "                article.download()\n",
    "                article.parse()    \n",
    "                news_article = article.text\n",
    "            except:  # ssl error\n",
    "                driver.get(news_url)\n",
    "                article.download(input_html=driver.page_source)\n",
    "                article.parse()\n",
    "                news_article = article.text\n",
    "    \n",
    "            news_df = pd.concat([news_df, pd.DataFrame([[title_list[ind], news_article, news_url]])])\n",
    "    \n",
    "        news_df[0] = news_df[0].apply(lambda x: re.sub('\\s+',' ',x))\n",
    "        news_df = news_df.reset_index(drop=True)\n",
    "    \n",
    "    news_df.columns = ['Title','Contents','URL']\n",
    "    \n",
    "    return news_df"
   ],
   "id": "6662f40b3b72bd9a",
   "outputs": [],
   "execution_count": 15
  },
  {
   "metadata": {
    "ExecuteTime": {
     "end_time": "2025-03-01T11:23:28.665961Z",
     "start_time": "2025-03-01T11:22:38.287119Z"
    }
   },
   "cell_type": "code",
   "source": "news_df = search_from_google(ASSET, page_nums=4)",
   "id": "d2b63f3e63af9da6",
   "outputs": [],
   "execution_count": 16
  },
  {
   "metadata": {
    "ExecuteTime": {
     "end_time": "2025-03-01T11:23:48.793759Z",
     "start_time": "2025-03-01T11:23:48.790571Z"
    }
   },
   "cell_type": "code",
   "source": "news_df['Contents']",
   "id": "b944da630667d459",
   "outputs": [
    {
     "data": {
      "text/plain": [
       "0     BitMart's Strategy & Growth | FMTalks with Kse...\n",
       "1     Access to this page has been denied because we...\n",
       "2           Please enable JS and disable any ad blocker\n",
       "3     Tesla (TSLA 3.91%) stock has been in freefall,...\n",
       "4     Stocks ended the week a little lower with the ...\n",
       "5     Ross Gerber was an early investor in Tesla, bu...\n",
       "6     You can also send us your feedback:\\n\\nI’m a b...\n",
       "7                                                      \n",
       "8     Switch the Market flag\\n\\nOpen the menu and sw...\n",
       "9     Elon Musk may be President Trump's first buddy...\n",
       "10    Access to this page has been denied because we...\n",
       "11                                                     \n",
       "12    Tesla (TSLA 3.91%) stock has been in freefall,...\n",
       "13    teslamotorsclub.com\\n\\nVerifying you are human...\n",
       "14    Stocks ended the week a little lower with the ...\n",
       "15    Ross Gerber was an early investor in Tesla, bu...\n",
       "16    You can also send us your feedback:\\n\\nI’m a b...\n",
       "17                                                     \n",
       "18    Switch the Market flag\\n\\nOpen the menu and sw...\n",
       "19    Elon Musk may be President Trump's first buddy...\n",
       "20                                                     \n",
       "21    Tesla (TSLA 3.91%) stock has been in freefall,...\n",
       "22    teslamotorsclub.com\\n\\nVerifying you are human...\n",
       "23    Stocks ended the week a little lower with the ...\n",
       "24    Ross Gerber was an early investor in Tesla, bu...\n",
       "25    You can also send us your feedback:\\n\\nI’m a b...\n",
       "26                                                     \n",
       "27    Switch the Market flag\\n\\nOpen the menu and sw...\n",
       "28    Elon Musk may be President Trump's first buddy...\n",
       "29    Tesla Today TSLA Tesla $293.33 +11.38 (+4.04%)...\n",
       "Name: Contents, dtype: object"
      ]
     },
     "execution_count": 18,
     "metadata": {},
     "output_type": "execute_result"
    }
   ],
   "execution_count": 18
  },
  {
   "metadata": {
    "ExecuteTime": {
     "end_time": "2025-03-01T11:24:41.368643Z",
     "start_time": "2025-03-01T11:24:41.365386Z"
    }
   },
   "cell_type": "code",
   "source": [
    "def sentiment_agent(news_df):\n",
    "    \"\"\"\n",
    "    OpenAI GPT API를 사용하여 뉴스 기사의 제목과 본문을 분석하고,\n",
    "    해당 기업에 대한 뉴스가 긍정적인지(Bullish), 부정적인지(Bearish), 중립적인지(Neutral) 판단하여\n",
    "    투자자에게 조언을 제공하는 함수.\n",
    "\n",
    "    :param news_df: 뉴스 데이터프레임 (컬럼: ['Title', 'Contents', 'URL'])\n",
    "    :return: LLM 분석 결과 (Bullish, Bearish, Neutral 및 매매 조언)\n",
    "    \"\"\"\n",
    "    if news_df is None or news_df.empty:\n",
    "        return {\"signal\": \"Error\", \"message\": \"뉴스 데이터가 없습니다!\"}\n",
    "\n",
    "    news_df[\"Full_Text\"] = news_df[\"Title\"] + \" \" + news_df[\"Contents\"]\n",
    "    latest_news = news_df[\"Full_Text\"].tolist()[:10]  # 최신 뉴스만을 사용\n",
    "    \n",
    "    llm = ChatOpenAI(\n",
    "        model = \"gpt-4o-mini\", \n",
    "        temperature = 0.5, \n",
    "        openai_api_key = api_key\n",
    "    )\n",
    "\n",
    "    # LLM 프롬프트 템플릿 설정\n",
    "    template = \"\"\"\n",
    "    다음은 기업과 관련된 최신 뉴스 기사들입니다.  \n",
    "    각 뉴스는 해당 기업에 대한 투자 심리를 반영할 수 있으며, 감성 분석을 통해 시장 분위기를 평가하세요.\n",
    "\n",
    "    최근 5개 뉴스 기사:\n",
    "    {news}\n",
    "\n",
    "    판단 기준:\n",
    "    - 긍정적인 뉴스 기사가 다수라면 Bullish (강세)로 판단.\n",
    "    - 부정적인 뉴스 기사가 다수라면 Bearish (약세)로 판단.\n",
    "    - 긍정과 부정이 혼재되어 있거나, 특별한 정보가 없다면 Neutral (중립)로 판단.\n",
    "    - 시장 심리를 반영하여 투자자에게 Buy(매수), Sell(매도), Hold(관망) 조언을 제공.\n",
    "\n",
    "    현재 상태를 Bullish, Bearish, Neutral 중 하나로 판단한 후\n",
    "    투자자에게 적절한 조언을 한 줄로 제공하세요.\n",
    "    \"\"\"\n",
    "\n",
    "    prompt = PromptTemplate(\n",
    "        template=template,\n",
    "        input_variables=[\"news\"]\n",
    "    )\n",
    "\n",
    "    # RunnableSequence를 사용하여 체인 구성\n",
    "    chain = RunnableSequence(\n",
    "        {\n",
    "            \"news\": RunnablePassthrough()\n",
    "        }\n",
    "        | prompt\n",
    "        | llm\n",
    "        | (lambda x: x.content)\n",
    "    )\n",
    "\n",
    "    # LLM 실행\n",
    "    result = chain.invoke({\n",
    "        \"news\": \"\\n\\n\".join(latest_news)  # 뉴스 본문 결합\n",
    "    })\n",
    "\n",
    "    return result"
   ],
   "id": "ba625244db33c8eb",
   "outputs": [],
   "execution_count": 19
  },
  {
   "metadata": {
    "ExecuteTime": {
     "end_time": "2025-03-01T11:24:47.410217Z",
     "start_time": "2025-03-01T11:24:45.918282Z"
    }
   },
   "cell_type": "code",
   "source": "sent_resp = sentiment_agent(news_df)",
   "id": "ae316b1a7991ff81",
   "outputs": [],
   "execution_count": 20
  },
  {
   "metadata": {
    "ExecuteTime": {
     "end_time": "2025-03-01T11:24:48.130170Z",
     "start_time": "2025-03-01T11:24:48.126712Z"
    }
   },
   "cell_type": "code",
   "source": "sent_resp",
   "id": "a7523162ad6be283",
   "outputs": [
    {
     "data": {
      "text/plain": [
       "'현재 상태는 Bearish (약세)입니다. \\n\\n투자자에게는 \"Tesla 주식은 현재 하락세에 있으므로 매도하는 것이 좋습니다.\"라고 조언합니다.'"
      ]
     },
     "execution_count": 21,
     "metadata": {},
     "output_type": "execute_result"
    }
   ],
   "execution_count": 21
  },
  {
   "metadata": {},
   "cell_type": "markdown",
   "source": [
    "### 1.4 Forecaster\n",
    "\n",
    "가격 데이터를 활용하여, 기본적인 통계 모형을 활용해 그 다음날의 수익률을 예측하는 Agent를 생성한다."
   ],
   "id": "be82babcfc535d2a"
  },
  {
   "metadata": {
    "ExecuteTime": {
     "end_time": "2025-03-01T11:26:01.506095Z",
     "start_time": "2025-03-01T11:26:00.665166Z"
    }
   },
   "cell_type": "code",
   "source": [
    "from statsmodels.tsa.arima.model import ARIMA\n",
    "\n",
    "def get_stock_data(ticker):\n",
    "    \"\"\"\n",
    "    Yahoo Finance에서 종가 데이터를 가져오는 함수\n",
    "    :param ticker: 종목 코드 (예: \"AAPL\", \"TSLA\")\n",
    "    :return: 종가 및 수익률 데이터가 포함된 pd.DataFrame\n",
    "    \"\"\"\n",
    "    \n",
    "    data = yf.download(\n",
    "        ticker,\n",
    "        start = '2024-01-01',\n",
    "        progress=False,\n",
    "        multi_level_index=False,\n",
    "        interval='1d',\n",
    "        auto_adjust=True\n",
    "    )\n",
    "    \n",
    "    if data.empty:\n",
    "        return None\n",
    "\n",
    "    data = data['Close'].pct_change().dropna()\n",
    "    \n",
    "    return data\n",
    "\n",
    "def estimate_arma_model(returns):\n",
    "    \"\"\"\n",
    "    주어진 수익률 데이터로 ARMA(1,1) 모형을 추정하고 1-step ahead forecast 값을 반환하는 함수\n",
    "    :param returns: 수익률 데이터 (pd.Series)\n",
    "    :return: 1-step ahead 예측값\n",
    "    \"\"\"\n",
    "    try:\n",
    "        # ARMA(1,1) 모형 적합\n",
    "        model = ARIMA(returns, order=(3,0,1))  # (AR=1, MA=1)\n",
    "        model_fit = model.fit()\n",
    "        \n",
    "        # 1-step ahead 예측값 추출\n",
    "        forecast = model_fit.forecast(steps=1)\n",
    "        \n",
    "        return forecast\n",
    "\n",
    "    except Exception as e:\n",
    "        print(f\"ARMA 모형 추정 실패: {e}\")\n",
    "        return None"
   ],
   "id": "77c541630d34a25a",
   "outputs": [],
   "execution_count": 22
  },
  {
   "metadata": {
    "ExecuteTime": {
     "end_time": "2025-03-01T11:26:21.228059Z",
     "start_time": "2025-03-01T11:26:21.224056Z"
    }
   },
   "cell_type": "code",
   "source": [
    "import warnings\n",
    "warnings.filterwarnings(\"ignore\")\n",
    "\n",
    "def forecaster_agent(ticker):\n",
    "    \"\"\"\n",
    "    OpenAI GPT API를 사용하여 ARMA(1,1) 모형을 기반으로 시장 예측을 수행하고,\n",
    "    예측된 값이 상승이면 Bullish, 하락이면 Bearish, 중립이면 Neutral로 분류하여 투자 조언을 제공하는 함수.\n",
    "\n",
    "    :param ticker: 주식 종목 코드 (예: \"AAPL\", \"GOOGL\")\n",
    "    :return: LLM 분석 결과 (Bullish, Bearish, Neutral 및 매매 조언)\n",
    "    \"\"\"\n",
    "    # Yahoo Finance에서 주가 데이터 가져오기\n",
    "    stock_returns = get_stock_data(ticker)\n",
    "    \n",
    "    if stock_returns is None:\n",
    "        return {\"signal\": \"Error\", \"message\": \"주가 데이터 불러오기 실패\"}\n",
    "    \n",
    "    llm = ChatOpenAI(\n",
    "        model = \"gpt-4o-mini\", \n",
    "        temperature = 0.5, \n",
    "        openai_api_key = api_key\n",
    "    )\n",
    "\n",
    "    # ARMA(1,1) 모형 추정 및 1-step ahead 예측\n",
    "    forecast = estimate_arma_model(stock_returns)\n",
    "    \n",
    "    if forecast is None:\n",
    "        return {\"signal\": \"Error\", \"message\": \"❌ ARMA 모델 예측 실패!\"}\n",
    "\n",
    "    # LLM 프롬프트 템플릿 설정\n",
    "    template = \"\"\"\n",
    "    다음은 {ticker}의 최근 1년간 종가 데이터를 기반으로 한 ARMA(1,1) 모형의 예측 결과입니다.\n",
    "\n",
    "    1-step ahead 예측값: {forecast}\n",
    "\n",
    "    판단 기준:\n",
    "    - 예측값이 양수(>0)이면 Bullish (강세)로 판단.\n",
    "    - 예측값이 음수(<0)이면 Bearish (약세)로 판단.\n",
    "    - 예측값이 0에 가까우면 Neutral (중립)로 판단.\n",
    "    - 현재 상태에 따라 투자자에게 Buy(매수), Sell(매도), Hold(관망) 조언을 제공.\n",
    "\n",
    "    현재 상태를 Bullish, Bearish, Neutral 중 하나로 판단한 후\n",
    "    투자자에게 적절한 조언을 한 줄로 제공하세요.\n",
    "    \"\"\"\n",
    "\n",
    "    prompt = PromptTemplate(\n",
    "        template=template,\n",
    "        input_variables=[\"ticker\", \"forecast\"]\n",
    "    )\n",
    "\n",
    "    # RunnableSequence를 사용하여 체인 구성\n",
    "    chain = RunnableSequence(\n",
    "        {\n",
    "            \"ticker\": RunnablePassthrough(),\n",
    "            \"forecast\": RunnablePassthrough()\n",
    "        }\n",
    "        | prompt\n",
    "        | llm\n",
    "        | (lambda x: x.content)\n",
    "    )\n",
    "\n",
    "    # LLM 실행\n",
    "    result = chain.invoke({\n",
    "        \"ticker\": ticker,\n",
    "        \"forecast\": forecast\n",
    "    })\n",
    "\n",
    "    return result"
   ],
   "id": "69287b57d11c8b8e",
   "outputs": [],
   "execution_count": 23
  },
  {
   "metadata": {
    "ExecuteTime": {
     "end_time": "2025-03-01T11:26:27.556226Z",
     "start_time": "2025-03-01T11:26:26.050385Z"
    }
   },
   "cell_type": "code",
   "source": "forecast_resp = forecaster_agent(ASSET)",
   "id": "4aba6869b6cffa5c",
   "outputs": [],
   "execution_count": 24
  },
  {
   "metadata": {
    "ExecuteTime": {
     "end_time": "2025-03-01T11:26:28.545378Z",
     "start_time": "2025-03-01T11:26:28.542483Z"
    }
   },
   "cell_type": "code",
   "source": "forecast_resp",
   "id": "5f917cc7666ffdb5",
   "outputs": [
    {
     "data": {
      "text/plain": [
       "'예측값이 -0.000227로 음수이므로 Bearish (약세)로 판단되며, 투자자에게 Sell(매도) 조언을 드립니다.'"
      ]
     },
     "execution_count": 25,
     "metadata": {},
     "output_type": "execute_result"
    }
   ],
   "execution_count": 25
  },
  {
   "metadata": {},
   "cell_type": "markdown",
   "source": [
    "- META Labeling \n",
    "- Agent\n",
    "    - 워렌버핏 에이전트 : 최근 데이터를 인풋으로 받아서, 현금 보유비중을 얼마나 두어야 하는지 알려주는 에이전트"
   ],
   "id": "57a4c607042cd491"
  },
  {
   "metadata": {},
   "cell_type": "markdown",
   "source": [
    "### 2. Manager\n",
    "\n",
    "agent들로부터 나온 결과를 취합받아 최종적으로 조언을 해주는 포트폴리오 매니저의 역할이 필요하다. 이는 헤지펀드에서 종종 이뤄지는 의사결정과 동일하다."
   ],
   "id": "afc3253061267fda"
  },
  {
   "metadata": {
    "ExecuteTime": {
     "end_time": "2025-03-01T11:30:00.693611Z",
     "start_time": "2025-03-01T11:30:00.689256Z"
    }
   },
   "cell_type": "code",
   "source": [
    "def manager_agent(tech_result, fund_result, sent_result, fore_result):\n",
    "    \"\"\"\n",
    "    OpenAI GPT API를 사용하여 4개의 개별 분석 결과를 종합하고\n",
    "    최종 투자 결정을 내려주는 함수.\n",
    "    \n",
    "    :param tech_result: 기술적 분석 결과 \n",
    "    :param fund_result: 펀더멘털 분석 결과 \n",
    "    :param sent_result: 감성 분석 결과 \n",
    "    :param fore_result: 시장 예측 결과\n",
    "    :return: 최종 투자 판단 (Bullish, Bearish, Neutral 및 매매 조언)\n",
    "    \"\"\"\n",
    "    \n",
    "    llm = ChatOpenAI(\n",
    "        model = \"gpt-4o-mini\", \n",
    "        temperature = 0.5, \n",
    "        openai_api_key = api_key\n",
    "    )\n",
    "    \n",
    "    # LLM 프롬프트 템플릿 설정\n",
    "    template = \"\"\"\n",
    "    다음은 특정 주식에 대한 4가지 분석 결과입니다.\n",
    "    각 분석은 해당 주식의 시장 상황을 반영하며, 이를 종합하여 최종 투자 결정을 내려야 합니다.\n",
    "\n",
    "    - 기술적 분석 (Technical Analysis): {tech}\n",
    "    - 펀더멘털 분석 (Fundamental Analysis): {fund}\n",
    "    - 감성 분석 (Sentiment Analysis): {sent}\n",
    "    - 시장 예측 (Forecasting Analysis): {fore}\n",
    "\n",
    "    **판단 기준:**\n",
    "    - Bullish가 3개 이상이면 최종적으로 Bullish (강세)로 판단.\n",
    "    - Bearish가 3개 이상이면 최종적으로 Bearish (약세)로 판단.\n",
    "    - 신호가 혼재되어 있거나 Neutral이 많은 경우 최종적으로 Neutral (중립)로 판단.\n",
    "    - 각 분석 결과의 신뢰도를 고려하여 투자자에게 Buy(매수), Sell(매도), Hold(관망) 조언을 제공.\n",
    "\n",
    "    현재 상태를 Bullish, Bearish, Neutral 중 하나로 판단한 후, 최종 판단한 상태의 확률(신뢰도)를 퍼센테이지로 제공한 뒤,\n",
    "    투자자에게 적절한 조언을 한 줄로 제공하세요.\n",
    "    \"\"\"\n",
    "\n",
    "    prompt = PromptTemplate(\n",
    "        template=template,\n",
    "        input_variables=[\"tech\", \"fund\", \"sent\", \"fore\"]\n",
    "    )\n",
    "\n",
    "    # RunnableSequence를 사용하여 체인 구성\n",
    "    chain = RunnableSequence(\n",
    "        {\n",
    "            \"tech\": RunnablePassthrough(),\n",
    "            \"fund\": RunnablePassthrough(),\n",
    "            \"sent\": RunnablePassthrough(),\n",
    "            \"fore\": RunnablePassthrough()\n",
    "        }\n",
    "        | prompt\n",
    "        | llm\n",
    "        | (lambda x: x.content)\n",
    "    )\n",
    "\n",
    "    # LLM 실행\n",
    "    result = chain.invoke({\n",
    "        \"tech\": tech_result,\n",
    "        \"fund\": fund_result,\n",
    "        \"sent\": sent_result,\n",
    "        \"fore\": fore_result\n",
    "    })\n",
    "\n",
    "    return result"
   ],
   "id": "1b5ca2f0aec518b0",
   "outputs": [],
   "execution_count": 26
  },
  {
   "metadata": {
    "ExecuteTime": {
     "end_time": "2025-03-01T11:30:15.522792Z",
     "start_time": "2025-03-01T11:30:13.053933Z"
    }
   },
   "cell_type": "code",
   "source": [
    "final_resp = manager_agent(\n",
    "    tech_resp,\n",
    "    fund_resp,\n",
    "    sent_resp,\n",
    "    forecast_resp\n",
    ")"
   ],
   "id": "7389edae649bbb7d",
   "outputs": [],
   "execution_count": 27
  },
  {
   "metadata": {
    "ExecuteTime": {
     "end_time": "2025-03-01T11:30:18.206820Z",
     "start_time": "2025-03-01T11:30:18.203979Z"
    }
   },
   "cell_type": "code",
   "source": "print(final_resp)",
   "id": "1b799a5ae99f1277",
   "outputs": [
    {
     "name": "stdout",
     "output_type": "stream",
     "text": [
      "현재 상태는 Bearish (약세)로 판단됩니다. \n",
      "\n",
      "- 기술적 분석: Bearish 4개\n",
      "- 펀더멘털 분석: Bearish 4개\n",
      "- 감성 분석: Bearish 4개\n",
      "- 시장 예측: Bearish 4개\n",
      "\n",
      "Bearish가 3개 이상이므로 최종적으로 Bearish로 판단합니다. \n",
      "\n",
      "신뢰도: 100%\n",
      "\n",
      "투자자에게는 \"Tesla 주식은 현재 하락세에 있으므로 매도하는 것이 좋습니다.\"라고 조언합니다.\n"
     ]
    }
   ],
   "execution_count": 28
  },
  {
   "metadata": {},
   "cell_type": "code",
   "outputs": [],
   "execution_count": null,
   "source": "",
   "id": "573e774aec6d2327"
  }
 ],
 "metadata": {
  "kernelspec": {
   "display_name": "Python 3",
   "language": "python",
   "name": "python3"
  },
  "language_info": {
   "codemirror_mode": {
    "name": "ipython",
    "version": 2
   },
   "file_extension": ".py",
   "mimetype": "text/x-python",
   "name": "python",
   "nbconvert_exporter": "python",
   "pygments_lexer": "ipython2",
   "version": "2.7.6"
  }
 },
 "nbformat": 4,
 "nbformat_minor": 5
}
