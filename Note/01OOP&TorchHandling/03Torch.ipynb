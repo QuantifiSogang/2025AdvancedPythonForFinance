{
 "cells": [
  {
   "metadata": {},
   "cell_type": "markdown",
   "source": [
    "## Torch\n",
    "\n"
   ],
   "id": "bd787db6cd7e166b"
  },
  {
   "metadata": {},
   "cell_type": "markdown",
   "source": [
    "### 1. Torch Basic\n",
    "\n",
    "- `torch.Tensor`는 다차원 배열을 처리하는 PyTorch의 기본 데이터 구조로, Numpy 배열과 유사하지만 GPU 가속 및 자동 미분 기능을 제공한다.\n",
    "- Tensor는 다차원 행렬을 의미하는 것으로, 이름부터 고차원의 행렬을 연산하기 위해 탄생하였다고 봐도 무방하다."
   ],
   "id": "e964baee8f6e5cb6"
  },
  {
   "cell_type": "code",
   "id": "initial_id",
   "metadata": {
    "collapsed": true,
    "ExecuteTime": {
     "end_time": "2025-01-25T12:11:55.889206Z",
     "start_time": "2025-01-25T12:11:55.883705Z"
    }
   },
   "source": [
    "import torch\n",
    "import numpy as np\n",
    "\n",
    "np_array = np.array(\n",
    "    [\n",
    "        [1, 2], \n",
    "        [3, 4]\n",
    "    ]\n",
    ")\n",
    "print(\"Numpy Array:\\n\", np_array)"
   ],
   "outputs": [
    {
     "name": "stdout",
     "output_type": "stream",
     "text": [
      "Numpy Array:\n",
      " [[1 2]\n",
      " [3 4]]\n"
     ]
    }
   ],
   "execution_count": 103
  },
  {
   "metadata": {},
   "cell_type": "markdown",
   "source": "`numpy` 형태의 데이터는 다음과 같이 `type()`로 확인하면 `np.ndarray`가 나온다.",
   "id": "75757aa70ae7f85f"
  },
  {
   "metadata": {
    "ExecuteTime": {
     "end_time": "2025-01-25T12:12:21.923263Z",
     "start_time": "2025-01-25T12:12:21.920236Z"
    }
   },
   "cell_type": "code",
   "source": "type(np_array)",
   "id": "8ccb9868f8223f61",
   "outputs": [
    {
     "data": {
      "text/plain": [
       "numpy.ndarray"
      ]
     },
     "execution_count": 104,
     "metadata": {},
     "output_type": "execute_result"
    }
   ],
   "execution_count": 104
  },
  {
   "metadata": {},
   "cell_type": "markdown",
   "source": "마찬가지로, Torch는 torch.Tensor형태의 타입이 나온다.",
   "id": "cead1bc552ec0732"
  },
  {
   "metadata": {
    "ExecuteTime": {
     "end_time": "2025-01-25T12:13:02.643624Z",
     "start_time": "2025-01-25T12:13:02.640618Z"
    }
   },
   "cell_type": "code",
   "source": [
    "torch_tensor = torch.tensor(\n",
    "    [\n",
    "        [1, 2],\n",
    "        [3, 4]\n",
    "    ]\n",
    ")\n",
    "print(\"Torch Tensor:\\n\", torch_tensor)"
   ],
   "id": "98ea8294727e63ed",
   "outputs": [
    {
     "name": "stdout",
     "output_type": "stream",
     "text": [
      "Torch Tensor:\n",
      " tensor([[1, 2],\n",
      "        [3, 4]])\n"
     ]
    }
   ],
   "execution_count": 105
  },
  {
   "metadata": {
    "ExecuteTime": {
     "end_time": "2025-01-25T12:13:08.091409Z",
     "start_time": "2025-01-25T12:13:08.088441Z"
    }
   },
   "cell_type": "code",
   "source": "type(torch_tensor)",
   "id": "fb2b3130d612aef2",
   "outputs": [
    {
     "data": {
      "text/plain": [
       "torch.Tensor"
      ]
     },
     "execution_count": 106,
     "metadata": {},
     "output_type": "execute_result"
    }
   ],
   "execution_count": 106
  },
  {
   "metadata": {},
   "cell_type": "markdown",
   "source": "shapes는 numpy와 사용이 굉장히 유사하다. 출력 형태는 `torch.Size()`로 나온다.",
   "id": "e2a1dffd0934707d"
  },
  {
   "metadata": {
    "ExecuteTime": {
     "end_time": "2025-01-25T12:13:29.375016Z",
     "start_time": "2025-01-25T12:13:29.371857Z"
    }
   },
   "cell_type": "code",
   "source": "np_array.shape # shapes",
   "id": "f38122dad8315805",
   "outputs": [
    {
     "data": {
      "text/plain": [
       "(2, 2)"
      ]
     },
     "execution_count": 107,
     "metadata": {},
     "output_type": "execute_result"
    }
   ],
   "execution_count": 107
  },
  {
   "metadata": {
    "ExecuteTime": {
     "end_time": "2025-01-25T12:13:31.437359Z",
     "start_time": "2025-01-25T12:13:31.434871Z"
    }
   },
   "cell_type": "code",
   "source": "torch_tensor.shape",
   "id": "157fd09913aae67b",
   "outputs": [
    {
     "data": {
      "text/plain": [
       "torch.Size([2, 2])"
      ]
     },
     "execution_count": 108,
     "metadata": {},
     "output_type": "execute_result"
    }
   ],
   "execution_count": 108
  },
  {
   "metadata": {},
   "cell_type": "markdown",
   "source": "일반적으로 행렬은 다음과 같이 생성한다. numpy의 기능과 굉장히 유사함으로 사용에 큰 지장은 없다. 기본 데이터 타입은 `float64`로 출력된다.",
   "id": "96bffb8166576b46"
  },
  {
   "metadata": {
    "ExecuteTime": {
     "end_time": "2025-01-25T12:13:56.398945Z",
     "start_time": "2025-01-25T12:13:56.393661Z"
    }
   },
   "cell_type": "code",
   "source": [
    "# 0행렬의 경우\n",
    "zeros_tensor = torch.zeros(3, 3)\n",
    "print(\"Zeros Tensor:\\n\", zeros_tensor)"
   ],
   "id": "36a6aba9d099ea54",
   "outputs": [
    {
     "name": "stdout",
     "output_type": "stream",
     "text": [
      "Zeros Tensor:\n",
      " tensor([[0., 0., 0.],\n",
      "        [0., 0., 0.],\n",
      "        [0., 0., 0.]])\n"
     ]
    }
   ],
   "execution_count": 109
  },
  {
   "metadata": {
    "ExecuteTime": {
     "end_time": "2025-01-25T12:14:03.116505Z",
     "start_time": "2025-01-25T12:14:03.113026Z"
    }
   },
   "cell_type": "code",
   "source": [
    "# 2 * 2 형태의 1로 이뤄진 행렬\n",
    "ones_tensor = torch.ones(2, 2)\n",
    "print(\"Ones Tensor:\\n\", ones_tensor)"
   ],
   "id": "81989603c0103b79",
   "outputs": [
    {
     "name": "stdout",
     "output_type": "stream",
     "text": [
      "Ones Tensor:\n",
      " tensor([[1., 1.],\n",
      "        [1., 1.]])\n"
     ]
    }
   ],
   "execution_count": 110
  },
  {
   "metadata": {
    "ExecuteTime": {
     "end_time": "2025-01-25T12:14:25.030695Z",
     "start_time": "2025-01-25T12:14:25.026679Z"
    }
   },
   "cell_type": "code",
   "source": [
    "# 4x4 크기의 랜덤한 값을 가진 텐서, 랜덤변수는 정규분포에서 출력되었다고 가정한다.\n",
    "random_tensor = torch.randn(4, 4)\n",
    "print(\"Random Tensor:\\n\", random_tensor)"
   ],
   "id": "92ef65621fc17604",
   "outputs": [
    {
     "name": "stdout",
     "output_type": "stream",
     "text": [
      "Random Tensor:\n",
      " tensor([[ 1.6690,  0.7852, -1.4156,  0.5354],\n",
      "        [-0.2241,  0.5707, -0.7147,  0.8416],\n",
      "        [-0.2319, -1.6523, -1.0449, -1.3569],\n",
      "        [ 0.3395,  1.5323, -1.1483, -0.1142]])\n"
     ]
    }
   ],
   "execution_count": 111
  },
  {
   "metadata": {},
   "cell_type": "markdown",
   "source": "연산 결과는 `.numpy()` method를 통해 numpy형태로 변환 가능하다.",
   "id": "e99b0e76119b5569"
  },
  {
   "metadata": {
    "ExecuteTime": {
     "end_time": "2025-01-25T12:14:40.912111Z",
     "start_time": "2025-01-25T12:14:40.909266Z"
    }
   },
   "cell_type": "code",
   "source": "random_tensor_numpy = random_tensor.numpy()",
   "id": "decd1e94cf18d950",
   "outputs": [],
   "execution_count": 112
  },
  {
   "metadata": {
    "ExecuteTime": {
     "end_time": "2025-01-25T12:14:41.379626Z",
     "start_time": "2025-01-25T12:14:41.376639Z"
    }
   },
   "cell_type": "code",
   "source": "random_tensor_numpy",
   "id": "e7a182db7f03c8ab",
   "outputs": [
    {
     "data": {
      "text/plain": [
       "array([[ 1.6690068 ,  0.7851779 , -1.4156438 ,  0.5353802 ],\n",
       "       [-0.22406492,  0.5706891 , -0.71472543,  0.8416374 ],\n",
       "       [-0.23188762, -1.652259  , -1.0449424 , -1.3569013 ],\n",
       "       [ 0.3394516 ,  1.5322863 , -1.1482941 , -0.11420687]],\n",
       "      dtype=float32)"
      ]
     },
     "execution_count": 113,
     "metadata": {},
     "output_type": "execute_result"
    }
   ],
   "execution_count": 113
  },
  {
   "metadata": {
    "ExecuteTime": {
     "end_time": "2025-01-25T12:14:50.528290Z",
     "start_time": "2025-01-25T12:14:50.525772Z"
    }
   },
   "cell_type": "code",
   "source": "print(random_tensor_numpy)",
   "id": "58f156c4dc24800f",
   "outputs": [
    {
     "name": "stdout",
     "output_type": "stream",
     "text": [
      "[[ 1.6690068   0.7851779  -1.4156438   0.5353802 ]\n",
      " [-0.22406492  0.5706891  -0.71472543  0.8416374 ]\n",
      " [-0.23188762 -1.652259   -1.0449424  -1.3569013 ]\n",
      " [ 0.3394516   1.5322863  -1.1482941  -0.11420687]]\n"
     ]
    }
   ],
   "execution_count": 114
  },
  {
   "metadata": {
    "ExecuteTime": {
     "end_time": "2025-01-25T12:14:55.513312Z",
     "start_time": "2025-01-25T12:14:55.511233Z"
    }
   },
   "cell_type": "code",
   "source": "print(type(random_tensor_numpy)) # numpy.ndarray",
   "id": "eacd07921309c52a",
   "outputs": [
    {
     "name": "stdout",
     "output_type": "stream",
     "text": [
      "<class 'numpy.ndarray'>\n"
     ]
    }
   ],
   "execution_count": 115
  },
  {
   "metadata": {},
   "cell_type": "markdown",
   "source": "3차원 이상의 경우 tensor는 다음과 같이 표현된다. numpy와 마찬가치로 2차원 행렬이 줄바꿈을 기준으로 표현되는 형식이다.",
   "id": "b8b55d462374c887"
  },
  {
   "metadata": {
    "ExecuteTime": {
     "end_time": "2025-01-25T12:15:02.124774Z",
     "start_time": "2025-01-25T12:15:02.121357Z"
    }
   },
   "cell_type": "code",
   "source": [
    "random_tensor_3d = torch.randn(4, 4, 4)\n",
    "print('Random Tensor 3D:\\n', random_tensor_3d)"
   ],
   "id": "d6ed77d4070e43da",
   "outputs": [
    {
     "name": "stdout",
     "output_type": "stream",
     "text": [
      "Random Tensor 3D:\n",
      " tensor([[[-1.1223, -0.0246,  1.8299, -0.4143],\n",
      "         [ 0.1453,  0.1269, -1.0913, -1.8971],\n",
      "         [-1.7647, -1.6430, -0.3041,  1.6317],\n",
      "         [-0.2567, -1.2033,  1.1836, -0.3864]],\n",
      "\n",
      "        [[-2.1025,  3.3154,  0.1086,  0.7572],\n",
      "         [-0.5315, -0.3671,  0.7024, -1.7126],\n",
      "         [ 1.4733,  0.9228,  2.1707, -2.9512],\n",
      "         [-0.4961,  0.9598, -2.1411, -0.4656]],\n",
      "\n",
      "        [[-1.4762, -0.7172,  0.9728,  0.2355],\n",
      "         [-1.6309,  0.0841,  1.7762,  0.0913],\n",
      "         [ 0.9440, -0.1074,  0.5758, -0.4396],\n",
      "         [-0.4676, -0.5957,  0.7942,  0.3299]],\n",
      "\n",
      "        [[ 0.1866, -0.4979,  0.1168,  0.7204],\n",
      "         [ 0.7788, -2.6377,  1.0663, -0.0432],\n",
      "         [ 0.1070,  1.2853, -1.1193, -0.9155],\n",
      "         [ 0.0855,  0.7153, -0.9989, -0.3537]]])\n"
     ]
    }
   ],
   "execution_count": 116
  },
  {
   "metadata": {},
   "cell_type": "markdown",
   "source": [
    "#### 1.1 기본 텐서 연산\n",
    "\n",
    "- `numpy`와 마찬가지로 다차원 행렬의 연산을 수행할 수 있다."
   ],
   "id": "7b12486d2d4fd2bb"
  },
  {
   "metadata": {
    "ExecuteTime": {
     "end_time": "2025-01-25T12:15:31.634033Z",
     "start_time": "2025-01-25T12:15:31.632135Z"
    }
   },
   "cell_type": "code",
   "source": [
    "a = torch.tensor([\n",
    "    [1, 2], \n",
    "    [3, 4]\n",
    "])\n",
    "b = torch.tensor([\n",
    "    [5, 6], \n",
    "    [7, 8]\n",
    "])"
   ],
   "id": "ee54cbfeb1d822cd",
   "outputs": [],
   "execution_count": 118
  },
  {
   "metadata": {
    "ExecuteTime": {
     "end_time": "2025-01-25T12:15:35.424244Z",
     "start_time": "2025-01-25T12:15:35.421664Z"
    }
   },
   "cell_type": "code",
   "source": "a",
   "id": "6b46745db8e88679",
   "outputs": [
    {
     "data": {
      "text/plain": [
       "tensor([[1, 2],\n",
       "        [3, 4]])"
      ]
     },
     "execution_count": 119,
     "metadata": {},
     "output_type": "execute_result"
    }
   ],
   "execution_count": 119
  },
  {
   "metadata": {
    "ExecuteTime": {
     "end_time": "2025-01-25T12:15:39.054394Z",
     "start_time": "2025-01-25T12:15:39.051407Z"
    }
   },
   "cell_type": "code",
   "source": "b",
   "id": "9c9e71061618e9a0",
   "outputs": [
    {
     "data": {
      "text/plain": [
       "tensor([[5, 6],\n",
       "        [7, 8]])"
      ]
     },
     "execution_count": 120,
     "metadata": {},
     "output_type": "execute_result"
    }
   ],
   "execution_count": 120
  },
  {
   "metadata": {
    "ExecuteTime": {
     "end_time": "2025-01-25T12:15:44.755944Z",
     "start_time": "2025-01-25T12:15:44.752207Z"
    }
   },
   "cell_type": "code",
   "source": [
    "# 덧셈 (add)\n",
    "print(\"Addition:\\n\", torch.add(a, b))"
   ],
   "id": "7e505a96f69c402f",
   "outputs": [
    {
     "name": "stdout",
     "output_type": "stream",
     "text": [
      "Addition:\n",
      " tensor([[ 6,  8],\n",
      "        [10, 12]])\n"
     ]
    }
   ],
   "execution_count": 121
  },
  {
   "metadata": {},
   "cell_type": "markdown",
   "source": "element별로 곱셈을 수행하기 위해서는 `mul()`함수를 사용한다.",
   "id": "cd004fee8d777ce1"
  },
  {
   "metadata": {
    "ExecuteTime": {
     "end_time": "2025-01-25T12:15:54.329604Z",
     "start_time": "2025-01-25T12:15:54.326525Z"
    }
   },
   "cell_type": "code",
   "source": [
    "# 곱셈 (요소별, mul)\n",
    "print(\"Element-wise Multiplication:\\n\", torch.mul(a, b))"
   ],
   "id": "86137b554288860",
   "outputs": [
    {
     "name": "stdout",
     "output_type": "stream",
     "text": [
      "Element-wise Multiplication:\n",
      " tensor([[ 5, 12],\n",
      "        [21, 32]])\n"
     ]
    }
   ],
   "execution_count": 122
  },
  {
   "metadata": {},
   "cell_type": "markdown",
   "source": "행렬곱 연산 수행을 위해서는 `matmul()` 함수를 사용한다.",
   "id": "919d27174f28aa63"
  },
  {
   "metadata": {
    "ExecuteTime": {
     "end_time": "2025-01-25T12:16:20.321730Z",
     "start_time": "2025-01-25T12:16:20.318741Z"
    }
   },
   "cell_type": "code",
   "source": [
    "# 행렬 곱 (matmul)\n",
    "print(\"Matrix Multiplication:\\n\", torch.matmul(a, b))"
   ],
   "id": "6537a40484e3d4af",
   "outputs": [
    {
     "name": "stdout",
     "output_type": "stream",
     "text": [
      "Matrix Multiplication:\n",
      " tensor([[19, 22],\n",
      "        [43, 50]])\n"
     ]
    }
   ],
   "execution_count": 123
  },
  {
   "metadata": {},
   "cell_type": "markdown",
   "source": "요소의 개수와 행렬 전체의 크기만 맞춘다면, numpy와 마찬가지로 shape를 변경할 수 있다 (reshape)",
   "id": "7b761bd2b994a134"
  },
  {
   "metadata": {
    "ExecuteTime": {
     "end_time": "2025-01-25T12:16:37.620802Z",
     "start_time": "2025-01-25T12:16:37.618296Z"
    }
   },
   "cell_type": "code",
   "source": [
    "# 텐서의 크기 변경 (reshape)\n",
    "reshaped_tensor = a.reshape(4, 1)\n",
    "print(\"Reshaped Tensor:\\n\", reshaped_tensor)"
   ],
   "id": "c03ed6ef3efdae6a",
   "outputs": [
    {
     "name": "stdout",
     "output_type": "stream",
     "text": [
      "Reshaped Tensor:\n",
      " tensor([[1],\n",
      "        [2],\n",
      "        [3],\n",
      "        [4]])\n"
     ]
    }
   ],
   "execution_count": 124
  },
  {
   "metadata": {},
   "cell_type": "markdown",
   "source": "`view()` method를 사용하면 메모리의 추가적인 할당 없이, 기존 데이터를 공유하여 reshape을 한다. 메모리를 절약할 수 있다는 점에서 장점이 있지만, 동시에 데이터가 공유되기 때문에 인스턴스화된 하나의 변수에서 값을 변경할 경우 나머지 하나에도 동일하게 값이 변경되므로 주의해야 한다.",
   "id": "265a8d3b44a3931c"
  },
  {
   "metadata": {
    "ExecuteTime": {
     "end_time": "2025-01-25T12:17:31.435658Z",
     "start_time": "2025-01-25T12:17:31.433091Z"
    }
   },
   "cell_type": "code",
   "source": "a",
   "id": "cb4157271d5ef91",
   "outputs": [
    {
     "data": {
      "text/plain": [
       "tensor([[1, 2],\n",
       "        [3, 4]])"
      ]
     },
     "execution_count": 126,
     "metadata": {},
     "output_type": "execute_result"
    }
   ],
   "execution_count": 126
  },
  {
   "metadata": {
    "ExecuteTime": {
     "end_time": "2025-01-25T12:17:38.313573Z",
     "start_time": "2025-01-25T12:17:38.311460Z"
    }
   },
   "cell_type": "code",
   "source": [
    "# view를 통한 형태 변경 (기존 데이터 공유)\n",
    "viewed_tensor = a.view(1, 4)\n",
    "print(\"Viewed Tensor:\\n\", viewed_tensor)"
   ],
   "id": "28715adfa611b1cb",
   "outputs": [
    {
     "name": "stdout",
     "output_type": "stream",
     "text": [
      "Viewed Tensor:\n",
      " tensor([[1, 2, 3, 4]])\n"
     ]
    }
   ],
   "execution_count": 127
  },
  {
   "metadata": {
    "ExecuteTime": {
     "end_time": "2025-01-25T12:17:41.532484Z",
     "start_time": "2025-01-25T12:17:41.529553Z"
    }
   },
   "cell_type": "code",
   "source": "a",
   "id": "42e92f532f754737",
   "outputs": [
    {
     "data": {
      "text/plain": [
       "tensor([[1, 2],\n",
       "        [3, 4]])"
      ]
     },
     "execution_count": 128,
     "metadata": {},
     "output_type": "execute_result"
    }
   ],
   "execution_count": 128
  },
  {
   "metadata": {
    "ExecuteTime": {
     "end_time": "2025-01-25T12:17:52.160403Z",
     "start_time": "2025-01-25T12:17:52.157608Z"
    }
   },
   "cell_type": "code",
   "source": "viewed_tensor[0][0] = 10 # 새롭게 인스턴스화된 변수의 값을 변경",
   "id": "2ac8bc16094880d2",
   "outputs": [],
   "execution_count": 129
  },
  {
   "metadata": {
    "ExecuteTime": {
     "end_time": "2025-01-25T12:17:53.777978Z",
     "start_time": "2025-01-25T12:17:53.775088Z"
    }
   },
   "cell_type": "code",
   "source": "viewed_tensor",
   "id": "b79234e799b230a9",
   "outputs": [
    {
     "data": {
      "text/plain": [
       "tensor([[10,  2,  3,  4]])"
      ]
     },
     "execution_count": 130,
     "metadata": {},
     "output_type": "execute_result"
    }
   ],
   "execution_count": 130
  },
  {
   "metadata": {
    "ExecuteTime": {
     "end_time": "2025-01-25T12:17:58.853011Z",
     "start_time": "2025-01-25T12:17:58.850226Z"
    }
   },
   "cell_type": "code",
   "source": "a",
   "id": "d9302c186a4f583a",
   "outputs": [
    {
     "data": {
      "text/plain": [
       "tensor([[10,  2],\n",
       "        [ 3,  4]])"
      ]
     },
     "execution_count": 131,
     "metadata": {},
     "output_type": "execute_result"
    }
   ],
   "execution_count": 131
  },
  {
   "metadata": {},
   "cell_type": "markdown",
   "source": "`squeeze()` method를 사용해 차원을 축소할 수 있다. 차원이 1인 축(axes)을 제거하여 텐서의 차원을 축소하는 기능을 수행한다.",
   "id": "de17e8e23ea58e2d"
  },
  {
   "metadata": {
    "ExecuteTime": {
     "end_time": "2025-01-25T12:19:08.488670Z",
     "start_time": "2025-01-25T12:19:08.486244Z"
    }
   },
   "cell_type": "code",
   "source": [
    "expanded_tensor = torch.tensor([[[1, 2, 3]]])  # (1, 1, 3) -> (3, )\n",
    "squeezed_tensor = expanded_tensor.squeeze()"
   ],
   "id": "a5a05c6f244dc4d3",
   "outputs": [],
   "execution_count": 132
  },
  {
   "metadata": {
    "ExecuteTime": {
     "end_time": "2025-01-25T12:19:09.043675Z",
     "start_time": "2025-01-25T12:19:09.041Z"
    }
   },
   "cell_type": "code",
   "source": "expanded_tensor # (1, 1, 3)",
   "id": "c7d2f8e01fe51ab7",
   "outputs": [
    {
     "data": {
      "text/plain": [
       "tensor([[[1, 2, 3]]])"
      ]
     },
     "execution_count": 133,
     "metadata": {},
     "output_type": "execute_result"
    }
   ],
   "execution_count": 133
  },
  {
   "metadata": {
    "ExecuteTime": {
     "end_time": "2025-01-25T12:19:09.739240Z",
     "start_time": "2025-01-25T12:19:09.736839Z"
    }
   },
   "cell_type": "code",
   "source": "squeezed_tensor # (3, )",
   "id": "3433535b1b021c29",
   "outputs": [
    {
     "data": {
      "text/plain": [
       "tensor([1, 2, 3])"
      ]
     },
     "execution_count": 134,
     "metadata": {},
     "output_type": "execute_result"
    }
   ],
   "execution_count": 134
  },
  {
   "metadata": {},
   "cell_type": "markdown",
   "source": "squeeze는 데이터 복사가 없으며, 원본 텐서의 메모리를 공유하기 때문에 `view()`와 마찬가지로 인스턴스화된 어느 한 변수에서 값을 변경할 경우, 다른 변수들 또한 동일하게 값이 변하므로 유의해야 한다.",
   "id": "b7ce169a35360093"
  },
  {
   "metadata": {
    "ExecuteTime": {
     "end_time": "2025-01-25T12:19:34.392179Z",
     "start_time": "2025-01-25T12:19:34.390027Z"
    }
   },
   "cell_type": "code",
   "source": "squeezed_tensor[0] = 10 # 새로운 값 변경",
   "id": "5f2c67cc517beda2",
   "outputs": [],
   "execution_count": 135
  },
  {
   "metadata": {
    "ExecuteTime": {
     "end_time": "2025-01-25T12:19:34.626529Z",
     "start_time": "2025-01-25T12:19:34.623882Z"
    }
   },
   "cell_type": "code",
   "source": "squeezed_tensor",
   "id": "75b2e7606ee79c9f",
   "outputs": [
    {
     "data": {
      "text/plain": [
       "tensor([10,  2,  3])"
      ]
     },
     "execution_count": 136,
     "metadata": {},
     "output_type": "execute_result"
    }
   ],
   "execution_count": 136
  },
  {
   "metadata": {
    "ExecuteTime": {
     "end_time": "2025-01-25T12:19:34.959209Z",
     "start_time": "2025-01-25T12:19:34.956295Z"
    }
   },
   "cell_type": "code",
   "source": "expanded_tensor",
   "id": "900e91c166d20ff8",
   "outputs": [
    {
     "data": {
      "text/plain": [
       "tensor([[[10,  2,  3]]])"
      ]
     },
     "execution_count": 137,
     "metadata": {},
     "output_type": "execute_result"
    }
   ],
   "execution_count": 137
  },
  {
   "metadata": {},
   "cell_type": "markdown",
   "source": [
    "#### 1.2 GPU 연산 사용\n",
    "\n",
    "- Torch는 GPU를 활용해 연산을 가속할 수 있다. Nvidia 계열 GPU를 사용하는 경우 `.cuda()` 또는 `.to(device)`를 사용한다. \n",
    "- Silicon Mac을 사용하는 경우 gpu를 `mps:0`로 설정하면 GPU 가속을 사용할 수 있다.\n",
    "- Nvidia GPU혹은 Apple M 시리즈를 사용하지 않는다면 cpu로 연산을 진행해도 된다. 다만, 학습 속도는 굉장히 느려진다."
   ],
   "id": "6bb72a5fec9e8064"
  },
  {
   "metadata": {
    "ExecuteTime": {
     "end_time": "2025-01-25T12:20:14.044053Z",
     "start_time": "2025-01-25T12:20:14.041412Z"
    }
   },
   "cell_type": "code",
   "source": [
    "# device = torch.device(\"cuda\" if torch.cuda.is_available() else \"cpu\") # cuda 사용자인 경우 사용.\n",
    "device = torch.device(\"mps:0\")\n",
    "print(\"Using device:\", device)"
   ],
   "id": "bb13da9923ac16e6",
   "outputs": [
    {
     "name": "stdout",
     "output_type": "stream",
     "text": [
      "Using device: mps:0\n"
     ]
    }
   ],
   "execution_count": 138
  },
  {
   "metadata": {
    "ExecuteTime": {
     "end_time": "2025-01-25T12:20:42.993069Z",
     "start_time": "2025-01-25T12:20:42.982871Z"
    }
   },
   "cell_type": "code",
   "source": [
    "cpu_tensor = torch.tensor([1.0, 2.0, 3.0])\n",
    "gpu_tensor = cpu_tensor.to(device) # 메모리 영역이 다르기 때문에 device를 전달해 주어야 함\n",
    "\n",
    "print(\"Tensor on device:\", gpu_tensor)"
   ],
   "id": "bd9ce9bd88fbf93e",
   "outputs": [
    {
     "name": "stdout",
     "output_type": "stream",
     "text": [
      "Tensor on device: tensor([1., 2., 3.], device='mps:0')\n"
     ]
    }
   ],
   "execution_count": 139
  },
  {
   "metadata": {},
   "cell_type": "markdown",
   "source": [
    "### 2. Gradient\n",
    "\n",
    "- Torch의 `Autograd` 기능은 신경망 학습 과정에서 역전파(Backpropagation)를 수행하기 위해 Gradient를 자동으로 계산한다.\n",
    "- 이를 위해 `requires_grad` 속성과 `backward()` method를 사용한다."
   ],
   "id": "7e138a6181f42c84"
  },
  {
   "metadata": {},
   "cell_type": "markdown",
   "source": [
    "#### 2.1 자동 미분\n",
    "\n",
    "- `torch.autograd`는 텐서의 연산 기록을 추적하여 자동으로 **미분(gradient)**을 계산한다.\n",
    "- 텐서에 `requires_grad=True`를 설정하면 연산 그래프가 기록되며, backward() 호출 시 그래디언트가 계산된다."
   ],
   "id": "dd70c329546ec244"
  },
  {
   "metadata": {
    "ExecuteTime": {
     "end_time": "2025-01-25T12:21:08.590176Z",
     "start_time": "2025-01-25T12:21:08.587964Z"
    }
   },
   "cell_type": "code",
   "source": "x = torch.tensor(2.0, requires_grad = True) # 자동으로 연산을 추적",
   "id": "e813f3f9b921c9f3",
   "outputs": [],
   "execution_count": 140
  },
  {
   "metadata": {
    "ExecuteTime": {
     "end_time": "2025-01-25T12:21:19.468829Z",
     "start_time": "2025-01-25T12:21:19.465581Z"
    }
   },
   "cell_type": "code",
   "source": "x",
   "id": "cca36c74040e214e",
   "outputs": [
    {
     "data": {
      "text/plain": [
       "tensor(2., requires_grad=True)"
      ]
     },
     "execution_count": 141,
     "metadata": {},
     "output_type": "execute_result"
    }
   ],
   "execution_count": 141
  },
  {
   "metadata": {},
   "cell_type": "markdown",
   "source": [
    "아래와 같은 식을 생각해 보자\n",
    "\n",
    "$$y = x^2 + 3x + 5$$\n",
    "\n",
    "이 식을 미분하면 다음과 같이 된다\n",
    "\n",
    "$$y^\\prime = 2x + 3$$\n",
    "\n",
    "위 식을 torch를 이용해 미분해 보자"
   ],
   "id": "911643fc9b598585"
  },
  {
   "metadata": {
    "ExecuteTime": {
     "end_time": "2025-01-25T12:21:49.239180Z",
     "start_time": "2025-01-25T12:21:49.235212Z"
    }
   },
   "cell_type": "code",
   "source": [
    "y = x**2 + 3*x + 5\n",
    "\n",
    "y.backward() # backward() 호출하여 y를 x에 대해 미분"
   ],
   "id": "2064901e32016e1c",
   "outputs": [],
   "execution_count": 142
  },
  {
   "metadata": {},
   "cell_type": "markdown",
   "source": "결과를 확인하면, 미분이 잘 된 것을 알 수 있다.",
   "id": "ebd9584d77803178"
  },
  {
   "metadata": {
    "ExecuteTime": {
     "end_time": "2025-01-25T12:21:55.967760Z",
     "start_time": "2025-01-25T12:21:55.964811Z"
    }
   },
   "cell_type": "code",
   "source": "x.grad # x = 2일때, 일계도함수의 값",
   "id": "dde36309ac43ab5",
   "outputs": [
    {
     "data": {
      "text/plain": [
       "tensor(7.)"
      ]
     },
     "execution_count": 143,
     "metadata": {},
     "output_type": "execute_result"
    }
   ],
   "execution_count": 143
  },
  {
   "metadata": {},
   "cell_type": "markdown",
   "source": "변수가 여러개일 때에도 미분이 가능하다.",
   "id": "25c6e4a7923908ac"
  },
  {
   "metadata": {
    "ExecuteTime": {
     "end_time": "2025-01-25T12:22:10.419279Z",
     "start_time": "2025-01-25T12:22:10.416937Z"
    }
   },
   "cell_type": "code",
   "source": "x = torch.tensor([1.0, 2.0, 3.0], requires_grad=True)",
   "id": "95d60ff0085b578a",
   "outputs": [],
   "execution_count": 144
  },
  {
   "metadata": {
    "ExecuteTime": {
     "end_time": "2025-01-25T12:22:28.914862Z",
     "start_time": "2025-01-25T12:22:28.911435Z"
    }
   },
   "cell_type": "code",
   "source": [
    "y = 2 * x**2 + 3 * x\n",
    "y.sum().backward() # 스칼라 값을 만들기 위해 합을 구한 후 backward() 호출"
   ],
   "id": "cf1fe6b36702a2d6",
   "outputs": [],
   "execution_count": 145
  },
  {
   "metadata": {
    "ExecuteTime": {
     "end_time": "2025-01-25T12:22:29.237540Z",
     "start_time": "2025-01-25T12:22:29.234746Z"
    }
   },
   "cell_type": "code",
   "source": "x.grad # 각 x값에 대해서 미분값을 출력",
   "id": "a870ec6fe20cf7ec",
   "outputs": [
    {
     "data": {
      "text/plain": [
       "tensor([ 7., 11., 15.])"
      ]
     },
     "execution_count": 146,
     "metadata": {},
     "output_type": "execute_result"
    }
   ],
   "execution_count": 146
  },
  {
   "metadata": {},
   "cell_type": "markdown",
   "source": [
    "#### 2.2 자동 미분 추적 금지\n",
    "\n",
    "학습이 시작된 이후에는 추적이 필요하지만, 학습이 완료되고 테스트를 할 때에는 gradient 값을 업데이트 할 필요가 없다. 이럴 때에는 `torch.no_grad`를 사용한다."
   ],
   "id": "526b8b8a8cdfebd9"
  },
  {
   "metadata": {
    "ExecuteTime": {
     "end_time": "2025-01-25T12:23:08.457362Z",
     "start_time": "2025-01-25T12:23:08.453001Z"
    }
   },
   "cell_type": "code",
   "source": [
    "x = torch.tensor(5.0, requires_grad=True)\n",
    "\n",
    "with torch.no_grad(): # 실제로는 테스트 데이터에 대해서 no_grad()를 사용한다.\n",
    "    y = x ** 2 + 3 * x\n",
    "    print(\"Value of y (no_grad):\", y)"
   ],
   "id": "cc8f50bb11740bde",
   "outputs": [
    {
     "name": "stdout",
     "output_type": "stream",
     "text": [
      "Value of y (no_grad): tensor(40.)\n"
     ]
    }
   ],
   "execution_count": 147
  },
  {
   "metadata": {
    "ExecuteTime": {
     "end_time": "2025-01-25T12:23:15.428198Z",
     "start_time": "2025-01-25T12:23:15.426277Z"
    }
   },
   "cell_type": "code",
   "source": "x.grad # None",
   "id": "43e89f4fafe2474d",
   "outputs": [],
   "execution_count": 148
  },
  {
   "metadata": {},
   "cell_type": "markdown",
   "source": "또는 `detach()`를 사용하여 그래디언트 추적 방지를 할 수도 있다. 이를 이용하면 특정 텐서에서만 그래디언트 계산에서 제외할 수 있다. `detach()`는 그래디언트 추적을 비활성화하여, 동일한 데이터를 새로운 텐서로 반환한다.",
   "id": "6774cd63de9bd052"
  },
  {
   "metadata": {
    "ExecuteTime": {
     "end_time": "2025-01-25T12:23:44.417954Z",
     "start_time": "2025-01-25T12:23:44.415467Z"
    }
   },
   "cell_type": "code",
   "source": [
    "x = torch.tensor(5.0, requires_grad=True)\n",
    "y = x ** 2"
   ],
   "id": "519a14c250402ae3",
   "outputs": [],
   "execution_count": 149
  },
  {
   "metadata": {
    "ExecuteTime": {
     "end_time": "2025-01-25T12:23:44.911965Z",
     "start_time": "2025-01-25T12:23:44.909781Z"
    }
   },
   "cell_type": "code",
   "source": "z = y.detach() # x와 연결이 끊어짐",
   "id": "c429f87835011aca",
   "outputs": [],
   "execution_count": 150
  },
  {
   "metadata": {
    "ExecuteTime": {
     "end_time": "2025-01-25T12:23:45.417931Z",
     "start_time": "2025-01-25T12:23:45.415348Z"
    }
   },
   "cell_type": "code",
   "source": "z.requires_grad",
   "id": "61c4a7a3ceb39b9",
   "outputs": [
    {
     "data": {
      "text/plain": [
       "False"
      ]
     },
     "execution_count": 151,
     "metadata": {},
     "output_type": "execute_result"
    }
   ],
   "execution_count": 151
  },
  {
   "metadata": {},
   "cell_type": "markdown",
   "source": [
    "#### 2.3 Gradient 초기화\n",
    "\n",
    "torch는 gradient를 누적 방식으로 계산하므로, 반복 학습 시마다 그래디언트를 초기화해야 한다. 이를 수행하지 않으면 값이 누적되어 학습 결과가 중복될 수 있다."
   ],
   "id": "4524b051b571cfdf"
  },
  {
   "metadata": {
    "ExecuteTime": {
     "end_time": "2025-01-25T12:24:06.981298Z",
     "start_time": "2025-01-25T12:24:06.979395Z"
    }
   },
   "cell_type": "code",
   "source": "x = torch.tensor(2.0, requires_grad=True)",
   "id": "cf440cbadfcbf990",
   "outputs": [],
   "execution_count": 152
  },
  {
   "metadata": {
    "ExecuteTime": {
     "end_time": "2025-01-25T12:24:07.785021Z",
     "start_time": "2025-01-25T12:24:07.781738Z"
    }
   },
   "cell_type": "code",
   "source": [
    "y1 = x ** 2\n",
    "y1.backward()\n",
    "print(\"First Gradient:\", x.grad)  # dy/dx = 2x = 4"
   ],
   "id": "ab66932a49e14557",
   "outputs": [
    {
     "name": "stdout",
     "output_type": "stream",
     "text": [
      "First Gradient: tensor(4.)\n"
     ]
    }
   ],
   "execution_count": 153
  },
  {
   "metadata": {
    "ExecuteTime": {
     "end_time": "2025-01-25T12:24:36.814457Z",
     "start_time": "2025-01-25T12:24:36.811146Z"
    }
   },
   "cell_type": "code",
   "source": [
    "y1 = x ** 2\n",
    "y1.backward()\n",
    "print(\"Second Gradient:\", x.grad) # 여러 번 backward() 호출 시 그래디언트가 누적됨"
   ],
   "id": "28b5ef551c5f3b8b",
   "outputs": [
    {
     "name": "stdout",
     "output_type": "stream",
     "text": [
      "Second Gradient: tensor(16.)\n"
     ]
    }
   ],
   "execution_count": 156
  },
  {
   "metadata": {
    "ExecuteTime": {
     "end_time": "2025-01-25T12:24:43.919787Z",
     "start_time": "2025-01-25T12:24:43.916519Z"
    }
   },
   "cell_type": "code",
   "source": [
    "x.grad.zero_() # zero_ 수행 후 새로운 연산 실행\n",
    "y2 = x ** 2\n",
    "y2.backward()\n",
    "print(\"Second Gradient:\", x.grad)  # dy/dx = 3x^2 = 12"
   ],
   "id": "ff882a26bfb3deb3",
   "outputs": [
    {
     "name": "stdout",
     "output_type": "stream",
     "text": [
      "Second Gradient: tensor(4.)\n"
     ]
    }
   ],
   "execution_count": 157
  },
  {
   "metadata": {},
   "cell_type": "markdown",
   "source": [
    "#### 2.4 Chain Rules\n",
    "\n",
    "- Chain Rule은 일종의 합성함수 연산이라고 볼 수 있다.\n",
    "- torch에서는 자동으로 Chain Rule을 적용하여 다단계 연산의 그래디언트를 계산할 수 있다."
   ],
   "id": "7bd8278aac08c81a"
  },
  {
   "metadata": {
    "ExecuteTime": {
     "end_time": "2025-01-25T12:25:14.864213Z",
     "start_time": "2025-01-25T12:25:14.861612Z"
    }
   },
   "cell_type": "code",
   "source": [
    "x = torch.tensor(1.0, requires_grad=True)\n",
    "y = x ** 2\n",
    "z = 3 * y + 2\n",
    "\n",
    "z.backward()  # dz/dx = 3 * dy/dx = 3 * 2x = 6"
   ],
   "id": "9d4560373a07c2b3",
   "outputs": [],
   "execution_count": 158
  },
  {
   "metadata": {
    "ExecuteTime": {
     "end_time": "2025-01-25T12:25:16.641866Z",
     "start_time": "2025-01-25T12:25:16.638713Z"
    }
   },
   "cell_type": "code",
   "source": "x.grad",
   "id": "1bdc2b1588e676e1",
   "outputs": [
    {
     "data": {
      "text/plain": [
       "tensor(6.)"
      ]
     },
     "execution_count": 159,
     "metadata": {},
     "output_type": "execute_result"
    }
   ],
   "execution_count": 159
  },
  {
   "metadata": {},
   "cell_type": "markdown",
   "source": [
    "#### 2.5 Jacobian Matrix\n",
    "\n",
    "- `torch.autograd.grad()`를 이용해 복수의 입력과 출력에 대한 미분(자코비안 행렬)을 계산할 수 있다."
   ],
   "id": "7d907cc6e6cad17"
  },
  {
   "metadata": {
    "ExecuteTime": {
     "end_time": "2025-01-25T12:25:25.414351Z",
     "start_time": "2025-01-25T12:25:25.411874Z"
    }
   },
   "cell_type": "code",
   "source": [
    "x = torch.tensor([1.0, 2.0], requires_grad=True)\n",
    "y = x * x  # [x^2, y^2]"
   ],
   "id": "9153968a3b1ff3a5",
   "outputs": [],
   "execution_count": 160
  },
  {
   "metadata": {
    "ExecuteTime": {
     "end_time": "2025-01-25T12:25:25.936102Z",
     "start_time": "2025-01-25T12:25:25.933437Z"
    }
   },
   "cell_type": "code",
   "source": "gradients = torch.autograd.grad(outputs=y, inputs=x, grad_outputs=torch.tensor([1.0, 1.0]))",
   "id": "5c0b68f667db5170",
   "outputs": [],
   "execution_count": 161
  },
  {
   "metadata": {},
   "cell_type": "markdown",
   "source": "출력은 tuple 형태이므로 값을 사용하기 위해서는 첫 번째 값(0번째 인덱스)을 사용해야 한다.",
   "id": "34b9eae7d38aaa6c"
  },
  {
   "metadata": {
    "ExecuteTime": {
     "end_time": "2025-01-25T12:25:38.234680Z",
     "start_time": "2025-01-25T12:25:38.231890Z"
    }
   },
   "cell_type": "code",
   "source": "gradients",
   "id": "42ead340493b9e49",
   "outputs": [
    {
     "data": {
      "text/plain": [
       "(tensor([2., 4.]),)"
      ]
     },
     "execution_count": 162,
     "metadata": {},
     "output_type": "execute_result"
    }
   ],
   "execution_count": 162
  },
  {
   "metadata": {},
   "cell_type": "markdown",
   "source": "### 3. Optimization & Loss",
   "id": "d74a2c4e9b2c7344"
  },
  {
   "metadata": {
    "ExecuteTime": {
     "end_time": "2025-01-25T12:26:14.726370Z",
     "start_time": "2025-01-25T12:26:14.723844Z"
    }
   },
   "cell_type": "code",
   "source": [
    "x = torch.tensor([1.0, 2.0, 3.0], requires_grad=True)\n",
    "y_true = torch.tensor([2.0, 4.0, 6.0]) \n",
    "w = torch.tensor(1.0, requires_grad=True) # weight initialization"
   ],
   "id": "cee471d8dc2c5135",
   "outputs": [],
   "execution_count": 163
  },
  {
   "metadata": {
    "ExecuteTime": {
     "end_time": "2025-01-25T12:26:37.569141Z",
     "start_time": "2025-01-25T12:26:37.561168Z"
    }
   },
   "cell_type": "code",
   "source": [
    "def loss_fn(y_pred, y_true):\n",
    "    return ((y_pred - y_true) ** 2).mean()\n",
    "\n",
    "for epoch in range(100):\n",
    "    y_pred = w * x\n",
    "    loss = loss_fn(y_pred, y_true)\n",
    "\n",
    "    loss.backward()  # 그래디언트 계산\n",
    "    with torch.no_grad():\n",
    "        w -= 0.01 * w.grad  # 가중치 업데이트\n",
    "        w.grad.zero_()  # 그래디언트 초기화"
   ],
   "id": "19c07ff64b6fd2b2",
   "outputs": [],
   "execution_count": 165
  },
  {
   "metadata": {
    "ExecuteTime": {
     "end_time": "2025-01-25T12:26:37.958114Z",
     "start_time": "2025-01-25T12:26:37.955828Z"
    }
   },
   "cell_type": "code",
   "source": "w.item() # optimized weight",
   "id": "eacd37194eb45a5b",
   "outputs": [
    {
     "data": {
      "text/plain": [
       "1.9999994039535522"
      ]
     },
     "execution_count": 166,
     "metadata": {},
     "output_type": "execute_result"
    }
   ],
   "execution_count": 166
  },
  {
   "metadata": {},
   "cell_type": "markdown",
   "source": "#### Example. Portfolio Optimization",
   "id": "58835800820d2e33"
  },
  {
   "metadata": {
    "ExecuteTime": {
     "end_time": "2025-01-25T12:27:17.687267Z",
     "start_time": "2025-01-25T12:27:16.240419Z"
    }
   },
   "cell_type": "code",
   "source": [
    "import yfinance as yf\n",
    "\n",
    "data = yf.download(\n",
    "    ['AAPL','XOM','WMT'],\n",
    "    start = '2020-01-01',\n",
    "    progress = False\n",
    ")['Close']"
   ],
   "id": "c94d4ebb7f890571",
   "outputs": [],
   "execution_count": 167
  },
  {
   "metadata": {
    "ExecuteTime": {
     "end_time": "2025-01-25T12:27:19.679151Z",
     "start_time": "2025-01-25T12:27:19.675972Z"
    }
   },
   "cell_type": "code",
   "source": "ret = data.pct_change()",
   "id": "55cc253b41afc954",
   "outputs": [],
   "execution_count": 168
  },
  {
   "metadata": {
    "ExecuteTime": {
     "end_time": "2025-01-25T12:27:29.002051Z",
     "start_time": "2025-01-25T12:27:28.999185Z"
    }
   },
   "cell_type": "code",
   "source": [
    "expected_returns = torch.tensor(\n",
    "    ret.mean().values * 252,\n",
    "    dtype = torch.float32\n",
    ")"
   ],
   "id": "a633f7d5a0b8e15",
   "outputs": [],
   "execution_count": 169
  },
  {
   "metadata": {
    "ExecuteTime": {
     "end_time": "2025-01-25T12:27:39.679189Z",
     "start_time": "2025-01-25T12:27:39.676815Z"
    }
   },
   "cell_type": "code",
   "source": [
    "cov_matrix = torch.tensor(\n",
    "    ret.cov().values * 252,\n",
    "    dtype = torch.float32\n",
    ")"
   ],
   "id": "9f3c570198c4af8a",
   "outputs": [],
   "execution_count": 170
  },
  {
   "metadata": {
    "ExecuteTime": {
     "end_time": "2025-01-25T12:27:41.205069Z",
     "start_time": "2025-01-25T12:27:41.201747Z"
    }
   },
   "cell_type": "code",
   "source": "expected_returns",
   "id": "1ee2ed2c24f14b76",
   "outputs": [
    {
     "data": {
      "text/plain": [
       "tensor([0.2655, 0.1980, 0.1436])"
      ]
     },
     "execution_count": 171,
     "metadata": {},
     "output_type": "execute_result"
    }
   ],
   "execution_count": 171
  },
  {
   "metadata": {
    "ExecuteTime": {
     "end_time": "2025-01-25T12:27:42.560896Z",
     "start_time": "2025-01-25T12:27:42.557604Z"
    }
   },
   "cell_type": "code",
   "source": "cov_matrix",
   "id": "2062dc7bc7b0450c",
   "outputs": [
    {
     "data": {
      "text/plain": [
       "tensor([[0.1002, 0.0256, 0.0304],\n",
       "        [0.0256, 0.0507, 0.0134],\n",
       "        [0.0304, 0.0134, 0.1180]])"
      ]
     },
     "execution_count": 172,
     "metadata": {},
     "output_type": "execute_result"
    }
   ],
   "execution_count": 172
  },
  {
   "metadata": {
    "ExecuteTime": {
     "end_time": "2025-01-25T12:27:47.397586Z",
     "start_time": "2025-01-25T12:27:47.395344Z"
    }
   },
   "cell_type": "code",
   "source": [
    "import torch.optim as optim\n",
    "\n",
    "weights = torch.tensor([0.33, 0.33, 0.34], requires_grad=True)"
   ],
   "id": "a5d6e1c93b3284f6",
   "outputs": [],
   "execution_count": 173
  },
  {
   "metadata": {
    "ExecuteTime": {
     "end_time": "2025-01-25T12:27:56.351517Z",
     "start_time": "2025-01-25T12:27:56.348435Z"
    }
   },
   "cell_type": "code",
   "source": [
    "def portfolio_risk(weights, cov_matrix):\n",
    "    weights_2d = weights.unsqueeze(0)  # (n,) -> (1, n)\n",
    "    risk = torch.matmul(weights_2d, torch.matmul(cov_matrix, weights.unsqueeze(1)))  # (1, n) * (n, n) * (n, 1)\n",
    "    return risk.squeeze()  # 스칼라 값 반환\n",
    "\n",
    "def portfolio_return(weights, expected_returns):\n",
    "    return torch.dot(weights, expected_returns)"
   ],
   "id": "427345c6d31f2990",
   "outputs": [],
   "execution_count": 174
  },
  {
   "metadata": {
    "ExecuteTime": {
     "end_time": "2025-01-25T12:28:17.005051Z",
     "start_time": "2025-01-25T12:28:16.961424Z"
    }
   },
   "cell_type": "code",
   "source": [
    "optimizer = optim.SGD([weights], lr=0.01) # optimization target : 분산 최소화\n",
    "\n",
    "for epoch in range(500):\n",
    "    optimizer.zero_grad()  # 그래디언트 초기화. 이전에 학습한 정보를 지움으로써 학습 데이터가 겹치는 것을 방지.\n",
    "    loss = portfolio_risk(weights, cov_matrix)  # 손실 함수 (리스크 최소화), 오차 최소화를 목표로 함\n",
    "    loss.backward()  # 그래디언트 계산\n",
    "    optimizer.step()  # 가중치 업데이트\n",
    "\n",
    "    # 제약 조건 적용 (가중치 합 1, 음수 불가)\n",
    "    with torch.no_grad():\n",
    "        weights[:] = torch.clamp(weights, min=0)  # 음수를 방지하기 위함\n",
    "        weights /= weights.sum()  # 합이 1이 되도록 조정\n",
    "\n",
    "    if epoch % 50 == 0:\n",
    "        print(f\"Epoch {epoch}, Risk: {loss.item()}, Weights: {weights.tolist()}\")"
   ],
   "id": "e3aa6ecfd5842ff9",
   "outputs": [
    {
     "name": "stdout",
     "output_type": "stream",
     "text": [
      "Epoch 0, Risk: 0.04548601806163788, Weights: [0.3298613131046295, 0.33030465245246887, 0.33983397483825684]\n",
      "Epoch 50, Risk: 0.04475940018892288, Weights: [0.3225419819355011, 0.34618452191352844, 0.33127352595329285]\n",
      "Epoch 100, Risk: 0.04402049630880356, Weights: [0.314426451921463, 0.36337941884994507, 0.3221941292285919]\n",
      "Epoch 150, Risk: 0.04327748343348503, Weights: [0.3054577112197876, 0.3819565773010254, 0.3125856816768646]\n",
      "Epoch 200, Risk: 0.04254036396741867, Weights: [0.29557958245277405, 0.4019787311553955, 0.30244165658950806]\n",
      "Epoch 250, Risk: 0.04182100668549538, Weights: [0.28473812341690063, 0.423501193523407, 0.29176074266433716]\n",
      "Epoch 300, Risk: 0.04113326221704483, Weights: [0.27288269996643066, 0.44657066464424133, 0.280546635389328]\n",
      "Epoch 350, Risk: 0.040492936968803406, Weights: [0.2599673867225647, 0.47122326493263245, 0.26880934834480286]\n",
      "Epoch 400, Risk: 0.039917752146720886, Weights: [0.24595271050930023, 0.4974818229675293, 0.25656551122665405]\n",
      "Epoch 450, Risk: 0.039427176117897034, Weights: [0.23080717027187347, 0.5253533720970154, 0.24383944272994995]\n"
     ]
    }
   ],
   "execution_count": 175
  },
  {
   "metadata": {
    "ExecuteTime": {
     "end_time": "2025-01-25T12:28:45.349052Z",
     "start_time": "2025-01-25T12:28:45.346344Z"
    }
   },
   "cell_type": "code",
   "source": "weights.tolist() # portfolio weights",
   "id": "6c0a7f83a683f5f0",
   "outputs": [
    {
     "data": {
      "text/plain": [
       "[0.21484653651714325, 0.5542225241661072, 0.23093098402023315]"
      ]
     },
     "execution_count": 176,
     "metadata": {},
     "output_type": "execute_result"
    }
   ],
   "execution_count": 176
  },
  {
   "metadata": {
    "ExecuteTime": {
     "end_time": "2025-01-25T12:28:47.352496Z",
     "start_time": "2025-01-25T12:28:47.349423Z"
    }
   },
   "cell_type": "code",
   "source": "portfolio_return(weights, expected_returns).item() # expected return",
   "id": "8bdf06728e41de49",
   "outputs": [
    {
     "data": {
      "text/plain": [
       "0.1999465823173523"
      ]
     },
     "execution_count": 177,
     "metadata": {},
     "output_type": "execute_result"
    }
   ],
   "execution_count": 177
  },
  {
   "metadata": {
    "ExecuteTime": {
     "end_time": "2025-01-25T12:28:50.259693Z",
     "start_time": "2025-01-25T12:28:50.256960Z"
    }
   },
   "cell_type": "code",
   "source": "portfolio_risk(weights, cov_matrix).item() # risk",
   "id": "431b3de01bec419c",
   "outputs": [
    {
     "data": {
      "text/plain": [
       "0.03904213756322861"
      ]
     },
     "execution_count": 178,
     "metadata": {},
     "output_type": "execute_result"
    }
   ],
   "execution_count": 178
  }
 ],
 "metadata": {
  "kernelspec": {
   "display_name": "Python 3",
   "language": "python",
   "name": "python3"
  },
  "language_info": {
   "codemirror_mode": {
    "name": "ipython",
    "version": 2
   },
   "file_extension": ".py",
   "mimetype": "text/x-python",
   "name": "python",
   "nbconvert_exporter": "python",
   "pygments_lexer": "ipython2",
   "version": "2.7.6"
  }
 },
 "nbformat": 4,
 "nbformat_minor": 5
}
