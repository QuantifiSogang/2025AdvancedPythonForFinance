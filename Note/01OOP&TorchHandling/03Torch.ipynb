{
 "cells": [
  {
   "metadata": {},
   "cell_type": "markdown",
   "source": [
    "## Torch\n",
    "\n"
   ],
   "id": "bd787db6cd7e166b"
  },
  {
   "metadata": {},
   "cell_type": "markdown",
   "source": [
    "### 1. Torch Basic\n",
    "\n",
    "- `torch.Tensor`는 다차원 배열을 처리하는 PyTorch의 기본 데이터 구조로, Numpy 배열과 유사하지만 GPU 가속 및 자동 미분 기능을 제공한다.\n",
    "- Tensor는 다차원 행렬을 의미하는 것으로, 이름부터 고차원의 행렬을 연산하기 위해 탄생하였다고 봐도 무방하다."
   ],
   "id": "e964baee8f6e5cb6"
  },
  {
   "cell_type": "code",
   "id": "initial_id",
   "metadata": {
    "collapsed": true,
    "ExecuteTime": {
     "end_time": "2025-01-22T16:12:56.933515Z",
     "start_time": "2025-01-22T16:12:55.913434Z"
    }
   },
   "source": [
    "import torch\n",
    "import numpy as np\n",
    "\n",
    "np_array = np.array([[1, 2], [3, 4]])\n",
    "print(\"Numpy Array:\\n\", np_array)"
   ],
   "outputs": [
    {
     "name": "stdout",
     "output_type": "stream",
     "text": [
      "Numpy Array:\n",
      " [[1 2]\n",
      " [3 4]]\n"
     ]
    }
   ],
   "execution_count": 1
  },
  {
   "metadata": {},
   "cell_type": "markdown",
   "source": "`numpy` 형태의 데이터는 다음과 같이 `type()`로 확인하면 `np.ndarray`가 나온다.",
   "id": "75757aa70ae7f85f"
  },
  {
   "metadata": {
    "ExecuteTime": {
     "end_time": "2025-01-22T16:13:04.904442Z",
     "start_time": "2025-01-22T16:13:04.901234Z"
    }
   },
   "cell_type": "code",
   "source": "type(np_array)",
   "id": "8ccb9868f8223f61",
   "outputs": [
    {
     "data": {
      "text/plain": [
       "numpy.ndarray"
      ]
     },
     "execution_count": 2,
     "metadata": {},
     "output_type": "execute_result"
    }
   ],
   "execution_count": 2
  },
  {
   "metadata": {},
   "cell_type": "markdown",
   "source": "마찬가지로, Torch는 torch.Tensor형태의 타입이 나온다.",
   "id": "cead1bc552ec0732"
  },
  {
   "metadata": {},
   "cell_type": "code",
   "outputs": [
    {
     "name": "stdout",
     "output_type": "stream",
     "text": [
      "Torch Tensor:\n",
      " tensor([[1, 2],\n",
      "        [3, 4]])\n"
     ]
    }
   ],
   "execution_count": 3,
   "source": [
    "torch_tensor = torch.tensor([[1, 2], [3, 4]])\n",
    "print(\"Torch Tensor:\\n\", torch_tensor)"
   ],
   "id": "98ea8294727e63ed"
  },
  {
   "metadata": {
    "ExecuteTime": {
     "end_time": "2025-01-22T16:14:32.040524Z",
     "start_time": "2025-01-22T16:14:32.037393Z"
    }
   },
   "cell_type": "code",
   "source": "type(torch_tensor)",
   "id": "fb2b3130d612aef2",
   "outputs": [
    {
     "data": {
      "text/plain": [
       "torch.Tensor"
      ]
     },
     "execution_count": 4,
     "metadata": {},
     "output_type": "execute_result"
    }
   ],
   "execution_count": 4
  },
  {
   "metadata": {},
   "cell_type": "markdown",
   "source": "shapes는 numpy와 사용이 굉장히 유사하다. 출력 형태는 `torch.Size()`로 나온다.",
   "id": "e2a1dffd0934707d"
  },
  {
   "metadata": {
    "ExecuteTime": {
     "end_time": "2025-01-22T16:15:03.325587Z",
     "start_time": "2025-01-22T16:15:03.323235Z"
    }
   },
   "cell_type": "code",
   "source": "np_array.shape # shapes",
   "id": "f38122dad8315805",
   "outputs": [
    {
     "data": {
      "text/plain": [
       "(2, 2)"
      ]
     },
     "execution_count": 6,
     "metadata": {},
     "output_type": "execute_result"
    }
   ],
   "execution_count": 6
  },
  {
   "metadata": {
    "ExecuteTime": {
     "end_time": "2025-01-22T16:15:09.166706Z",
     "start_time": "2025-01-22T16:15:09.162073Z"
    }
   },
   "cell_type": "code",
   "source": "torch_tensor.shape",
   "id": "157fd09913aae67b",
   "outputs": [
    {
     "data": {
      "text/plain": [
       "torch.Size([2, 2])"
      ]
     },
     "execution_count": 7,
     "metadata": {},
     "output_type": "execute_result"
    }
   ],
   "execution_count": 7
  },
  {
   "metadata": {},
   "cell_type": "markdown",
   "source": "일반적으로 행렬은 다음과 같이 생성한다. numpy의 기능과 굉장히 유사함으로 사용에 큰 지장은 없다. 기본 데이터 타입은 `float64`로 출력된다.",
   "id": "96bffb8166576b46"
  },
  {
   "metadata": {
    "ExecuteTime": {
     "end_time": "2025-01-22T16:17:28.413803Z",
     "start_time": "2025-01-22T16:17:28.394276Z"
    }
   },
   "cell_type": "code",
   "source": [
    "# 0행렬의 경우\n",
    "zeros_tensor = torch.zeros(3, 3)\n",
    "print(\"Zeros Tensor:\\n\", zeros_tensor)"
   ],
   "id": "36a6aba9d099ea54",
   "outputs": [
    {
     "name": "stdout",
     "output_type": "stream",
     "text": [
      "Zeros Tensor:\n",
      " tensor([[0., 0., 0.],\n",
      "        [0., 0., 0.],\n",
      "        [0., 0., 0.]])\n"
     ]
    }
   ],
   "execution_count": 8
  },
  {
   "metadata": {
    "ExecuteTime": {
     "end_time": "2025-01-22T16:17:55.746685Z",
     "start_time": "2025-01-22T16:17:55.739584Z"
    }
   },
   "cell_type": "code",
   "source": [
    "# 2 * 2 형태의 1로 이뤄진 행렬\n",
    "ones_tensor = torch.ones(2, 2)\n",
    "print(\"Ones Tensor:\\n\", ones_tensor)"
   ],
   "id": "81989603c0103b79",
   "outputs": [
    {
     "name": "stdout",
     "output_type": "stream",
     "text": [
      "Ones Tensor:\n",
      " tensor([[1., 1.],\n",
      "        [1., 1.]])\n"
     ]
    }
   ],
   "execution_count": 9
  },
  {
   "metadata": {
    "ExecuteTime": {
     "end_time": "2025-01-22T16:18:29.309557Z",
     "start_time": "2025-01-22T16:18:29.303592Z"
    }
   },
   "cell_type": "code",
   "source": [
    "# 4x4 크기의 랜덤한 값을 가진 텐서, 랜덤변수는 정규분포에서 출력되었다고 가정한다.\n",
    "random_tensor = torch.randn(4, 4)\n",
    "print(\"Random Tensor:\\n\", random_tensor)"
   ],
   "id": "92ef65621fc17604",
   "outputs": [
    {
     "name": "stdout",
     "output_type": "stream",
     "text": [
      "Random Tensor:\n",
      " tensor([[-0.0135,  1.1189,  2.0217, -0.4648],\n",
      "        [ 0.1937,  0.1076,  0.3114, -0.0349],\n",
      "        [ 0.5974,  1.0005, -1.5733, -1.3362],\n",
      "        [-2.6824,  0.2632,  0.3583, -1.2316]])\n"
     ]
    }
   ],
   "execution_count": 10
  },
  {
   "metadata": {},
   "cell_type": "markdown",
   "source": "연산 결과는 `.numpy()` method를 통해 numpy형태로 변환 가능하다.",
   "id": "e99b0e76119b5569"
  },
  {
   "metadata": {
    "ExecuteTime": {
     "end_time": "2025-01-22T16:19:15.906989Z",
     "start_time": "2025-01-22T16:19:15.904018Z"
    }
   },
   "cell_type": "code",
   "source": "random_tensor_numpy = random_tensor.numpy()",
   "id": "decd1e94cf18d950",
   "outputs": [],
   "execution_count": 12
  },
  {
   "metadata": {
    "ExecuteTime": {
     "end_time": "2025-01-22T16:19:24.773239Z",
     "start_time": "2025-01-22T16:19:24.770738Z"
    }
   },
   "cell_type": "code",
   "source": "random_tensor_numpy",
   "id": "e7a182db7f03c8ab",
   "outputs": [
    {
     "data": {
      "text/plain": [
       "array([[-0.01353094,  1.1189137 ,  2.0217364 , -0.46475884],\n",
       "       [ 0.19374293,  0.10761082,  0.31135914, -0.03485359],\n",
       "       [ 0.59743375,  1.0004882 , -1.5733309 , -1.336151  ],\n",
       "       [-2.6823883 ,  0.26324663,  0.35826156, -1.231588  ]],\n",
       "      dtype=float32)"
      ]
     },
     "execution_count": 13,
     "metadata": {},
     "output_type": "execute_result"
    }
   ],
   "execution_count": 13
  },
  {
   "metadata": {
    "ExecuteTime": {
     "end_time": "2025-01-22T16:19:33.195338Z",
     "start_time": "2025-01-22T16:19:33.193450Z"
    }
   },
   "cell_type": "code",
   "source": "print(type(random_tensor_numpy)) # numpy.ndarray",
   "id": "eacd07921309c52a",
   "outputs": [
    {
     "name": "stdout",
     "output_type": "stream",
     "text": [
      "<class 'numpy.ndarray'>\n"
     ]
    }
   ],
   "execution_count": 14
  },
  {
   "metadata": {},
   "cell_type": "markdown",
   "source": "3차원 이상의 경우 tensor는 다음과 같이 표현된다. numpy와 마찬가치로 2차원 행렬이 줄바꿈을 기준으로 표현되는 형식이다.",
   "id": "b8b55d462374c887"
  },
  {
   "metadata": {
    "ExecuteTime": {
     "end_time": "2025-01-22T16:21:55.339585Z",
     "start_time": "2025-01-22T16:21:55.335376Z"
    }
   },
   "cell_type": "code",
   "source": [
    "random_tensor_3d = torch.randn(4, 4, 4)\n",
    "print('Random Tensor 3D:\\n', random_tensor_3d)"
   ],
   "id": "d6ed77d4070e43da",
   "outputs": [
    {
     "name": "stdout",
     "output_type": "stream",
     "text": [
      "Random Tensor 3D:\n",
      " tensor([[[-0.7273,  0.8799, -0.0111,  1.0386],\n",
      "         [-0.4135,  0.6298,  1.2391,  0.1925],\n",
      "         [-0.1554,  0.6540, -0.4026,  0.7997],\n",
      "         [ 0.3881,  1.9292,  0.2814,  0.1568]],\n",
      "\n",
      "        [[ 0.3025,  0.6283, -0.0764,  0.7614],\n",
      "         [ 2.8023, -2.3307,  0.2489,  1.4035],\n",
      "         [-0.5219, -1.5813, -0.0158, -0.1367],\n",
      "         [ 0.0753,  0.2099, -0.8172,  1.3111]],\n",
      "\n",
      "        [[ 0.2428,  1.2669, -0.8196,  0.0914],\n",
      "         [ 0.3412,  0.7044,  0.4741,  0.4356],\n",
      "         [ 0.0057,  1.0130, -0.6669, -0.6976],\n",
      "         [ 0.2792, -0.2834,  0.9725, -1.1699]],\n",
      "\n",
      "        [[ 2.6120,  1.3889,  0.2076,  0.8258],\n",
      "         [ 0.5222,  0.2531, -0.1076, -1.2481],\n",
      "         [ 0.1770,  0.2651,  0.7595, -0.1242],\n",
      "         [ 0.1054,  0.1850,  0.4743,  0.5439]]])\n"
     ]
    }
   ],
   "execution_count": 15
  },
  {
   "metadata": {},
   "cell_type": "markdown",
   "source": [
    "#### 1.1 기본 텐서 연산\n",
    "\n",
    "- `numpy`와 마찬가지로 다차원 행렬의 연산을 수행할 수 있다."
   ],
   "id": "7b12486d2d4fd2bb"
  },
  {
   "metadata": {
    "ExecuteTime": {
     "end_time": "2025-01-22T16:22:36.555555Z",
     "start_time": "2025-01-22T16:22:36.553235Z"
    }
   },
   "cell_type": "code",
   "source": [
    "a = torch.tensor([[1, 2], [3, 4]])\n",
    "b = torch.tensor([[5, 6], [7, 8]])"
   ],
   "id": "ee54cbfeb1d822cd",
   "outputs": [],
   "execution_count": 16
  },
  {
   "metadata": {
    "ExecuteTime": {
     "end_time": "2025-01-22T16:23:01.689664Z",
     "start_time": "2025-01-22T16:23:01.686835Z"
    }
   },
   "cell_type": "code",
   "source": "a",
   "id": "6b46745db8e88679",
   "outputs": [
    {
     "data": {
      "text/plain": [
       "tensor([[1, 2],\n",
       "        [3, 4]])"
      ]
     },
     "execution_count": 19,
     "metadata": {},
     "output_type": "execute_result"
    }
   ],
   "execution_count": 19
  },
  {
   "metadata": {
    "ExecuteTime": {
     "end_time": "2025-01-22T16:23:03.750766Z",
     "start_time": "2025-01-22T16:23:03.747636Z"
    }
   },
   "cell_type": "code",
   "source": "b",
   "id": "9c9e71061618e9a0",
   "outputs": [
    {
     "data": {
      "text/plain": [
       "tensor([[5, 6],\n",
       "        [7, 8]])"
      ]
     },
     "execution_count": 20,
     "metadata": {},
     "output_type": "execute_result"
    }
   ],
   "execution_count": 20
  },
  {
   "metadata": {
    "ExecuteTime": {
     "end_time": "2025-01-22T16:22:44.101914Z",
     "start_time": "2025-01-22T16:22:44.098603Z"
    }
   },
   "cell_type": "code",
   "source": [
    "# 덧셈 (add)\n",
    "print(\"Addition:\\n\", torch.add(a, b))"
   ],
   "id": "7e505a96f69c402f",
   "outputs": [
    {
     "name": "stdout",
     "output_type": "stream",
     "text": [
      "Addition:\n",
      " tensor([[ 6,  8],\n",
      "        [10, 12]])\n"
     ]
    }
   ],
   "execution_count": 17
  },
  {
   "metadata": {},
   "cell_type": "markdown",
   "source": "element별로 곱셈을 수행하기 위해서는 `mul()`함수를 사용한다.",
   "id": "cd004fee8d777ce1"
  },
  {
   "metadata": {
    "ExecuteTime": {
     "end_time": "2025-01-22T16:22:51.393214Z",
     "start_time": "2025-01-22T16:22:51.390590Z"
    }
   },
   "cell_type": "code",
   "source": [
    "# 곱셈 (요소별, mul)\n",
    "print(\"Element-wise Multiplication:\\n\", torch.mul(a, b))"
   ],
   "id": "86137b554288860",
   "outputs": [
    {
     "name": "stdout",
     "output_type": "stream",
     "text": [
      "Element-wise Multiplication:\n",
      " tensor([[ 5, 12],\n",
      "        [21, 32]])\n"
     ]
    }
   ],
   "execution_count": 18
  },
  {
   "metadata": {},
   "cell_type": "markdown",
   "source": "행렬곱 연산 수행을 위해서는 `matmul()` 함수를 사용한다.",
   "id": "919d27174f28aa63"
  },
  {
   "metadata": {
    "ExecuteTime": {
     "end_time": "2025-01-22T16:23:56.968427Z",
     "start_time": "2025-01-22T16:23:56.962586Z"
    }
   },
   "cell_type": "code",
   "source": [
    "# 행렬 곱 (matmul)\n",
    "print(\"Matrix Multiplication:\\n\", torch.matmul(a, b))"
   ],
   "id": "6537a40484e3d4af",
   "outputs": [
    {
     "name": "stdout",
     "output_type": "stream",
     "text": [
      "Matrix Multiplication:\n",
      " tensor([[19, 22],\n",
      "        [43, 50]])\n"
     ]
    }
   ],
   "execution_count": 21
  },
  {
   "metadata": {},
   "cell_type": "markdown",
   "source": "요소의 개수와 행렬 전체의 크기만 맞춘다면, numpy와 마찬가지로 shape를 변경할 수 있다 (reshape)",
   "id": "7b761bd2b994a134"
  },
  {
   "metadata": {
    "ExecuteTime": {
     "end_time": "2025-01-22T16:24:47.216797Z",
     "start_time": "2025-01-22T16:24:47.213359Z"
    }
   },
   "cell_type": "code",
   "source": [
    "# 텐서의 크기 변경 (reshape)\n",
    "reshaped_tensor = a.reshape(4, 1)\n",
    "print(\"Reshaped Tensor:\\n\", reshaped_tensor)"
   ],
   "id": "c03ed6ef3efdae6a",
   "outputs": [
    {
     "name": "stdout",
     "output_type": "stream",
     "text": [
      "Reshaped Tensor:\n",
      " tensor([[1],\n",
      "        [2],\n",
      "        [3],\n",
      "        [4]])\n"
     ]
    }
   ],
   "execution_count": 22
  },
  {
   "metadata": {},
   "cell_type": "markdown",
   "source": "`view()` method를 사용하면 메모리의 추가적인 할당 없이, 기존 데이터를 공유하여 reshape을 한다. 메모리를 절약할 수 있다는 점에서 장점이 있지만, 동시에 데이터가 공유되기 때문에 인스턴스화된 하나의 변수에서 값을 변경할 경우 나머지 하나에도 동일하게 값이 변경되므로 주의해야 한다.",
   "id": "265a8d3b44a3931c"
  },
  {
   "metadata": {
    "ExecuteTime": {
     "end_time": "2025-01-22T16:24:58.598942Z",
     "start_time": "2025-01-22T16:24:58.596077Z"
    }
   },
   "cell_type": "code",
   "source": [
    "# view를 통한 형태 변경 (기존 데이터 공유)\n",
    "viewed_tensor = a.view(1, 4)\n",
    "print(\"Viewed Tensor:\\n\", viewed_tensor)"
   ],
   "id": "28715adfa611b1cb",
   "outputs": [
    {
     "name": "stdout",
     "output_type": "stream",
     "text": [
      "Viewed Tensor:\n",
      " tensor([[1, 2, 3, 4]])\n"
     ]
    }
   ],
   "execution_count": 23
  },
  {
   "metadata": {
    "ExecuteTime": {
     "end_time": "2025-01-22T16:28:46.507955Z",
     "start_time": "2025-01-22T16:28:46.504155Z"
    }
   },
   "cell_type": "code",
   "source": "a",
   "id": "42e92f532f754737",
   "outputs": [
    {
     "data": {
      "text/plain": [
       "tensor([[1, 2],\n",
       "        [3, 4]])"
      ]
     },
     "execution_count": 24,
     "metadata": {},
     "output_type": "execute_result"
    }
   ],
   "execution_count": 24
  },
  {
   "metadata": {
    "ExecuteTime": {
     "end_time": "2025-01-22T16:29:01.923242Z",
     "start_time": "2025-01-22T16:29:01.921089Z"
    }
   },
   "cell_type": "code",
   "source": "viewed_tensor[0][0] = 10 # 새롭게 인스턴스와된 변수의 값을 변경",
   "id": "2ac8bc16094880d2",
   "outputs": [],
   "execution_count": 26
  },
  {
   "metadata": {
    "ExecuteTime": {
     "end_time": "2025-01-22T16:29:05.801039Z",
     "start_time": "2025-01-22T16:29:05.797537Z"
    }
   },
   "cell_type": "code",
   "source": "viewed_tensor",
   "id": "b79234e799b230a9",
   "outputs": [
    {
     "data": {
      "text/plain": [
       "tensor([[10,  2,  3,  4]])"
      ]
     },
     "execution_count": 27,
     "metadata": {},
     "output_type": "execute_result"
    }
   ],
   "execution_count": 27
  },
  {
   "metadata": {
    "ExecuteTime": {
     "end_time": "2025-01-22T16:29:08.146093Z",
     "start_time": "2025-01-22T16:29:08.143554Z"
    }
   },
   "cell_type": "code",
   "source": "a",
   "id": "d9302c186a4f583a",
   "outputs": [
    {
     "data": {
      "text/plain": [
       "tensor([[10,  2],\n",
       "        [ 3,  4]])"
      ]
     },
     "execution_count": 28,
     "metadata": {},
     "output_type": "execute_result"
    }
   ],
   "execution_count": 28
  },
  {
   "metadata": {},
   "cell_type": "markdown",
   "source": "`squeeze()` method를 사용해 차원을 축소할 수 있다. 차원이 1인 축(axes)을 제거하여 텐서의 차원을 축소하는 기능을 수행한다.",
   "id": "de17e8e23ea58e2d"
  },
  {
   "metadata": {
    "ExecuteTime": {
     "end_time": "2025-01-22T16:33:15.950412Z",
     "start_time": "2025-01-22T16:33:15.948479Z"
    }
   },
   "cell_type": "code",
   "source": [
    "expanded_tensor = torch.tensor([[[1, 2, 3]]])  # (1, 1, 3) -> (3, )\n",
    "squeezed_tensor = expanded_tensor.squeeze()"
   ],
   "id": "a5a05c6f244dc4d3",
   "outputs": [],
   "execution_count": 30
  },
  {
   "metadata": {
    "ExecuteTime": {
     "end_time": "2025-01-22T16:33:25.289012Z",
     "start_time": "2025-01-22T16:33:25.286010Z"
    }
   },
   "cell_type": "code",
   "source": "expanded_tensor # (1, 1, 3)",
   "id": "c7d2f8e01fe51ab7",
   "outputs": [
    {
     "data": {
      "text/plain": [
       "tensor([[[1, 2, 3]]])"
      ]
     },
     "execution_count": 32,
     "metadata": {},
     "output_type": "execute_result"
    }
   ],
   "execution_count": 32
  },
  {
   "metadata": {
    "ExecuteTime": {
     "end_time": "2025-01-22T16:33:20.478622Z",
     "start_time": "2025-01-22T16:33:20.475533Z"
    }
   },
   "cell_type": "code",
   "source": "squeezed_tensor # (3, )",
   "id": "3433535b1b021c29",
   "outputs": [
    {
     "data": {
      "text/plain": [
       "tensor([1, 2, 3])"
      ]
     },
     "execution_count": 31,
     "metadata": {},
     "output_type": "execute_result"
    }
   ],
   "execution_count": 31
  },
  {
   "metadata": {},
   "cell_type": "markdown",
   "source": "squeeze는 데이터 복사가 없으며, 원본 텐서의 메모리를 공유기 때문에 `view()`와 마찬가지로 인스턴스화된 어느 한 변수에서 값을 변경할 경우, 다른 변수들 또한 동일하게 값이 변하므로 유의해야 한다.",
   "id": "b7ce169a35360093"
  },
  {
   "metadata": {
    "ExecuteTime": {
     "end_time": "2025-01-22T16:35:38.634192Z",
     "start_time": "2025-01-22T16:35:38.632461Z"
    }
   },
   "cell_type": "code",
   "source": "squeezed_tensor[0] = 10 # 새로운 값 변경",
   "id": "5f2c67cc517beda2",
   "outputs": [],
   "execution_count": 34
  },
  {
   "metadata": {
    "ExecuteTime": {
     "end_time": "2025-01-22T16:35:42.865941Z",
     "start_time": "2025-01-22T16:35:42.862714Z"
    }
   },
   "cell_type": "code",
   "source": "squeezed_tensor",
   "id": "75b2e7606ee79c9f",
   "outputs": [
    {
     "data": {
      "text/plain": [
       "tensor([10,  2,  3])"
      ]
     },
     "execution_count": 35,
     "metadata": {},
     "output_type": "execute_result"
    }
   ],
   "execution_count": 35
  },
  {
   "metadata": {
    "ExecuteTime": {
     "end_time": "2025-01-22T16:35:45.268976Z",
     "start_time": "2025-01-22T16:35:45.266248Z"
    }
   },
   "cell_type": "code",
   "source": "expanded_tensor",
   "id": "900e91c166d20ff8",
   "outputs": [
    {
     "data": {
      "text/plain": [
       "tensor([[[10,  2,  3]]])"
      ]
     },
     "execution_count": 36,
     "metadata": {},
     "output_type": "execute_result"
    }
   ],
   "execution_count": 36
  },
  {
   "metadata": {},
   "cell_type": "markdown",
   "source": [
    "#### 1.2 GPU 연산 사용\n",
    "\n",
    "- Torch는 GPU를 활용해 연산을 가속할 수 있다. Nvidia 계열 GPU를 사용하는 경우 `.cuda()` 또는 `.to(device)`를 사용한다. \n",
    "- Silicon Mac을 사용하는 경우 gpu를 `mps:0`로 설정하면 GPU 가속을 사용할 수 있다."
   ],
   "id": "6bb72a5fec9e8064"
  },
  {
   "metadata": {
    "ExecuteTime": {
     "end_time": "2025-01-22T16:38:30.216110Z",
     "start_time": "2025-01-22T16:38:30.212977Z"
    }
   },
   "cell_type": "code",
   "source": [
    "# device = torch.device(\"cuda\" if torch.cuda.is_available() else \"cpu\")\n",
    "device = torch.device(\"mps:0\")\n",
    "print(\"Using device:\", device)"
   ],
   "id": "bb13da9923ac16e6",
   "outputs": [
    {
     "name": "stdout",
     "output_type": "stream",
     "text": [
      "Using device: mps:0\n"
     ]
    }
   ],
   "execution_count": 39
  },
  {
   "metadata": {
    "ExecuteTime": {
     "end_time": "2025-01-22T16:38:30.717340Z",
     "start_time": "2025-01-22T16:38:30.710359Z"
    }
   },
   "cell_type": "code",
   "source": [
    "cpu_tensor = torch.tensor([1.0, 2.0, 3.0])\n",
    "gpu_tensor = cpu_tensor.to(device) # 메모리 영역이 다르기 때문에 device를 전달해 주어야 함\n",
    "\n",
    "print(\"Tensor on device:\", gpu_tensor)"
   ],
   "id": "bd9ce9bd88fbf93e",
   "outputs": [
    {
     "name": "stdout",
     "output_type": "stream",
     "text": [
      "Tensor on device: tensor([1., 2., 3.], device='mps:0')\n"
     ]
    }
   ],
   "execution_count": 40
  },
  {
   "metadata": {},
   "cell_type": "markdown",
   "source": "### 2. Gradient",
   "id": "7e138a6181f42c84"
  },
  {
   "metadata": {},
   "cell_type": "code",
   "outputs": [],
   "execution_count": null,
   "source": "",
   "id": "e813f3f9b921c9f3"
  },
  {
   "metadata": {},
   "cell_type": "markdown",
   "source": "### 3. Optimization & Loss",
   "id": "d74a2c4e9b2c7344"
  },
  {
   "metadata": {},
   "cell_type": "code",
   "outputs": [],
   "execution_count": null,
   "source": "",
   "id": "f4b0757e8b24ec0"
  },
  {
   "metadata": {},
   "cell_type": "markdown",
   "source": "### 4. Linear Regression",
   "id": "d6bca6d20dc8299f"
  },
  {
   "metadata": {},
   "cell_type": "code",
   "outputs": [],
   "execution_count": null,
   "source": "",
   "id": "c9ace1917873293e"
  }
 ],
 "metadata": {
  "kernelspec": {
   "display_name": "Python 3",
   "language": "python",
   "name": "python3"
  },
  "language_info": {
   "codemirror_mode": {
    "name": "ipython",
    "version": 2
   },
   "file_extension": ".py",
   "mimetype": "text/x-python",
   "name": "python",
   "nbconvert_exporter": "python",
   "pygments_lexer": "ipython2",
   "version": "2.7.6"
  }
 },
 "nbformat": 4,
 "nbformat_minor": 5
}
