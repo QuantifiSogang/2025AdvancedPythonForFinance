{
 "cells": [
  {
   "metadata": {},
   "cell_type": "markdown",
   "source": [
    "## Torch\n",
    "\n"
   ],
   "id": "bd787db6cd7e166b"
  },
  {
   "metadata": {},
   "cell_type": "markdown",
   "source": "### 1. Torch Basic",
   "id": "e964baee8f6e5cb6"
  },
  {
   "cell_type": "code",
   "execution_count": null,
   "id": "initial_id",
   "metadata": {
    "collapsed": true
   },
   "outputs": [],
   "source": [
    ""
   ]
  },
  {
   "metadata": {},
   "cell_type": "markdown",
   "source": "### 2. Gradient",
   "id": "7e138a6181f42c84"
  },
  {
   "metadata": {},
   "cell_type": "code",
   "outputs": [],
   "execution_count": null,
   "source": "",
   "id": "e813f3f9b921c9f3"
  },
  {
   "metadata": {},
   "cell_type": "markdown",
   "source": "### 3. Optimization & Loss",
   "id": "d74a2c4e9b2c7344"
  },
  {
   "metadata": {},
   "cell_type": "code",
   "outputs": [],
   "execution_count": null,
   "source": "",
   "id": "f4b0757e8b24ec0"
  },
  {
   "metadata": {},
   "cell_type": "markdown",
   "source": "### 4. Linear Regression",
   "id": "d6bca6d20dc8299f"
  },
  {
   "metadata": {},
   "cell_type": "code",
   "outputs": [],
   "execution_count": null,
   "source": "",
   "id": "c9ace1917873293e"
  }
 ],
 "metadata": {
  "kernelspec": {
   "display_name": "Python 3",
   "language": "python",
   "name": "python3"
  },
  "language_info": {
   "codemirror_mode": {
    "name": "ipython",
    "version": 2
   },
   "file_extension": ".py",
   "mimetype": "text/x-python",
   "name": "python",
   "nbconvert_exporter": "python",
   "pygments_lexer": "ipython2",
   "version": "2.7.6"
  }
 },
 "nbformat": 4,
 "nbformat_minor": 5
}
