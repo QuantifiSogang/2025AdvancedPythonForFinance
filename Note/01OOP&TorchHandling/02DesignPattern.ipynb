{
 "cells": [
  {
   "metadata": {},
   "cell_type": "markdown",
   "source": "## Design Pattern\n",
   "id": "cb20b359c0379220"
  },
  {
   "metadata": {},
   "cell_type": "markdown",
   "source": [
    "### SOLID 원칙\n",
    "\n",
    "객체지향 설계 5대 원칙 (SRP, OCP, LSP, ISP, DIP)을 의미한다.\n"
   ],
   "id": "3eea86c66fee1fd9"
  },
  {
   "metadata": {},
   "cell_type": "markdown",
   "source": [
    "#### 1. Single Responsibility Principle\n",
    "\n",
    "단일 책임 원칙, 한 클래스는 단 하나의 책임만 가진다. 만약 여러 책임이 합쳐지면, 변경이나 유지보수가 어려워진다."
   ],
   "id": "a516faea319304cf"
  },
  {
   "cell_type": "code",
   "execution_count": null,
   "id": "initial_id",
   "metadata": {
    "collapsed": true
   },
   "outputs": [],
   "source": [
    "class DataManager:\n",
    "    def read_data(self, filename):\n",
    "        # 파일에서 데이터 읽기\n",
    "        pass\n",
    "\n",
    "    def process_data(self, data):\n",
    "        # 데이터 처리\n",
    "        pass\n",
    "\n",
    "    def save_report(self, data, out_file):\n",
    "        # 처리 결과를 보고서 형태로 저장\n",
    "        pass"
   ]
  },
  {
   "metadata": {},
   "cell_type": "markdown",
   "source": "위 클래스의 경우, 하나의 클래스 내에서 읽기와 프로세싱, 파일 저장까지 모두 이뤄지고 있다. 하나의 클래스에 여러개의 책임이 따르면, 직관성이 떨어지고 유지보수가 복잡해진다.",
   "id": "f6c5de12516a741c"
  },
  {
   "metadata": {},
   "cell_type": "code",
   "outputs": [],
   "execution_count": null,
   "source": [
    "class DataReader:\n",
    "    '''\n",
    "    데이터만 읽는 클래스\n",
    "    '''\n",
    "    def read_data(self, filename):\n",
    "        # 파일에서 데이터만 읽는다\n",
    "        pass\n",
    "\n",
    "class DataProcessor:\n",
    "    \"\"\"\n",
    "    데이터 처리만 하는 클래스\n",
    "    \"\"\"\n",
    "    def process_data(self, data):\n",
    "        # 데이터 처리만 한다\n",
    "        pass\n",
    "\n",
    "class ReportSaver:\n",
    "    \"\"\"\n",
    "    데이터 분석 결과를 저장하는 클래스\n",
    "    \"\"\"\n",
    "    def save_report(self, data, out_file):\n",
    "        # 결과를 저장만 한다\n",
    "        pass"
   ],
   "id": "2766bdbdca3bdfe7"
  },
  {
   "metadata": {},
   "cell_type": "markdown",
   "source": "위 예시처럼 단일 책임으로 분리한다. 각각의 변경(입출력, 처리, 저장) 요구사항이 클래스별로 독립된다.",
   "id": "14dd68ab4c27d468"
  },
  {
   "metadata": {},
   "cell_type": "markdown",
   "source": [
    "#### 2. OCP (Open/Closed Principle)\n",
    "\n",
    "개방-폐쇄 원칙, 확장에는 열려 있고, 변경에는 닫혀 있어야 한다. 기존 코드를 수정하지 않고, 새로운 기능이나 구현을 추가해도 확장이 가능하도록 설계한다."
   ],
   "id": "f73d6cb3fda77d5c"
  },
  {
   "metadata": {
    "ExecuteTime": {
     "end_time": "2025-01-24T10:33:30.636747Z",
     "start_time": "2025-01-24T10:33:30.632901Z"
    }
   },
   "cell_type": "code",
   "source": [
    "# 좋지 않은 예\n",
    "class Slippage :\n",
    "    def calculate_commission(self, trade_type, amount):\n",
    "        if trade_type == \"stock\":\n",
    "            return amount * 0.001\n",
    "        elif trade_type == \"option\":\n",
    "            return amount * 0.002"
   ],
   "id": "37e863a93543d9fb",
   "outputs": [],
   "execution_count": 1
  },
  {
   "metadata": {},
   "cell_type": "markdown",
   "source": "위 예시는 `trade_type`가 늘어날 때마다 `if/elif`를 수정해야 하므로 변경에 닫혀 있지 않다. 추상 클래스를 사용해 클래스를 인터페이스화 한다면 확장에 더욱 유연해진다.",
   "id": "ecc73b27bb8b6609"
  },
  {
   "metadata": {
    "ExecuteTime": {
     "end_time": "2025-01-24T13:54:04.112365Z",
     "start_time": "2025-01-24T13:54:04.105442Z"
    }
   },
   "cell_type": "code",
   "source": [
    "from abc import ABC, abstractmethod\n",
    "\n",
    "class CommissionStrategy(ABC): # 추상 클래스 \n",
    "    @abstractmethod\n",
    "    def calculate(self, amount): # abstract method를 이용해 상속받을 클래스가 필시 포함되어야 하는 method를 정의한다.\n",
    "        pass\n",
    "\n",
    "class StockCommission(CommissionStrategy):\n",
    "    '''\n",
    "    stock commission을 계산하는 단일 클래스\n",
    "    '''\n",
    "    def calculate(self, amount):\n",
    "        return amount * 0.0015\n",
    "\n",
    "class OptionCommission(CommissionStrategy):\n",
    "    '''\n",
    "    option commision을 계산하는 단일 클래스\n",
    "    '''\n",
    "    def calculate(self, amount):\n",
    "        return amount * 0.0025\n",
    "    \n",
    "class ShortSellingCommission(CommissionStrategy):\n",
    "    \"\"\"\n",
    "    주식 차입 수수료를 계산하는 단일 클래스\n",
    "    \"\"\"\n",
    "    def calculate(self, amount):\n",
    "        return amount * 0.03\n",
    "\n",
    "class CommissionCalculator:\n",
    "    def __init__(self, strategy: CommissionStrategy):\n",
    "        self.strategy = strategy # 클래스 자제를 인스턴스 변수화\n",
    "\n",
    "    def calculate_commission(self, amount):\n",
    "        return self.strategy.calculate(amount)"
   ],
   "id": "b3124dcbcd7f7c23",
   "outputs": [],
   "execution_count": 2
  },
  {
   "metadata": {
    "ExecuteTime": {
     "end_time": "2025-01-24T13:54:29.726756Z",
     "start_time": "2025-01-24T13:54:29.724589Z"
    }
   },
   "cell_type": "code",
   "source": [
    "calculator = CommissionCalculator(StockCommission()) # class 자체를 입력으로 넣는다.\n",
    "fee = calculator.calculate_commission(100000)"
   ],
   "id": "592a9583dc1bb0e0",
   "outputs": [],
   "execution_count": 4
  },
  {
   "metadata": {
    "ExecuteTime": {
     "end_time": "2025-01-24T13:54:34.809838Z",
     "start_time": "2025-01-24T13:54:34.806089Z"
    }
   },
   "cell_type": "code",
   "source": "fee",
   "id": "9b14892ae8444ce5",
   "outputs": [
    {
     "data": {
      "text/plain": [
       "150.0"
      ]
     },
     "execution_count": 5,
     "metadata": {},
     "output_type": "execute_result"
    }
   ],
   "execution_count": 5
  },
  {
   "metadata": {},
   "cell_type": "markdown",
   "source": "새로운 대상을 추가할 때에는 클래스만 추가하면 되며, 기존 클래스 코드는 수정하지 않고도 확장된다.",
   "id": "7cdb18d41732350a"
  },
  {
   "metadata": {},
   "cell_type": "markdown",
   "source": [
    "#### 3. LSP (Liskov Substitution Principle)\n",
    "\n",
    "리스코프 치환 원칙, 자식 클래스는 부모 클래스로 대체(치환)될 수 있어야 한다. 즉, 부모 클래스(인터페이스)가 기대하는 동작이나 규약을 자식 클래스도 위배하지 않아야 한다."
   ],
   "id": "f1b1dc76a48735a6"
  },
  {
   "metadata": {
    "ExecuteTime": {
     "end_time": "2025-01-24T13:55:41.469607Z",
     "start_time": "2025-01-24T13:55:41.467208Z"
    }
   },
   "cell_type": "code",
   "source": [
    "class Asset:\n",
    "    def get_price(self) -> int:\n",
    "        pass\n",
    "\n",
    "class Stock(Asset):\n",
    "    def get_price(self) -> int:\n",
    "        return 100  # 정상적인 숫자 반환\n",
    "\n",
    "class Bond(Asset):\n",
    "    def get_price(self) -> None:\n",
    "        return None  # 규약에 어긋나는 반환 (가격 불가)\n",
    "\n",
    "def print_asset_price(asset: Asset):\n",
    "    price = asset.get_price()\n",
    "    print(f\"Price is {price}\")"
   ],
   "id": "15c5df57751037ed",
   "outputs": [],
   "execution_count": 6
  },
  {
   "metadata": {
    "ExecuteTime": {
     "end_time": "2025-01-24T13:55:43.797246Z",
     "start_time": "2025-01-24T13:55:43.795389Z"
    }
   },
   "cell_type": "code",
   "source": [
    "bond = Bond()\n",
    "print_asset_price(bond)  # None 이 반환되어 로직상 에러가 날 수 있음"
   ],
   "id": "8b2f071310a07e52",
   "outputs": [
    {
     "name": "stdout",
     "output_type": "stream",
     "text": [
      "Price is None\n"
     ]
    }
   ],
   "execution_count": 7
  },
  {
   "metadata": {},
   "cell_type": "markdown",
   "source": "위 예시는 `Bond`가 부모(Asset)의 기대 동작(가격을 숫자로 반환)을 충족하지 않아, 부모 타입으로서 치환이 깨진다.",
   "id": "37b776d9ad17350e"
  },
  {
   "metadata": {
    "ExecuteTime": {
     "end_time": "2025-01-24T15:01:14.930775Z",
     "start_time": "2025-01-24T15:01:14.927963Z"
    }
   },
   "cell_type": "code",
   "source": [
    "class Asset:\n",
    "    def get_price(self) -> int:\n",
    "        pass\n",
    "\n",
    "class Stock(Asset):\n",
    "    def get_price(self) -> int:\n",
    "        return 100\n",
    "\n",
    "class Bond(Asset):\n",
    "    def get_price(self):\n",
    "        return 90  # 부모와 동일하게 숫자 반환\n",
    "\n",
    "def print_asset_price(asset: Asset):\n",
    "    price = asset.get_price()\n",
    "    print(f\"Price is {price}\")"
   ],
   "id": "bde1326fcd92066d",
   "outputs": [],
   "execution_count": 9
  },
  {
   "metadata": {
    "ExecuteTime": {
     "end_time": "2025-01-24T15:07:29.417412Z",
     "start_time": "2025-01-24T15:07:29.414969Z"
    }
   },
   "cell_type": "code",
   "source": [
    "bond = Bond()\n",
    "print_asset_price(bond)  # 정상적으로 90 출력"
   ],
   "id": "4d08e733953e9d77",
   "outputs": [
    {
     "name": "stdout",
     "output_type": "stream",
     "text": [
      "Price is 90\n"
     ]
    }
   ],
   "execution_count": 10
  },
  {
   "metadata": {},
   "cell_type": "markdown",
   "source": [
    "#### 4. ISP (Interface Segregation Principle)\n",
    "\n",
    "인터페이스 분리 원칙, 덩치 큰 인터페이스 하나를 만들지 말고, 작고 구체적인 인터페이스 여러 개로 분리한다. 불필요한 메서드를 구현할 의무가 생기지 않도록 설계한다."
   ],
   "id": "c28615eff8ef9d66"
  },
  {
   "metadata": {
    "ExecuteTime": {
     "end_time": "2025-01-24T15:07:47.997027Z",
     "start_time": "2025-01-24T15:07:47.992620Z"
    }
   },
   "cell_type": "code",
   "source": [
    "class TradingOperations:\n",
    "    def buy_stock(self):\n",
    "        pass\n",
    "    def sell_stock(self):\n",
    "        pass\n",
    "    def write_option(self):\n",
    "        pass\n",
    "    def exercise_option(self):\n",
    "        pass\n",
    "    # 모든 트레이딩 관련 메서드를 하나에 다 넣었다\n",
    "\n",
    "class StockTrader(TradingOperations):\n",
    "    def buy_stock(self):\n",
    "        pass\n",
    "    def sell_stock(self):\n",
    "        pass\n",
    "    def write_option(self):\n",
    "        pass  # 사용하지 않는 기능도 구현해야 함\n",
    "    def exercise_option(self):\n",
    "        pass  # 사용하지 않는 기능도 구현해야 함"
   ],
   "id": "26eb96a107c6a398",
   "outputs": [],
   "execution_count": 11
  },
  {
   "metadata": {},
   "cell_type": "markdown",
   "source": "위 경우, `StockTrader`는 옵션 관련 메서드를 전혀 쓸 일이 없지만, 인터페이스에 포함된 탓에 구현해야 한다.",
   "id": "f3e0afee28393121"
  },
  {
   "metadata": {
    "ExecuteTime": {
     "end_time": "2025-01-24T15:07:48.790332Z",
     "start_time": "2025-01-24T15:07:48.787608Z"
    }
   },
   "cell_type": "code",
   "source": [
    "from abc import ABC, abstractmethod\n",
    "\n",
    "class StockTrading(ABC):\n",
    "    @abstractmethod\n",
    "    def buy_stock(self):\n",
    "        pass\n",
    "    @abstractmethod\n",
    "    def sell_stock(self):\n",
    "        pass\n",
    "\n",
    "class OptionTrading(ABC):\n",
    "    @abstractmethod\n",
    "    def write_option(self):\n",
    "        pass\n",
    "    @abstractmethod\n",
    "    def exercise_option(self):\n",
    "        pass\n",
    "\n",
    "class StockTrader(StockTrading):\n",
    "    def buy_stock(self):\n",
    "        pass\n",
    "    def sell_stock(self):\n",
    "        pass\n",
    "\n",
    "class OptionTrader(OptionTrading):\n",
    "    def write_option(self):\n",
    "        pass\n",
    "    def exercise_option(self):\n",
    "        pass"
   ],
   "id": "c9883d8f81b0ea1",
   "outputs": [],
   "execution_count": 12
  },
  {
   "metadata": {},
   "cell_type": "markdown",
   "source": "위 코드처럼 필요한 인터페이스만 구현하도록 분리하면 필수 기능만을 공유하도록 설계할 수 있다.",
   "id": "7d93336aae8ccda7"
  },
  {
   "metadata": {},
   "cell_type": "markdown",
   "source": [
    "#### 5. DIP (Dependency Inversion Principle)\n",
    "\n",
    "의존성 역전 원칙, 상위(고수준) 모듈이 하위(저수준) 모듈 세부 구현에 의존하지 않도록 하고, 추상화(인터페이스)에 의존하게 만든다."
   ],
   "id": "9f4a67005673971e"
  },
  {
   "metadata": {
    "ExecuteTime": {
     "end_time": "2025-01-24T15:15:33.002225Z",
     "start_time": "2025-01-24T15:15:32.996678Z"
    }
   },
   "cell_type": "code",
   "source": [
    "class FileLogger:\n",
    "    def write_log(self, msg):\n",
    "        with open(\"log.txt\", \"a\") as f:\n",
    "            f.write(msg + \"\\n\")\n",
    "\n",
    "class TradingSystem:\n",
    "    def __init__(self):\n",
    "        self.logger = FileLogger()  # 구체 클래스 직접 의존\n",
    "\n",
    "    def trade(self, info):\n",
    "        # 트레이딩 로직\n",
    "        self.logger.write_log(\"Trade executed: \" + info)"
   ],
   "id": "283c371c58cd3d76",
   "outputs": [],
   "execution_count": 13
  },
  {
   "metadata": {},
   "cell_type": "markdown",
   "source": "위 경우 `TradingSystem`은 `FileLogger`라는 구현에 직접 의존한다. 만약 데이터베이스에 로그를 쓰도록 바꾸려면 `TradingSystem` 코드를 수정해야 한다.",
   "id": "dc3bf7ecba4c71d9"
  },
  {
   "metadata": {
    "ExecuteTime": {
     "end_time": "2025-01-24T15:15:43.082605Z",
     "start_time": "2025-01-24T15:15:43.078375Z"
    }
   },
   "cell_type": "code",
   "source": [
    "from abc import ABC, abstractmethod\n",
    "\n",
    "class Logger(ABC):\n",
    "    @abstractmethod\n",
    "    def write_log(self, msg):\n",
    "        pass\n",
    "\n",
    "class FileLogger(Logger):\n",
    "    def write_log(self, msg):\n",
    "        with open(\"log.txt\", \"a\") as f:\n",
    "            f.write(msg + \"\\n\")\n",
    "\n",
    "class DbLogger(Logger):\n",
    "    def write_log(self, msg):\n",
    "        # DB에 로그 저장\n",
    "        pass\n",
    "\n",
    "class TradingSystem:\n",
    "    def __init__(self, logger: Logger):\n",
    "        self.logger = logger  # 추상화(인터페이스)에 의존\n",
    "\n",
    "    def trade(self, info):\n",
    "        # 트레이딩 로직\n",
    "        self.logger.write_log(\"Trade executed: \" + info)"
   ],
   "id": "8946a672a5963d86",
   "outputs": [],
   "execution_count": 14
  },
  {
   "metadata": {
    "ExecuteTime": {
     "end_time": "2025-01-24T15:15:44.277317Z",
     "start_time": "2025-01-24T15:15:44.273002Z"
    }
   },
   "cell_type": "code",
   "source": [
    "ts = TradingSystem(FileLogger())\n",
    "ts.trade(\"AAPL BUY 100\")"
   ],
   "id": "d57d41ea2444db83",
   "outputs": [],
   "execution_count": 15
  },
  {
   "metadata": {},
   "cell_type": "markdown",
   "source": "위 예시에서는 `TradingSystem`이 Logger 인터페이스에 의존한다. 구체 로거를 교체해도 상위 모듈 코드를 수정할 필요가 없다.",
   "id": "71908f2c65b3d1fe"
  },
  {
   "metadata": {},
   "cell_type": "markdown",
   "source": [
    "### Design Pattern\n",
    "\n",
    "OOP에서 자주 사용되는 해결책 패턴을 의미한다. 자주 발생하는 설계 문제를 효율적으로 해결하고, 가독성과 유지보수 및 원활한 협업을 목표로 한다."
   ],
   "id": "b0c871036caaed94"
  },
  {
   "metadata": {},
   "cell_type": "markdown",
   "source": [
    "#### 1. Singleton\n",
    "\n",
    "- 애플리케이션에서 특정 클래스의 인스턴스가 단 하나만 존재하도록 보장한다.\n",
    "- 인스턴스가 여러 개 생기면 안 되거나, 전역적으로 공유되는 리소스(예: 설정값, 로거) 등에 주로 사용한다.\n",
    "- 어디서든 동일한 인스턴스에 접근 가능하다. (전역 접근)"
   ],
   "id": "12999f17af274695"
  },
  {
   "metadata": {
    "ExecuteTime": {
     "end_time": "2025-01-24T15:16:37.019199Z",
     "start_time": "2025-01-24T15:16:37.016742Z"
    }
   },
   "cell_type": "code",
   "source": [
    "class Singleton:\n",
    "    _instance = None  # 클래스 변수로 인스턴스 저장\n",
    "\n",
    "    def __new__(cls, *args, **kwargs):\n",
    "        if cls._instance is None:\n",
    "            cls._instance = super().__new__(cls)\n",
    "        return cls._instance"
   ],
   "id": "e0657b272110724c",
   "outputs": [],
   "execution_count": 16
  },
  {
   "metadata": {},
   "cell_type": "markdown",
   "source": [
    "**`__new__` method를 사용하는 경우**\n",
    "\n",
    "- `__new__` method를 오버라이드하여 객체 생성 전에 기존 인스턴스를 반환하도록 설정.\n",
    "- 최초 호출 시 객체를 생성하고, 이후 호출에서는 같은 객체를 반환."
   ],
   "id": "748c4559ef16ade5"
  },
  {
   "metadata": {
    "ExecuteTime": {
     "end_time": "2025-01-24T15:16:51.471626Z",
     "start_time": "2025-01-24T15:16:51.469719Z"
    }
   },
   "cell_type": "code",
   "source": [
    "singleton1 = Singleton()\n",
    "singleton2 = Singleton() # instance"
   ],
   "id": "7a286466ae0e95e8",
   "outputs": [],
   "execution_count": 17
  },
  {
   "metadata": {
    "ExecuteTime": {
     "end_time": "2025-01-24T15:17:06.368011Z",
     "start_time": "2025-01-24T15:17:06.365441Z"
    }
   },
   "cell_type": "code",
   "source": "singleton1 is singleton2 # 동일한 인스턴스로 인식함",
   "id": "247502afa31c89fd",
   "outputs": [
    {
     "data": {
      "text/plain": [
       "True"
      ]
     },
     "execution_count": 18,
     "metadata": {},
     "output_type": "execute_result"
    }
   ],
   "execution_count": 18
  },
  {
   "metadata": {},
   "cell_type": "markdown",
   "source": [
    "**Decorator로 구현하는 경우**\n",
    "\n",
    "- `@singleton` 데코레이터를 통해 Singleton 패턴을 적용.\n",
    "- 클래스 인스턴스를 생성할 때 기존 객체가 없으면 생성하고, 있으면 반환."
   ],
   "id": "1f75ae4939d02e23"
  },
  {
   "metadata": {
    "ExecuteTime": {
     "end_time": "2025-01-24T15:18:30.954389Z",
     "start_time": "2025-01-24T15:18:30.951662Z"
    }
   },
   "cell_type": "code",
   "source": [
    "def singleton(cls):\n",
    "    instances = {}  # 인스턴스를 저장할 딕셔너리\n",
    "\n",
    "    def get_instance(*args, **kwargs):\n",
    "        if cls not in instances:\n",
    "            instances[cls] = cls(*args, **kwargs)\n",
    "        return instances[cls]\n",
    "\n",
    "    return get_instance\n",
    "\n",
    "@singleton\n",
    "class PortfolioManager:\n",
    "    def __init__(self):\n",
    "        self.assets = []\n",
    "\n",
    "    def add_asset(self, asset):\n",
    "        self.assets.append(asset)"
   ],
   "id": "9fed2ef34d818ab8",
   "outputs": [],
   "execution_count": 19
  },
  {
   "metadata": {
    "ExecuteTime": {
     "end_time": "2025-01-24T15:18:40.183640Z",
     "start_time": "2025-01-24T15:18:40.182003Z"
    }
   },
   "cell_type": "code",
   "source": [
    "manager1 = PortfolioManager()\n",
    "manager2 = PortfolioManager()"
   ],
   "id": "31831f4144e6dbbe",
   "outputs": [],
   "execution_count": 20
  },
  {
   "metadata": {
    "ExecuteTime": {
     "end_time": "2025-01-24T15:18:58.618086Z",
     "start_time": "2025-01-24T15:18:58.616415Z"
    }
   },
   "cell_type": "code",
   "source": "manager1.add_asset(\"AAPL\") # manager 1에 AAPL 지정",
   "id": "775d6d43d3ccdc30",
   "outputs": [],
   "execution_count": 22
  },
  {
   "metadata": {
    "ExecuteTime": {
     "end_time": "2025-01-24T15:19:10.149605Z",
     "start_time": "2025-01-24T15:19:10.147278Z"
    }
   },
   "cell_type": "code",
   "source": "manager1.assets",
   "id": "c111e2f77fef3952",
   "outputs": [
    {
     "data": {
      "text/plain": [
       "['AAPL', 'AAPL']"
      ]
     },
     "execution_count": 24,
     "metadata": {},
     "output_type": "execute_result"
    }
   ],
   "execution_count": 24
  },
  {
   "metadata": {
    "ExecuteTime": {
     "end_time": "2025-01-24T15:19:17.395856Z",
     "start_time": "2025-01-24T15:19:17.393643Z"
    }
   },
   "cell_type": "code",
   "source": "manager2.assets # 동일한 assets를 공유",
   "id": "68e82e6f8ded07dd",
   "outputs": [
    {
     "data": {
      "text/plain": [
       "['AAPL', 'AAPL']"
      ]
     },
     "execution_count": 25,
     "metadata": {},
     "output_type": "execute_result"
    }
   ],
   "execution_count": 25
  },
  {
   "metadata": {},
   "cell_type": "markdown",
   "source": [
    "**Meta class를 사용하는 경우**\n",
    "\n",
    "- 메타클래스를 활용하여 Singleton을 적용.\n",
    "- `__call__`을 override하여 인스턴스를 단 하나만 생성."
   ],
   "id": "bce5624acf7b7191"
  },
  {
   "metadata": {
    "ExecuteTime": {
     "end_time": "2025-01-24T15:21:00.298029Z",
     "start_time": "2025-01-24T15:21:00.294924Z"
    }
   },
   "cell_type": "code",
   "source": [
    "class SingletonMeta(type):\n",
    "    _instances = {}\n",
    "\n",
    "    def __call__(cls, *args, **kwargs):\n",
    "        if cls not in cls._instances:\n",
    "            cls._instances[cls] = super().__call__(*args, **kwargs)\n",
    "        return cls._instances[cls]\n",
    "\n",
    "class TradingStrategy(metaclass=SingletonMeta):\n",
    "    def __init__(self, strategy_name):\n",
    "        self.strategy_name = strategy_name"
   ],
   "id": "1ddafa69020564e6",
   "outputs": [],
   "execution_count": 26
  },
  {
   "metadata": {
    "ExecuteTime": {
     "end_time": "2025-01-24T15:21:09.265434Z",
     "start_time": "2025-01-24T15:21:09.263641Z"
    }
   },
   "cell_type": "code",
   "source": [
    "strategy1 = TradingStrategy(\"Mean Reversion\")\n",
    "strategy2 = TradingStrategy(\"Momentum\") # 저장되지 않는다"
   ],
   "id": "4d98c6349d341411",
   "outputs": [],
   "execution_count": 27
  },
  {
   "metadata": {
    "ExecuteTime": {
     "end_time": "2025-01-24T15:21:19.395713Z",
     "start_time": "2025-01-24T15:21:19.393250Z"
    }
   },
   "cell_type": "code",
   "source": "strategy1.strategy_name",
   "id": "688e95ae9c0908a",
   "outputs": [
    {
     "data": {
      "text/plain": [
       "'Mean Reversion'"
      ]
     },
     "execution_count": 28,
     "metadata": {},
     "output_type": "execute_result"
    }
   ],
   "execution_count": 28
  },
  {
   "metadata": {
    "ExecuteTime": {
     "end_time": "2025-01-24T15:21:26.877537Z",
     "start_time": "2025-01-24T15:21:26.874332Z"
    }
   },
   "cell_type": "code",
   "source": "strategy2.strategy_name",
   "id": "a4a865ebeb577057",
   "outputs": [
    {
     "data": {
      "text/plain": [
       "'Mean Reversion'"
      ]
     },
     "execution_count": 29,
     "metadata": {},
     "output_type": "execute_result"
    }
   ],
   "execution_count": 29
  },
  {
   "metadata": {},
   "cell_type": "markdown",
   "source": [
    "#### 2. Factory Method\n",
    "\n",
    "- 객체 생성 로직을 서브클래스에 위임하는 방식이다.\n",
    "- 상위 클래스(또는 인터페이스)는 객체를 생성하는 **‘팩토리 메서드’** 를 갖고, 실제 구현은 자식 클래스가 결정한다.\n",
    "- 새로운 구체 클래스가 추가되어도 상위 클래스 코드를 수정하지 않고 확장할 수 있다."
   ],
   "id": "f5789a66e668555f"
  },
  {
   "metadata": {
    "ExecuteTime": {
     "end_time": "2025-01-24T15:23:33.036262Z",
     "start_time": "2025-01-24T15:23:33.034070Z"
    }
   },
   "cell_type": "code",
   "source": [
    "from abc import ABC, abstractmethod\n",
    "\n",
    "# 1. Product Interface (Abstract Class)\n",
    "class FinancialInstrument(ABC):\n",
    "    \"\"\"\n",
    "    금융 상품의 인터페이스를 먼저 정의한다\n",
    "    \"\"\"\n",
    "    @abstractmethod\n",
    "    def get_details(self):\n",
    "        pass"
   ],
   "id": "4030c8fbb92ee1a",
   "outputs": [],
   "execution_count": 30
  },
  {
   "metadata": {
    "ExecuteTime": {
     "end_time": "2025-01-24T15:23:40.606979Z",
     "start_time": "2025-01-24T15:23:40.604866Z"
    }
   },
   "cell_type": "code",
   "source": [
    "# 2. Concrete Products (Specific Financial Instruments)\n",
    "# 각각의 금융 상품을 따로 정의한다.\n",
    "class Stock(FinancialInstrument):\n",
    "    def get_details(self):\n",
    "        return \"This is a Stock.\"\n",
    "\n",
    "class Bond(FinancialInstrument):\n",
    "    def get_details(self):\n",
    "        return \"This is a Bond.\"\n",
    "\n",
    "class Option(FinancialInstrument):\n",
    "    def get_details(self):\n",
    "        return \"This is an Option.\""
   ],
   "id": "a48483164e720424",
   "outputs": [],
   "execution_count": 31
  },
  {
   "metadata": {
    "ExecuteTime": {
     "end_time": "2025-01-24T15:23:51.897188Z",
     "start_time": "2025-01-24T15:23:51.895504Z"
    }
   },
   "cell_type": "code",
   "source": [
    "# 3. Creator (Factory Method Interface)\n",
    "class FinancialInstrumentFactory(ABC):\n",
    "    \"\"\"\n",
    "    factory method 정의\n",
    "    \"\"\"\n",
    "    @abstractmethod\n",
    "    def create_instrument(self):\n",
    "        pass"
   ],
   "id": "5730d8b4b92c7ca9",
   "outputs": [],
   "execution_count": 32
  },
  {
   "metadata": {
    "ExecuteTime": {
     "end_time": "2025-01-24T15:23:58.972399Z",
     "start_time": "2025-01-24T15:23:58.970244Z"
    }
   },
   "cell_type": "code",
   "source": [
    "# 4. Concrete Creators (Specific Factories)\n",
    "# 각 금융 상품별 객체 생성\n",
    "class StockFactory(FinancialInstrumentFactory):\n",
    "    def create_instrument(self):\n",
    "        return Stock()\n",
    "\n",
    "class BondFactory(FinancialInstrumentFactory):\n",
    "    def create_instrument(self):\n",
    "        return Bond()\n",
    "\n",
    "class OptionFactory(FinancialInstrumentFactory):\n",
    "    def create_instrument(self):\n",
    "        return Option()"
   ],
   "id": "3195e9b76d7a6e91",
   "outputs": [],
   "execution_count": 33
  },
  {
   "metadata": {
    "ExecuteTime": {
     "end_time": "2025-01-24T15:24:07.048528Z",
     "start_time": "2025-01-24T15:24:07.046351Z"
    }
   },
   "cell_type": "code",
   "source": [
    "# 5. Client Code\n",
    "# 팩토리 메서드를 호출하여 금융 상품 생성\n",
    "def get_instrument(factory: FinancialInstrumentFactory):\n",
    "    instrument = factory.create_instrument()\n",
    "    print(instrument.get_details())"
   ],
   "id": "542d833feaec17ed",
   "outputs": [],
   "execution_count": 34
  },
  {
   "metadata": {
    "ExecuteTime": {
     "end_time": "2025-01-24T15:24:16.137270Z",
     "start_time": "2025-01-24T15:24:16.135111Z"
    }
   },
   "cell_type": "code",
   "source": "get_instrument(StockFactory())",
   "id": "d0ebabadd9843685",
   "outputs": [
    {
     "name": "stdout",
     "output_type": "stream",
     "text": [
      "This is a Stock.\n"
     ]
    }
   ],
   "execution_count": 35
  },
  {
   "metadata": {
    "ExecuteTime": {
     "end_time": "2025-01-24T15:24:26.407010Z",
     "start_time": "2025-01-24T15:24:26.404704Z"
    }
   },
   "cell_type": "code",
   "source": "get_instrument(BondFactory())",
   "id": "46ab6898e319a0f1",
   "outputs": [
    {
     "name": "stdout",
     "output_type": "stream",
     "text": [
      "This is a Bond.\n"
     ]
    }
   ],
   "execution_count": 36
  },
  {
   "metadata": {
    "ExecuteTime": {
     "end_time": "2025-01-24T15:24:31.433916Z",
     "start_time": "2025-01-24T15:24:31.432025Z"
    }
   },
   "cell_type": "code",
   "source": "get_instrument(OptionFactory())",
   "id": "47e4eb9c487709bc",
   "outputs": [
    {
     "name": "stdout",
     "output_type": "stream",
     "text": [
      "This is an Option.\n"
     ]
    }
   ],
   "execution_count": 37
  },
  {
   "metadata": {},
   "cell_type": "markdown",
   "source": [
    "- 객체 자체를 동적으로 생성할 수 있음\n",
    "- 거래 전략 등을 캡슐화할 수 있음\n",
    "- 데이터 소스를 팩토리로 분리해 관리할 수 있음\n"
   ],
   "id": "6c4d420a28accbcd"
  },
  {
   "metadata": {},
   "cell_type": "markdown",
   "source": [
    "#### 3. Strategy\n",
    "\n",
    "- 알고리즘(또는 행위)을 캡슐화하여 런타임에 교체 가능하도록 만든다. 예를 들어, 로직을 여러 가지 전략으로 구분하고, 상황에 따라 다른 전략 객체를 주입해 사용한다.\n",
    "- 트레이딩 전략, 포트폴리오 리밸런싱 전략, 옵션 가격 결정 전략 등을 유연하게 적용할 때 유용하다\n",
    "    - 즉, 전략 자체를 개별적인 클래스로 생성하고 이를 추상화하는 인터페이스와 context class로 나누어 관리한다."
   ],
   "id": "f48e182b42ae6a3a"
  },
  {
   "metadata": {
    "ExecuteTime": {
     "end_time": "2025-01-24T15:35:16.300270Z",
     "start_time": "2025-01-24T15:35:16.289333Z"
    }
   },
   "cell_type": "code",
   "source": [
    "from abc import ABC, abstractmethod\n",
    "\n",
    "# 1. Strategy Interface (Abstract Class)\n",
    "class TradingStrategy(ABC):\n",
    "    @abstractmethod\n",
    "    def execute(self, prices):\n",
    "        pass"
   ],
   "id": "59c7ea9dfbc89cff",
   "outputs": [],
   "execution_count": 38
  },
  {
   "metadata": {
    "ExecuteTime": {
     "end_time": "2025-01-24T15:35:25.882134Z",
     "start_time": "2025-01-24T15:35:25.879532Z"
    }
   },
   "cell_type": "code",
   "source": [
    "# 2. Concrete Strategies\n",
    "class MomentumStrategy(TradingStrategy):\n",
    "    def execute(self, prices):\n",
    "        if prices[-1] > prices[-5]:  # 최근 가격이 과거보다 상승했으면 매수\n",
    "            return \"Buy (Momentum Strategy)\"\n",
    "        return \"Sell (Momentum Strategy)\"\n",
    "\n",
    "class MeanReversionStrategy(TradingStrategy):\n",
    "    def execute(self, prices):\n",
    "        avg_price = sum(prices) / len(prices)\n",
    "        if prices[-1] < avg_price:  # 최근 가격이 평균보다 낮으면 매수\n",
    "            return \"Buy (Mean Reversion Strategy)\"\n",
    "        return \"Sell (Mean Reversion Strategy)\""
   ],
   "id": "bdc8f2ae9ef7a184",
   "outputs": [],
   "execution_count": 39
  },
  {
   "metadata": {
    "ExecuteTime": {
     "end_time": "2025-01-24T15:35:33.431236Z",
     "start_time": "2025-01-24T15:35:33.428434Z"
    }
   },
   "cell_type": "code",
   "source": [
    "# 3. Context Class (to select strategy)\n",
    "class TradingContext:\n",
    "    '''\n",
    "    현재 상태에서 어떤 전략을 선택하는지 context를 지정\n",
    "    '''\n",
    "    def __init__(self, strategy: TradingStrategy):\n",
    "        self.strategy = strategy\n",
    "\n",
    "    def set_strategy(self, strategy: TradingStrategy):\n",
    "        self.strategy = strategy\n",
    "\n",
    "    def execute_strategy(self, prices):\n",
    "        return self.strategy.execute(prices)"
   ],
   "id": "c7ae75b83fba0b47",
   "outputs": [],
   "execution_count": 40
  },
  {
   "metadata": {
    "ExecuteTime": {
     "end_time": "2025-01-24T15:36:15.244765Z",
     "start_time": "2025-01-24T15:36:11.370050Z"
    }
   },
   "cell_type": "code",
   "source": [
    "import yfinance as yf\n",
    "\n",
    "data = yf.download(\n",
    "    'AAPL',\n",
    "    start = '2020-01-01',\n",
    "    progress = False,\n",
    "    interval = '1d'\n",
    ")"
   ],
   "id": "c83e9f6feb52fac0",
   "outputs": [],
   "execution_count": 41
  },
  {
   "metadata": {
    "ExecuteTime": {
     "end_time": "2025-01-24T15:36:25.141644Z",
     "start_time": "2025-01-24T15:36:25.139604Z"
    }
   },
   "cell_type": "code",
   "source": "prices = data['Close']",
   "id": "43e01f5fe861ef43",
   "outputs": [],
   "execution_count": 42
  },
  {
   "metadata": {
    "ExecuteTime": {
     "end_time": "2025-01-24T15:37:21.390210Z",
     "start_time": "2025-01-24T15:37:21.387407Z"
    }
   },
   "cell_type": "code",
   "source": [
    "context = TradingContext(MomentumStrategy()) # user context 지정\n",
    "context.execute_strategy(prices.tolist())"
   ],
   "id": "79e26f8032df58f4",
   "outputs": [
    {
     "data": {
      "text/plain": [
       "'Sell (Momentum Strategy)'"
      ]
     },
     "execution_count": 45,
     "metadata": {},
     "output_type": "execute_result"
    }
   ],
   "execution_count": 45
  },
  {
   "metadata": {
    "ExecuteTime": {
     "end_time": "2025-01-24T15:37:36.288348Z",
     "start_time": "2025-01-24T15:37:36.285383Z"
    }
   },
   "cell_type": "code",
   "source": [
    "context.set_strategy(MeanReversionStrategy())\n",
    "context.execute_strategy(prices.tolist())"
   ],
   "id": "9a838e68b5139948",
   "outputs": [
    {
     "data": {
      "text/plain": [
       "'Sell (Mean Reversion Strategy)'"
      ]
     },
     "execution_count": 46,
     "metadata": {},
     "output_type": "execute_result"
    }
   ],
   "execution_count": 46
  },
  {
   "metadata": {},
   "cell_type": "markdown",
   "source": [
    "#### 4. Observer\n",
    "\n",
    "- **주체(Subject)** 와 이를 관찰하는 옵저버(Observer) 간 일 대 다 의존 관계를 설정한다.\n",
    "- 주체의 상태가 변하면, 연결된 옵저버들에게 자동으로 알림을 보낸다.\n",
    "- 이벤트 기반 시스템, GUI, 금융 시세 업데이트, 리스크 관리 시스템, 실시간 가격 모니터링 등에서 흔히 사용한다."
   ],
   "id": "ef96cd192a373296"
  },
  {
   "metadata": {
    "ExecuteTime": {
     "end_time": "2025-01-24T15:43:32.925391Z",
     "start_time": "2025-01-24T15:43:32.922926Z"
    }
   },
   "cell_type": "code",
   "source": [
    "# Subject (Publisher)\n",
    "class StockPricePublisher:\n",
    "    def __init__(self, ticker):\n",
    "        self._observers = []\n",
    "        self.ticker = ticker\n",
    "        self.last_price = None\n",
    "\n",
    "    def register_observer(self, observer):\n",
    "        self._observers.append(observer)\n",
    "\n",
    "    def remove_observer(self, observer):\n",
    "        self._observers.remove(observer)\n",
    "\n",
    "    def notify_observers(self):\n",
    "        for observer in self._observers:\n",
    "            observer.update(self.ticker, self.last_price)\n",
    "\n",
    "    def fetch_price(self):\n",
    "        stock = yf.Ticker(self.ticker)\n",
    "        data = stock.history(period=\"1min\")\n",
    "        latest_price = data['Close'].iloc[-1]  # Get the latest closing price\n",
    "        \n",
    "        if self.last_price != latest_price:\n",
    "            self.last_price = latest_price\n",
    "            self.notify_observers()"
   ],
   "id": "a306f94244035257",
   "outputs": [],
   "execution_count": 55
  },
  {
   "metadata": {
    "ExecuteTime": {
     "end_time": "2025-01-24T15:43:33.159132Z",
     "start_time": "2025-01-24T15:43:33.156988Z"
    }
   },
   "cell_type": "code",
   "source": [
    "# Observer Interface\n",
    "class Observer(ABC):\n",
    "    @abstractmethod\n",
    "    def update(self, ticker, price):\n",
    "        pass"
   ],
   "id": "bdac9eb89f205048",
   "outputs": [],
   "execution_count": 56
  },
  {
   "metadata": {
    "ExecuteTime": {
     "end_time": "2025-01-24T15:43:33.427590Z",
     "start_time": "2025-01-24T15:43:33.425431Z"
    }
   },
   "cell_type": "code",
   "source": [
    "class TradingSystem(Observer):\n",
    "    def update(self, ticker, price):\n",
    "        print(f\"Trading System - New price for {ticker}: ${price:.2f}\")"
   ],
   "id": "eb644a4102f0c7c2",
   "outputs": [],
   "execution_count": 57
  },
  {
   "metadata": {
    "ExecuteTime": {
     "end_time": "2025-01-24T15:43:33.760703Z",
     "start_time": "2025-01-24T15:43:33.758360Z"
    }
   },
   "cell_type": "code",
   "source": [
    "class PortfolioManager(Observer):\n",
    "    def update(self, ticker, price):\n",
    "        print(f\"Portfolio Manager - Adjusting portfolio for {ticker} at ${price:.2f}\")"
   ],
   "id": "25cbd22e38a24064",
   "outputs": [],
   "execution_count": 58
  },
  {
   "metadata": {
    "ExecuteTime": {
     "end_time": "2025-01-24T15:43:34.065645Z",
     "start_time": "2025-01-24T15:43:34.063270Z"
    }
   },
   "cell_type": "code",
   "source": [
    "class RiskManagement(Observer):\n",
    "    def update(self, ticker, price):\n",
    "        print(f\"Risk Management - Analyzing risk for {ticker} at ${price:.2f}\")"
   ],
   "id": "ea78c71d747dec02",
   "outputs": [],
   "execution_count": 59
  },
  {
   "metadata": {
    "ExecuteTime": {
     "end_time": "2025-01-24T15:43:34.384551Z",
     "start_time": "2025-01-24T15:43:34.382276Z"
    }
   },
   "cell_type": "code",
   "source": [
    "ticker_symbol = \"AAPL\"  # Apple stock as an example\n",
    "stock_publisher = StockPricePublisher(ticker_symbol)\n",
    "\n",
    "# Create observers\n",
    "trading_system = TradingSystem()\n",
    "portfolio_manager = PortfolioManager()\n",
    "risk_management = RiskManagement()"
   ],
   "id": "f8be370dce13d632",
   "outputs": [],
   "execution_count": 60
  },
  {
   "metadata": {
    "ExecuteTime": {
     "end_time": "2025-01-24T15:43:50.567533Z",
     "start_time": "2025-01-24T15:43:34.758934Z"
    }
   },
   "cell_type": "code",
   "source": [
    "import time\n",
    "# Register observers\n",
    "stock_publisher.register_observer(trading_system)\n",
    "stock_publisher.register_observer(portfolio_manager)\n",
    "stock_publisher.register_observer(risk_management)\n",
    "\n",
    "print(f\"Monitoring stock price for {ticker_symbol}...\")\n",
    "\n",
    "# Simulate real-time data updates, 가격이 변할 때마다 업데이트 한다.\n",
    "for _ in range(3):  # Simulate 3 price checks\n",
    "    stock_publisher.fetch_price()\n",
    "    time.sleep(5)  # Wait for 5 seconds before checking price again"
   ],
   "id": "166ab7e1177f65bb",
   "outputs": [
    {
     "name": "stdout",
     "output_type": "stream",
     "text": [
      "Monitoring stock price for AAPL...\n",
      "Trading System - New price for AAPL: $223.22\n",
      "Portfolio Manager - Adjusting portfolio for AAPL at $223.22\n",
      "Risk Management - Analyzing risk for AAPL at $223.22\n",
      "Trading System - New price for AAPL: $223.26\n",
      "Portfolio Manager - Adjusting portfolio for AAPL at $223.26\n",
      "Risk Management - Analyzing risk for AAPL at $223.26\n"
     ]
    }
   ],
   "execution_count": 61
  },
  {
   "metadata": {},
   "cell_type": "markdown",
   "source": [
    "#### 5. Decorator\n",
    "\n",
    "- 기존 객체에 새로운 기능을 동적으로 추가하는 방법이다.\n",
    "- 상속 대신 **랩핑(Wrapping)** 을 통해 객체에 책임을 덧붙일 수 있다.\n",
    "- 트랜잭션 로깅, 성능 모니터링, 리스크 관리 등의 기능을 추가할 때 유용하다."
   ],
   "id": "49b83a8de53c275c"
  },
  {
   "metadata": {},
   "cell_type": "markdown",
   "source": "#### Example 5-1. 함수 기반의 decorator pattern",
   "id": "b9ee7328278aa41d"
  },
  {
   "metadata": {
    "ExecuteTime": {
     "end_time": "2025-01-24T15:45:42.939620Z",
     "start_time": "2025-01-24T15:45:42.937509Z"
    }
   },
   "cell_type": "code",
   "source": [
    "def transaction_logger(func):\n",
    "    def wrapper(*args, **kwargs):\n",
    "        print(f\"Executing {func.__name__} with arguments {args}, {kwargs}\")\n",
    "        start_time = time.time()\n",
    "        result = func(*args, **kwargs)\n",
    "        end_time = time.time()\n",
    "        print(f\"Finished {func.__name__} in {end_time - start_time:.4f} seconds\")\n",
    "        return result\n",
    "    return wrapper"
   ],
   "id": "9ba1725752b90c15",
   "outputs": [],
   "execution_count": 62
  },
  {
   "metadata": {},
   "cell_type": "code",
   "outputs": [],
   "execution_count": null,
   "source": [
    "def calculation(principle, rate, years, verbose = True) :\n",
    "    if verbose : print(f\"Calculating {principle} for {years} years\")"
   ],
   "id": "d37024964a5bc363"
  },
  {
   "metadata": {
    "ExecuteTime": {
     "end_time": "2025-01-24T15:45:56.852570Z",
     "start_time": "2025-01-24T15:45:56.850406Z"
    }
   },
   "cell_type": "code",
   "source": [
    "@transaction_logger\n",
    "def calculate_compound_interest(principal, rate, years):\n",
    "    return principal * (1 + rate/100) ** years"
   ],
   "id": "3f79146693d695c2",
   "outputs": [],
   "execution_count": 63
  },
  {
   "metadata": {},
   "cell_type": "markdown",
   "source": "decorator의 wrapper가 function call을 할 때마다 실행된다.",
   "id": "25d5e22a99df5676"
  },
  {
   "metadata": {
    "ExecuteTime": {
     "end_time": "2025-01-24T15:45:57.674120Z",
     "start_time": "2025-01-24T15:45:57.672356Z"
    }
   },
   "cell_type": "code",
   "source": "print(calculate_compound_interest(1000, 5, 10))",
   "id": "91378686c70df1c4",
   "outputs": [
    {
     "name": "stdout",
     "output_type": "stream",
     "text": [
      "Executing calculate_compound_interest with arguments (1000, 5, 10), {}\n",
      "Finished calculate_compound_interest in 0.0000 seconds\n",
      "1628.894626777442\n"
     ]
    }
   ],
   "execution_count": 64
  },
  {
   "metadata": {},
   "cell_type": "markdown",
   "source": "#### Example 5-2. Class 기반의 decorator pattern",
   "id": "c2f37119f9c71f62"
  },
  {
   "metadata": {
    "ExecuteTime": {
     "end_time": "2025-01-24T15:49:34.820076Z",
     "start_time": "2025-01-24T15:49:34.817628Z"
    }
   },
   "cell_type": "code",
   "source": [
    "# Base financial operation class\n",
    "class Portfolio:\n",
    "    def get_return(self):\n",
    "        return \"Calculating portfolio return\"\n",
    "\n",
    "# Decorator class for adding risk management\n",
    "class RiskManagementDecorator:\n",
    "    def __init__(self, portfolio):\n",
    "        self.portfolio = portfolio\n",
    "\n",
    "    def get_return(self):\n",
    "        result = self.portfolio.get_return()\n",
    "        return f\"{result} | Risk assessment applied\""
   ],
   "id": "fac9a813efe4bff0",
   "outputs": [],
   "execution_count": 65
  },
  {
   "metadata": {
    "ExecuteTime": {
     "end_time": "2025-01-24T15:49:41.079957Z",
     "start_time": "2025-01-24T15:49:41.077890Z"
    }
   },
   "cell_type": "code",
   "source": [
    "portfolio = Portfolio()\n",
    "secure_portfolio = RiskManagementDecorator(portfolio)"
   ],
   "id": "d334751b321a5c54",
   "outputs": [],
   "execution_count": 66
  },
  {
   "metadata": {
    "ExecuteTime": {
     "end_time": "2025-01-24T15:49:50.346871Z",
     "start_time": "2025-01-24T15:49:50.344471Z"
    }
   },
   "cell_type": "code",
   "source": "print(secure_portfolio.get_return())",
   "id": "6a694e5320524375",
   "outputs": [
    {
     "name": "stdout",
     "output_type": "stream",
     "text": [
      "Calculating portfolio return | Risk assessment applied\n"
     ]
    }
   ],
   "execution_count": 68
  },
  {
   "metadata": {},
   "cell_type": "markdown",
   "source": "#### Example 5-3. 다중 데코레이터 적용 (로깅 + 실행 시간 측정)",
   "id": "c3fea2a13a40035f"
  },
  {
   "metadata": {
    "ExecuteTime": {
     "end_time": "2025-01-24T15:50:17.258600Z",
     "start_time": "2025-01-24T15:50:17.256034Z"
    }
   },
   "cell_type": "code",
   "source": [
    "def log_decorator(func):\n",
    "    def wrapper(*args, **kwargs):\n",
    "        print(f\"Calling function {func.__name__}\")\n",
    "        return func(*args, **kwargs)\n",
    "    return wrapper\n",
    "\n",
    "def time_decorator(func):\n",
    "    def wrapper(*args, **kwargs):\n",
    "        start = time.time()\n",
    "        result = func(*args, **kwargs)\n",
    "        end = time.time()\n",
    "        print(f\"{func.__name__} took {end - start:.4f} seconds\")\n",
    "        return result\n",
    "    return wrapper"
   ],
   "id": "8d5d032468085d66",
   "outputs": [],
   "execution_count": 69
  },
  {
   "metadata": {
    "ExecuteTime": {
     "end_time": "2025-01-24T15:50:23.828101Z",
     "start_time": "2025-01-24T15:50:22.820642Z"
    }
   },
   "cell_type": "code",
   "source": [
    "@log_decorator # 실시간 로그 출력\n",
    "@time_decorator # 실행 시간 측정\n",
    "def process_financial_data(amount):\n",
    "    time.sleep(1)\n",
    "    return f\"Processed {amount} USD\"\n",
    "\n",
    "print(process_financial_data(10000))"
   ],
   "id": "a146b883fd558f9",
   "outputs": [
    {
     "name": "stdout",
     "output_type": "stream",
     "text": [
      "Calling function wrapper\n",
      "process_financial_data took 1.0051 seconds\n",
      "Processed 10000 USD\n"
     ]
    }
   ],
   "execution_count": 70
  }
 ],
 "metadata": {
  "kernelspec": {
   "display_name": "Python 3",
   "language": "python",
   "name": "python3"
  },
  "language_info": {
   "codemirror_mode": {
    "name": "ipython",
    "version": 2
   },
   "file_extension": ".py",
   "mimetype": "text/x-python",
   "name": "python",
   "nbconvert_exporter": "python",
   "pygments_lexer": "ipython2",
   "version": "2.7.6"
  }
 },
 "nbformat": 4,
 "nbformat_minor": 5
}
