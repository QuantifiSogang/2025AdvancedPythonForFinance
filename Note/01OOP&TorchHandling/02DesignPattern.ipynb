{
 "cells": [
  {
   "metadata": {},
   "cell_type": "markdown",
   "source": "## Design Pattern\n",
   "id": "cb20b359c0379220"
  },
  {
   "metadata": {},
   "cell_type": "markdown",
   "source": [
    "### SOLID 원칙\n",
    "\n",
    "객체지향 설계 5대 원칙 (SRP, OCP, LSP, ISP, DIP)을 의미한다.\n"
   ],
   "id": "3eea86c66fee1fd9"
  },
  {
   "metadata": {},
   "cell_type": "markdown",
   "source": [
    "#### 1. Single Responsibility Principle\n",
    "\n",
    "단일 책임 원칙, 한 클래스는 단 하나의 책임만 가진다. 만약 여러 책임이 합쳐지면, 변경이나 유지보수가 어려워진다."
   ],
   "id": "a516faea319304cf"
  },
  {
   "cell_type": "code",
   "execution_count": null,
   "id": "initial_id",
   "metadata": {
    "collapsed": true
   },
   "outputs": [],
   "source": [
    ""
   ]
  },
  {
   "metadata": {},
   "cell_type": "markdown",
   "source": [
    "#### 2. OCP (Open/Closed Principle)\n",
    "\n",
    "개방-폐쇄 원칙, 확장에는 열려 있고, 변경에는 닫혀 있어야 한다. 기존 코드를 수정하지 않고, 새로운 기능이나 구현을 추가해도 확장이 가능하도록 설계한다."
   ],
   "id": "f73d6cb3fda77d5c"
  },
  {
   "metadata": {},
   "cell_type": "code",
   "outputs": [],
   "execution_count": null,
   "source": "",
   "id": "37e863a93543d9fb"
  },
  {
   "metadata": {},
   "cell_type": "markdown",
   "source": [
    "#### 3. LSP (Liskov Substitution Principle)\n",
    "\n",
    "리스코프 치환 원칙, 자식 클래스는 부모 클래스로 대체(치환)될 수 있어야 한다. 즉, 부모 클래스(인터페이스)가 기대하는 동작이나 규약을 자식 클래스도 위배하지 않아야 한다."
   ],
   "id": "f1b1dc76a48735a6"
  },
  {
   "metadata": {},
   "cell_type": "code",
   "outputs": [],
   "execution_count": null,
   "source": "",
   "id": "15c5df57751037ed"
  },
  {
   "metadata": {},
   "cell_type": "markdown",
   "source": [
    "#### 4. ISP (Interface Segregation Principle)\n",
    "\n",
    "인터페이스 분리 원칙, 덩치 큰 인터페이스 하나를 만들지 말고, 작고 구체적인 인터페이스 여러 개로 분리한다. 불필요한 메서드를 구현할 의무가 생기지 않도록 설계한다."
   ],
   "id": "c28615eff8ef9d66"
  },
  {
   "metadata": {},
   "cell_type": "code",
   "outputs": [],
   "execution_count": null,
   "source": "",
   "id": "26eb96a107c6a398"
  },
  {
   "metadata": {},
   "cell_type": "markdown",
   "source": [
    "#### 5. DIP (Dependency Inversion Principle)\n",
    "\n",
    "의존성 역전 원칙, 상위(고수준) 모듈이 하위(저수준) 모듈 세부 구현에 의존하지 않도록 하고, 추상화(인터페이스)에 의존하게 만든다."
   ],
   "id": "9f4a67005673971e"
  },
  {
   "metadata": {},
   "cell_type": "code",
   "outputs": [],
   "execution_count": null,
   "source": "",
   "id": "283c371c58cd3d76"
  },
  {
   "metadata": {},
   "cell_type": "markdown",
   "source": [
    "### Design Pattern\n",
    "\n",
    "OOP에서 자주 사용되는 해결책 패턴을 의미한다. 자주 발생하는 설계 문제를 효율적으로 해결하고, 가독성과 유지보수 및 원활한 협업을 목표로 한다."
   ],
   "id": "b0c871036caaed94"
  },
  {
   "metadata": {},
   "cell_type": "markdown",
   "source": [
    "#### 1. Singleton\n",
    "\n",
    "- 애플리케이션에서 특정 클래스의 인스턴스가 단 하나만 존재하도록 보장한다.\n",
    "- 인스턴스가 여러 개 생기면 안 되거나, 전역적으로 공유되는 리소스(예: 설정값, 로거) 등에 주로 사용한다."
   ],
   "id": "12999f17af274695"
  },
  {
   "metadata": {},
   "cell_type": "code",
   "outputs": [],
   "execution_count": null,
   "source": "",
   "id": "e0657b272110724c"
  },
  {
   "metadata": {},
   "cell_type": "markdown",
   "source": [
    "#### 2. Factory Method\n",
    "\n",
    "- 객체 생성 로직을 서브클래스에 위임하는 방식이다.\n",
    "- 상위 클래스(또는 인터페이스)는 객체를 생성하는 **‘팩토리 메서드’** 를 갖고, 실제 구현은 자식 클래스가 결정한다.\n",
    "- 새로운 구체 클래스가 추가되어도 상위 클래스 코드를 수정하지 않고 확장할 수 있다."
   ],
   "id": "f5789a66e668555f"
  },
  {
   "metadata": {},
   "cell_type": "code",
   "outputs": [],
   "execution_count": null,
   "source": "",
   "id": "4030c8fbb92ee1a"
  },
  {
   "metadata": {},
   "cell_type": "markdown",
   "source": [
    "#### 3. Strategy\n",
    "\n",
    "- 알고리즘(또는 행위)을 캡슐화하여 런타임에 교체 가능하도록 만든다. 예를 들어, 로직을 여러 가지 전략으로 구분하고, 상황에 따라 다른 전략 객체를 주입해 사용한다."
   ],
   "id": "f48e182b42ae6a3a"
  },
  {
   "metadata": {},
   "cell_type": "code",
   "outputs": [],
   "execution_count": null,
   "source": "",
   "id": "59c7ea9dfbc89cff"
  },
  {
   "metadata": {},
   "cell_type": "markdown",
   "source": [
    "#### 4. Observer\n",
    "\n",
    "- **주체(Subject)** 와 이를 관찰하는 옵저버(Observer) 간 일 대 다 의존 관계를 설정한다.\n",
    "- 주체의 상태가 변하면, 연결된 옵저버들에게 자동으로 알림을 보낸다.\n",
    "- 이벤트 기반 시스템, GUI, 금융 시세 업데이트 등에서 흔히 사용한다."
   ],
   "id": "ef96cd192a373296"
  },
  {
   "metadata": {},
   "cell_type": "code",
   "outputs": [],
   "execution_count": null,
   "source": "",
   "id": "a306f94244035257"
  },
  {
   "metadata": {},
   "cell_type": "markdown",
   "source": [
    "#### 5. Decorator\n",
    "\n",
    "- 기존 객체에 새로운 기능을 동적으로 추가하는 방법이다.\n",
    "- 상속 대신 **랩핑(Wrapping)** 을 통해 객체에 책임을 덧붙일 수 있다."
   ],
   "id": "49b83a8de53c275c"
  },
  {
   "metadata": {},
   "cell_type": "code",
   "outputs": [],
   "execution_count": null,
   "source": "",
   "id": "9ba1725752b90c15"
  }
 ],
 "metadata": {
  "kernelspec": {
   "display_name": "Python 3",
   "language": "python",
   "name": "python3"
  },
  "language_info": {
   "codemirror_mode": {
    "name": "ipython",
    "version": 2
   },
   "file_extension": ".py",
   "mimetype": "text/x-python",
   "name": "python",
   "nbconvert_exporter": "python",
   "pygments_lexer": "ipython2",
   "version": "2.7.6"
  }
 },
 "nbformat": 4,
 "nbformat_minor": 5
}
