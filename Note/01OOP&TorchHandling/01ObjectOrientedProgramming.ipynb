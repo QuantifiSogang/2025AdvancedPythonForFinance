{
 "cells": [
  {
   "metadata": {},
   "cell_type": "markdown",
   "source": [
    "## Object Oriented Programming\n",
    "\n",
    "- 프로그램을 명령어들의 목록이 아니라, 객체들의 모임으로서, 객체와 객체와의 상호관계를 중심으로 작성하자는 패러다임이다\n",
    "- 작성자 중심의 코드보다는 사용자 중심의 프로그래밍이다\n",
    "- 3자의 눈으로 설계를 해야하기 때문에 고난도의 지식이 요구된다\n",
    "- **Keras, Tensorflow, Pytorch를 사용하기 위해서는 필수 지식이다**\n",
    "\n",
    "<br>\n",
    "\n",
    "- **객체(object)** : 속성과 행위를 가지고 있으며 이름을 붙일 수 있는 물체\n",
    "- **class** : 객체를 만들기 위한 설계도\n",
    "- **instance** : 설계도에 따라 실제로 구현된 것"
   ],
   "id": "75d81a60a6c4bae1"
  },
  {
   "metadata": {
    "ExecuteTime": {
     "end_time": "2025-01-25T11:05:35.060844Z",
     "start_time": "2025-01-25T11:05:35.055468Z"
    }
   },
   "cell_type": "code",
   "source": [
    "def void(param1, param2) -> None :\n",
    "    '''\n",
    "    example of function\n",
    "    :param param1: parameter 1\n",
    "    :param param2: parameter 2\n",
    "    :return: \n",
    "    '''\n",
    "    print('function call')\n",
    "    return None"
   ],
   "id": "fd2d22bb9984fbe1",
   "outputs": [],
   "execution_count": 68
  },
  {
   "metadata": {
    "ExecuteTime": {
     "end_time": "2025-01-25T11:05:35.934225Z",
     "start_time": "2025-01-25T11:05:35.931603Z"
    }
   },
   "cell_type": "code",
   "source": "void(1, 2)",
   "id": "8836efa14ab3490e",
   "outputs": [
    {
     "name": "stdout",
     "output_type": "stream",
     "text": [
      "function call\n"
     ]
    }
   ],
   "execution_count": 69
  },
  {
   "cell_type": "code",
   "id": "initial_id",
   "metadata": {
    "collapsed": true,
    "ExecuteTime": {
     "end_time": "2025-01-25T11:06:51.774037Z",
     "start_time": "2025-01-25T11:06:51.771761Z"
    }
   },
   "source": [
    "class Asset(object) : # Class 선언, class는 대문자로 시작하는 것이 암묵적인 rule\n",
    "    '''\n",
    "    example of class\n",
    "    '''\n",
    "    ASSET_ID = 0 # class variable\n",
    "    def __init__(self, name, ticker) : # initializer, 필수적으로 있어야 함\n",
    "        # initializer는 Class가 instance 되자마자 생성되므로 해당되는 변수가 모두 입력되어야 함\n",
    "        self.name = name # self는 Class내에서 처리되는 instance 변수\n",
    "        self.ticker = ticker\n",
    "        \n",
    "    def get_info(self) -> None :\n",
    "        print('Asset name : ', self.name)\n",
    "        print('Asset ticker : ', self.ticker)\n",
    "        return None"
   ],
   "outputs": [],
   "execution_count": 70
  },
  {
   "metadata": {
    "ExecuteTime": {
     "end_time": "2025-01-25T11:07:02.605660Z",
     "start_time": "2025-01-25T11:07:02.536010Z"
    }
   },
   "cell_type": "code",
   "source": "object = Asset()",
   "id": "503636c870cec444",
   "outputs": [
    {
     "ename": "TypeError",
     "evalue": "Asset.__init__() missing 2 required positional arguments: 'name' and 'ticker'",
     "output_type": "error",
     "traceback": [
      "\u001B[0;31m---------------------------------------------------------------------------\u001B[0m",
      "\u001B[0;31mTypeError\u001B[0m                                 Traceback (most recent call last)",
      "Cell \u001B[0;32mIn[71], line 1\u001B[0m\n\u001B[0;32m----> 1\u001B[0m \u001B[38;5;28mobject\u001B[39m \u001B[38;5;241m=\u001B[39m Asset()\n",
      "\u001B[0;31mTypeError\u001B[0m: Asset.__init__() missing 2 required positional arguments: 'name' and 'ticker'"
     ]
    }
   ],
   "execution_count": 71
  },
  {
   "metadata": {
    "ExecuteTime": {
     "end_time": "2025-01-25T11:07:46.355665Z",
     "start_time": "2025-01-25T11:07:46.354120Z"
    }
   },
   "cell_type": "code",
   "source": "object = Asset(name = 'Apple Inc.', ticker = 'AAPL')",
   "id": "c6c2df445839c0d9",
   "outputs": [],
   "execution_count": 72
  },
  {
   "metadata": {
    "ExecuteTime": {
     "end_time": "2025-01-25T11:08:41.065858Z",
     "start_time": "2025-01-25T11:08:41.063994Z"
    }
   },
   "cell_type": "code",
   "source": "object.get_info()",
   "id": "a1d5a0476f5fa6ba",
   "outputs": [
    {
     "name": "stdout",
     "output_type": "stream",
     "text": [
      "Asset name :  Apple Inc.\n",
      "Asset ticker :  AAPL\n"
     ]
    }
   ],
   "execution_count": 74
  },
  {
   "metadata": {
    "ExecuteTime": {
     "end_time": "2025-01-25T11:09:43.616206Z",
     "start_time": "2025-01-25T11:09:43.613795Z"
    }
   },
   "cell_type": "code",
   "source": "Asset.ASSET_ID",
   "id": "fa862c8d8566b1d4",
   "outputs": [
    {
     "data": {
      "text/plain": [
       "0"
      ]
     },
     "execution_count": 75,
     "metadata": {},
     "output_type": "execute_result"
    }
   ],
   "execution_count": 75
  },
  {
   "metadata": {
    "ExecuteTime": {
     "end_time": "2025-01-25T11:10:07.165177Z",
     "start_time": "2025-01-25T11:10:07.163180Z"
    }
   },
   "cell_type": "code",
   "source": "object1 = Asset(name = 'Microsoft', ticker = 'MSFT')",
   "id": "382a8e0b9831daa5",
   "outputs": [],
   "execution_count": 76
  },
  {
   "metadata": {
    "ExecuteTime": {
     "end_time": "2025-01-25T11:10:16.756105Z",
     "start_time": "2025-01-25T11:10:16.753934Z"
    }
   },
   "cell_type": "code",
   "source": "object1.ASSET_ID",
   "id": "9e1d2833d7f8f1c2",
   "outputs": [
    {
     "data": {
      "text/plain": [
       "0"
      ]
     },
     "execution_count": 77,
     "metadata": {},
     "output_type": "execute_result"
    }
   ],
   "execution_count": 77
  },
  {
   "metadata": {
    "ExecuteTime": {
     "end_time": "2025-01-25T11:11:07.020532Z",
     "start_time": "2025-01-25T11:11:07.018830Z"
    }
   },
   "cell_type": "code",
   "source": "Asset.ASSET_ID = 1",
   "id": "1749a78e86fc574d",
   "outputs": [],
   "execution_count": 84
  },
  {
   "metadata": {
    "ExecuteTime": {
     "end_time": "2025-01-25T11:11:14.553653Z",
     "start_time": "2025-01-25T11:11:14.551215Z"
    }
   },
   "cell_type": "code",
   "source": "Asset.ASSET_ID",
   "id": "b914708cf5bb2cd9",
   "outputs": [
    {
     "data": {
      "text/plain": [
       "1"
      ]
     },
     "execution_count": 85,
     "metadata": {},
     "output_type": "execute_result"
    }
   ],
   "execution_count": 85
  },
  {
   "metadata": {
    "ExecuteTime": {
     "end_time": "2025-01-25T11:10:35.165707Z",
     "start_time": "2025-01-25T11:10:35.163966Z"
    }
   },
   "cell_type": "code",
   "source": "object.ASSET_ID = 10",
   "id": "8c168717c5258c7d",
   "outputs": [],
   "execution_count": 79
  },
  {
   "metadata": {
    "ExecuteTime": {
     "end_time": "2025-01-25T11:10:54.126016Z",
     "start_time": "2025-01-25T11:10:54.123479Z"
    }
   },
   "cell_type": "code",
   "source": "object.ASSET_ID",
   "id": "4a67a26ee0548f86",
   "outputs": [
    {
     "data": {
      "text/plain": [
       "10"
      ]
     },
     "execution_count": 82,
     "metadata": {},
     "output_type": "execute_result"
    }
   ],
   "execution_count": 82
  },
  {
   "metadata": {
    "ExecuteTime": {
     "end_time": "2025-01-25T11:10:42.987592Z",
     "start_time": "2025-01-25T11:10:42.985345Z"
    }
   },
   "cell_type": "code",
   "source": "object1.ASSET_ID",
   "id": "58212a15c85b07c4",
   "outputs": [
    {
     "data": {
      "text/plain": [
       "1"
      ]
     },
     "execution_count": 80,
     "metadata": {},
     "output_type": "execute_result"
    }
   ],
   "execution_count": 80
  },
  {
   "metadata": {},
   "cell_type": "markdown",
   "source": [
    "- self.가 붙은 변수는 Object별로 따로 저장되는 instance 변수라고 한다\n",
    "- Class 하위에 선언된 Class function들을 **Method**라고 한다"
   ],
   "id": "a3ad29dac3e6245e"
  },
  {
   "metadata": {
    "ExecuteTime": {
     "end_time": "2025-01-25T11:12:07.701871Z",
     "start_time": "2025-01-25T11:12:07.699953Z"
    }
   },
   "cell_type": "code",
   "source": [
    "asset1 = Asset('Apple Inc.', ticker = 'AAPL')\n",
    "asset2 = Asset('NVIDIA corporation', ticker = 'NVDA')"
   ],
   "id": "15ae4b1b9fe8425b",
   "outputs": [],
   "execution_count": 86
  },
  {
   "metadata": {},
   "cell_type": "markdown",
   "source": "각 객체는 고유한 ID를 가진다",
   "id": "fcad4f13a0e830db"
  },
  {
   "metadata": {
    "ExecuteTime": {
     "end_time": "2025-01-24T10:22:34.665011Z",
     "start_time": "2025-01-24T10:22:34.661633Z"
    }
   },
   "cell_type": "code",
   "source": "asset1",
   "id": "5662f082e4ac2538",
   "outputs": [
    {
     "data": {
      "text/plain": [
       "<__main__.Asset at 0x1077ea950>"
      ]
     },
     "execution_count": 5,
     "metadata": {},
     "output_type": "execute_result"
    }
   ],
   "execution_count": 5
  },
  {
   "metadata": {
    "ExecuteTime": {
     "end_time": "2025-01-24T10:22:34.861030Z",
     "start_time": "2025-01-24T10:22:34.858820Z"
    }
   },
   "cell_type": "code",
   "source": "asset2",
   "id": "470ee70c0e6a6c71",
   "outputs": [
    {
     "data": {
      "text/plain": [
       "<__main__.Asset at 0x108859b90>"
      ]
     },
     "execution_count": 6,
     "metadata": {},
     "output_type": "execute_result"
    }
   ],
   "execution_count": 6
  },
  {
   "metadata": {},
   "cell_type": "markdown",
   "source": "클래스 변수의 접근은 '.' 연산자를 통해 가능하다",
   "id": "582c706d9b44b9fb"
  },
  {
   "metadata": {
    "ExecuteTime": {
     "end_time": "2025-01-24T10:22:35.303658Z",
     "start_time": "2025-01-24T10:22:35.301409Z"
    }
   },
   "cell_type": "code",
   "source": "asset1.ASSET_ID",
   "id": "8d08ad00fdaac269",
   "outputs": [
    {
     "data": {
      "text/plain": [
       "0"
      ]
     },
     "execution_count": 7,
     "metadata": {},
     "output_type": "execute_result"
    }
   ],
   "execution_count": 7
  },
  {
   "metadata": {},
   "cell_type": "markdown",
   "source": "물론, 변수이기 때문에 대입 연산이 가능하다",
   "id": "e117761b28ee1138"
  },
  {
   "metadata": {
    "ExecuteTime": {
     "end_time": "2025-01-24T10:22:35.910380Z",
     "start_time": "2025-01-24T10:22:35.908188Z"
    }
   },
   "cell_type": "code",
   "source": [
    "asset1.ASSET_ID = 1\n",
    "print(asset1.ASSET_ID)"
   ],
   "id": "a50b62e732cc1783",
   "outputs": [
    {
     "name": "stdout",
     "output_type": "stream",
     "text": [
      "1\n"
     ]
    }
   ],
   "execution_count": 8
  },
  {
   "metadata": {},
   "cell_type": "markdown",
   "source": "method를 호출하면 객체별로 다른 정보를 편하게 함수처럼 사용 가능하다",
   "id": "b1bd829837db47e"
  },
  {
   "metadata": {
    "ExecuteTime": {
     "end_time": "2025-01-24T10:22:36.411346Z",
     "start_time": "2025-01-24T10:22:36.409455Z"
    }
   },
   "cell_type": "code",
   "source": "asset1.get_info()",
   "id": "fe0ed9bf90f3dd3f",
   "outputs": [
    {
     "name": "stdout",
     "output_type": "stream",
     "text": [
      "Asset name :  Apple Inc.\n",
      "Asset ticker :  AAPL\n"
     ]
    }
   ],
   "execution_count": 9
  },
  {
   "metadata": {
    "ExecuteTime": {
     "end_time": "2025-01-24T10:22:36.779788Z",
     "start_time": "2025-01-24T10:22:36.778051Z"
    }
   },
   "cell_type": "code",
   "source": "asset2.get_info()",
   "id": "80d395ec93a37e43",
   "outputs": [
    {
     "name": "stdout",
     "output_type": "stream",
     "text": [
      "Asset name :  NVIDIA corporation\n",
      "Asset ticker :  NVDA\n"
     ]
    }
   ],
   "execution_count": 10
  },
  {
   "metadata": {},
   "cell_type": "markdown",
   "source": [
    "### Class Members\n",
    "\n",
    "<pre>\n",
    "- Class Members\n",
    "    - method\n",
    "    - Property @\n",
    "    - class variable\n",
    "    - instance variable\n",
    "    - Initializer __init__\n",
    "    - Destructor __del__\n",
    "    </pre>\n",
    "    \n",
    "- 데이터를 표현하는 **field**와 행위를 표현하는 **method**로 구분하며, python에서는 이러한 field와 method 모두 그 객체의 attribute라고도 한다.\n",
    "- 새로운 attribute를 동적으로 추가할 수 있으며, method도 일종의 method객체로 취급하여 attribute에 포함한다.\n",
    "\n",
    "### Initializer\n",
    "- **\\_\\_init__( )**\n",
    "- class로부터 새 객체가 생성될 때 마다 실행되는 특별한 method(magic method)이다\n",
    "- instance 변수의 초기화, **객체의 초기 상태를 설정한다**\n",
    "- Python에서 Class Constructor(클래스 생성자)는 실제 런타임 엔진 내부에서 실행되는데, 이 생성자 실행 도중 Class 내에 Initializer가 있는지 체크하여 만약 있으면 **Initializer를 호출하여 객체의 변수 등을 초기화한다**\n",
    "\n",
    "### Destructor\n",
    "- **\\_\\_del__**\n",
    "- Class로부터 객체가 소멸할 때 호출되는 특별한 method\n",
    "- 객체의 reference counter(참조 카운터)가 0이 되면 자동 호출한다\n",
    "- 리소스 해제 등의 종료작업 수행한다\n",
    "- 또한, Class가 동작하는지 확인할 때에도 쓰인다"
   ],
   "id": "1f6d2f282961061d"
  },
  {
   "metadata": {
    "ExecuteTime": {
     "end_time": "2025-01-25T11:14:32.890706Z",
     "start_time": "2025-01-25T11:14:32.889190Z"
    }
   },
   "cell_type": "code",
   "source": "del Asset",
   "id": "a96839b5b56c9123",
   "outputs": [],
   "execution_count": 87
  },
  {
   "metadata": {
    "ExecuteTime": {
     "end_time": "2025-01-25T11:14:37.432260Z",
     "start_time": "2025-01-25T11:14:37.425099Z"
    }
   },
   "cell_type": "code",
   "source": "Asset",
   "id": "450e6f8e45bfb76f",
   "outputs": [
    {
     "ename": "NameError",
     "evalue": "name 'Asset' is not defined",
     "output_type": "error",
     "traceback": [
      "\u001B[0;31m---------------------------------------------------------------------------\u001B[0m",
      "\u001B[0;31mNameError\u001B[0m                                 Traceback (most recent call last)",
      "Cell \u001B[0;32mIn[88], line 1\u001B[0m\n\u001B[0;32m----> 1\u001B[0m Asset\n",
      "\u001B[0;31mNameError\u001B[0m: name 'Asset' is not defined"
     ]
    }
   ],
   "execution_count": 88
  },
  {
   "metadata": {
    "ExecuteTime": {
     "end_time": "2025-01-25T11:15:18.510955Z",
     "start_time": "2025-01-25T11:15:18.505723Z"
    }
   },
   "cell_type": "code",
   "source": [
    "class Asset(object) : # Class 선언, class는 대문자로 시작하는 것이 암묵적인 rule\n",
    "    '''\n",
    "    example of class\n",
    "    '''\n",
    "    ASSET_ID = 0 # class variable\n",
    "    def __init__(self, name, ticker) : # initializer, 필수적으로 있어야 함\n",
    "        # initializer는 Class가 instance 되자마자 생성되므로 해당되는 변수가 모두 입력되어야 함\n",
    "        self.name = name # self는 Class내에서 처리되는 instance 변수\n",
    "        self.ticker = ticker\n",
    "    \n",
    "    def __del__(self) :\n",
    "        '''\n",
    "        소멸자는 객체가 사라질 때 호출되는 함수\n",
    "        지정하지 않는 경우에도 기본적으로 생성되지만, __del__() method를 지정하면 소멸시에 특수한 행위를 지정할 수 있음\n",
    "        :return: \n",
    "        '''\n",
    "        print(f'Asset {self.name} delete')\n",
    "        \n",
    "    def get_info(self) -> None :\n",
    "        print('Asset name : ', self.name)\n",
    "        print('Asset ticker : ', self.ticker)\n",
    "        return None"
   ],
   "id": "7ccd9302be83df85",
   "outputs": [],
   "execution_count": 1
  },
  {
   "metadata": {
    "ExecuteTime": {
     "end_time": "2025-01-25T11:15:25.273022Z",
     "start_time": "2025-01-25T11:15:25.270852Z"
    }
   },
   "cell_type": "code",
   "source": "asset3 = Asset('Microsoft', ticker = 'MSFT') # 생성자 생성",
   "id": "d88d219201a45699",
   "outputs": [],
   "execution_count": 2
  },
  {
   "metadata": {
    "ExecuteTime": {
     "end_time": "2025-01-25T11:15:45.849545Z",
     "start_time": "2025-01-25T11:15:45.845875Z"
    }
   },
   "cell_type": "code",
   "source": "asset3.name",
   "id": "19ce6392dba5dfe",
   "outputs": [
    {
     "data": {
      "text/plain": [
       "'Microsoft'"
      ]
     },
     "execution_count": 3,
     "metadata": {},
     "output_type": "execute_result"
    }
   ],
   "execution_count": 3
  },
  {
   "metadata": {
    "ExecuteTime": {
     "end_time": "2025-01-25T11:15:53.845156Z",
     "start_time": "2025-01-25T11:15:53.842986Z"
    }
   },
   "cell_type": "code",
   "source": "asset3.ticker",
   "id": "dc0006782d9b2689",
   "outputs": [
    {
     "data": {
      "text/plain": [
       "'MSFT'"
      ]
     },
     "execution_count": 4,
     "metadata": {},
     "output_type": "execute_result"
    }
   ],
   "execution_count": 4
  },
  {
   "metadata": {
    "ExecuteTime": {
     "end_time": "2025-01-24T10:22:38.790077Z",
     "start_time": "2025-01-24T10:22:38.787850Z"
    }
   },
   "cell_type": "code",
   "source": "asset3.name # 생성자에서 초기화된 클래스 변수",
   "id": "b0e23659b01e626c",
   "outputs": [
    {
     "data": {
      "text/plain": [
       "'Microsoft'"
      ]
     },
     "execution_count": 13,
     "metadata": {},
     "output_type": "execute_result"
    }
   ],
   "execution_count": 13
  },
  {
   "metadata": {},
   "cell_type": "markdown",
   "source": "객체는 `del` 명령어를 사용해 런타임 객체에서 지울 수 있다.",
   "id": "f0a57c6b53526aa5"
  },
  {
   "metadata": {
    "ExecuteTime": {
     "end_time": "2025-01-25T11:15:59.075813Z",
     "start_time": "2025-01-25T11:15:59.073864Z"
    }
   },
   "cell_type": "code",
   "source": "del asset3 # 소멸자 호출",
   "id": "6ef56d5293ee0695",
   "outputs": [
    {
     "name": "stdout",
     "output_type": "stream",
     "text": [
      "Asset Microsoft delete\n"
     ]
    }
   ],
   "execution_count": 5
  },
  {
   "metadata": {
    "ExecuteTime": {
     "end_time": "2025-01-24T10:22:39.804479Z",
     "start_time": "2025-01-24T10:22:39.802651Z"
    }
   },
   "cell_type": "code",
   "source": "del asset2 # 소멸자가 작성되지 않은 객체인 경우 아무것도 출력되지 않음",
   "id": "dab97bb6cb4955d0",
   "outputs": [],
   "execution_count": 15
  },
  {
   "metadata": {},
   "cell_type": "markdown",
   "source": [
    "### Class variable, Instance variable\n",
    "\n",
    "- Class 변수가 하나의 Class에 하나만 존재하는 반면, Instance 변수는 각 객체 instance마다 별도로 존재한다.\n",
    "- <span style = 'color : #132c6f'><b>Instance Variable</b></span> : 클래스 정의에서 method 안에서 사용되면서 **'self.*variable name*'** 처럼 사용되며, 이는 각 객체별로 서로 다른 값을 갖는 변수이다."
   ],
   "id": "2b2bc9a54c572c9d"
  },
  {
   "metadata": {
    "ExecuteTime": {
     "end_time": "2025-01-25T11:17:31.437749Z",
     "start_time": "2025-01-25T11:17:31.435613Z"
    }
   },
   "cell_type": "code",
   "source": [
    "class Account(object) :\n",
    "    num_accounts = 0 # class variable\n",
    "    def __init__(self, name) :\n",
    "        self.name = name # instance variable\n",
    "        Account.num_accounts += 1\n",
    "    \n",
    "    def __del__(self) :\n",
    "        Account.num_accounts -= 1"
   ],
   "id": "8a63a8a795e40063",
   "outputs": [],
   "execution_count": 6
  },
  {
   "metadata": {
    "ExecuteTime": {
     "end_time": "2025-01-25T11:17:35.446549Z",
     "start_time": "2025-01-25T11:17:35.444040Z"
    }
   },
   "cell_type": "code",
   "source": [
    "kim = Account('kim')\n",
    "kim.name"
   ],
   "id": "51950afa52f473e6",
   "outputs": [
    {
     "data": {
      "text/plain": [
       "'kim'"
      ]
     },
     "execution_count": 7,
     "metadata": {},
     "output_type": "execute_result"
    }
   ],
   "execution_count": 7
  },
  {
   "metadata": {
    "ExecuteTime": {
     "end_time": "2025-01-25T11:17:38.852937Z",
     "start_time": "2025-01-25T11:17:38.850242Z"
    }
   },
   "cell_type": "code",
   "source": "kim.num_accounts",
   "id": "cc83e165b171d12",
   "outputs": [
    {
     "data": {
      "text/plain": [
       "1"
      ]
     },
     "execution_count": 8,
     "metadata": {},
     "output_type": "execute_result"
    }
   ],
   "execution_count": 8
  },
  {
   "metadata": {
    "ExecuteTime": {
     "end_time": "2025-01-25T11:17:56.377454Z",
     "start_time": "2025-01-25T11:17:56.374657Z"
    }
   },
   "cell_type": "code",
   "source": "Account.num_accounts",
   "id": "77480730cc64cb2a",
   "outputs": [
    {
     "data": {
      "text/plain": [
       "1"
      ]
     },
     "execution_count": 9,
     "metadata": {},
     "output_type": "execute_result"
    }
   ],
   "execution_count": 9
  },
  {
   "metadata": {
    "ExecuteTime": {
     "end_time": "2025-01-25T11:18:01.732387Z",
     "start_time": "2025-01-25T11:18:01.730352Z"
    }
   },
   "cell_type": "code",
   "source": "lee = Account('lee')",
   "id": "389be7461a239d2d",
   "outputs": [],
   "execution_count": 10
  },
  {
   "metadata": {
    "ExecuteTime": {
     "end_time": "2025-01-25T11:18:05.068591Z",
     "start_time": "2025-01-25T11:18:05.065646Z"
    }
   },
   "cell_type": "code",
   "source": "lee.name",
   "id": "fcde33f8eea626b9",
   "outputs": [
    {
     "data": {
      "text/plain": [
       "'lee'"
      ]
     },
     "execution_count": 11,
     "metadata": {},
     "output_type": "execute_result"
    }
   ],
   "execution_count": 11
  },
  {
   "metadata": {
    "ExecuteTime": {
     "end_time": "2025-01-25T11:18:08.636585Z",
     "start_time": "2025-01-25T11:18:08.633829Z"
    }
   },
   "cell_type": "code",
   "source": "lee.num_accounts",
   "id": "b7976672353d3244",
   "outputs": [
    {
     "data": {
      "text/plain": [
       "2"
      ]
     },
     "execution_count": 12,
     "metadata": {},
     "output_type": "execute_result"
    }
   ],
   "execution_count": 12
  },
  {
   "metadata": {
    "ExecuteTime": {
     "end_time": "2025-01-25T11:18:21.535528Z",
     "start_time": "2025-01-25T11:18:21.532878Z"
    }
   },
   "cell_type": "code",
   "source": "kim.num_accounts",
   "id": "3fed26d6ef22328c",
   "outputs": [
    {
     "data": {
      "text/plain": [
       "2"
      ]
     },
     "execution_count": 13,
     "metadata": {},
     "output_type": "execute_result"
    }
   ],
   "execution_count": 13
  },
  {
   "metadata": {
    "ExecuteTime": {
     "end_time": "2025-01-25T11:18:31.140274Z",
     "start_time": "2025-01-25T11:18:31.137863Z"
    }
   },
   "cell_type": "code",
   "source": "Account.num_accounts # Class 변수는 Class 사용 횟수에 따라 카운팅 된다",
   "id": "8c6d2441c80266f7",
   "outputs": [
    {
     "data": {
      "text/plain": [
       "2"
      ]
     },
     "execution_count": 14,
     "metadata": {},
     "output_type": "execute_result"
    }
   ],
   "execution_count": 14
  },
  {
   "metadata": {},
   "cell_type": "markdown",
   "source": [
    "### Encapsulation\n",
    "- **캡슐화**는 객체의 외부에서 객체 내부의 속성을 <span style = 'color : #132c6f'>직접적으로 접근, 속성을 읽거나 변경시키지 못하게 하는 것</span>을 말한다.\n",
    "- 객체의 속성을 접근, 속성을 읽거나 변경하고 싶으면 반드시 <span style = 'color : #132c6f'><b>허락된 인터페이스를 통해서</b></span>만이 가능하다.\n",
    "    - 객체가 **외부로 공개한 메서드**를 뜻한다."
   ],
   "id": "c69f1a5546b6572f"
  },
  {
   "metadata": {},
   "cell_type": "markdown",
   "source": [
    "#### Access Modifiers\n",
    "- C++나 Java와 같은 OOP 언어에서는 객체의 속성이나 메서드에 접근을 제어하는 접근 지정자 (**public, private, protected**)가 제공된다.\n",
    "- python에서는 이런 접근 지정자가 없다.\n",
    "- python class에서는 기본적으로 모든 멤버가 public이라고 할 수 있다.\n",
    "- python에서의 접근 지정은 이름 규칙을 통해 처리되며, 프로그래머가 접근 지정에 대한 책임을 지게 한다.\n",
    "- python에서는 접근 지정을 구분하기 위해 밑줄(under bar)를 사용한다.\n",
    "\n",
    "아래의 예시는 Ether의 ERC20 Contract의 일부 내용이다. contract는 class에 대응되는 개념이며, function을 보면 접근 지정자를 확인할 수 있다.\n",
    "이는 solidity 뿐만 아니라 C++과 JAVA도 동일한 구조를 가지고 있다.\n",
    "\n",
    "```{solidity}\n",
    "contract ERC20StdToken {\n",
    "    mapping(address => uint256) balances;\n",
    "    mapping(address => mapping(address => uint256)) allowed; // allowed[key][key]\n",
    "\n",
    "    uint256 private total; // variable declaration\n",
    "    string public name;\n",
    "    string public symbol;\n",
    "    uint8 public decimals;\n",
    "\n",
    "    event Transfer(address indexed from, \n",
    "                   address indexed to, \n",
    "                   uint256 value);\n",
    "\n",
    "    event Approval(address indexed owner, \n",
    "                   address indexed spender, \n",
    "                   uint256 value);\n",
    "\n",
    "    constructor (string memory _name, \n",
    "                 string memory _symbol, \n",
    "                 uint _totalSupply)\n",
    "                 {\n",
    "            total = _totalSupply;\n",
    "            name = _name;\n",
    "            symbol = _symbol;\n",
    "            decimals = 0;\n",
    "            balances[msg.sender] = _totalSupply;\n",
    "            emit Transfer(address(0x0), msg.sender, _totalSupply);\n",
    "        }\n",
    "    \n",
    "    function totalSupply()\n",
    "        public // Encapsulation\n",
    "        view \n",
    "        returns(uint256) {\n",
    "            return total;\n",
    "        }\n",
    "```\n",
    "\n",
    "<center>\n",
    "\n",
    "|Mode|설명|\n",
    "|:---:|:---:|\n",
    "|**public**| 공개 모드로서 객체 외부에서 접근이 가능하다. 언더바가 없다.|\n",
    "|**protected**| 객체 외부에서 접근해서는 안 된다. <br> 코딩 관례상 내부적으로만 사용되는 변수 또는 메서드에 사용한다. 언더바가 하나이다.|\n",
    "|**private**| private 모드로서 객체 외부뿐만 아니라 상속받은 객체에서도 접근이 안 된다.|\n",
    "\n",
    "</center>\n",
    "\n",
    "- protected 모드도 public이므로 필요하면 외부에서 엑세스가 가능하다.\n",
    "- private 모드 또한 바꾸는 규칙만 알면 외부에서 바꿀수는 있다."
   ],
   "id": "f3bedeb5af9e61c1"
  },
  {
   "metadata": {
    "ExecuteTime": {
     "end_time": "2025-01-25T11:21:20.107878Z",
     "start_time": "2025-01-25T11:21:20.105600Z"
    }
   },
   "cell_type": "code",
   "source": [
    "class Client(object) : # Class 선언\n",
    "    def __init__(self, name, year, client_id) :\n",
    "        self.name = name # public\n",
    "        self._year = year # protected mode\n",
    "        self.__client_id = client_id # private mode\n",
    "        \n",
    "    def introduce_client(self) :\n",
    "        print(self.name, self._year, self.__client_id)"
   ],
   "id": "616f903ab8c0ca9d",
   "outputs": [],
   "execution_count": 16
  },
  {
   "metadata": {
    "ExecuteTime": {
     "end_time": "2025-01-25T11:21:20.779610Z",
     "start_time": "2025-01-25T11:21:20.777788Z"
    }
   },
   "cell_type": "code",
   "source": "person1 = Client('김철수', 5, 1)",
   "id": "377762102eaad219",
   "outputs": [],
   "execution_count": 17
  },
  {
   "metadata": {
    "ExecuteTime": {
     "end_time": "2025-01-25T11:21:23.783111Z",
     "start_time": "2025-01-25T11:21:23.780118Z"
    }
   },
   "cell_type": "code",
   "source": "person1.name # public mode",
   "id": "51ee64eaca056e43",
   "outputs": [
    {
     "data": {
      "text/plain": [
       "'김철수'"
      ]
     },
     "execution_count": 18,
     "metadata": {},
     "output_type": "execute_result"
    }
   ],
   "execution_count": 18
  },
  {
   "metadata": {
    "ExecuteTime": {
     "end_time": "2025-01-25T11:21:29.491097Z",
     "start_time": "2025-01-25T11:21:29.488542Z"
    }
   },
   "cell_type": "code",
   "source": "person1._year # protected mode",
   "id": "77e6980b8488eb60",
   "outputs": [
    {
     "data": {
      "text/plain": [
       "5"
      ]
     },
     "execution_count": 19,
     "metadata": {},
     "output_type": "execute_result"
    }
   ],
   "execution_count": 19
  },
  {
   "metadata": {
    "ExecuteTime": {
     "end_time": "2025-01-25T11:21:35.971560Z",
     "start_time": "2025-01-25T11:21:35.772241Z"
    }
   },
   "cell_type": "code",
   "source": "person1.__client_id # private mode는 접근이 불가능하다",
   "id": "27e8fb4591d5e2b3",
   "outputs": [
    {
     "ename": "AttributeError",
     "evalue": "'Client' object has no attribute '__client_id'",
     "output_type": "error",
     "traceback": [
      "\u001B[0;31m---------------------------------------------------------------------------\u001B[0m",
      "\u001B[0;31mAttributeError\u001B[0m                            Traceback (most recent call last)",
      "Cell \u001B[0;32mIn[20], line 1\u001B[0m\n\u001B[0;32m----> 1\u001B[0m person1\u001B[38;5;241m.\u001B[39m__client_id\n",
      "\u001B[0;31mAttributeError\u001B[0m: 'Client' object has no attribute '__client_id'"
     ]
    }
   ],
   "execution_count": 20
  },
  {
   "metadata": {
    "ExecuteTime": {
     "end_time": "2025-01-25T11:21:44.322093Z",
     "start_time": "2025-01-25T11:21:44.320193Z"
    }
   },
   "cell_type": "code",
   "source": "person1.name = '신짱구'",
   "id": "4e3051f0f6ec676",
   "outputs": [],
   "execution_count": 21
  },
  {
   "metadata": {
    "ExecuteTime": {
     "end_time": "2025-01-25T11:21:45.838348Z",
     "start_time": "2025-01-25T11:21:45.835434Z"
    }
   },
   "cell_type": "code",
   "source": "person1.name # public instance 변수는 수정이 자유롭다",
   "id": "b7dc2944a70abfcf",
   "outputs": [
    {
     "data": {
      "text/plain": [
       "'신짱구'"
      ]
     },
     "execution_count": 22,
     "metadata": {},
     "output_type": "execute_result"
    }
   ],
   "execution_count": 22
  },
  {
   "metadata": {
    "ExecuteTime": {
     "end_time": "2025-01-25T11:21:46.203178Z",
     "start_time": "2025-01-25T11:21:46.201506Z"
    }
   },
   "cell_type": "code",
   "source": "person1._year = 4",
   "id": "37e4c5dde97dae58",
   "outputs": [],
   "execution_count": 23
  },
  {
   "metadata": {
    "ExecuteTime": {
     "end_time": "2025-01-25T11:21:46.554139Z",
     "start_time": "2025-01-25T11:21:46.552Z"
    }
   },
   "cell_type": "code",
   "source": "person1._year",
   "id": "91b884671b5d0402",
   "outputs": [
    {
     "data": {
      "text/plain": [
       "4"
      ]
     },
     "execution_count": 24,
     "metadata": {},
     "output_type": "execute_result"
    }
   ],
   "execution_count": 24
  },
  {
   "metadata": {},
   "cell_type": "markdown",
   "source": [
    "### property\n",
    "- **get / set method**\n",
    "    - 단지 객체의 속성 값을 읽거나 설정하는데 사용되는 method\n",
    "- **property**\n",
    "    - 객체의 속성을 접근하는 것이 <span style = 'color : #132c6f'><b>마치 속성에 직접적으로 접근하는 것처럼 보이지만</b></span> 내부적으로는 method를 통해 접근하도록 하는 방식"
   ],
   "id": "1d30077af52b6ffe"
  },
  {
   "metadata": {
    "ExecuteTime": {
     "end_time": "2025-01-25T11:25:11.124004Z",
     "start_time": "2025-01-25T11:25:11.116820Z"
    }
   },
   "cell_type": "code",
   "source": [
    "class Client(object) : \n",
    "    def __init__(self) : # property를 사용하고자 하는 경우, 빈값으로 생성\n",
    "        self._name = '' \n",
    "        self._year = 0\n",
    "        self._client_id = 0\n",
    "        \n",
    "    @property # decorator\n",
    "    def name(self) :\n",
    "        return self._name\n",
    "    \n",
    "    @name.setter # setter\n",
    "    def name(self, value) : # 외부로부터 정보를 받아들일 value 필요\n",
    "        self._name = value # __init__에서 초기에 생성되는것과 달리, 따로 지정이 가능하다\n",
    "        \n",
    "    @property\n",
    "    def year(self) :\n",
    "        return self._year\n",
    "    \n",
    "    @year.setter\n",
    "    def year(self, value) :\n",
    "        self._year = value\n",
    "        \n",
    "    @property\n",
    "    def client_id(self) :\n",
    "        return self._client_id\n",
    "    \n",
    "    @client_id.setter\n",
    "    def client_id(self, value) :\n",
    "        self._client_id = value\n",
    "        \n",
    "    def introduce_client(self) :\n",
    "        return self.name, self._year, self._client_id"
   ],
   "id": "47d19d8780045520",
   "outputs": [],
   "execution_count": 1
  },
  {
   "metadata": {
    "ExecuteTime": {
     "end_time": "2025-01-25T11:25:11.556593Z",
     "start_time": "2025-01-25T11:25:11.554913Z"
    }
   },
   "cell_type": "code",
   "source": "person1 = Client()",
   "id": "8a8f6eaddc4af99b",
   "outputs": [],
   "execution_count": 2
  },
  {
   "metadata": {
    "ExecuteTime": {
     "end_time": "2025-01-25T11:25:12.042702Z",
     "start_time": "2025-01-25T11:25:12.040841Z"
    }
   },
   "cell_type": "code",
   "source": [
    "person1.name = '김철수'\n",
    "person1.year = 5\n",
    "person1.client_id = 1"
   ],
   "id": "d52ed73b733702a2",
   "outputs": [],
   "execution_count": 3
  },
  {
   "metadata": {
    "ExecuteTime": {
     "end_time": "2025-01-25T11:25:13.138916Z",
     "start_time": "2025-01-25T11:25:13.135190Z"
    }
   },
   "cell_type": "code",
   "source": "person1.introduce_client()",
   "id": "dad9078d83699cc6",
   "outputs": [
    {
     "data": {
      "text/plain": [
       "('김철수', 5, 1)"
      ]
     },
     "execution_count": 4,
     "metadata": {},
     "output_type": "execute_result"
    }
   ],
   "execution_count": 4
  },
  {
   "metadata": {},
   "cell_type": "markdown",
   "source": "객체의 속성을 접근하듯이 사용하지만, name, year, client_id가 내부적으로 method이다",
   "id": "44136be415b0207c"
  },
  {
   "metadata": {},
   "cell_type": "markdown",
   "source": [
    "### property class 이용\n",
    "- **@decorator** : 전통적인 방식\n",
    "- python 2.6 이후부터 property class가 제공된다 : class 형식으로도 사용이 가능하다\n",
    "- property class의 문법\n",
    "    - property object을 만들어 돌려주는 built-in function\n",
    "    - <span style = 'color : #132c6f'><b>property(fget = None, fset = None, fdel = None, doc = None)</b></span> -> property attribute\n",
    "    \n",
    "|**parameter**|**인자 설명**|\n",
    "|:---:|:---:|\n",
    "|**fget**| get 함수를 설정하는 인자|\n",
    "|**fset**| set 함수를 설정하는 인자|\n",
    "|**fdel**| delete 함수를 설정하는 인자|\n",
    "|**doc**| 이 속성의 설명을 설정하는 인자|"
   ],
   "id": "617a8e18a5ac65db"
  },
  {
   "metadata": {},
   "cell_type": "markdown",
   "source": [
    "### Exercise\n",
    "- 현재가치와 미래가치를 계산하는 method가 포함된 IntCal Class를 만들어 보자"
   ],
   "id": "c117d62742dc5b2b"
  },
  {
   "metadata": {},
   "cell_type": "markdown",
   "source": [
    "**future value to present value**\n",
    "\n",
    "$$p_t = \\frac{f_t}{(1 + r)^t}$$\n",
    "\n",
    "**present value to future value**\n",
    "\n",
    "$$f_t = p_t \\times (1+r)^t$$"
   ],
   "id": "294bfe301c77cefc"
  },
  {
   "metadata": {
    "ExecuteTime": {
     "end_time": "2025-01-25T11:28:48.368787Z",
     "start_time": "2025-01-25T11:28:48.366111Z"
    }
   },
   "cell_type": "code",
   "source": [
    "class IntCal(object) :\n",
    "    def __init__(self, interest, year, money) :\n",
    "        self.interest = interest\n",
    "        self.year = year\n",
    "        self.money = money\n",
    "    \n",
    "    def future_to_present(self) :\n",
    "        return self.money / (1 + self.interest) ** self.year\n",
    "    \n",
    "    def present_to_future(self) :\n",
    "        return self.money * (1 + self.interest) ** self.year"
   ],
   "id": "e66a350263483e56",
   "outputs": [],
   "execution_count": 7
  },
  {
   "metadata": {
    "ExecuteTime": {
     "end_time": "2025-01-25T11:29:03.537483Z",
     "start_time": "2025-01-25T11:29:03.535568Z"
    }
   },
   "cell_type": "code",
   "source": "obj = IntCal(0.11, 5, 100_000)",
   "id": "6d373adb2843ae6",
   "outputs": [],
   "execution_count": 9
  },
  {
   "metadata": {
    "ExecuteTime": {
     "end_time": "2025-01-25T11:29:11.032619Z",
     "start_time": "2025-01-25T11:29:11.030062Z"
    }
   },
   "cell_type": "code",
   "source": "obj.present_to_future()",
   "id": "be413551052b7cb2",
   "outputs": [
    {
     "data": {
      "text/plain": [
       "168505.81551000007"
      ]
     },
     "execution_count": 10,
     "metadata": {},
     "output_type": "execute_result"
    }
   ],
   "execution_count": 10
  },
  {
   "metadata": {
    "ExecuteTime": {
     "end_time": "2025-01-25T11:29:23.283404Z",
     "start_time": "2025-01-25T11:29:23.280275Z"
    }
   },
   "cell_type": "code",
   "source": [
    "class IntCal(object) :\n",
    "    def __init__(self) :\n",
    "        self._interest = 0\n",
    "        self._year = 0\n",
    "        self._money = 0\n",
    "    \n",
    "    @property\n",
    "    def interest(self) :\n",
    "        return self._interest\n",
    "    \n",
    "    @interest.setter\n",
    "    def interest(self, value) :\n",
    "        self._interest = value\n",
    "        \n",
    "    @property\n",
    "    def year(self) :\n",
    "        return self._year\n",
    "    \n",
    "    @year.setter\n",
    "    def year(self, value) :\n",
    "        self._year = value\n",
    "        \n",
    "    @property\n",
    "    def money(self) :\n",
    "        return self._money\n",
    "    \n",
    "    @money.setter\n",
    "    def money(self, value) :\n",
    "        self._money = value\n",
    "        \n",
    "    def future_to_present(self) :\n",
    "        return self._money / (1 + self._interest) ** self._year\n",
    "    \n",
    "    def present_to_future(self) :\n",
    "        return self._money * (1 + self._interest) ** self._year"
   ],
   "id": "59b5129f755ce8dc",
   "outputs": [],
   "execution_count": 11
  },
  {
   "metadata": {
    "ExecuteTime": {
     "end_time": "2025-01-25T11:29:33.065657Z",
     "start_time": "2025-01-25T11:29:33.063983Z"
    }
   },
   "cell_type": "code",
   "source": "obj2 = IntCal()",
   "id": "4bda254e967b89c0",
   "outputs": [],
   "execution_count": 12
  },
  {
   "metadata": {
    "ExecuteTime": {
     "end_time": "2025-01-25T11:30:08.225388Z",
     "start_time": "2025-01-25T11:30:08.223680Z"
    }
   },
   "cell_type": "code",
   "source": [
    "obj2.interest = 0.11\n",
    "obj2.year = 5\n",
    "obj2.money = 100_000"
   ],
   "id": "507bd2db7192f83",
   "outputs": [],
   "execution_count": 14
  },
  {
   "metadata": {
    "ExecuteTime": {
     "end_time": "2025-01-25T11:30:15.265335Z",
     "start_time": "2025-01-25T11:30:15.263138Z"
    }
   },
   "cell_type": "code",
   "source": "obj2.present_to_future()",
   "id": "ebc1e7fd10ae09bc",
   "outputs": [
    {
     "data": {
      "text/plain": [
       "168505.81551000007"
      ]
     },
     "execution_count": 15,
     "metadata": {},
     "output_type": "execute_result"
    }
   ],
   "execution_count": 15
  },
  {
   "metadata": {},
   "cell_type": "markdown",
   "source": [
    "### static method\n",
    "\n",
    "- 클래스 소속 메서드\n",
    "    - 일반적인 인스턴스 메서드와 달리, static method는 클래스 자체에 속한다.\n",
    "    - 인스턴스를 생성하지 않아도 클래스 이름으로 직접 호출할 수 있다.\n",
    "- 인스턴스 상태 참조 불가\n",
    "    - static method 내부에서는 self(파이썬) 같은 인스턴스 변수를 사용할 수 없다.\n",
    "    - 주로 공통된 기능(유틸리티 함수 등)을 제공하거나, 전역 함수 역할을 클래스 내부에 묶어둘 때 쓴다.\n",
    "\n",
    "인스턴스 변수를 전혀 참조하지 않고, 클래스나 외부 입력만으로 결과를 산출해야 하는 경우에 적합하다."
   ],
   "id": "81e4f686bdc23e0c"
  },
  {
   "metadata": {},
   "cell_type": "markdown",
   "source": [
    "자산가격결정론을 기반으로 자산의 기대수익률을 구하는 class를 작성해 보자. 모델은 아래의 식을 따른다.\n",
    "\n",
    "**Capital Asset Pricing Model (CAPM)**\n",
    "\n",
    "$$R_i - R_f = \\alpha + \\beta (R_m - R_f) + \\varepsilon$$\n",
    "\n",
    "$\\beta$는 시장 대비 위험 수준을 나타내는 것으로, 1보다 큰 경우 시장보다 위험한 자산, 1보다 작은 경우 시장보다 위험이 적은 자산이라고 보면 된다."
   ],
   "id": "d2d9a4e6bf851d58"
  },
  {
   "metadata": {
    "ExecuteTime": {
     "end_time": "2025-01-25T11:34:17.357963Z",
     "start_time": "2025-01-25T11:34:17.355838Z"
    }
   },
   "cell_type": "code",
   "source": [
    "class SimpleAssetPricing_demo :\n",
    "    def __init__(self, rf:float, rm:float, beta:float) -> None:\n",
    "        self.rf = rf\n",
    "        self.rm = rm\n",
    "        self.beta = beta\n",
    "    \n",
    "    def capm(self):\n",
    "        result = self.rf + self.beta * self.rm\n",
    "        return result"
   ],
   "id": "ed646e839618241",
   "outputs": [],
   "execution_count": 22
  },
  {
   "metadata": {
    "ExecuteTime": {
     "end_time": "2025-01-25T11:34:17.654927Z",
     "start_time": "2025-01-25T11:34:17.653094Z"
    }
   },
   "cell_type": "code",
   "source": "obj1 = SimpleAssetPricing_demo(0.01, 0.1, 1.2)",
   "id": "3be85cb8a6e85d53",
   "outputs": [],
   "execution_count": 23
  },
  {
   "metadata": {
    "ExecuteTime": {
     "end_time": "2025-01-25T11:34:17.870967Z",
     "start_time": "2025-01-25T11:34:17.868719Z"
    }
   },
   "cell_type": "code",
   "source": "obj1.capm()",
   "id": "e960fb234dd37fcb",
   "outputs": [
    {
     "data": {
      "text/plain": [
       "0.13"
      ]
     },
     "execution_count": 24,
     "metadata": {},
     "output_type": "execute_result"
    }
   ],
   "execution_count": 24
  },
  {
   "metadata": {
    "ExecuteTime": {
     "end_time": "2025-01-25T11:34:21.609825Z",
     "start_time": "2025-01-25T11:34:21.607296Z"
    }
   },
   "cell_type": "code",
   "source": [
    "class SimpleAssetPricing :\n",
    "    \"\"\"\n",
    "    자산가격모형(Asset Pricing Model)을 다루는 예시 클래스.\n",
    "    CAPM, Fama-French 3-factor, Fama-French 5-factor 모델 등을\n",
    "    간단히 정적 메서드(static method)로 구현한다.\n",
    "    \"\"\"\n",
    "    \n",
    "    @staticmethod\n",
    "    def capital_asset_pricing_model(rf: float, rm: float, beta: float) -> float:\n",
    "        \"\"\"\n",
    "        Capital Asset Pricing Model (CAPM):\n",
    "        E(Ri) = Rf + Beta * (Rm - Rf)\n",
    "        \n",
    "        parmas:\n",
    "        rf   : Risk-free rate\n",
    "        rm   : Market return\n",
    "        beta : beta of security\n",
    "        \n",
    "        returns:\n",
    "        expected returns (estimated CAPM)\n",
    "        \"\"\"\n",
    "        return rf + beta * (rm - rf)"
   ],
   "id": "dfc33bee9412f80b",
   "outputs": [],
   "execution_count": 25
  },
  {
   "metadata": {
    "ExecuteTime": {
     "end_time": "2025-01-25T11:34:29.791609Z",
     "start_time": "2025-01-25T11:34:29.789384Z"
    }
   },
   "cell_type": "code",
   "source": "SimpleAssetPricing.capital_asset_pricing_model(0.01, 0.1, 1.2)",
   "id": "cd298a77ab9f9265",
   "outputs": [
    {
     "data": {
      "text/plain": [
       "0.11800000000000001"
      ]
     },
     "execution_count": 26,
     "metadata": {},
     "output_type": "execute_result"
    }
   ],
   "execution_count": 26
  },
  {
   "metadata": {},
   "cell_type": "markdown",
   "source": "static method만 사용된 클래스이기 때문에 인스턴스화를 하지 않아도 사용이 가능하다.",
   "id": "db21bf09e4912d72"
  },
  {
   "metadata": {
    "ExecuteTime": {
     "end_time": "2025-01-25T11:34:40.126697Z",
     "start_time": "2025-01-25T11:34:40.124192Z"
    }
   },
   "cell_type": "code",
   "source": [
    "SimpleAssetPricing.capital_asset_pricing_model(\n",
    "    rf = 0.02, \n",
    "    rm = 0.125,\n",
    "    beta = 1.2\n",
    ") # staticmethod인 경우 instance화를 따로 하지 않아도 사용이 가능하다."
   ],
   "id": "97f62e57d92c82e4",
   "outputs": [
    {
     "data": {
      "text/plain": [
       "0.146"
      ]
     },
     "execution_count": 27,
     "metadata": {},
     "output_type": "execute_result"
    }
   ],
   "execution_count": 27
  },
  {
   "metadata": {},
   "cell_type": "markdown",
   "source": [
    "### Inheritance\n",
    "\n",
    "- 상속은 기존 클래스(부모 클래스 또는 슈퍼클래스)의 속성과 메서드를 그대로 물려받아, **새로운 클래스(자식 클래스 또는 서브클래스)** 를 만드는 개념이다. \n",
    "- 상속을 통해 코드 재사용성을 높이고, 유지보수를 용이하게 할 수 있다. \n",
    "- 우리가 사용하는 대부분의 라이브러리는 class가 엮여 있는 구조를 띄고 있으며, 주로 공통된 기능을 부모 클래스로 두고 추가기능 혹은 확장된 기능을 자식 클래스에 주어 재사용성을 높이도록 디자인한다."
   ],
   "id": "e35ca9c3eb727c8f"
  },
  {
   "metadata": {},
   "cell_type": "markdown",
   "source": [
    "### Example : Asset Pricing Model\n",
    "\n",
    "증권의 자산가격결정론에 사용되는 추가적인 모형이 다음과 같이 존재한다.\n",
    "\n",
    "- Fama French 3 Factor Model (1993)\n",
    "\n",
    "$$R_i - R_f = \\alpha + \\beta_1 (R_m - R_f) + \\beta_2 \\text{SMB} + \\beta_3 \\text{HML} + \\varepsilon$$\n",
    "\n",
    "- Fama French 5 Factor Model (2015)\n",
    "\n",
    "$$R_i - R_f = \\alpha + \\beta_1 (R_m - R_f) + \\beta_2 \\text{SMB} + \\beta_3 \\text{HML} + \\beta_4 \\text{RMW} + \\beta_5 \\text{CMA} + \\varepsilon$$\n",
    "\n",
    "각 모형을 순서대로 추정하는 클래스를 만들어 보자. `SimpleAssetPricing`으로부터 상속받아 method를 추가해보도록 한다"
   ],
   "id": "154b8443fd35c9ba"
  },
  {
   "metadata": {
    "ExecuteTime": {
     "end_time": "2025-01-25T11:37:21.079572Z",
     "start_time": "2025-01-25T11:37:21.075641Z"
    }
   },
   "cell_type": "code",
   "source": [
    "class MultinomialAssetPricing(SimpleAssetPricing) : # inheritance\n",
    "    @staticmethod\n",
    "    def fama_french_3_factor(\n",
    "            rf: float, factors : list, coefs : list\n",
    "        ) -> float :\n",
    "        \"\"\"\n",
    "        Fama-French 3-Factor Model:\n",
    "        E(Ri) = Rf + Beta(Rm - Rf) + SMB_coef * SMB_factor + HML_coef * HML_factor\n",
    "        \n",
    "        :param rf: Risk-free rate\n",
    "        :param factors: risk factors, e.g. [Rm-Rf, SMB, HML]\n",
    "        :param coefs: coefficients of risk factors, e.g. [Rm-Rf, SMB, HML]\n",
    "        :return: expected returns (estimated 3 factor model)\n",
    "        \"\"\"\n",
    "        rm, smb_factor, hml_factor = factors\n",
    "        beta, smb_coef, hml_coef = coefs\n",
    "        \n",
    "        market_premium = beta * (rm - rf)\n",
    "        smb_premium = smb_coef * smb_factor\n",
    "        hml_premium = hml_coef * hml_factor\n",
    "        \n",
    "        return rf + market_premium + smb_premium + hml_premium\n",
    "\n",
    "    @staticmethod\n",
    "    def fama_french_5_factor(\n",
    "            rf : float, factors : list, coefs : list\n",
    "        ) -> float :\n",
    "        \"\"\"\n",
    "        Fama-French 5-Factor Model:\n",
    "        E(Ri) = Rf + Beta(Rm - Rf) \n",
    "                + SMB_coef * SMB_factor\n",
    "                + HML_coef * HML_factor\n",
    "                + RMW_coef * RMW_factor\n",
    "                + CMA_coef * CMA_factor\n",
    "        :param rf: Risk-free rate\n",
    "        :param factors: risk factors, e.g. [Rm-Rf, SMB, HML, RMW, CMA]\n",
    "        :param coefs: coefficients of risk factors, e.g. [Rm-Rf, SMB, HML, RMW, CMA]\n",
    "        :return: expected returns (estimated 5 factor model)\n",
    "        \"\"\"\n",
    "        \n",
    "        rm, smb_factor, hml_factor, rmw_factor, cma_factor = factors\n",
    "        beta, smb_coef, hml_coef, rmw_coef, cma_coef = coefs\n",
    "        \n",
    "        market_premium = beta * (rm - rf)\n",
    "        smb_premium = smb_coef * smb_factor\n",
    "        hml_premium = hml_coef * hml_factor\n",
    "        rmw_premium = rmw_coef * rmw_factor\n",
    "        cma_premium = cma_coef * cma_factor\n",
    "        \n",
    "        return rf + market_premium + smb_premium + hml_premium + rmw_premium + cma_premium"
   ],
   "id": "a5b87e0e04a84c0b",
   "outputs": [],
   "execution_count": 28
  },
  {
   "metadata": {
    "ExecuteTime": {
     "end_time": "2025-01-25T11:37:21.351482Z",
     "start_time": "2025-01-25T11:37:21.348986Z"
    }
   },
   "cell_type": "code",
   "source": [
    "MultinomialAssetPricing.capital_asset_pricing_model(\n",
    "    rf = 0.02, \n",
    "    rm = 0.125,\n",
    "    beta = 1.2\n",
    ") # 부모 클래스의 메소드 사용 가능"
   ],
   "id": "34054f8b9980fb50",
   "outputs": [
    {
     "data": {
      "text/plain": [
       "0.146"
      ]
     },
     "execution_count": 29,
     "metadata": {},
     "output_type": "execute_result"
    }
   ],
   "execution_count": 29
  },
  {
   "metadata": {
    "ExecuteTime": {
     "end_time": "2025-01-25T11:37:21.772316Z",
     "start_time": "2025-01-25T11:37:21.769911Z"
    }
   },
   "cell_type": "code",
   "source": [
    "MultinomialAssetPricing.fama_french_3_factor(\n",
    "    rf = 0.02,\n",
    "    factors = [0.125, 0.085, 0.11],\n",
    "    coefs = [1.2, -0.13, 0.85]\n",
    ")"
   ],
   "id": "ca29b36535f793e4",
   "outputs": [
    {
     "data": {
      "text/plain": [
       "0.22845"
      ]
     },
     "execution_count": 30,
     "metadata": {},
     "output_type": "execute_result"
    }
   ],
   "execution_count": 30
  },
  {
   "metadata": {
    "ExecuteTime": {
     "end_time": "2025-01-25T11:37:40.083321Z",
     "start_time": "2025-01-25T11:37:40.074510Z"
    }
   },
   "cell_type": "code",
   "source": [
    "SimpleAssetPricing.fama_french_3_factor(\n",
    "    rf = 0.02,\n",
    "    factors = [0.125, 0.085, 0.11],\n",
    "    coefs = [1.2, -0.13, 0.85]\n",
    ")"
   ],
   "id": "c900f19872cf12ad",
   "outputs": [
    {
     "ename": "AttributeError",
     "evalue": "type object 'SimpleAssetPricing' has no attribute 'fama_french_3_factor'",
     "output_type": "error",
     "traceback": [
      "\u001B[0;31m---------------------------------------------------------------------------\u001B[0m",
      "\u001B[0;31mAttributeError\u001B[0m                            Traceback (most recent call last)",
      "Cell \u001B[0;32mIn[31], line 1\u001B[0m\n\u001B[0;32m----> 1\u001B[0m SimpleAssetPricing\u001B[38;5;241m.\u001B[39mfama_french_3_factor(\n\u001B[1;32m      2\u001B[0m     rf \u001B[38;5;241m=\u001B[39m \u001B[38;5;241m0.02\u001B[39m,\n\u001B[1;32m      3\u001B[0m     factors \u001B[38;5;241m=\u001B[39m [\u001B[38;5;241m0.125\u001B[39m, \u001B[38;5;241m0.085\u001B[39m, \u001B[38;5;241m0.11\u001B[39m],\n\u001B[1;32m      4\u001B[0m     coefs \u001B[38;5;241m=\u001B[39m [\u001B[38;5;241m1.2\u001B[39m, \u001B[38;5;241m-\u001B[39m\u001B[38;5;241m0.13\u001B[39m, \u001B[38;5;241m0.85\u001B[39m]\n\u001B[1;32m      5\u001B[0m )\n",
      "\u001B[0;31mAttributeError\u001B[0m: type object 'SimpleAssetPricing' has no attribute 'fama_french_3_factor'"
     ]
    }
   ],
   "execution_count": 31
  },
  {
   "metadata": {},
   "cell_type": "markdown",
   "source": [
    "### Abstraction\n",
    "\n",
    "- 객체에서 불필요한 내부 구현을 감추고, 핵심적인 인터페이스만 보이도록 하는 것을 말한다.\n",
    "- “어떤 공통점만 뽑아 설계할지”를 고민해, 복잡도를 줄이고 코드 재사용성을 높이는 것을 목적으로 한다."
   ],
   "id": "5fb62b5ede873013"
  },
  {
   "metadata": {},
   "cell_type": "code",
   "outputs": [],
   "execution_count": null,
   "source": "",
   "id": "5e2e48496c0c7eac"
  },
  {
   "metadata": {},
   "cell_type": "markdown",
   "source": [
    "### Example : Option Pricing\n",
    "\n",
    "옵션의 가격결정론에는 크게 두 가지 모형이 존재한다. 하나는 이항나무 모형 (Binomial Tree)이며, 다른 하나는 자산가격을 무한히 많은 이산적인 가격으로 가정하여 도출하는 Black Scholes Model이다. \n",
    "\n",
    "생성자를 부모 클래스에서 생성하고, method를 인터페이스화한 클래스로부터 각 기능들은 자식 클래스로 구현해 보자."
   ],
   "id": "5945f45077d7d89f"
  },
  {
   "metadata": {
    "ExecuteTime": {
     "end_time": "2025-01-25T11:40:17.920276Z",
     "start_time": "2025-01-25T11:40:17.917555Z"
    }
   },
   "cell_type": "code",
   "source": [
    "from abc import ABC, abstractmethod\n",
    "\n",
    "class OptionPricing(ABC) :\n",
    "    def __init__(\n",
    "            self, S : float,\n",
    "            K : float,\n",
    "            r : float,\n",
    "            T : float,\n",
    "            sigma : float\n",
    "        ) -> None :\n",
    "        \"\"\"\n",
    "        옵션 가격 계산을 위한 공통 속성을 생성하는 initializer\n",
    "        :param S: 기초 자산 가격\n",
    "        :param K: 행사가격\n",
    "        :param r: 무위험 이자율 (연간)\n",
    "        :param T: 옵션 만기 (연간)\n",
    "        :param sigma: 자산 변동성 (연간)\n",
    "        \"\"\"\n",
    "        self.S = S\n",
    "        self.K = K\n",
    "        self.r = r\n",
    "        self.T = T\n",
    "        self.sigma = sigma\n",
    "    \n",
    "    @abstractmethod # 후에 상속받은 클래스들이 무조건 생성해야 하는 메서드\n",
    "    def price(self) -> None :\n",
    "        '''\n",
    "        옵션 가격을 생성하는 메서드, 구체적 내용은 자식 클래스에서 구현\n",
    "        :return: None\n",
    "        '''\n",
    "        pass"
   ],
   "id": "bd94552a33599c2",
   "outputs": [],
   "execution_count": 33
  },
  {
   "metadata": {},
   "cell_type": "markdown",
   "source": "abstract class는 미완성된 클래스이기 때문에 인스턴스화 시킬 수 없다. 단순히 인터페이스를 구현하기 위해 존재하므로, 직접 객체를 생성할 수 없기 때문에 인스턴스화를 시도하면 Type Error가 발생한다.",
   "id": "39501309c0c85352"
  },
  {
   "metadata": {
    "ExecuteTime": {
     "end_time": "2025-01-25T11:40:18.770066Z",
     "start_time": "2025-01-25T11:40:18.763237Z"
    }
   },
   "cell_type": "code",
   "source": [
    "temp_option = OptionPricing(\n",
    "    S = 125.25,\n",
    "    K = 120,\n",
    "    r = 0.05,\n",
    "    T = 252,\n",
    "    sigma = 0.16\n",
    ") # abstract method는 instance화 시킬 수 없다."
   ],
   "id": "d9ca22e44cda5a87",
   "outputs": [
    {
     "ename": "TypeError",
     "evalue": "Can't instantiate abstract class OptionPricing with abstract method price",
     "output_type": "error",
     "traceback": [
      "\u001B[0;31m---------------------------------------------------------------------------\u001B[0m",
      "\u001B[0;31mTypeError\u001B[0m                                 Traceback (most recent call last)",
      "Cell \u001B[0;32mIn[34], line 1\u001B[0m\n\u001B[0;32m----> 1\u001B[0m temp_option \u001B[38;5;241m=\u001B[39m OptionPricing(\n\u001B[1;32m      2\u001B[0m     S \u001B[38;5;241m=\u001B[39m \u001B[38;5;241m125.25\u001B[39m,\n\u001B[1;32m      3\u001B[0m     K \u001B[38;5;241m=\u001B[39m \u001B[38;5;241m120\u001B[39m,\n\u001B[1;32m      4\u001B[0m     r \u001B[38;5;241m=\u001B[39m \u001B[38;5;241m0.05\u001B[39m,\n\u001B[1;32m      5\u001B[0m     T \u001B[38;5;241m=\u001B[39m \u001B[38;5;241m252\u001B[39m,\n\u001B[1;32m      6\u001B[0m     sigma \u001B[38;5;241m=\u001B[39m \u001B[38;5;241m0.16\u001B[39m\n\u001B[1;32m      7\u001B[0m )\n",
      "\u001B[0;31mTypeError\u001B[0m: Can't instantiate abstract class OptionPricing with abstract method price"
     ]
    }
   ],
   "execution_count": 34
  },
  {
   "metadata": {},
   "cell_type": "markdown",
   "source": "abstract class는 아래와 같이 무조건 상속받는 클래스를 생성해 사용해야 한다. 이때, 같은 메서드를 사용하여 자식 클래스의 메서드로 덮어쓰는 것을 **over-riding**이라고 한다.",
   "id": "1d7299a452ab5030"
  },
  {
   "metadata": {
    "ExecuteTime": {
     "end_time": "2025-01-25T11:41:48.944186Z",
     "start_time": "2025-01-25T11:41:48.306315Z"
    }
   },
   "cell_type": "code",
   "source": [
    "import numpy as np\n",
    "from scipy.stats import norm\n",
    "\n",
    "class BlackScholesModel(OptionPricing):\n",
    "    # initializer는 이미 부모 클래스가 생성하였으므로 생략할 수 있다.\n",
    "    # def __init__(self):\n",
    "    \n",
    "    def price(self, option_type : str = \"call\") -> float : # 이름이 같은 method를 생성한다.\n",
    "        '''\n",
    "        black scholes model에서 옵션 가격을 계산하는 Method\n",
    "        :param option_type: choose option type (call or put)\n",
    "        :return: \n",
    "        '''\n",
    "        d1 = (np.log(self.S / self.K) + (self.r + 0.5 * self.sigma ** 2) * self.T) / (self.sigma * np.sqrt(self.T))\n",
    "        d2 = d1 - self.sigma * np.sqrt(self.T)\n",
    "\n",
    "        if option_type == \"call\":\n",
    "            return self.S * norm.cdf(d1) - self.K * np.exp(-self.r * self.T) * norm.cdf(d2)\n",
    "        elif option_type == \"put\":\n",
    "            return self.K * np.exp(-self.r * self.T) * norm.cdf(-d2) - self.S * norm.cdf(-d1)\n",
    "        else:\n",
    "            raise ValueError(\"Invalid option type. Use 'call' or 'put'.\")"
   ],
   "id": "df718a0451669c3e",
   "outputs": [],
   "execution_count": 35
  },
  {
   "metadata": {
    "ExecuteTime": {
     "end_time": "2025-01-25T11:41:52.129159Z",
     "start_time": "2025-01-25T11:41:52.127068Z"
    }
   },
   "cell_type": "code",
   "source": [
    "bl_option = BlackScholesModel(\n",
    "    S = 125.25, \n",
    "    K = 120,\n",
    "    r = 0.05,\n",
    "    T = 252,\n",
    "    sigma = 0.16\n",
    ") # initializer는 parent class의 initializer를 사용한다"
   ],
   "id": "c05807c108ff1fd3",
   "outputs": [],
   "execution_count": 36
  },
  {
   "metadata": {
    "ExecuteTime": {
     "end_time": "2025-01-25T11:42:02.184394Z",
     "start_time": "2025-01-25T11:42:02.181198Z"
    }
   },
   "cell_type": "code",
   "source": "bl_option.price(option_type = 'call')",
   "id": "cfe097c7ed9d50c2",
   "outputs": [
    {
     "data": {
      "text/plain": [
       "125.24959537438835"
      ]
     },
     "execution_count": 37,
     "metadata": {},
     "output_type": "execute_result"
    }
   ],
   "execution_count": 37
  },
  {
   "metadata": {
    "ExecuteTime": {
     "end_time": "2025-01-25T11:42:04.669989Z",
     "start_time": "2025-01-25T11:42:04.667241Z"
    }
   },
   "cell_type": "code",
   "source": "bl_option.price(option_type = 'put')",
   "id": "782e865368db5fee",
   "outputs": [
    {
     "data": {
      "text/plain": [
       "1.621644999436893e-08"
      ]
     },
     "execution_count": 38,
     "metadata": {},
     "output_type": "execute_result"
    }
   ],
   "execution_count": 38
  },
  {
   "metadata": {},
   "cell_type": "markdown",
   "source": "intializer를 새롭게 업데이트하여 사용할 수 있다. super call 또는 슈퍼 클래스 생성자 호출 연산인 `super()`을 사용하면 자식 클래스에서 부모 클래스의 initializer에 접근하여 인자를 추가할 수 있다.",
   "id": "f8a06d7408951222"
  },
  {
   "metadata": {
    "ExecuteTime": {
     "end_time": "2025-01-25T11:43:12.910891Z",
     "start_time": "2025-01-25T11:43:12.906305Z"
    }
   },
   "cell_type": "code",
   "source": [
    "class BinomialTreeModel(OptionPricing):\n",
    "    def __init__(self, S, K, r, T, sigma, N) -> None :\n",
    "        super().__init__(S, K, r, T, sigma) # 부모 클래스에 접근하여 생성자를 초기화. 자식 클래스에서 parameter 추가가 가능\n",
    "        self.N = N  \n",
    "\n",
    "    def price(self, option_type : str = \"call\") -> float:\n",
    "        '''\n",
    "        binomial tree 모형을 이용한 옵션 가격 결정\n",
    "        :param option_type: choose option type (call or put)\n",
    "        :return: option price (float)\n",
    "        '''\n",
    "        dt = self.T / self.N\n",
    "        u = np.exp(self.sigma * np.sqrt(dt))  # 상승 비율\n",
    "        d = 1 / u  # 하락 비율\n",
    "        p = (np.exp(self.r * dt) - d) / (u - d)  # 리스크 중립 확률\n",
    "\n",
    "        # 가격 트리 생성\n",
    "        option_values = np.zeros(self.N + 1)\n",
    "        for j in range(self.N + 1):\n",
    "            stock_price = self.S * (u ** (self.N - j)) * (d ** j)\n",
    "            option_values[j] = max(0, stock_price - self.K if option_type == \"call\" else self.K - stock_price)\n",
    "\n",
    "        # 역순으로 트리 작업 수행\n",
    "        for i in range(self.N - 1, -1, -1):\n",
    "            for j in range(i + 1):\n",
    "                option_values[j] = (p * option_values[j] + (1 - p) * option_values[j + 1]) * np.exp(-self.r * dt)\n",
    "\n",
    "        return option_values[0]"
   ],
   "id": "77c4dd7ef9cad8fa",
   "outputs": [],
   "execution_count": 39
  },
  {
   "metadata": {
    "ExecuteTime": {
     "end_time": "2025-01-25T11:43:13.557405Z",
     "start_time": "2025-01-25T11:43:13.555604Z"
    }
   },
   "cell_type": "code",
   "source": [
    "tree_option = BinomialTreeModel(\n",
    "    S = 125.25,\n",
    "    K = 120,\n",
    "    r = 0.05,\n",
    "    T = 252,\n",
    "    sigma = 0.16,\n",
    "    N = 10 # tree depth\n",
    ") # initializer는 parent class의 initializer를 사용한다"
   ],
   "id": "fd6156beff834031",
   "outputs": [],
   "execution_count": 40
  },
  {
   "metadata": {
    "ExecuteTime": {
     "end_time": "2025-01-25T11:43:16.197560Z",
     "start_time": "2025-01-25T11:43:16.194991Z"
    }
   },
   "cell_type": "code",
   "source": "tree_option.price(option_type = 'call')",
   "id": "dcd6a6ab99d93dfe",
   "outputs": [
    {
     "data": {
      "text/plain": [
       "125.31412413198159"
      ]
     },
     "execution_count": 41,
     "metadata": {},
     "output_type": "execute_result"
    }
   ],
   "execution_count": 41
  },
  {
   "metadata": {
    "ExecuteTime": {
     "end_time": "2025-01-25T11:43:22.105887Z",
     "start_time": "2025-01-25T11:43:22.103438Z"
    }
   },
   "cell_type": "code",
   "source": "tree_option.price(option_type = 'put')",
   "id": "a47e57d59f5774ab",
   "outputs": [
    {
     "data": {
      "text/plain": [
       "0.06452877380955661"
      ]
     },
     "execution_count": 42,
     "metadata": {},
     "output_type": "execute_result"
    }
   ],
   "execution_count": 42
  },
  {
   "metadata": {},
   "cell_type": "markdown",
   "source": [
    "### Polymorphism\n",
    "\n",
    "- 부모 클래스에 있는 메서드를 자식 클래스가 같은 이름·시그니처로 재정의하는 것을 말한다.\n",
    "- over-riding은 그중 한 예로, 부모 클래스를 상속 받은 자식 클래스에 동일한 메서드를 작성해 기능을 바꾸는 것을 말한다.\n",
    "- 다형성(Polymorphism)의 핵심: 자식 클래스 객체에 맞게 동작을 변경"
   ],
   "id": "bb0fb4e0fc61effd"
  },
  {
   "metadata": {
    "ExecuteTime": {
     "end_time": "2025-01-25T11:44:53.330498Z",
     "start_time": "2025-01-25T11:44:53.327435Z"
    }
   },
   "cell_type": "code",
   "source": [
    "class OptionPricing(ABC) :\n",
    "    def __init__(\n",
    "            self, S : float,\n",
    "            K : float,\n",
    "            r : float,\n",
    "            T : float,\n",
    "            sigma : float\n",
    "        ) -> None :\n",
    "        \"\"\"\n",
    "        옵션 가격 계산을 위한 공통 속성을 생성하는 initializer\n",
    "        :param S: 기초 자산 가격\n",
    "        :param K: 행사가격\n",
    "        :param r: 무위험 이자율 (연간)\n",
    "        :param T: 옵션 만기 (연간)\n",
    "        :param sigma: 자산 변동성 (연간)\n",
    "        \"\"\"\n",
    "        self.S = S\n",
    "        self.K = K\n",
    "        self.r = r\n",
    "        self.T = T\n",
    "        self.sigma = sigma\n",
    "    \n",
    "    @abstractmethod # 후에 상속받은 클래스들이 무조건 생성해야 하는 메서드\n",
    "    def price(self) -> None :\n",
    "        '''\n",
    "        옵션 가격을 생성하는 메서드, 구체적 내용은 자식 클래스에서 구현\n",
    "        :return: None\n",
    "        '''\n",
    "        pass\n",
    "\n",
    "class Risk(ABC):\n",
    "    def __init__(self, S, K, r, T, sigma):\n",
    "        self.S = S\n",
    "        self.K = K\n",
    "        self.r = r\n",
    "        self.T = T\n",
    "        self.sigma = sigma\n",
    "        \n",
    "    @abstractmethod\n",
    "    def calculate_greeks(self) -> None :\n",
    "        '''\n",
    "        옵션의 Greek 값(델타, 감마 등)을 계산\n",
    "        :return: None\n",
    "        '''\n",
    "        pass"
   ],
   "id": "4d405c32c92c55a0",
   "outputs": [],
   "execution_count": 43
  },
  {
   "metadata": {
    "ExecuteTime": {
     "end_time": "2025-01-25T11:46:45.016611Z",
     "start_time": "2025-01-25T11:46:45.012917Z"
    }
   },
   "cell_type": "code",
   "source": [
    "class BlackScholesModel(OptionPricing, Risk):\n",
    "    def price(self, option_type : str = \"call\") -> float : # 이름이 같은 method를 생성한다.\n",
    "        '''\n",
    "        black scholes model에서 옵션 가격을 계산하는 Method\n",
    "        :param option_type: choose option type (call or put)\n",
    "        :return: \n",
    "        '''\n",
    "        d1 = (np.log(self.S / self.K) + (self.r + 0.5 * self.sigma ** 2) * self.T) / (self.sigma * np.sqrt(self.T))\n",
    "        d2 = d1 - self.sigma * np.sqrt(self.T)\n",
    "\n",
    "        if option_type == \"call\":\n",
    "            return self.S * norm.cdf(d1) - self.K * np.exp(-self.r * self.T) * norm.cdf(d2)\n",
    "        elif option_type == \"put\":\n",
    "            return self.K * np.exp(-self.r * self.T) * norm.cdf(-d2) - self.S * norm.cdf(-d1)\n",
    "        else:\n",
    "            raise ValueError(\"Invalid option type. Use 'call' or 'put'.\")\n",
    "\n",
    "class Greeks(Risk):\n",
    "    def __init__(self) -> None:\n",
    "        super().__init__()\n",
    "        \n",
    "    def calculate_greeks(self):\n",
    "        '''\n",
    "        delta, gamma를 계산하는 method\n",
    "        :return: Delta, Gamma (dict형태)\n",
    "        '''\n",
    "        d1 = (np.log(self.S / self.K) + (self.r + 0.5 * self.sigma ** 2) * self.T) / (self.sigma * np.sqrt(self.T))\n",
    "        delta = norm.cdf(d1)\n",
    "        gamma = norm.pdf(d1) / (self.S * self.sigma * np.sqrt(self.T))\n",
    "        return {\"Delta\": delta, \"Gamma\": gamma}"
   ],
   "id": "7be1f99b86656f37",
   "outputs": [],
   "execution_count": 45
  },
  {
   "metadata": {
    "ExecuteTime": {
     "end_time": "2025-01-25T11:46:45.304985Z",
     "start_time": "2025-01-25T11:46:45.302770Z"
    }
   },
   "cell_type": "code",
   "source": [
    "class Option(BlackScholesModel, Greeks):\n",
    "    def get_option_details(self, option_type : str = \"call\") -> dict :\n",
    "        price = self.price(option_type)\n",
    "        greeks = self.calculate_greeks()\n",
    "        return {\n",
    "            \"Option Price\": price,\n",
    "            \"Delta\": greeks[\"Delta\"],\n",
    "            \"Gamma\": greeks[\"Gamma\"]\n",
    "        }"
   ],
   "id": "d3898aa637320d09",
   "outputs": [],
   "execution_count": 46
  },
  {
   "metadata": {
    "ExecuteTime": {
     "end_time": "2025-01-25T11:46:46.941239Z",
     "start_time": "2025-01-25T11:46:46.939259Z"
    }
   },
   "cell_type": "code",
   "source": [
    "option = Option(\n",
    "    S = 125.25,\n",
    "    K = 120,\n",
    "    r = 0.05,\n",
    "    T = 252,\n",
    "    sigma = 0.16,\n",
    ") # initializer는 BlackScholesModel과 Greeks모두 동등한 parameter를 가지고 있으므로 두 클래스에 사용된 initializer를 생성"
   ],
   "id": "ef376ed1847e7876",
   "outputs": [],
   "execution_count": 47
  },
  {
   "metadata": {
    "ExecuteTime": {
     "end_time": "2025-01-25T11:46:53.035076Z",
     "start_time": "2025-01-25T11:46:53.031878Z"
    }
   },
   "cell_type": "code",
   "source": "option.get_option_details() # Option class의 method",
   "id": "925410e362b8f03",
   "outputs": [
    {
     "data": {
      "text/plain": [
       "{'Option Price': 125.24959537438835,\n",
       " 'Delta': 0.9999999997916005,\n",
       " 'Gamma': 4.192785657583612e-12}"
      ]
     },
     "execution_count": 48,
     "metadata": {},
     "output_type": "execute_result"
    }
   ],
   "execution_count": 48
  },
  {
   "metadata": {
    "ExecuteTime": {
     "end_time": "2025-01-25T11:46:57.514276Z",
     "start_time": "2025-01-25T11:46:57.511251Z"
    }
   },
   "cell_type": "code",
   "source": "option.calculate_greeks() # Risk class의 method",
   "id": "129a2ee0e58983f",
   "outputs": [
    {
     "data": {
      "text/plain": [
       "{'Delta': 0.9999999997916005, 'Gamma': 4.192785657583612e-12}"
      ]
     },
     "execution_count": 49,
     "metadata": {},
     "output_type": "execute_result"
    }
   ],
   "execution_count": 49
  },
  {
   "metadata": {
    "ExecuteTime": {
     "end_time": "2025-01-25T11:47:01.565977Z",
     "start_time": "2025-01-25T11:47:01.563209Z"
    }
   },
   "cell_type": "code",
   "source": "option.price('call') # BlackScholesModel의 method",
   "id": "d4002cd841ca7acb",
   "outputs": [
    {
     "data": {
      "text/plain": [
       "125.24959537438835"
      ]
     },
     "execution_count": 50,
     "metadata": {},
     "output_type": "execute_result"
    }
   ],
   "execution_count": 50
  },
  {
   "metadata": {},
   "cell_type": "markdown",
   "source": [
    "### Overloading\n",
    "\n",
    "- 오버로딩은 동일한 이름의 메서드를, 매개변수(파라미터)의 타입·개수·순서에 따라 여러 버전으로 정의하는 것을 말한다. \n",
    "- Python은 메서드/함수 오버로딩을 언어 차원에서 공식 지원하지 않는다. (가장 최근에 정의한 동일 이름의 함수가 앞선 정의를 아예 덮어쓰게 된다.) \n",
    "- 다만, 디스패치 라이브러리나 매개변수 기본값(args, kwargs) 등을 활용한 유사 오버로딩 패턴을 사용할 수 있다."
   ],
   "id": "94d0fb749b16ae71"
  },
  {
   "metadata": {},
   "cell_type": "markdown",
   "source": [
    "int temp(int i1, int i2) {\n",
    "    ....\n",
    "}\n",
    "\n",
    "int temp(int i1, int i2, int i3) {\n",
    "    ....\n",
    "}\n",
    "\n",
    "temp(1, 2)\n",
    "tmpe(1,2,3)"
   ],
   "id": "1d01ac0926b72081"
  },
  {
   "metadata": {},
   "cell_type": "markdown",
   "source": [
    "#### 가변 위치 인자 `*args`\n",
    "\n",
    "- 여러 개의 **위치 인자(positional arguments)** 를 함수에 전달할 때 사용\n",
    "- 함수 내부에서 `*args`는 튜플(tuple) 형태로 값을 저장\n",
    "- 인자의 개수를 정해놓을 필요 없이 동적으로 처리 가능\n",
    "\n",
    "`*args` 사용 시 튜플을 통해 함수 혹은 method에 전달되며, 순차적으로 처리됨에 유의한다."
   ],
   "id": "7bacea808bbef113"
  },
  {
   "metadata": {},
   "cell_type": "markdown",
   "source": [
    "#### 가변 키워드 인자 `**kargs`\n",
    "\n",
    "- 여러 개의 **키워드 인자(keyword arguments, 예: key=value)**를 함수에 전달할 때 사용\n",
    "- 함수 내부에서 `**kwargs`는 딕셔너리(dictionary) 형태로 값을 저장\n",
    "- 특정 이름을 가진 변수를 전달할 때 유용\n",
    "\n",
    "`**kargs` 호출 시 dictionary 형태로 전달되며, key-value pair를 통해 특정 인자를 선택적으로 접근할 수 있다."
   ],
   "id": "6aa4426e670901ce"
  },
  {
   "metadata": {
    "ExecuteTime": {
     "end_time": "2025-01-24T10:23:47.108609Z",
     "start_time": "2025-01-24T10:23:47.105124Z"
    }
   },
   "cell_type": "code",
   "source": [
    "class FinancialCalculator:\n",
    "    def calculate(self, operation, *args, **kwargs):\n",
    "        \"\"\"\n",
    "        금융 계산 수행 (NPV, IRR, Future Value 등)\n",
    "        \n",
    "        - operation: 'npv', 'fv', 'pv', 'irr'\n",
    "        - *args: 가변 인자로 현금 흐름, 금리 등을 입력\n",
    "        - **kwargs: 키워드 인자로 추가 매개변수 입력 (예: discount_rate, periods 등)\n",
    "        \"\"\"\n",
    "        if operation == \"npv\":\n",
    "            return self.calculate_npv(*args, **kwargs)\n",
    "        elif operation == \"fv\":\n",
    "            return self.calculate_fv(*args, **kwargs)\n",
    "        elif operation == \"pv\":\n",
    "            return self.calculate_pv(*args, **kwargs)\n",
    "        else:\n",
    "            raise ValueError(\"지원되지 않는 연산입니다. 사용 가능한 연산: 'npv', 'fv', 'pv'.\")\n",
    "\n",
    "    def calculate_npv(self, discount_rate, *cash_flows):\n",
    "        \"\"\"NPV (Net Present Value, 순현재가치) 계산\"\"\"\n",
    "        return sum(cf / (1 + discount_rate) ** i for i, cf in enumerate(cash_flows, start=1))\n",
    "\n",
    "    def calculate_fv(self, present_value, rate, periods):\n",
    "        \"\"\"FV (Future Value, 미래 가치) 계산\"\"\"\n",
    "        return present_value * (1 + rate) ** periods\n",
    "\n",
    "    def calculate_pv(self, future_value, rate, periods):\n",
    "        \"\"\"PV (Present Value, 현재 가치) 계산\"\"\"\n",
    "        return future_value / (1 + rate) ** periods"
   ],
   "id": "161814f8518213da",
   "outputs": [],
   "execution_count": 60
  },
  {
   "metadata": {
    "ExecuteTime": {
     "end_time": "2025-01-25T10:41:36.681809Z",
     "start_time": "2025-01-25T10:41:36.677157Z"
    }
   },
   "cell_type": "code",
   "source": "obj = FinancialCalculator()",
   "id": "8882522bb7fa84d8",
   "outputs": [],
   "execution_count": 65
  },
  {
   "metadata": {
    "ExecuteTime": {
     "end_time": "2025-01-25T10:44:09.311692Z",
     "start_time": "2025-01-25T10:44:09.309164Z"
    }
   },
   "cell_type": "code",
   "source": [
    "obj.calculate(\n",
    "    operation = 'npv',\n",
    "    discount_rate = 0.05,\n",
    "    100, 120, 150\n",
    ")"
   ],
   "id": "a6ce0852169a14d4",
   "outputs": [
    {
     "ename": "SyntaxError",
     "evalue": "positional argument follows keyword argument (2601889399.py, line 5)",
     "output_type": "error",
     "traceback": [
      "\u001B[0;36m  Cell \u001B[0;32mIn[67], line 5\u001B[0;36m\u001B[0m\n\u001B[0;31m    )\u001B[0m\n\u001B[0m    ^\u001B[0m\n\u001B[0;31mSyntaxError\u001B[0m\u001B[0;31m:\u001B[0m positional argument follows keyword argument\n"
     ]
    }
   ],
   "execution_count": 67
  },
  {
   "metadata": {},
   "cell_type": "markdown",
   "source": [
    "### Structure\n",
    "\n",
    "- class는 다른 언어(대표적으로 C)에서 데이터를 정의할 때 사용되는 structure랑 비슷한 구조로 사용할 수도 있다.\n",
    "- python에서는 데이터를 그룹화하고, 해당 데이터를 조작하는 메서드를 포함할 수 있어 구조체보다 더 유연한 기능을 제공한다."
   ],
   "id": "28c298cbfc88e40b"
  },
  {
   "metadata": {
    "ExecuteTime": {
     "end_time": "2025-01-25T11:50:56.231148Z",
     "start_time": "2025-01-25T11:50:56.228854Z"
    }
   },
   "cell_type": "code",
   "source": [
    "class Stock:\n",
    "    def __init__(self, symbol: str, price: float, volume: int):\n",
    "        self.symbol = symbol\n",
    "        self.price = price\n",
    "        self.volume = volume\n",
    "\n",
    "    def __repr__(self):\n",
    "        return f\"<{self.__class__.__name__} symbol={self.symbol}, price={self.price}, volume={self.volume}>\""
   ],
   "id": "c915dbe2e717a4b",
   "outputs": [],
   "execution_count": 55
  },
  {
   "metadata": {
    "ExecuteTime": {
     "end_time": "2025-01-25T11:50:56.541687Z",
     "start_time": "2025-01-25T11:50:56.539856Z"
    }
   },
   "cell_type": "code",
   "source": [
    "stock1 = Stock(\"AAPL\", 150.25, 1000)\n",
    "print(stock1)"
   ],
   "id": "7bf2cb25ae4230bc",
   "outputs": [
    {
     "name": "stdout",
     "output_type": "stream",
     "text": [
      "<Stock symbol=AAPL, price=150.25, volume=1000>\n"
     ]
    }
   ],
   "execution_count": 56
  },
  {
   "metadata": {},
   "cell_type": "markdown",
   "source": [
    "#### Example\n",
    "\n",
    "한국 주식 데이터는 naver로부터, 미국 주식 데이터는 yahoo finance로부터 불러오는 `DataLoader` class를 작성해 보자."
   ],
   "id": "48d5d5a0db64b033"
  },
  {
   "metadata": {
    "ExecuteTime": {
     "end_time": "2025-01-25T11:55:31.857685Z",
     "start_time": "2025-01-25T11:55:31.289420Z"
    }
   },
   "cell_type": "code",
   "source": [
    "import yfinance as yf\n",
    "import pandas_datareader as pdr\n",
    "from abc import ABC, abstractmethod\n",
    "import datetime\n",
    "import pandas as pd\n",
    "import numpy as np\n",
    "\n",
    "class DataLoadError(Exception): # error 예외 처리를 위한 class 정의\n",
    "    def __init__(self, message):\n",
    "        self.message = message\n",
    "        super().__init__(self.message)\n",
    "\n",
    "class YahooData(object) :\n",
    "    def __init__(\n",
    "            self, ticker : str, \n",
    "            start : str or datetime.date, \n",
    "            end : str or datetime.date = datetime.date.today(), \n",
    "            interval : str = '1d', \n",
    "            progress : bool = False\n",
    "        ) -> None :\n",
    "        self.ticker = ticker\n",
    "        self.start = start\n",
    "        self.end = end\n",
    "        self.interval = interval\n",
    "        self.progress = progress\n",
    "    \n",
    "    def get_data(self) -> pd.DataFrame :\n",
    "        data = yf.download(\n",
    "            self.ticker, \n",
    "            start=self.start, \n",
    "            end=self.end, \n",
    "            interval=self.interval, \n",
    "            progress = self.progress\n",
    "        )\n",
    "        return data\n",
    "    \n",
    "class NaverData(object) :\n",
    "    def __init__(\n",
    "            self, ticker : str,\n",
    "            start : str or datetime.date, \n",
    "            end : str or datetime.date = datetime.date.today(),\n",
    "            interval : str = '1d', \n",
    "        ) -> None :\n",
    "        self.ticker = ticker\n",
    "        self.start = start\n",
    "        self.end = end\n",
    "        \n",
    "    def get_data(self) -> pd.DataFrame :\n",
    "        data = pdr.DataReader(\n",
    "            self.ticker,\n",
    "            'naver',\n",
    "            start = self.start,\n",
    "            end = self.end\n",
    "        )\n",
    "        data = data.astype(float)\n",
    "        data.index = pd.to_datetime(data.index)\n",
    "        return data\n",
    "\n",
    "class DataLoader() :\n",
    "    def __repr__(self) :\n",
    "        return f\"<{self.__class__.__name__}>\"\n",
    "    \n",
    "    @staticmethod\n",
    "    def get_data(\n",
    "            ticker : str, \n",
    "            start : str or datetime.date, \n",
    "            end : str or datetime.date = datetime.date.today(),\n",
    "            interval : str = '1d', \n",
    "            progress : bool = False\n",
    "        ) -> pd.DataFrame :\n",
    "        print('get from yahoo finance...')\n",
    "        \n",
    "        data = YahooData(\n",
    "            ticker, start, end, interval, progress\n",
    "        ).get_data()\n",
    "        \n",
    "        if len(data) == 0:\n",
    "            print('failed to load data from yahoo, try to get from naver finance...')\n",
    "            data = NaverData(\n",
    "                ticker, start, end\n",
    "            ).get_data()\n",
    "        \n",
    "        if len(data) == 0:\n",
    "            raise DataLoadError('data is empty')\n",
    "            return None\n",
    "        \n",
    "        return data"
   ],
   "id": "64784d4ee9c4ca9a",
   "outputs": [],
   "execution_count": 57
  },
  {
   "metadata": {
    "ExecuteTime": {
     "end_time": "2025-01-25T11:56:09.449387Z",
     "start_time": "2025-01-25T11:56:09.136617Z"
    }
   },
   "cell_type": "code",
   "source": [
    "data = DataLoader.get_data(\n",
    "    ticker = '005930',\n",
    "    start = '2000-01-01',\n",
    "    end = '2025-01-24'\n",
    ")"
   ],
   "id": "4d47f511086d153d",
   "outputs": [
    {
     "name": "stderr",
     "output_type": "stream",
     "text": [
      "\n",
      "1 Failed download:\n",
      "['005930']: Exception('%ticker%: No timezone found, symbol may be delisted')\n"
     ]
    },
    {
     "name": "stdout",
     "output_type": "stream",
     "text": [
      "get from yahoo finance...\n",
      "failed to load data from yahoo, try to get from naver finance...\n"
     ]
    }
   ],
   "execution_count": 59
  },
  {
   "metadata": {
    "ExecuteTime": {
     "end_time": "2025-01-25T11:56:17.197364Z",
     "start_time": "2025-01-25T11:56:16.789363Z"
    }
   },
   "cell_type": "code",
   "source": "data['Close'].plot()",
   "id": "a28c6030aa7d9a1a",
   "outputs": [
    {
     "data": {
      "text/plain": [
       "<Axes: xlabel='Date'>"
      ]
     },
     "execution_count": 61,
     "metadata": {},
     "output_type": "execute_result"
    },
    {
     "data": {
      "text/plain": [
       "<Figure size 640x480 with 1 Axes>"
      ],
      "image/png": "[encoded data removed]"
     },
     "metadata": {},
     "output_type": "display_data"
    }
   ],
   "execution_count": 61
  },
  {
   "metadata": {},
   "cell_type": "code",
   "outputs": [],
   "execution_count": null,
   "source": "",
   "id": "43d9c60c6530bbc7"
  }
 ],
 "metadata": {
  "kernelspec": {
   "display_name": "Python 3",
   "language": "python",
   "name": "python3"
  },
  "language_info": {
   "codemirror_mode": {
    "name": "ipython",
    "version": 2
   },
   "file_extension": ".py",
   "mimetype": "text/x-python",
   "name": "python",
   "nbconvert_exporter": "python",
   "pygments_lexer": "ipython2",
   "version": "2.7.6"
  }
 },
 "nbformat": 4,
 "nbformat_minor": 5
}
