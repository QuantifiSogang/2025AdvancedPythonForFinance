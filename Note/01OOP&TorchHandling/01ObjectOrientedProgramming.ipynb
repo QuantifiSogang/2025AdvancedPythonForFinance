{
 "cells": [
  {
   "metadata": {},
   "cell_type": "markdown",
   "source": [
    "## Object Oriented Programming\n",
    "\n",
    "- 프로그램을 명령어들의 목록이 아니라, 객체들의 모임으로서, 객체와 객체와의 상호관계를 중심으로 작성하자는 패러다임이다\n",
    "- 작성자 중심의 코드보다는 사용자 중심의 프로그래밍이다\n",
    "- 3자의 눈으로 설계를 해야하기 때문에 고난도의 지식이 요구된다\n",
    "- **Keras, Tensorflow, Pytorch를 사용하기 위해서는 필수 지식이다**\n",
    "\n",
    "<br>\n",
    "\n",
    "- **객체(object)** : 속성과 행위를 가지고 있으며 이름을 붙일 수 있는 물체\n",
    "- **class** : 객체를 만들기 위한 설계도\n",
    "- **instance** : 설계도에 따라 실제로 구현된 것"
   ],
   "id": "75d81a60a6c4bae1"
  },
  {
   "metadata": {
    "ExecuteTime": {
     "end_time": "2025-01-19T15:28:49.692231Z",
     "start_time": "2025-01-19T15:28:49.688221Z"
    }
   },
   "cell_type": "code",
   "source": [
    "def void(param1, param2) -> None :\n",
    "    '''\n",
    "    example of function\n",
    "    :param param1: \n",
    "    :param param2: \n",
    "    :return: \n",
    "    '''\n",
    "    print('function call')\n",
    "    return None"
   ],
   "id": "fd2d22bb9984fbe1",
   "outputs": [],
   "execution_count": 1
  },
  {
   "metadata": {
    "ExecuteTime": {
     "end_time": "2025-01-19T15:28:49.890153Z",
     "start_time": "2025-01-19T15:28:49.887453Z"
    }
   },
   "cell_type": "code",
   "source": "void(1, 2)",
   "id": "8836efa14ab3490e",
   "outputs": [
    {
     "name": "stdout",
     "output_type": "stream",
     "text": [
      "function call\n"
     ]
    }
   ],
   "execution_count": 2
  },
  {
   "cell_type": "code",
   "id": "initial_id",
   "metadata": {
    "collapsed": true,
    "ExecuteTime": {
     "end_time": "2025-01-19T15:28:49.927013Z",
     "start_time": "2025-01-19T15:28:49.924915Z"
    }
   },
   "source": [
    "class Asset(object) : # Class 선언, class는 대문자로 시작하는 것이 암묵적인 rule\n",
    "    '''\n",
    "    example of class\n",
    "    '''\n",
    "    ASSET_ID = 0 # class variable\n",
    "    def __init__(self, name, ticker) : # initializer, 필수적으로 있어야 함\n",
    "        # initializer는 Class가 instance 되자마자 생성되므로 해당되는 변수가 모두 입력되어야 함\n",
    "        self.name = name # self는 Class내에서 처리되는 instance 변수\n",
    "        self.ticker = ticker\n",
    "        \n",
    "    def get_info(self) -> None :\n",
    "        print('Asset name : ', self.name)\n",
    "        print('Asset ticker : ', self.ticker)\n",
    "        return None"
   ],
   "outputs": [],
   "execution_count": 3
  },
  {
   "metadata": {},
   "cell_type": "markdown",
   "source": [
    "- self.가 붙은 변수는 Object별로 따로 저장되는 instance 변수라고 한다\n",
    "- Class 하위에 선언된 Class function들을 **Method**라고 한다"
   ],
   "id": "a3ad29dac3e6245e"
  },
  {
   "metadata": {
    "ExecuteTime": {
     "end_time": "2025-01-19T15:28:49.952018Z",
     "start_time": "2025-01-19T15:28:49.950145Z"
    }
   },
   "cell_type": "code",
   "source": [
    "asset1 = Asset('Apple Inc.', ticker = 'AAPL')\n",
    "asset2 = Asset('NVIDIA corporation', ticker = 'NVDA')"
   ],
   "id": "15ae4b1b9fe8425b",
   "outputs": [],
   "execution_count": 4
  },
  {
   "metadata": {},
   "cell_type": "markdown",
   "source": "각 객체는 고유한 ID를 가진다",
   "id": "fcad4f13a0e830db"
  },
  {
   "metadata": {
    "ExecuteTime": {
     "end_time": "2025-01-19T15:28:49.980869Z",
     "start_time": "2025-01-19T15:28:49.977960Z"
    }
   },
   "cell_type": "code",
   "source": "asset1",
   "id": "5662f082e4ac2538",
   "outputs": [
    {
     "data": {
      "text/plain": [
       "<__main__.Asset at 0x104df8b90>"
      ]
     },
     "execution_count": 5,
     "metadata": {},
     "output_type": "execute_result"
    }
   ],
   "execution_count": 5
  },
  {
   "metadata": {
    "ExecuteTime": {
     "end_time": "2025-01-19T15:28:50.009734Z",
     "start_time": "2025-01-19T15:28:50.007477Z"
    }
   },
   "cell_type": "code",
   "source": "asset2",
   "id": "470ee70c0e6a6c71",
   "outputs": [
    {
     "data": {
      "text/plain": [
       "<__main__.Asset at 0x104df8c10>"
      ]
     },
     "execution_count": 6,
     "metadata": {},
     "output_type": "execute_result"
    }
   ],
   "execution_count": 6
  },
  {
   "metadata": {},
   "cell_type": "markdown",
   "source": "클래스 변수의 접근은 '.' 연산자를 통해 가능하다",
   "id": "582c706d9b44b9fb"
  },
  {
   "metadata": {
    "ExecuteTime": {
     "end_time": "2025-01-19T15:28:50.028043Z",
     "start_time": "2025-01-19T15:28:50.025678Z"
    }
   },
   "cell_type": "code",
   "source": "asset1.ASSET_ID",
   "id": "8d08ad00fdaac269",
   "outputs": [
    {
     "data": {
      "text/plain": [
       "0"
      ]
     },
     "execution_count": 7,
     "metadata": {},
     "output_type": "execute_result"
    }
   ],
   "execution_count": 7
  },
  {
   "metadata": {},
   "cell_type": "markdown",
   "source": "물론, 변수이기 때문에 대입 연산이 가능하다",
   "id": "e117761b28ee1138"
  },
  {
   "metadata": {
    "ExecuteTime": {
     "end_time": "2025-01-19T15:28:50.054198Z",
     "start_time": "2025-01-19T15:28:50.052315Z"
    }
   },
   "cell_type": "code",
   "source": [
    "asset1.ASSET_ID = 1\n",
    "print(asset1.ASSET_ID)"
   ],
   "id": "a50b62e732cc1783",
   "outputs": [
    {
     "name": "stdout",
     "output_type": "stream",
     "text": [
      "1\n"
     ]
    }
   ],
   "execution_count": 8
  },
  {
   "metadata": {},
   "cell_type": "markdown",
   "source": "method를 호출하면 객체별로 다른 정보를 편하게 함수처럼 사용 가능하다",
   "id": "b1bd829837db47e"
  },
  {
   "metadata": {
    "ExecuteTime": {
     "end_time": "2025-01-19T15:28:50.123232Z",
     "start_time": "2025-01-19T15:28:50.121288Z"
    }
   },
   "cell_type": "code",
   "source": "asset1.get_info()",
   "id": "fe0ed9bf90f3dd3f",
   "outputs": [
    {
     "name": "stdout",
     "output_type": "stream",
     "text": [
      "Asset name :  Apple Inc.\n",
      "Asset ticker :  AAPL\n"
     ]
    }
   ],
   "execution_count": 9
  },
  {
   "metadata": {
    "ExecuteTime": {
     "end_time": "2025-01-19T15:28:50.174530Z",
     "start_time": "2025-01-19T15:28:50.172660Z"
    }
   },
   "cell_type": "code",
   "source": "asset2.get_info()",
   "id": "80d395ec93a37e43",
   "outputs": [
    {
     "name": "stdout",
     "output_type": "stream",
     "text": [
      "Asset name :  NVIDIA corporation\n",
      "Asset ticker :  NVDA\n"
     ]
    }
   ],
   "execution_count": 10
  },
  {
   "metadata": {},
   "cell_type": "markdown",
   "source": [
    "### Class Members\n",
    "\n",
    "<pre>\n",
    "- Class Members\n",
    "    - method\n",
    "    - Property @\n",
    "    - class variable\n",
    "    - instance variable\n",
    "    - Initializer __init__\n",
    "    - Destructor __del__\n",
    "    </pre>\n",
    "    \n",
    "- 데이터를 표현하는 **field**와 행위를 표현하는 **method**로 구분하며, python에서는 이러한 field와 method 모두 그 객체의 attribute라고도 한다.\n",
    "- 새로운 attribute를 동적으로 추가할 수 있으며, method도 일종의 method객체로 취급하여 attribute에 포함한다.\n",
    "\n",
    "### Initializer\n",
    "- **\\_\\_init__( )**\n",
    "- class로부터 새 객체가 생성될 때 마다 실행되는 특별한 method(magic method)이다\n",
    "- instance 변수의 초기화, **객체의 초기 상태를 설정한다**\n",
    "- Python에서 Class Constructor(클래스 생성자)는 실제 런타임 엔진 내부에서 실행되는데, 이 생성자 실행 도중 Class 내에 Initializer가 있는지 체크하여 만약 있으면 **Initializer를 호출하여 객체의 변수 등을 초기화한다**\n",
    "\n",
    "### Destructor\n",
    "- **\\_\\_del__**\n",
    "- Class로부터 객체가 소멸할 때 호출되는 특별한 method\n",
    "- 객체의 reference counter(참조 카운터)가 0이 되면 자동 호출한다\n",
    "- 리소스 해제 등의 종료작업 수행한다\n",
    "- 또한, Class가 동작하는지 확인할 때에도 쓰인다"
   ],
   "id": "1f6d2f282961061d"
  },
  {
   "metadata": {
    "ExecuteTime": {
     "end_time": "2025-01-19T15:28:50.179330Z",
     "start_time": "2025-01-19T15:28:50.177319Z"
    }
   },
   "cell_type": "code",
   "source": [
    "class Asset(object) : # Class 선언, class는 대문자로 시작하는 것이 암묵적인 rule\n",
    "    '''\n",
    "    example of class\n",
    "    '''\n",
    "    ASSET_ID = 0 # class variable\n",
    "    def __init__(self, name, ticker) : # initializer, 필수적으로 있어야 함\n",
    "        # initializer는 Class가 instance 되자마자 생성되므로 해당되는 변수가 모두 입력되어야 함\n",
    "        self.name = name # self는 Class내에서 처리되는 instance 변수\n",
    "        self.ticker = ticker\n",
    "    \n",
    "    def __del__(self) :\n",
    "        '''\n",
    "        소멸자는 객체가 사라질 때 호출되는 함수\n",
    "        지정하지 않는 경우에도 기본적으로 생성되지만, __del__() method를 지정하면 소멸시에 특수한 행위를 지정할 수 있음\n",
    "        :return: \n",
    "        '''\n",
    "        print(f'Asset {self.name} delete')\n",
    "        \n",
    "    def get_info(self) -> None :\n",
    "        print('Asset name : ', self.name)\n",
    "        print('Asset ticker : ', self.ticker)\n",
    "        return None"
   ],
   "id": "7ccd9302be83df85",
   "outputs": [],
   "execution_count": 11
  },
  {
   "metadata": {
    "ExecuteTime": {
     "end_time": "2025-01-19T15:28:50.207510Z",
     "start_time": "2025-01-19T15:28:50.205716Z"
    }
   },
   "cell_type": "code",
   "source": "asset3 = Asset('Microsoft', ticker = 'MSFT') # 생성자 생성",
   "id": "d88d219201a45699",
   "outputs": [],
   "execution_count": 12
  },
  {
   "metadata": {
    "ExecuteTime": {
     "end_time": "2025-01-19T15:28:50.242231Z",
     "start_time": "2025-01-19T15:28:50.239875Z"
    }
   },
   "cell_type": "code",
   "source": "asset3.name # 생성자에서 초기화된 클래스 변수",
   "id": "b0e23659b01e626c",
   "outputs": [
    {
     "data": {
      "text/plain": [
       "'Microsoft'"
      ]
     },
     "execution_count": 13,
     "metadata": {},
     "output_type": "execute_result"
    }
   ],
   "execution_count": 13
  },
  {
   "metadata": {},
   "cell_type": "markdown",
   "source": "객체는 `del` 명령어를 사용해 런타임 객체에서 지울 수 있다.",
   "id": "f0a57c6b53526aa5"
  },
  {
   "metadata": {
    "ExecuteTime": {
     "end_time": "2025-01-19T15:28:50.258857Z",
     "start_time": "2025-01-19T15:28:50.257183Z"
    }
   },
   "cell_type": "code",
   "source": "del asset3 # 소멸자 호출",
   "id": "6ef56d5293ee0695",
   "outputs": [
    {
     "name": "stdout",
     "output_type": "stream",
     "text": [
      "Asset Microsoft delete\n"
     ]
    }
   ],
   "execution_count": 14
  },
  {
   "metadata": {
    "ExecuteTime": {
     "end_time": "2025-01-19T15:28:50.275830Z",
     "start_time": "2025-01-19T15:28:50.273934Z"
    }
   },
   "cell_type": "code",
   "source": "del asset2 # 소멸자가 작성되지 않은 객체인 경우 아무것도 출력되지 않음",
   "id": "dab97bb6cb4955d0",
   "outputs": [],
   "execution_count": 15
  },
  {
   "metadata": {},
   "cell_type": "markdown",
   "source": [
    "### Class variable, Instance variable\n",
    "\n",
    "- Class 변수가 하나의 Class에 하나만 존재하는 반면, Instance 변수는 각 객체 instance마다 별도로 존재한다.\n",
    "- <span style = 'color : #132c6f'><b>Instance Variable</b></span> : 클래스 정의에서 method 안에서 사용되면서 **'self.*variable name*'** 처럼 사용되며, 이는 각 객체별로 서로 다른 값을 갖는 변수이다."
   ],
   "id": "2b2bc9a54c572c9d"
  },
  {
   "metadata": {
    "ExecuteTime": {
     "end_time": "2025-01-19T15:28:50.331494Z",
     "start_time": "2025-01-19T15:28:50.329669Z"
    }
   },
   "cell_type": "code",
   "source": [
    "class Account(object) :\n",
    "    num_accounts = 0 # class variable\n",
    "    def __init__(self, name) :\n",
    "        self.name = name # instance variable\n",
    "        Account.num_accounts += 1\n",
    "    \n",
    "    def __del__(self) :\n",
    "        Account.num_accounts -= 1"
   ],
   "id": "8a63a8a795e40063",
   "outputs": [],
   "execution_count": 16
  },
  {
   "metadata": {
    "ExecuteTime": {
     "end_time": "2025-01-19T15:28:50.346761Z",
     "start_time": "2025-01-19T15:28:50.344868Z"
    }
   },
   "cell_type": "code",
   "source": [
    "kim = Account('kim')\n",
    "kim.name"
   ],
   "id": "51950afa52f473e6",
   "outputs": [
    {
     "data": {
      "text/plain": [
       "'kim'"
      ]
     },
     "execution_count": 17,
     "metadata": {},
     "output_type": "execute_result"
    }
   ],
   "execution_count": 17
  },
  {
   "metadata": {
    "ExecuteTime": {
     "end_time": "2025-01-19T15:28:50.371535Z",
     "start_time": "2025-01-19T15:28:50.369136Z"
    }
   },
   "cell_type": "code",
   "source": "kim.num_accounts",
   "id": "cc83e165b171d12",
   "outputs": [
    {
     "data": {
      "text/plain": [
       "1"
      ]
     },
     "execution_count": 18,
     "metadata": {},
     "output_type": "execute_result"
    }
   ],
   "execution_count": 18
  },
  {
   "metadata": {
    "ExecuteTime": {
     "end_time": "2025-01-19T15:28:50.386541Z",
     "start_time": "2025-01-19T15:28:50.384291Z"
    }
   },
   "cell_type": "code",
   "source": "Account.num_accounts",
   "id": "77480730cc64cb2a",
   "outputs": [
    {
     "data": {
      "text/plain": [
       "1"
      ]
     },
     "execution_count": 19,
     "metadata": {},
     "output_type": "execute_result"
    }
   ],
   "execution_count": 19
  },
  {
   "metadata": {
    "ExecuteTime": {
     "end_time": "2025-01-19T15:28:50.402279Z",
     "start_time": "2025-01-19T15:28:50.400807Z"
    }
   },
   "cell_type": "code",
   "source": "lee = Account('lee')",
   "id": "389be7461a239d2d",
   "outputs": [],
   "execution_count": 20
  },
  {
   "metadata": {
    "ExecuteTime": {
     "end_time": "2025-01-19T15:28:50.441Z",
     "start_time": "2025-01-19T15:28:50.438955Z"
    }
   },
   "cell_type": "code",
   "source": "lee.name",
   "id": "fcde33f8eea626b9",
   "outputs": [
    {
     "data": {
      "text/plain": [
       "'lee'"
      ]
     },
     "execution_count": 21,
     "metadata": {},
     "output_type": "execute_result"
    }
   ],
   "execution_count": 21
  },
  {
   "metadata": {
    "ExecuteTime": {
     "end_time": "2025-01-19T15:28:50.458077Z",
     "start_time": "2025-01-19T15:28:50.455901Z"
    }
   },
   "cell_type": "code",
   "source": "lee.num_accounts",
   "id": "b7976672353d3244",
   "outputs": [
    {
     "data": {
      "text/plain": [
       "2"
      ]
     },
     "execution_count": 22,
     "metadata": {},
     "output_type": "execute_result"
    }
   ],
   "execution_count": 22
  },
  {
   "metadata": {
    "ExecuteTime": {
     "end_time": "2025-01-19T15:28:50.482582Z",
     "start_time": "2025-01-19T15:28:50.480334Z"
    }
   },
   "cell_type": "code",
   "source": "Account.num_accounts # Class 변수는 Class 사용 횟수에 따라 카운팅 된다",
   "id": "8c6d2441c80266f7",
   "outputs": [
    {
     "data": {
      "text/plain": [
       "2"
      ]
     },
     "execution_count": 23,
     "metadata": {},
     "output_type": "execute_result"
    }
   ],
   "execution_count": 23
  },
  {
   "metadata": {},
   "cell_type": "markdown",
   "source": [
    "### Encapsulation\n",
    "- **캡슐화**는 객체의 외부에서 객체 내부의 속성을 <span style = 'color : #132c6f'>직접적으로 접근, 속성을 읽거나 변경시키지 못하게 하는 것</span>을 말한다.\n",
    "- 객체의 속성을 접근, 속성을 읽거나 변경하고 싶으면 반드시 <span style = 'color : #132c6f'><b>허락된 인터페이스를 통해서</b></span>만이 가능하다.\n",
    "    - 객체가 **외부로 공개한 메서드**를 뜻한다."
   ],
   "id": "c69f1a5546b6572f"
  },
  {
   "metadata": {},
   "cell_type": "markdown",
   "source": [
    "#### Access Modifiers\n",
    "- C++나 Java와 같은 OOP 언어에서는 객체의 속성이나 메서드에 접근을 제어하는 접근 지정자 (**public, private, protected**)가 제공된다.\n",
    "- python에서는 이런 접근 지정자가 없다.\n",
    "- python class에서는 기본적으로 모든 멤버가 public이라고 할 수 있다.\n",
    "- python에서의 접근 지정은 이름 규칙을 통해 처리되며, 프로그래머가 접근 지정에 대한 책임을 지게 한다.\n",
    "- python에서는 접근 지정을 구분하기 위해 밑줄(under bar)를 사용한다.\n",
    "\n",
    "아래의 예시는 Ether의 ERC20 Contract의 일부 내용이다. contract는 class에 대응되는 개념이며, function을 보면 접근 지정자를 확인할 수 있다.\n",
    "이는 solidity 뿐만 아니라 C++과 JAVA도 동일한 구조를 가지고 있다.\n",
    "\n",
    "```{solidity}\n",
    "contract ERC20StdToken {\n",
    "    mapping(address => uint256) balances;\n",
    "    mapping(address => mapping(address => uint256)) allowed; // allowed[key][key]\n",
    "\n",
    "    uint256 private total; // variable declaration\n",
    "    string public name;\n",
    "    string public symbol;\n",
    "    uint8 public decimals;\n",
    "\n",
    "    event Transfer(address indexed from, \n",
    "                   address indexed to, \n",
    "                   uint256 value);\n",
    "\n",
    "    event Approval(address indexed owner, \n",
    "                   address indexed spender, \n",
    "                   uint256 value);\n",
    "\n",
    "    constructor (string memory _name, \n",
    "                 string memory _symbol, \n",
    "                 uint _totalSupply)\n",
    "                 {\n",
    "            total = _totalSupply;\n",
    "            name = _name;\n",
    "            symbol = _symbol;\n",
    "            decimals = 0;\n",
    "            balances[msg.sender] = _totalSupply;\n",
    "            emit Transfer(address(0x0), msg.sender, _totalSupply);\n",
    "        }\n",
    "    \n",
    "    function totalSupply()\n",
    "        public // Encapsulation\n",
    "        view \n",
    "        returns(uint256) {\n",
    "            return total;\n",
    "        }\n",
    "```\n",
    "\n",
    "<center>\n",
    "\n",
    "|Mode|설명|\n",
    "|:---:|:---:|\n",
    "|**public**| 공개 모드로서 객체 외부에서 접근이 가능하다. 언더바가 없다.|\n",
    "|**protected**| 객체 외부에서 접근해서는 안 된다. <br> 코딩 관례상 내부적으로만 사용되는 변수 또는 메서드에 사용한다. 언더바가 하나이다.|\n",
    "|**private**| private 모드로서 객체 외부뿐만 아니라 상속받은 객체에서도 접근이 안 된다.|\n",
    "\n",
    "</center>\n",
    "\n",
    "- protected 모드도 public이므로 필요하면 외부에서 엑세스가 가능하다.\n",
    "- private 모드 또한 바꾸는 규칙만 알면 외부에서 바꿀수는 있다."
   ],
   "id": "f3bedeb5af9e61c1"
  },
  {
   "metadata": {
    "ExecuteTime": {
     "end_time": "2025-01-19T15:28:50.510575Z",
     "start_time": "2025-01-19T15:28:50.508475Z"
    }
   },
   "cell_type": "code",
   "source": [
    "class Client(object) : # Class 선언\n",
    "    def __init__(self, name, year, client_id) :\n",
    "        self.name = name # public\n",
    "        self._year = year # protected mode\n",
    "        self.__client_id = client_id # private mode\n",
    "        \n",
    "    def introduce_client(self) :\n",
    "        print(self.name, self._year, self.__client_id)"
   ],
   "id": "616f903ab8c0ca9d",
   "outputs": [],
   "execution_count": 24
  },
  {
   "metadata": {
    "ExecuteTime": {
     "end_time": "2025-01-19T15:28:50.542446Z",
     "start_time": "2025-01-19T15:28:50.540791Z"
    }
   },
   "cell_type": "code",
   "source": "person1 = Client('김철수', 5, 1)",
   "id": "377762102eaad219",
   "outputs": [],
   "execution_count": 25
  },
  {
   "metadata": {
    "ExecuteTime": {
     "end_time": "2025-01-19T15:28:50.558808Z",
     "start_time": "2025-01-19T15:28:50.556636Z"
    }
   },
   "cell_type": "code",
   "source": "person1.name # public mode",
   "id": "51ee64eaca056e43",
   "outputs": [
    {
     "data": {
      "text/plain": [
       "'김철수'"
      ]
     },
     "execution_count": 26,
     "metadata": {},
     "output_type": "execute_result"
    }
   ],
   "execution_count": 26
  },
  {
   "metadata": {
    "ExecuteTime": {
     "end_time": "2025-01-19T15:28:50.583805Z",
     "start_time": "2025-01-19T15:28:50.581779Z"
    }
   },
   "cell_type": "code",
   "source": "person1._year # protected mode",
   "id": "77e6980b8488eb60",
   "outputs": [
    {
     "data": {
      "text/plain": [
       "5"
      ]
     },
     "execution_count": 27,
     "metadata": {},
     "output_type": "execute_result"
    }
   ],
   "execution_count": 27
  },
  {
   "metadata": {
    "ExecuteTime": {
     "end_time": "2025-01-19T15:28:50.791327Z",
     "start_time": "2025-01-19T15:28:50.597605Z"
    }
   },
   "cell_type": "code",
   "source": "person1.__client_id # private mode는 접근이 불가능하다",
   "id": "27e8fb4591d5e2b3",
   "outputs": [
    {
     "ename": "AttributeError",
     "evalue": "'Client' object has no attribute '__client_id'",
     "output_type": "error",
     "traceback": [
      "\u001B[0;31m---------------------------------------------------------------------------\u001B[0m",
      "\u001B[0;31mAttributeError\u001B[0m                            Traceback (most recent call last)",
      "Cell \u001B[0;32mIn[28], line 1\u001B[0m\n\u001B[0;32m----> 1\u001B[0m person1\u001B[38;5;241m.\u001B[39m__client_id\n",
      "\u001B[0;31mAttributeError\u001B[0m: 'Client' object has no attribute '__client_id'"
     ]
    }
   ],
   "execution_count": 28
  },
  {
   "metadata": {
    "ExecuteTime": {
     "end_time": "2025-01-19T15:28:50.792319Z",
     "start_time": "2025-01-19T15:28:50.792277Z"
    }
   },
   "cell_type": "code",
   "source": "person1.name = '신짱구'",
   "id": "4e3051f0f6ec676",
   "outputs": [],
   "execution_count": null
  },
  {
   "metadata": {},
   "cell_type": "code",
   "source": "person1.name # public instance 변수는 수정이 자유롭다",
   "id": "b7dc2944a70abfcf",
   "outputs": [],
   "execution_count": null
  },
  {
   "metadata": {},
   "cell_type": "code",
   "source": "person1._year = 4",
   "id": "37e4c5dde97dae58",
   "outputs": [],
   "execution_count": null
  },
  {
   "metadata": {},
   "cell_type": "code",
   "source": "person1._year",
   "id": "91b884671b5d0402",
   "outputs": [],
   "execution_count": null
  },
  {
   "metadata": {},
   "cell_type": "markdown",
   "source": [
    "### property\n",
    "- **get / set method**\n",
    "    - 단지 객체의 속성 값을 읽거나 설정하는데 사용되는 method\n",
    "- **property**\n",
    "    - 객체의 속성을 접근하는 것이 <span style = 'color : #132c6f'><b>마치 속성에 직접적으로 접근하는 것처럼 보이지만</b></span> 내부적으로는 method를 통해 접근하도록 하는 방식"
   ],
   "id": "1d30077af52b6ffe"
  },
  {
   "metadata": {},
   "cell_type": "code",
   "source": [
    "class Client(object) : \n",
    "    def __init__(self) : # property를 사용하고자 하는 경우, 빈값으로 생성\n",
    "        self._name = '' \n",
    "        self._year = 0\n",
    "        self._client_id = 0\n",
    "        \n",
    "    @property # decorator\n",
    "    def name(self) :\n",
    "        return self._name\n",
    "    \n",
    "    @name.setter # setter\n",
    "    def name(self, value) : # 외부로부터 정보를 받아들일 value 필요\n",
    "        self._name = value # __init__에서 초기에 생성되는것과 달리, 따로 지정이 가능하다\n",
    "        \n",
    "    @property\n",
    "    def year(self) :\n",
    "        return self._year\n",
    "    \n",
    "    @year.setter\n",
    "    def year(self, value) :\n",
    "        self._year = value\n",
    "        \n",
    "    @property\n",
    "    def client_id(self) :\n",
    "        return self._client_id\n",
    "    \n",
    "    @client_id.setter\n",
    "    def client_id(self, value) :\n",
    "        self._client_id = value\n",
    "        \n",
    "    def introduce_client(self) :\n",
    "        return self.name, self._year, self._client_id"
   ],
   "id": "47d19d8780045520",
   "outputs": [],
   "execution_count": null
  },
  {
   "metadata": {},
   "cell_type": "code",
   "source": "person1 = Client()",
   "id": "8a8f6eaddc4af99b",
   "outputs": [],
   "execution_count": null
  },
  {
   "metadata": {},
   "cell_type": "code",
   "source": [
    "person1.name = '김철수'\n",
    "person1.year = 5\n",
    "person1.client_id = 1"
   ],
   "id": "d52ed73b733702a2",
   "outputs": [],
   "execution_count": null
  },
  {
   "metadata": {},
   "cell_type": "code",
   "source": "person1.introduce_client()",
   "id": "dad9078d83699cc6",
   "outputs": [],
   "execution_count": null
  },
  {
   "metadata": {},
   "cell_type": "markdown",
   "source": "객체의 속성을 접근하듯이 사용하지만, name, year, client_id가 내부적으로 method이다",
   "id": "44136be415b0207c"
  },
  {
   "metadata": {},
   "cell_type": "markdown",
   "source": [
    "### property class 이용\n",
    "- **@decorator** : 전통적인 방식\n",
    "- python 2.6 이후부터 property class가 제공된다 : class 형식으로도 사용이 가능하다\n",
    "- property class의 문법\n",
    "    - property object을 만들어 돌려주는 built-in function\n",
    "    - <span style = 'color : #132c6f'><b>property(fget = None, fset = None, fdel = None, doc = None)</b></span> -> property attribute\n",
    "    \n",
    "|**parameter**|**인자 설명**|\n",
    "|:---:|:---:|\n",
    "|**fget**| get 함수를 설정하는 인자|\n",
    "|**fset**| set 함수를 설정하는 인자|\n",
    "|**fdel**| delete 함수를 설정하는 인자|\n",
    "|**doc**| 이 속성의 설명을 설정하는 인자|"
   ],
   "id": "617a8e18a5ac65db"
  },
  {
   "metadata": {},
   "cell_type": "markdown",
   "source": [
    "### Exercise\n",
    "- 현재가치와 미래가치를 계산하는 method가 포함된 IntCal Class를 만들어 보자"
   ],
   "id": "c117d62742dc5b2b"
  },
  {
   "metadata": {},
   "cell_type": "markdown",
   "source": [
    "**future value to present value**\n",
    "\n",
    "$$p_t = \\frac{f_t}{(1 + r)^t}$$\n",
    "\n",
    "**present value to future value**\n",
    "\n",
    "$$f_t = p_t \\times (1+r)^t$$"
   ],
   "id": "294bfe301c77cefc"
  },
  {
   "metadata": {},
   "cell_type": "code",
   "source": [
    "class IntCal(object) :\n",
    "    def __init__(self, interest, year, money) :\n",
    "        self.interest = interest\n",
    "        self.year = year\n",
    "        self.money = money\n",
    "    \n",
    "    def future_to_present(self) :\n",
    "        return self.money / (1 + self.interest) ** self.year\n",
    "    \n",
    "    def present_to_future(self) :\n",
    "        return self.money * (1 + self.interest) ** self.year"
   ],
   "id": "e66a350263483e56",
   "outputs": [],
   "execution_count": null
  },
  {
   "metadata": {},
   "cell_type": "code",
   "source": [
    "class IntCal(object) :\n",
    "    def __init__(self) :\n",
    "        self._interest = 0\n",
    "        self._year = 0\n",
    "        self._money = 0\n",
    "    \n",
    "    @property\n",
    "    def interest(self) :\n",
    "        return self._interest\n",
    "    \n",
    "    @interest.setter\n",
    "    def interest(self, value) :\n",
    "        self._interest = value\n",
    "        \n",
    "    @property\n",
    "    def year(self) :\n",
    "        return self._year\n",
    "    \n",
    "    @year.setter\n",
    "    def year(self, value) :\n",
    "        self._year = value\n",
    "        \n",
    "    @property\n",
    "    def money(self) :\n",
    "        return self._money\n",
    "    \n",
    "    @money.setter\n",
    "    def money(self, value) :\n",
    "        self._money = value\n",
    "        \n",
    "    def future_to_present(self) :\n",
    "        return self._money / (1 + self._interest) ** self._year\n",
    "    \n",
    "    def present_to_future(self) :\n",
    "        return self._money * (1 + self._interest) ** self._year"
   ],
   "id": "59b5129f755ce8dc",
   "outputs": [],
   "execution_count": null
  },
  {
   "metadata": {},
   "cell_type": "markdown",
   "source": [
    "### static method\n",
    "\n",
    "- 클래스 소속 메서드\n",
    "    - 일반적인 인스턴스 메서드와 달리, static method는 클래스 자체에 속한다.\n",
    "    - 인스턴스를 생성하지 않아도 클래스 이름으로 직접 호출할 수 있다.\n",
    "- 인스턴스 상태 참조 불가\n",
    "    - static method 내부에서는 self(파이썬) 같은 인스턴스 변수를 사용할 수 없다.\n",
    "    - 주로 공통된 기능(유틸리티 함수 등)을 제공하거나, 전역 함수 역할을 클래스 내부에 묶어둘 때 쓴다.\n",
    "\n",
    "인스턴스 변수를 전혀 참조하지 않고, 클래스나 외부 입력만으로 결과를 산출해야 하는 경우에 적합하다."
   ],
   "id": "81e4f686bdc23e0c"
  },
  {
   "metadata": {},
   "cell_type": "markdown",
   "source": [
    "자산가격결정론을 기반으로 자산의 기대수익률을 구하는 class를 작성해 보자. 모델은 아래의 식을 따른다.\n",
    "\n",
    "**Capital Asset Pricing Model (CAPM)**\n",
    "\n",
    "$$R_i - R_f = \\alpha + \\beta (R_m - R_f) + \\varepsilon$$\n",
    "\n",
    "$\\beta$는 시장 대비 위험 수준을 나타내는 것으로, 1보다 큰 경우 시장보다 위험한 자산, 1보다 작은 경우 시장보다 위험이 적은 자산이라고 보면 된다."
   ],
   "id": "d2d9a4e6bf851d58"
  },
  {
   "metadata": {
    "ExecuteTime": {
     "end_time": "2025-01-19T15:28:50.813903Z",
     "start_time": "2025-01-19T15:28:50.811773Z"
    }
   },
   "cell_type": "code",
   "source": [
    "class SimpleAssetPricing :\n",
    "    \"\"\"\n",
    "    자산가격모형(Asset Pricing Model)을 다루는 예시 클래스.\n",
    "    CAPM, Fama-French 3-factor, Fama-French 5-factor 모델 등을\n",
    "    간단히 정적 메서드(static method)로 구현한다.\n",
    "    \"\"\"\n",
    "    \n",
    "    @staticmethod\n",
    "    def capital_asset_pricing_model(rf: float, rm: float, beta: float) -> float:\n",
    "        \"\"\"\n",
    "        Capital Asset Pricing Model (CAPM):\n",
    "        E(Ri) = Rf + Beta * (Rm - Rf)\n",
    "        \n",
    "        parmas:\n",
    "        rf   : Risk-free rate\n",
    "        rm   : Market return\n",
    "        beta : beta of security\n",
    "        \n",
    "        returns:\n",
    "        expected returns (estimated CAPM)\n",
    "        \"\"\"\n",
    "        return rf + beta * (rm - rf)"
   ],
   "id": "dfc33bee9412f80b",
   "outputs": [],
   "execution_count": 29
  },
  {
   "metadata": {},
   "cell_type": "markdown",
   "source": "static method만 사용된 클래스이기 때문에 인스턴스화를 하지 않아도 사용이 가능하다.",
   "id": "db21bf09e4912d72"
  },
  {
   "metadata": {
    "ExecuteTime": {
     "end_time": "2025-01-19T15:28:50.839957Z",
     "start_time": "2025-01-19T15:28:50.837540Z"
    }
   },
   "cell_type": "code",
   "source": [
    "SimpleAssetPricing.capital_asset_pricing_model(\n",
    "    rf = 0.02, \n",
    "    rm = 0.125,\n",
    "    beta = 1.2\n",
    ") # staticmethod인 경우 instance화를 따로 하지 않아도 사용이 가능하다."
   ],
   "id": "97f62e57d92c82e4",
   "outputs": [
    {
     "data": {
      "text/plain": [
       "0.146"
      ]
     },
     "execution_count": 30,
     "metadata": {},
     "output_type": "execute_result"
    }
   ],
   "execution_count": 30
  },
  {
   "metadata": {},
   "cell_type": "markdown",
   "source": [
    "### Inheritance\n",
    "\n",
    "- 상속은 기존 클래스(부모 클래스 또는 슈퍼클래스)의 속성과 메서드를 그대로 물려받아, **새로운 클래스(자식 클래스 또는 서브클래스)** 를 만드는 개념이다. \n",
    "- 상속을 통해 코드 재사용성을 높이고, 유지보수를 용이하게 할 수 있다. \n",
    "- 우리가 사용하는 대부분의 라이브러리는 class가 엮여 있는 구조를 띄고 있으며, 주로 공통된 기능을 부모 클래스로 두고 추가기능 혹은 확장된 기능을 자식 클래스에 주어 재사용성을 높이도록 디자인한다."
   ],
   "id": "e35ca9c3eb727c8f"
  },
  {
   "metadata": {},
   "cell_type": "markdown",
   "source": [
    "### Example : Asset Pricing Model\n",
    "\n",
    "증권의 자산가격결정론에 사용되는 추가적인 모형이 다음과 같이 존재한다.\n",
    "\n",
    "- Fama French 3 Factor Model (1993)\n",
    "\n",
    "$$R_i - R_f = \\alpha + \\beta_1 (R_m - R_f) + \\beta_2 \\text{SMB} + \\beta_3 \\text{HML} + \\varepsilon$$\n",
    "\n",
    "- Fama French 5 Factor Model (2015)\n",
    "\n",
    "$$R_i - R_f = \\alpha + \\beta_1 (R_m - R_f) + \\beta_2 \\text{SMB} + \\beta_3 \\text{HML} + \\beta_4 \\text{RMW} + \\beta_5 \\text{CMA} + \\varepsilon$$\n",
    "\n",
    "각 모형을 순서대로 추정하는 클래스를 만들어 보자. `SimpleAssetPricing`으로부터 상속받아 method를 추가해보도록 한다"
   ],
   "id": "154b8443fd35c9ba"
  },
  {
   "metadata": {
    "ExecuteTime": {
     "end_time": "2025-01-19T15:29:34.550785Z",
     "start_time": "2025-01-19T15:29:34.547202Z"
    }
   },
   "cell_type": "code",
   "source": [
    "class MultinomialAssetPricing(SimpleAssetPricing) : # inheritance\n",
    "    @staticmethod\n",
    "    def fama_french_3_factor(\n",
    "            rf: float, factors : list, coefs : list\n",
    "        ) -> float :\n",
    "        \"\"\"\n",
    "        Fama-French 3-Factor Model:\n",
    "        E(Ri) = Rf + Beta(Rm - Rf) + SMB_coef * SMB_factor + HML_coef * HML_factor\n",
    "        \n",
    "        :param rf: Risk-free rate\n",
    "        :param factors: risk factors, e.g. [Rm-Rf, SMB, HML]\n",
    "        :param coefs: coefficients of risk factors, e.g. [Rm-Rf, SMB, HML]\n",
    "        :return: expected returns (estimated 3 factor model)\n",
    "        \"\"\"\n",
    "        rm, smb_factor, hml_factor = factors\n",
    "        beta, smb_coef, hml_coef = coefs\n",
    "        \n",
    "        market_premium = beta * (rm - rf)\n",
    "        smb_premium = smb_coef * smb_factor\n",
    "        hml_premium = hml_coef * hml_factor\n",
    "        \n",
    "        return rf + market_premium + smb_premium + hml_premium\n",
    "\n",
    "    @staticmethod\n",
    "    def fama_french_5_factor(\n",
    "            rf : float, factors : list, coefs : list\n",
    "        ) -> float :\n",
    "        \"\"\"\n",
    "        Fama-French 5-Factor Model:\n",
    "        E(Ri) = Rf + Beta(Rm - Rf) \n",
    "                + SMB_coef * SMB_factor\n",
    "                + HML_coef * HML_factor\n",
    "                + RMW_coef * RMW_factor\n",
    "                + CMA_coef * CMA_factor\n",
    "        :param rf: Risk-free rate\n",
    "        :param factors: risk factors, e.g. [Rm-Rf, SMB, HML, RMW, CMA]\n",
    "        :param coefs: coefficients of risk factors, e.g. [Rm-Rf, SMB, HML, RMW, CMA]\n",
    "        :return: expected returns (estimated 5 factor model)\n",
    "        \"\"\"\n",
    "        \n",
    "        rm, smb_factor, hml_factor, rmw_factor, cma_factor = factors\n",
    "        beta, smb_coef, hml_coef, rmw_coef, cma_coef = coefs\n",
    "        \n",
    "        market_premium = beta * (rm - rf)\n",
    "        smb_premium = smb_coef * smb_factor\n",
    "        hml_premium = hml_coef * hml_factor\n",
    "        rmw_premium = rmw_coef * rmw_factor\n",
    "        cma_premium = cma_coef * cma_factor\n",
    "        \n",
    "        return rf + market_premium + smb_premium + hml_premium + rmw_premium + cma_premium"
   ],
   "id": "a5b87e0e04a84c0b",
   "outputs": [],
   "execution_count": 31
  },
  {
   "metadata": {
    "ExecuteTime": {
     "end_time": "2025-01-19T15:30:02.725268Z",
     "start_time": "2025-01-19T15:30:02.722855Z"
    }
   },
   "cell_type": "code",
   "source": [
    "MultinomialAssetPricing.capital_asset_pricing_model(\n",
    "    rf = 0.02, \n",
    "    rm = 0.125,\n",
    "    beta = 1.2\n",
    ") # 부모 클래스의 메소드 사용 가능"
   ],
   "id": "34054f8b9980fb50",
   "outputs": [
    {
     "data": {
      "text/plain": [
       "0.146"
      ]
     },
     "execution_count": 33,
     "metadata": {},
     "output_type": "execute_result"
    }
   ],
   "execution_count": 33
  },
  {
   "metadata": {
    "ExecuteTime": {
     "end_time": "2025-01-19T15:31:29.175757Z",
     "start_time": "2025-01-19T15:31:29.173405Z"
    }
   },
   "cell_type": "code",
   "source": [
    "MultinomialAssetPricing.fama_french_3_factor(\n",
    "    rf = 0.02,\n",
    "    factors = [0.125, 0.085, 0.11],\n",
    "    coefs = [1.2, -0.13, 0.85]\n",
    ")"
   ],
   "id": "ca29b36535f793e4",
   "outputs": [
    {
     "data": {
      "text/plain": [
       "0.22845"
      ]
     },
     "execution_count": 34,
     "metadata": {},
     "output_type": "execute_result"
    }
   ],
   "execution_count": 34
  },
  {
   "metadata": {},
   "cell_type": "markdown",
   "source": [
    "### Abstraction\n",
    "\n",
    "- 객체에서 불필요한 내부 구현을 감추고, 핵심적인 인터페이스만 보이도록 하는 것을 말한다.\n",
    "- “어떤 공통점만 뽑아 설계할지”를 고민해, 복잡도를 줄이고 코드 재사용성을 높이는 것을 목적으로 한다."
   ],
   "id": "5fb62b5ede873013"
  },
  {
   "metadata": {},
   "cell_type": "markdown",
   "source": [
    "### Example : Option Pricing\n",
    "\n",
    "옵션의 가격결정론에는 크게 두 가지 모형이 존재한다. 하나는 이항나무 모형 (Binomial Tree)이며, 다른 하나는 자산가격을 무한히 많은 이산적인 가격으로 가정하여 도출하는 Black Scholes Model이다. \n",
    "\n",
    "생성자를 부모 클래스에서 생성하고, method를 인터페이스화한 클래스로부터 각 기능들은 자식 클래스로 구현해 보자."
   ],
   "id": "5945f45077d7d89f"
  },
  {
   "metadata": {
    "ExecuteTime": {
     "end_time": "2025-01-19T15:55:26.605177Z",
     "start_time": "2025-01-19T15:55:26.039213Z"
    }
   },
   "cell_type": "code",
   "source": [
    "from abc import ABC, abstractmethod\n",
    "\n",
    "class OptionPricing(ABC) :\n",
    "    def __init__(\n",
    "            self, S : float,\n",
    "            K : float,\n",
    "            r : float,\n",
    "            T : float,\n",
    "            sigma : float\n",
    "        ) -> None :\n",
    "        \"\"\"\n",
    "        옵션 가격 계산을 위한 공통 속성을 생성하는 initializer\n",
    "        :param S: 기초 자산 가격\n",
    "        :param K: 행사가격\n",
    "        :param r: 무위험 이자율 (연간)\n",
    "        :param T: 옵션 만기 (연간)\n",
    "        :param sigma: 자산 변동성 (연간)\n",
    "        \"\"\"\n",
    "        self.S = S\n",
    "        self.K = K\n",
    "        self.r = r\n",
    "        self.T = T\n",
    "        self.sigma = sigma\n",
    "    \n",
    "    @abstractmethod # 후에 상속받은 클래스들이 무조건 생성해야 하는 메서드\n",
    "    def price(self) -> None :\n",
    "        '''\n",
    "        옵션 가격을 생성하는 메서드, 구체적 내용은 자식 클래스에서 구현\n",
    "        :return: None\n",
    "        '''\n",
    "        pass"
   ],
   "id": "bd94552a33599c2",
   "outputs": [],
   "execution_count": 35
  },
  {
   "metadata": {},
   "cell_type": "markdown",
   "source": "abstract class는 미완성된 클래스이기 때문에 인스턴스화 시킬 수 없다. 단순히 인터페이스를 구현하기 위해 존재하므로, 직접 객체를 생성할 수 없기 때문에 인스턴스화를 시도하면 Type Error가 발생한다.",
   "id": "39501309c0c85352"
  },
  {
   "metadata": {
    "ExecuteTime": {
     "end_time": "2025-01-19T15:56:12.214718Z",
     "start_time": "2025-01-19T15:56:12.184541Z"
    }
   },
   "cell_type": "code",
   "source": [
    "temp_option = OptionPricing(\n",
    "    S = 125.25,\n",
    "    K = 120,\n",
    "    r = 0.05,\n",
    "    T = 252,\n",
    "    sigma = 0.16\n",
    ") # abstract method는 instance화 시킬 수 없다."
   ],
   "id": "d9ca22e44cda5a87",
   "outputs": [
    {
     "ename": "TypeError",
     "evalue": "Can't instantiate abstract class OptionPricing with abstract method price",
     "output_type": "error",
     "traceback": [
      "\u001B[0;31m---------------------------------------------------------------------------\u001B[0m",
      "\u001B[0;31mTypeError\u001B[0m                                 Traceback (most recent call last)",
      "Cell \u001B[0;32mIn[36], line 1\u001B[0m\n\u001B[0;32m----> 1\u001B[0m temp_option \u001B[38;5;241m=\u001B[39m OptionPricing(\n\u001B[1;32m      2\u001B[0m     S \u001B[38;5;241m=\u001B[39m \u001B[38;5;241m125.25\u001B[39m,\n\u001B[1;32m      3\u001B[0m     K \u001B[38;5;241m=\u001B[39m \u001B[38;5;241m120\u001B[39m,\n\u001B[1;32m      4\u001B[0m     r \u001B[38;5;241m=\u001B[39m \u001B[38;5;241m0.05\u001B[39m,\n\u001B[1;32m      5\u001B[0m     T \u001B[38;5;241m=\u001B[39m \u001B[38;5;241m252\u001B[39m,\n\u001B[1;32m      6\u001B[0m     sigma \u001B[38;5;241m=\u001B[39m \u001B[38;5;241m0.16\u001B[39m\n\u001B[1;32m      7\u001B[0m )\n",
      "\u001B[0;31mTypeError\u001B[0m: Can't instantiate abstract class OptionPricing with abstract method price"
     ]
    }
   ],
   "execution_count": 36
  },
  {
   "metadata": {},
   "cell_type": "markdown",
   "source": "abstract class는 아래와 같이 무조건 상속받는 클래스를 생성해 사용해야 한다. 이때, 같은 메서드를 사용하여 자식 클래스의 메서드로 덮어쓰는 것을 **overloading**이라고 한다.",
   "id": "1d7299a452ab5030"
  },
  {
   "metadata": {
    "ExecuteTime": {
     "end_time": "2025-01-19T16:02:51.973126Z",
     "start_time": "2025-01-19T16:02:51.969651Z"
    }
   },
   "cell_type": "code",
   "source": [
    "import numpy as np\n",
    "from scipy.stats import norm\n",
    "\n",
    "class BlackScholesModel(OptionPricing):\n",
    "    # initializer는 이미 부모 클래스가 생성하였으므로 생략할 수 있다.\n",
    "    \n",
    "    def price(self, option_type : str = \"call\") -> float : # 이름이 같은 method를 생성한다.\n",
    "        '''\n",
    "        black scholes model에서 옵션 가격을 계산하는 Method\n",
    "        :param option_type: choose option type (call or put)\n",
    "        :return: \n",
    "        '''\n",
    "        d1 = (np.log(self.S / self.K) + (self.r + 0.5 * self.sigma ** 2) * self.T) / (self.sigma * np.sqrt(self.T))\n",
    "        d2 = d1 - self.sigma * np.sqrt(self.T)\n",
    "\n",
    "        if option_type == \"call\":\n",
    "            return self.S * norm.cdf(d1) - self.K * np.exp(-self.r * self.T) * norm.cdf(d2)\n",
    "        elif option_type == \"put\":\n",
    "            return self.K * np.exp(-self.r * self.T) * norm.cdf(-d2) - self.S * norm.cdf(-d1)\n",
    "        else:\n",
    "            raise ValueError(\"Invalid option type. Use 'call' or 'put'.\")"
   ],
   "id": "df718a0451669c3e",
   "outputs": [],
   "execution_count": 37
  },
  {
   "metadata": {
    "ExecuteTime": {
     "end_time": "2025-01-19T16:03:14.142200Z",
     "start_time": "2025-01-19T16:03:14.140410Z"
    }
   },
   "cell_type": "code",
   "source": [
    "bl_option = BlackScholesModel(\n",
    "    S = 125.25, \n",
    "    K = 120,\n",
    "    r = 0.05,\n",
    "    T = 252,\n",
    "    sigma = 0.16\n",
    ") # initializer는 parent class의 initializer를 사용한다"
   ],
   "id": "c05807c108ff1fd3",
   "outputs": [],
   "execution_count": 38
  },
  {
   "metadata": {
    "ExecuteTime": {
     "end_time": "2025-01-19T16:03:49.068291Z",
     "start_time": "2025-01-19T16:03:49.066020Z"
    }
   },
   "cell_type": "code",
   "source": "bl_option.price(option_type = 'call')",
   "id": "cfe097c7ed9d50c2",
   "outputs": [
    {
     "data": {
      "text/plain": [
       "125.24959537438835"
      ]
     },
     "execution_count": 40,
     "metadata": {},
     "output_type": "execute_result"
    }
   ],
   "execution_count": 40
  },
  {
   "metadata": {
    "ExecuteTime": {
     "end_time": "2025-01-19T16:03:56.528766Z",
     "start_time": "2025-01-19T16:03:56.525988Z"
    }
   },
   "cell_type": "code",
   "source": "bl_option.price(option_type = 'put')",
   "id": "782e865368db5fee",
   "outputs": [
    {
     "data": {
      "text/plain": [
       "1.621644999436893e-08"
      ]
     },
     "execution_count": 41,
     "metadata": {},
     "output_type": "execute_result"
    }
   ],
   "execution_count": 41
  },
  {
   "metadata": {},
   "cell_type": "markdown",
   "source": "intializer를 새롭게 업데이트하여 사용할 수 있다. super call 또는 슈퍼 클래스 생성자 호출 연산인 `super()`을 사용하면 자식 클래스에서 부모 클래스의 initializer에 접근하여 인자를 추가할 수 있다.",
   "id": "f8a06d7408951222"
  },
  {
   "metadata": {
    "ExecuteTime": {
     "end_time": "2025-01-19T16:08:24.349409Z",
     "start_time": "2025-01-19T16:08:24.345224Z"
    }
   },
   "cell_type": "code",
   "source": [
    "class BinomialTreeModel(OptionPricing):\n",
    "    def __init__(self, S, K, r, T, sigma, N) -> None :\n",
    "        super().__init__(S, K, r, T, sigma) # 부모 클래스에 접근하여 생성자를 초기화. 자식 클래스에서 parameter 추가가 가능\n",
    "        self.N = N  \n",
    "\n",
    "    def price(self, option_type : str = \"call\") -> float:\n",
    "        '''\n",
    "        binomial tree 모형을 이용한 옵션 가격 결정\n",
    "        :param option_type: choose option type (call or put)\n",
    "        :return: option price (float)\n",
    "        '''\n",
    "        dt = self.T / self.N\n",
    "        u = np.exp(self.sigma * np.sqrt(dt))  # 상승 비율\n",
    "        d = 1 / u  # 하락 비율\n",
    "        p = (np.exp(self.r * dt) - d) / (u - d)  # 리스크 중립 확률\n",
    "\n",
    "        # 가격 트리 생성\n",
    "        option_values = np.zeros(self.N + 1)\n",
    "        for j in range(self.N + 1):\n",
    "            stock_price = self.S * (u ** (self.N - j)) * (d ** j)\n",
    "            option_values[j] = max(0, stock_price - self.K if option_type == \"call\" else self.K - stock_price)\n",
    "\n",
    "        # 역순으로 트리 작업 수행\n",
    "        for i in range(self.N - 1, -1, -1):\n",
    "            for j in range(i + 1):\n",
    "                option_values[j] = (p * option_values[j] + (1 - p) * option_values[j + 1]) * np.exp(-self.r * dt)\n",
    "\n",
    "        return option_values[0]"
   ],
   "id": "77c4dd7ef9cad8fa",
   "outputs": [],
   "execution_count": 42
  },
  {
   "metadata": {
    "ExecuteTime": {
     "end_time": "2025-01-19T16:08:55.894540Z",
     "start_time": "2025-01-19T16:08:55.892473Z"
    }
   },
   "cell_type": "code",
   "source": [
    "tree_option = BinomialTreeModel(\n",
    "    S = 125.25,\n",
    "    K = 120,\n",
    "    r = 0.05,\n",
    "    T = 252,\n",
    "    sigma = 0.16,\n",
    "    N = 10 # tree depth\n",
    ") # initializer는 parent class의 initializer를 사용한다"
   ],
   "id": "fd6156beff834031",
   "outputs": [],
   "execution_count": 43
  },
  {
   "metadata": {
    "ExecuteTime": {
     "end_time": "2025-01-19T16:10:28.645370Z",
     "start_time": "2025-01-19T16:10:28.642664Z"
    }
   },
   "cell_type": "code",
   "source": "tree_option.price(option_type = 'call')",
   "id": "dcd6a6ab99d93dfe",
   "outputs": [
    {
     "data": {
      "text/plain": [
       "125.31412413198159"
      ]
     },
     "execution_count": 45,
     "metadata": {},
     "output_type": "execute_result"
    }
   ],
   "execution_count": 45
  },
  {
   "metadata": {},
   "cell_type": "markdown",
   "source": [
    "### Polymorphism\n",
    "\n",
    "- 부모 클래스에 있는 메서드를 자식 클래스가 같은 이름·시그니처로 재정의하는 것을 말한다.\n",
    "- over-riding은 그중 한 예로, 부모 클래스를 상속 받은 자식 클래스에 동일한 메서드를 작성해 기능을 바꾸는 것을 말한다.\n",
    "- 다형성(Polymorphism)의 핵심: 자식 클래스 객체에 맞게 동작을 변경"
   ],
   "id": "bb0fb4e0fc61effd"
  },
  {
   "metadata": {
    "ExecuteTime": {
     "end_time": "2025-01-19T16:33:52.621326Z",
     "start_time": "2025-01-19T16:33:52.617711Z"
    }
   },
   "cell_type": "code",
   "source": [
    "class OptionPricing(ABC) :\n",
    "    def __init__(\n",
    "            self, S : float,\n",
    "            K : float,\n",
    "            r : float,\n",
    "            T : float,\n",
    "            sigma : float\n",
    "        ) -> None :\n",
    "        \"\"\"\n",
    "        옵션 가격 계산을 위한 공통 속성을 생성하는 initializer\n",
    "        :param S: 기초 자산 가격\n",
    "        :param K: 행사가격\n",
    "        :param r: 무위험 이자율 (연간)\n",
    "        :param T: 옵션 만기 (연간)\n",
    "        :param sigma: 자산 변동성 (연간)\n",
    "        \"\"\"\n",
    "        self.S = S\n",
    "        self.K = K\n",
    "        self.r = r\n",
    "        self.T = T\n",
    "        self.sigma = sigma\n",
    "    \n",
    "    @abstractmethod # 후에 상속받은 클래스들이 무조건 생성해야 하는 메서드\n",
    "    def price(self) -> None :\n",
    "        '''\n",
    "        옵션 가격을 생성하는 메서드, 구체적 내용은 자식 클래스에서 구현\n",
    "        :return: None\n",
    "        '''\n",
    "        pass\n",
    "\n",
    "class Risk(ABC):\n",
    "    def __init__(self, S, K, r, T, sigma):\n",
    "        self.S = S\n",
    "        self.K = K\n",
    "        self.r = r\n",
    "        self.T = T\n",
    "        self.sigma = sigma\n",
    "        \n",
    "    @abstractmethod\n",
    "    def calculate_greeks(self) -> None :\n",
    "        '''\n",
    "        옵션의 Greek 값(델타, 감마 등)을 계산\n",
    "        :return: None\n",
    "        '''\n",
    "        pass"
   ],
   "id": "4d405c32c92c55a0",
   "outputs": [],
   "execution_count": 48
  },
  {
   "metadata": {
    "ExecuteTime": {
     "end_time": "2025-01-19T16:34:54.645883Z",
     "start_time": "2025-01-19T16:34:54.641733Z"
    }
   },
   "cell_type": "code",
   "source": [
    "class BlackScholesModel(OptionPricing, Risk):\n",
    "    def price(self, option_type : str = \"call\") -> float : # 이름이 같은 method를 생성한다.\n",
    "        '''\n",
    "        black scholes model에서 옵션 가격을 계산하는 Method\n",
    "        :param option_type: choose option type (call or put)\n",
    "        :return: \n",
    "        '''\n",
    "        d1 = (np.log(self.S / self.K) + (self.r + 0.5 * self.sigma ** 2) * self.T) / (self.sigma * np.sqrt(self.T))\n",
    "        d2 = d1 - self.sigma * np.sqrt(self.T)\n",
    "\n",
    "        if option_type == \"call\":\n",
    "            return self.S * norm.cdf(d1) - self.K * np.exp(-self.r * self.T) * norm.cdf(d2)\n",
    "        elif option_type == \"put\":\n",
    "            return self.K * np.exp(-self.r * self.T) * norm.cdf(-d2) - self.S * norm.cdf(-d1)\n",
    "        else:\n",
    "            raise ValueError(\"Invalid option type. Use 'call' or 'put'.\")\n",
    "\n",
    "class Greeks(Risk):\n",
    "    def __init__(self) -> None:\n",
    "        super().__init__()\n",
    "        \n",
    "    def calculate_greeks(self):\n",
    "        '''\n",
    "        delta, gamma를 계산하는 method\n",
    "        :return: Delta, Gamma (dict형태)\n",
    "        '''\n",
    "        d1 = (np.log(self.S / self.K) + (self.r + 0.5 * self.sigma ** 2) * self.T) / (self.sigma * np.sqrt(self.T))\n",
    "        delta = norm.cdf(d1)\n",
    "        gamma = norm.pdf(d1) / (self.S * self.sigma * np.sqrt(self.T))\n",
    "        return {\"Delta\": delta, \"Gamma\": gamma}"
   ],
   "id": "7be1f99b86656f37",
   "outputs": [],
   "execution_count": 49
  },
  {
   "metadata": {
    "ExecuteTime": {
     "end_time": "2025-01-19T16:35:52.484788Z",
     "start_time": "2025-01-19T16:35:52.482522Z"
    }
   },
   "cell_type": "code",
   "source": [
    "class Option(BlackScholesModel, Greeks):\n",
    "    def get_option_details(self, option_type : str = \"call\") -> dict :\n",
    "        price = self.price(option_type)\n",
    "        greeks = self.calculate_greeks()\n",
    "        return {\n",
    "            \"Option Price\": price,\n",
    "            \"Delta\": greeks[\"Delta\"],\n",
    "            \"Gamma\": greeks[\"Gamma\"]\n",
    "        }"
   ],
   "id": "d3898aa637320d09",
   "outputs": [],
   "execution_count": 50
  },
  {
   "metadata": {
    "ExecuteTime": {
     "end_time": "2025-01-19T16:36:08.088155Z",
     "start_time": "2025-01-19T16:36:08.085933Z"
    }
   },
   "cell_type": "code",
   "source": [
    "option = Option(\n",
    "    S = 125.25,\n",
    "    K = 120,\n",
    "    r = 0.05,\n",
    "    T = 252,\n",
    "    sigma = 0.16,\n",
    ") # initializer는 BlackScholesModel과 Greeks모두 동등한 parameter를 가지고 있으므로 두 클래스에 사용된 initializer를 생성"
   ],
   "id": "ef376ed1847e7876",
   "outputs": [],
   "execution_count": 51
  },
  {
   "metadata": {
    "ExecuteTime": {
     "end_time": "2025-01-19T16:36:11.954573Z",
     "start_time": "2025-01-19T16:36:11.951346Z"
    }
   },
   "cell_type": "code",
   "source": "option.get_option_details() # Option class의 method",
   "id": "925410e362b8f03",
   "outputs": [
    {
     "data": {
      "text/plain": [
       "{'Option Price': 125.24959537438835,\n",
       " 'Delta': 0.9999999997916005,\n",
       " 'Gamma': 4.192785657583612e-12}"
      ]
     },
     "execution_count": 52,
     "metadata": {},
     "output_type": "execute_result"
    }
   ],
   "execution_count": 52
  },
  {
   "metadata": {
    "ExecuteTime": {
     "end_time": "2025-01-19T16:37:28.519839Z",
     "start_time": "2025-01-19T16:37:28.516288Z"
    }
   },
   "cell_type": "code",
   "source": "option.calculate_greeks() # Risk class의 method",
   "id": "129a2ee0e58983f",
   "outputs": [
    {
     "data": {
      "text/plain": [
       "{'Delta': 0.9999999997916005, 'Gamma': 4.192785657583612e-12}"
      ]
     },
     "execution_count": 53,
     "metadata": {},
     "output_type": "execute_result"
    }
   ],
   "execution_count": 53
  },
  {
   "metadata": {
    "ExecuteTime": {
     "end_time": "2025-01-19T16:37:41.296162Z",
     "start_time": "2025-01-19T16:37:41.293177Z"
    }
   },
   "cell_type": "code",
   "source": "option.price('call') # BlackScholesModel의 method",
   "id": "d4002cd841ca7acb",
   "outputs": [
    {
     "data": {
      "text/plain": [
       "125.24959537438835"
      ]
     },
     "execution_count": 54,
     "metadata": {},
     "output_type": "execute_result"
    }
   ],
   "execution_count": 54
  },
  {
   "metadata": {},
   "cell_type": "markdown",
   "source": [
    "### Overloading\n",
    "\n",
    "- 오버로딩은 동일한 이름의 메서드를, 매개변수(파라미터)의 타입·개수·순서에 따라 여러 버전으로 정의하는 것을 말한다. \n",
    "- Python은 메서드/함수 오버로딩을 언어 차원에서 공식 지원하지 않는다. (가장 최근에 정의한 동일 이름의 함수가 앞선 정의를 아예 덮어쓰게 된다.) \n",
    "- 다만, 디스패치 라이브러리나 매개변수 기본값(args, kwargs) 등을 활용한 유사 오버로딩 패턴을 사용할 수 있다."
   ],
   "id": "94d0fb749b16ae71"
  },
  {
   "metadata": {
    "ExecuteTime": {
     "end_time": "2025-01-19T15:28:51.012342Z",
     "start_time": "2025-01-19T15:28:51.011077Z"
    }
   },
   "cell_type": "code",
   "source": "",
   "id": "161814f8518213da",
   "outputs": [],
   "execution_count": 30
  }
 ],
 "metadata": {
  "kernelspec": {
   "display_name": "Python 3",
   "language": "python",
   "name": "python3"
  },
  "language_info": {
   "codemirror_mode": {
    "name": "ipython",
    "version": 2
   },
   "file_extension": ".py",
   "mimetype": "text/x-python",
   "name": "python",
   "nbconvert_exporter": "python",
   "pygments_lexer": "ipython2",
   "version": "2.7.6"
  }
 },
 "nbformat": 4,
 "nbformat_minor": 5
}
