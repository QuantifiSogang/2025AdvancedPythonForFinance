{
 "cells": [
  {
   "metadata": {},
   "cell_type": "markdown",
   "source": [
    "## Object Oriented Programming\n",
    "\n",
    "- 프로그램을 명령어들의 목록이 아니라, 객체들의 모임으로서, 객체와 객체와의 상호관계를 중심으로 작성하자는 패러다임이다\n",
    "- 작성자 중심의 코드보다는 사용자 중심의 프로그래밍이다\n",
    "- 3자의 눈으로 설계를 해야하기 때문에 고난도의 지식이 요구된다\n",
    "- **Keras, Tensorflow, Pytorch를 사용하기 위해서는 필수 지식이다**\n",
    "\n",
    "<br>\n",
    "\n",
    "- **객체(object)** : 속성과 행위를 가지고 있으며 이름을 붙일 수 있는 물체\n",
    "- **class** : 객체를 만들기 위한 설계도\n",
    "- **instance** : 설계도에 따라 실제로 구현된 것"
   ],
   "id": "75d81a60a6c4bae1"
  },
  {
   "metadata": {
    "ExecuteTime": {
     "end_time": "2025-01-06T16:12:25.064067Z",
     "start_time": "2025-01-06T16:12:25.060468Z"
    }
   },
   "cell_type": "code",
   "source": [
    "def void(param1, param2) -> None :\n",
    "    '''\n",
    "    example of function\n",
    "    :param param1: \n",
    "    :param param2: \n",
    "    :return: \n",
    "    '''\n",
    "    print('function call')\n",
    "    return None"
   ],
   "id": "fd2d22bb9984fbe1",
   "outputs": [],
   "execution_count": 2
  },
  {
   "metadata": {
    "ExecuteTime": {
     "end_time": "2025-01-06T16:12:36.349360Z",
     "start_time": "2025-01-06T16:12:36.345832Z"
    }
   },
   "cell_type": "code",
   "source": "void(1, 2)",
   "id": "8836efa14ab3490e",
   "outputs": [
    {
     "name": "stdout",
     "output_type": "stream",
     "text": [
      "function call\n"
     ]
    }
   ],
   "execution_count": 3
  },
  {
   "cell_type": "code",
   "id": "initial_id",
   "metadata": {
    "collapsed": true,
    "ExecuteTime": {
     "end_time": "2025-01-06T16:13:19.161015Z",
     "start_time": "2025-01-06T16:13:19.157300Z"
    }
   },
   "source": [
    "class Asset(object) : # Class 선언, class는 대문자로 시작하는 것이 암묵적인 rule\n",
    "    '''\n",
    "    example of class\n",
    "    '''\n",
    "    ASSET_ID = 0 # class variable\n",
    "    def __init__(self, name, ticker) : # initializer, 필수적으로 있어야 함\n",
    "        # initializer는 Class가 instance 되자마자 생성되므로 해당되는 변수가 모두 입력되어야 함\n",
    "        self.name = name # self는 Class내에서 처리되는 instance 변수\n",
    "        self.ticker = ticker\n",
    "        \n",
    "    def get_info(self) -> None :\n",
    "        print('Asset name : ', self.name)\n",
    "        print('Asset ticker : ', self.ticker)\n",
    "        return None"
   ],
   "outputs": [],
   "execution_count": 4
  },
  {
   "metadata": {},
   "cell_type": "markdown",
   "source": [
    "- self.가 붙은 변수는 Object별로 따로 저장되는 instance 변수라고 한다\n",
    "- Class 하위에 선언된 Class function들을 **Method**라고 한다"
   ],
   "id": "a3ad29dac3e6245e"
  },
  {
   "metadata": {
    "ExecuteTime": {
     "end_time": "2025-01-06T16:14:18.736824Z",
     "start_time": "2025-01-06T16:14:18.734321Z"
    }
   },
   "cell_type": "code",
   "source": [
    "asset1 = Asset('Apple Inc.', ticker = 'AAPL')\n",
    "asset2 = Asset('NVIDIA corporation', ticker = 'NVDA')"
   ],
   "id": "15ae4b1b9fe8425b",
   "outputs": [],
   "execution_count": 5
  },
  {
   "metadata": {},
   "cell_type": "markdown",
   "source": "각 객체는 고유한 ID를 가진다",
   "id": "fcad4f13a0e830db"
  },
  {
   "metadata": {
    "ExecuteTime": {
     "end_time": "2025-01-06T16:14:24.202464Z",
     "start_time": "2025-01-06T16:14:24.199001Z"
    }
   },
   "cell_type": "code",
   "source": "asset1",
   "id": "5662f082e4ac2538",
   "outputs": [
    {
     "data": {
      "text/plain": [
       "<__main__.Asset at 0x103d7be50>"
      ]
     },
     "execution_count": 6,
     "metadata": {},
     "output_type": "execute_result"
    }
   ],
   "execution_count": 6
  },
  {
   "metadata": {
    "ExecuteTime": {
     "end_time": "2025-01-06T16:14:41.380459Z",
     "start_time": "2025-01-06T16:14:41.376987Z"
    }
   },
   "cell_type": "code",
   "source": "asset2",
   "id": "470ee70c0e6a6c71",
   "outputs": [
    {
     "data": {
      "text/plain": [
       "<__main__.Asset at 0x103d59a50>"
      ]
     },
     "execution_count": 7,
     "metadata": {},
     "output_type": "execute_result"
    }
   ],
   "execution_count": 7
  },
  {
   "metadata": {},
   "cell_type": "markdown",
   "source": "클래스 변수의 접근은 '.' 연산자를 통해 가능하다",
   "id": "582c706d9b44b9fb"
  },
  {
   "metadata": {
    "ExecuteTime": {
     "end_time": "2025-01-06T16:15:43.832687Z",
     "start_time": "2025-01-06T16:15:43.829551Z"
    }
   },
   "cell_type": "code",
   "source": "asset1.ASSET_ID",
   "id": "8d08ad00fdaac269",
   "outputs": [
    {
     "data": {
      "text/plain": [
       "0"
      ]
     },
     "execution_count": 8,
     "metadata": {},
     "output_type": "execute_result"
    }
   ],
   "execution_count": 8
  },
  {
   "metadata": {},
   "cell_type": "markdown",
   "source": "물론, 변수이기 때문에 대입 연산이 가능하다",
   "id": "e117761b28ee1138"
  },
  {
   "metadata": {
    "ExecuteTime": {
     "end_time": "2025-01-06T16:16:19.699140Z",
     "start_time": "2025-01-06T16:16:19.696014Z"
    }
   },
   "cell_type": "code",
   "source": [
    "asset1.ASSET_ID = 1\n",
    "print(asset1.ASSET_ID)"
   ],
   "id": "a50b62e732cc1783",
   "outputs": [
    {
     "name": "stdout",
     "output_type": "stream",
     "text": [
      "1\n"
     ]
    }
   ],
   "execution_count": 9
  },
  {
   "metadata": {},
   "cell_type": "markdown",
   "source": "method를 호출하면 객체별로 다른 정보를 편하게 함수처럼 사용 가능하다",
   "id": "b1bd829837db47e"
  },
  {
   "metadata": {
    "ExecuteTime": {
     "end_time": "2025-01-06T16:16:42.743848Z",
     "start_time": "2025-01-06T16:16:42.740985Z"
    }
   },
   "cell_type": "code",
   "source": "asset1.get_info()",
   "id": "fe0ed9bf90f3dd3f",
   "outputs": [
    {
     "name": "stdout",
     "output_type": "stream",
     "text": [
      "Asset name :  Apple Inc.\n",
      "Asset ticker :  AAPL\n"
     ]
    }
   ],
   "execution_count": 11
  },
  {
   "metadata": {
    "ExecuteTime": {
     "end_time": "2025-01-06T16:17:08.449290Z",
     "start_time": "2025-01-06T16:17:08.446165Z"
    }
   },
   "cell_type": "code",
   "source": "asset2.get_info()",
   "id": "80d395ec93a37e43",
   "outputs": [
    {
     "name": "stdout",
     "output_type": "stream",
     "text": [
      "Asset name :  NVIDIA corporation\n",
      "Asset ticker :  NVDA\n"
     ]
    }
   ],
   "execution_count": 12
  },
  {
   "metadata": {},
   "cell_type": "markdown",
   "source": [
    "### Class Members\n",
    "\n",
    "<pre>\n",
    "- Class Members\n",
    "    - method\n",
    "    - Property @\n",
    "    - class variable\n",
    "    - instance variable\n",
    "    - Initializer __init__\n",
    "    - Destructor __del__\n",
    "    </pre>\n",
    "    \n",
    "- 데이터를 표현하는 **field**와 행위를 표현하는 **method**로 구분하며, python에서는 이러한 field와 method 모두 그 객체의 attribute라고도 한다.\n",
    "- 새로운 attribute를 동적으로 추가할 수 있으며, method도 일종의 method객체로 취급하여 attribute에 포함한다.\n",
    "\n",
    "### Initializer\n",
    "- **\\_\\_init__( )**\n",
    "- class로부터 새 객체가 생성될 때 마다 실행되는 특별한 method(magic method)이다\n",
    "- instance 변수의 초기화, **객체의 초기 상태를 설정한다**\n",
    "- Python에서 Class Constructor(클래스 생성자)는 실제 런타임 엔진 내부에서 실행되는데, 이 생성자 실행 도중 Class 내에 Initializer가 있는지 체크하여 만약 있으면 **Initializer를 호출하여 객체의 변수 등을 초기화한다**\n",
    "\n",
    "### Destructor\n",
    "- **\\_\\_del__**\n",
    "- Class로부터 객체가 소멸할 때 호출되는 특별한 method\n",
    "- 객체의 reference counter(참조 카운터)가 0이 되면 자동 호출한다\n",
    "- 리소스 해제 등의 종료작업 수행한다\n",
    "- 또한, Class가 동작하는지 확인할 때에도 쓰인다"
   ],
   "id": "1f6d2f282961061d"
  },
  {
   "metadata": {
    "ExecuteTime": {
     "end_time": "2025-01-06T16:19:50.512407Z",
     "start_time": "2025-01-06T16:19:50.509891Z"
    }
   },
   "cell_type": "code",
   "source": [
    "class Asset(object) : # Class 선언, class는 대문자로 시작하는 것이 암묵적인 rule\n",
    "    '''\n",
    "    example of class\n",
    "    '''\n",
    "    ASSET_ID = 0 # class variable\n",
    "    def __init__(self, name, ticker) : # initializer, 필수적으로 있어야 함\n",
    "        # initializer는 Class가 instance 되자마자 생성되므로 해당되는 변수가 모두 입력되어야 함\n",
    "        self.name = name # self는 Class내에서 처리되는 instance 변수\n",
    "        self.ticker = ticker\n",
    "    \n",
    "    def __del__(self) :\n",
    "        '''\n",
    "        소멸자는 객체가 사라질 때 호출되는 함수\n",
    "        지정하지 않는 경우에도 기본적으로 생성되지만, __del__() method를 지정하면 소멸시에 특수한 행위를 지정할 수 있음\n",
    "        :return: \n",
    "        '''\n",
    "        print(f'Asset {self.name} delete')\n",
    "        \n",
    "    def get_info(self) -> None :\n",
    "        print('Asset name : ', self.name)\n",
    "        print('Asset ticker : ', self.ticker)\n",
    "        return None"
   ],
   "id": "7ccd9302be83df85",
   "outputs": [],
   "execution_count": 13
  },
  {
   "metadata": {
    "ExecuteTime": {
     "end_time": "2025-01-06T16:20:07.566296Z",
     "start_time": "2025-01-06T16:20:07.563431Z"
    }
   },
   "cell_type": "code",
   "source": "asset3 = Asset('Microsoft', ticker = 'MSFT') # 생성자 생성",
   "id": "d88d219201a45699",
   "outputs": [],
   "execution_count": 14
  },
  {
   "metadata": {
    "ExecuteTime": {
     "end_time": "2025-01-06T16:20:32.115368Z",
     "start_time": "2025-01-06T16:20:32.112454Z"
    }
   },
   "cell_type": "code",
   "source": "asset3.name # 생성자에서 초기화된 클래스 변수",
   "id": "b0e23659b01e626c",
   "outputs": [
    {
     "data": {
      "text/plain": [
       "'Microsoft'"
      ]
     },
     "execution_count": 15,
     "metadata": {},
     "output_type": "execute_result"
    }
   ],
   "execution_count": 15
  },
  {
   "metadata": {},
   "cell_type": "markdown",
   "source": "객체는 `del` 명령어를 사용해 런타임 객체에서 지울 수 있다.",
   "id": "f0a57c6b53526aa5"
  },
  {
   "metadata": {
    "ExecuteTime": {
     "end_time": "2025-01-06T16:21:18.991161Z",
     "start_time": "2025-01-06T16:21:18.989233Z"
    }
   },
   "cell_type": "code",
   "source": "del asset3 # 소멸자 호출",
   "id": "6ef56d5293ee0695",
   "outputs": [
    {
     "name": "stdout",
     "output_type": "stream",
     "text": [
      "Asset Microsoft delete\n"
     ]
    }
   ],
   "execution_count": 16
  },
  {
   "metadata": {
    "ExecuteTime": {
     "end_time": "2025-01-06T16:21:37.588364Z",
     "start_time": "2025-01-06T16:21:37.586802Z"
    }
   },
   "cell_type": "code",
   "source": "del asset2 # 소멸자가 작성되지 않은 객체인 경우 아무것도 출력되지 않음",
   "id": "dab97bb6cb4955d0",
   "outputs": [],
   "execution_count": 17
  },
  {
   "metadata": {},
   "cell_type": "markdown",
   "source": [
    "### Class variable, Instance variable\n",
    "\n",
    "- Class 변수가 하나의 Class에 하나만 존재하는 반면, Instance 변수는 각 객체 instance마다 별도로 존재한다.\n",
    "- <span style = 'color : #132c6f'><b>Instance Variable</b></span> : 클래스 정의에서 method 안에서 사용되면서 **'self.*variable name*'** 처럼 사용되며, 이는 각 객체별로 서로 다른 값을 갖는 변수이다."
   ],
   "id": "2b2bc9a54c572c9d"
  },
  {
   "metadata": {},
   "cell_type": "code",
   "outputs": [],
   "execution_count": null,
   "source": "",
   "id": "8a63a8a795e40063"
  },
  {
   "metadata": {},
   "cell_type": "markdown",
   "source": [
    "### Encapsulation\n",
    "- **캡슐화**는 객체의 외부에서 객체 내부의 속성을 <span style = 'color : #132c6f'>직접적으로 접근, 속성을 읽거나 변경시키지 못하게 하는 것</span>을 말한다.\n",
    "- 객체의 속성을 접근, 속성을 읽거나 변경하고 싶으면 반드시 <span style = 'color : #132c6f'><b>허락된 인터페이스를 통해서</b></span>만이 가능하다.\n",
    "    - 객체가 **외부로 공개한 메서드**를 뜻한다."
   ],
   "id": "c69f1a5546b6572f"
  },
  {
   "metadata": {},
   "cell_type": "markdown",
   "source": [
    "#### Access Modifiers\n",
    "- C++나 Java와 같은 OOP 언어에서는 객체의 속성이나 메서드에 접근을 제어하는 접근 지정자 (**public, private, protected**)가 제공된다.\n",
    "- python에서는 이런 접근 지정자가 없다.\n",
    "- python class에서는 기본적으로 모든 멤버가 public이라고 할 수 있다.\n",
    "- python에서의 접근 지정은 이름 규칙을 통해 처리되며, 프로그래머가 접근 지정에 대한 책임을 지게 한다.\n",
    "- python에서는 접근 지정을 구분하기 위해 밑줄(under bar)를 사용한다.\n",
    "\n",
    "아래의 예시는 Ether의 ERC20 Contract의 일부 내용이다. contract는 class에 대응되는 개념이며, function을 보면 접근 지정자를 확인할 수 있다.\n",
    "이는 solidity 뿐만 아니라 C++과 JAVA도 동일한 구조를 가지고 있다.\n",
    "\n",
    "```{solidity}\n",
    "contract ERC20StdToken {\n",
    "    mapping(address => uint256) balances;\n",
    "    mapping(address => mapping(address => uint256)) allowed; // allowed[key][key]\n",
    "\n",
    "    uint256 private total; // variable declaration\n",
    "    string public name;\n",
    "    string public symbol;\n",
    "    uint8 public decimals;\n",
    "\n",
    "    event Transfer(address indexed from, \n",
    "                   address indexed to, \n",
    "                   uint256 value);\n",
    "\n",
    "    event Approval(address indexed owner, \n",
    "                   address indexed spender, \n",
    "                   uint256 value);\n",
    "\n",
    "    constructor (string memory _name, \n",
    "                 string memory _symbol, \n",
    "                 uint _totalSupply)\n",
    "                 {\n",
    "            total = _totalSupply;\n",
    "            name = _name;\n",
    "            symbol = _symbol;\n",
    "            decimals = 0;\n",
    "            balances[msg.sender] = _totalSupply;\n",
    "            emit Transfer(address(0x0), msg.sender, _totalSupply);\n",
    "        }\n",
    "    \n",
    "    function totalSupply()\n",
    "        public // Encapsulation\n",
    "        view \n",
    "        returns(uint256) {\n",
    "            return total;\n",
    "        }\n",
    "```\n",
    "\n",
    "<center>\n",
    "\n",
    "|Mode|설명|\n",
    "|:---:|:---:|\n",
    "|**public**| 공개 모드로서 객체 외부에서 접근이 가능하다. 언더바가 없다.|\n",
    "|**protected**| 객체 외부에서 접근해서는 안 된다. <br> 코딩 관례상 내부적으로만 사용되는 변수 또는 메서드에 사용한다. 언더바가 하나이다.|\n",
    "|**private**| private 모드로서 객체 외부뿐만 아니라 상속받은 객체에서도 접근이 안 된다.|\n",
    "\n",
    "</center>\n",
    "\n",
    "- protected 모드도 public이므로 필요하면 외부에서 엑세스가 가능하다.\n",
    "- private 모드 또한 바꾸는 규칙만 알면 외부에서 바꿀수는 있다."
   ],
   "id": "f3bedeb5af9e61c1"
  },
  {
   "metadata": {},
   "cell_type": "code",
   "outputs": [],
   "execution_count": null,
   "source": "",
   "id": "616f903ab8c0ca9d"
  },
  {
   "metadata": {},
   "cell_type": "markdown",
   "source": [
    "### property\n",
    "- **get / set method**\n",
    "    - 단지 객체의 속성 값을 읽거나 설정하는데 사용되는 method\n",
    "- **property**\n",
    "    - 객체의 속성을 접근하는 것이 <span style = 'color : #132c6f'><b>마치 속성에 직접적으로 접근하는 것처럼 보이지만</b></span> 내부적으로는 method를 통해 접근하도록 하는 방식"
   ],
   "id": "1d30077af52b6ffe"
  },
  {
   "metadata": {},
   "cell_type": "code",
   "outputs": [],
   "execution_count": null,
   "source": "",
   "id": "47d19d8780045520"
  },
  {
   "metadata": {},
   "cell_type": "markdown",
   "source": "### Inheritance",
   "id": "e35ca9c3eb727c8f"
  },
  {
   "metadata": {},
   "cell_type": "code",
   "outputs": [],
   "execution_count": null,
   "source": "",
   "id": "a5b87e0e04a84c0b"
  },
  {
   "metadata": {},
   "cell_type": "markdown",
   "source": "### Library Management",
   "id": "55c81a86174295e1"
  },
  {
   "metadata": {},
   "cell_type": "code",
   "outputs": [],
   "execution_count": null,
   "source": "",
   "id": "4dd2ed730a1cb74b"
  }
 ],
 "metadata": {
  "kernelspec": {
   "display_name": "Python 3",
   "language": "python",
   "name": "python3"
  },
  "language_info": {
   "codemirror_mode": {
    "name": "ipython",
    "version": 2
   },
   "file_extension": ".py",
   "mimetype": "text/x-python",
   "name": "python",
   "nbconvert_exporter": "python",
   "pygments_lexer": "ipython2",
   "version": "2.7.6"
  }
 },
 "nbformat": 4,
 "nbformat_minor": 5
}
