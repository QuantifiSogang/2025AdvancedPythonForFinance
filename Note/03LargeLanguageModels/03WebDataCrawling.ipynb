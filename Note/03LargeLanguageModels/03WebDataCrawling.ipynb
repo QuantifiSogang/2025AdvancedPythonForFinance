{
 "cells": [
  {
   "metadata": {},
   "cell_type": "markdown",
   "source": [
    "## WebData Crawling and its application\n",
    "\n",
    "SerpAPI는 웹 검색을 통한 강력한 도구임에 분명하나, API 호출 횟수의 제한과 이용료는 부담이 될 수 있다. 대안으로 수집 대상을 직접 지정한 뒤, 웹에서 데이터를 직접 수집하여 가공하는 방법이 있다."
   ],
   "id": "c1f6497fa7232869"
  }
 ],
 "metadata": {
  "kernelspec": {
   "display_name": "Python 3",
   "language": "python",
   "name": "python3"
  },
  "language_info": {
   "codemirror_mode": {
    "name": "ipython",
    "version": 2
   },
   "file_extension": ".py",
   "mimetype": "text/x-python",
   "name": "python",
   "nbconvert_exporter": "python",
   "pygments_lexer": "ipython2",
   "version": "2.7.6"
  }
 },
 "nbformat": 4,
 "nbformat_minor": 5
}
