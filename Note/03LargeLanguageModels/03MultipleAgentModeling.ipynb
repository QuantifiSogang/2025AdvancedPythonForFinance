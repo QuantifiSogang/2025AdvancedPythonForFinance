{
 "cells": [
  {
   "metadata": {},
   "cell_type": "markdown",
   "source": "## Multiple Agent Modeling",
   "id": "d78dd0876713a8df"
  },
  {
   "metadata": {},
   "cell_type": "markdown",
   "source": [
    "### Model and Prompt\n",
    "\n",
    "`langchain`은 50개 이상의 서드파티 공급업체 및 플랫폼과의 통합을 제공하며, OpenAI, Azure OpenAI, Databricks, MosaicML은 물론 허깅페이스 허브 및 오픈소스 LLM 세계와의 통합도 지원한다. "
   ],
   "id": "2385ef026c5e7c3c"
  },
  {
   "metadata": {
    "ExecuteTime": {
     "end_time": "2025-02-09T15:35:03.182844Z",
     "start_time": "2025-02-09T15:35:03.179954Z"
    }
   },
   "cell_type": "code",
   "source": [
    "import numpy as np\n",
    "import pandas as pd\n",
    "import openai\n",
    "from openai import OpenAI\n",
    "import os\n",
    "\n",
    "with open('../../config/api.key') as file :\n",
    "    lines = file.readlines()\n",
    "    api_key = lines[0].strip()\n",
    "    serp_api_key = lines[1].strip()\n",
    "    langsmith_api_key = lines[2].strip()\n",
    "\n",
    "openai.api_key = api_key\n",
    "os.environ[\"OPENAI_API_KEY\"] = api_key"
   ],
   "id": "b471a3a7a7216db4",
   "outputs": [],
   "execution_count": 3
  },
  {
   "cell_type": "code",
   "id": "initial_id",
   "metadata": {
    "collapsed": true,
    "ExecuteTime": {
     "end_time": "2025-02-09T15:35:04.196140Z",
     "start_time": "2025-02-09T15:35:04.099462Z"
    }
   },
   "source": [
    "from langchain.chat_models import ChatOpenAI\n",
    "llm = ChatOpenAI(\n",
    "    model=\"gpt-4o-mini\",\n",
    "    temperature=0 # 결정적인 답변이 필요한 모델인 경우 0으로 지정, 숫자가 커질수록 창의력을 요구한다.\n",
    ")"
   ],
   "outputs": [],
   "execution_count": 4
  },
  {
   "metadata": {
    "ExecuteTime": {
     "end_time": "2025-02-09T15:35:24.734604Z",
     "start_time": "2025-02-09T15:35:19.762024Z"
    }
   },
   "cell_type": "code",
   "source": "print(llm.invoke('2025년 가격이 상승할 것으로 기대되는 미국 증시의 섹터나 테마는 뭘까? 3개만 알려줘').content)",
   "id": "82544549162551ca",
   "outputs": [
    {
     "name": "stdout",
     "output_type": "stream",
     "text": [
      "2025년 가격 상승이 기대되는 미국 증시의 섹터나 테마로는 다음과 같은 것들이 있습니다:\n",
      "\n",
      "1. **기술 섹터**: 인공지능(AI), 클라우드 컴퓨팅, 사이버 보안 등 기술 혁신이 계속해서 진행되고 있으며, 이러한 기술들이 다양한 산업에 통합됨에 따라 기술 섹터의 성장이 기대됩니다.\n",
      "\n",
      "2. **재생 에너지 및 친환경 기술**: 기후 변화에 대한 우려가 커짐에 따라 재생 에너지, 전기차, 배터리 기술 등 친환경 관련 기업들이 주목받고 있습니다. 정부의 지원과 소비자 수요 증가로 인해 이 섹터의 성장이 예상됩니다.\n",
      "\n",
      "3. **헬스케어 및 바이오테크**: 고령화 사회와 건강에 대한 관심 증가로 인해 헬스케어 및 바이오테크 분야의 기업들이 성장할 가능성이 높습니다. 특히, 혁신적인 치료법과 기술 개발이 이루어지고 있는 만큼 이 분야의 주식도 주목할 만합니다.\n",
      "\n",
      "이 외에도 다양한 요인들이 영향을 미칠 수 있으므로, 투자 결정을 내리기 전에 충분한 분석과 조사가 필요합니다.\n"
     ]
    }
   ],
   "execution_count": 6
  },
  {
   "metadata": {},
   "cell_type": "markdown",
   "source": [
    "#### prompt template\n",
    "\n",
    "prompt template은 언어 모델에 대한 프롬프트를 생성하는 방법을 정의하는 구성 요소이다. 여기에는 변수, placeholder, prefix, suffix, 그리고 데이터와 과업에 따라 맞춤화할 수 있는 기타 요소가 포함될 수 있다.\n",
    "예를 들어, 언어 모델을 사용하여 한 언어에서 다른 언어로 번역을 생성하고 싶다고 가정해 보자. 다음과 같은 prompt template을 사용할 수 있다.\n",
    "\n",
    "```\n",
    "sentence : {sentence}\n",
    "translate to {language} :\n",
    "```\n",
    "\n",
    "이 템플릿은 다음과 같이 쉽게 구현할 수 있다."
   ],
   "id": "e85d223e20c14819"
  },
  {
   "metadata": {
    "ExecuteTime": {
     "end_time": "2025-02-09T15:35:53.317573Z",
     "start_time": "2025-02-09T15:35:53.311572Z"
    }
   },
   "cell_type": "code",
   "source": [
    "from langchain import PromptTemplate\n",
    "\n",
    "template = \"\"\"\n",
    "문장 : {sentence}\n",
    "{language}로 번역 :\n",
    "\"\"\"\n",
    "\n",
    "prompt = PromptTemplate(\n",
    "    template = template,\n",
    "    input_variables = ['sentence','language']\n",
    ")"
   ],
   "id": "948db7e0b40595ff",
   "outputs": [],
   "execution_count": 7
  },
  {
   "metadata": {
    "ExecuteTime": {
     "end_time": "2025-02-09T15:35:53.721607Z",
     "start_time": "2025-02-09T15:35:53.719252Z"
    }
   },
   "cell_type": "code",
   "source": [
    "print(\n",
    "    prompt.format(\n",
    "        sentence = \"탁자 위에 고양이가 있다.\",\n",
    "        language = '영어'\n",
    "    )\n",
    ")"
   ],
   "id": "39be688d44d0820a",
   "outputs": [
    {
     "name": "stdout",
     "output_type": "stream",
     "text": [
      "\n",
      "문장 : 탁자 위에 고양이가 있다.\n",
      "영어로 번역 :\n",
      "\n"
     ]
    }
   ],
   "execution_count": 8
  },
  {
   "metadata": {
    "ExecuteTime": {
     "end_time": "2025-02-09T15:36:55.218966Z",
     "start_time": "2025-02-09T15:36:53.240386Z"
    }
   },
   "cell_type": "code",
   "source": [
    "print(\n",
    "    llm.invoke(\n",
    "        prompt.format(\n",
    "            sentence = \"탁자 위에 고양이가 있다.\",\n",
    "            language = '영어'\n",
    "        )\n",
    "    ).content\n",
    ")"
   ],
   "id": "ea88516b4a5f1dad",
   "outputs": [
    {
     "name": "stdout",
     "output_type": "stream",
     "text": [
      "The cat is on the table.\n"
     ]
    }
   ],
   "execution_count": 10
  },
  {
   "metadata": {},
   "cell_type": "markdown",
   "source": [
    "- completion model : 텍스트 입력을 받아 텍스트 출력을 생성하는 LLM의 한 유형이다. 과업과 훈련한 데이터에 따라 일관되고 관련성 있는 방식으로 prompt를 이어가려고 노력한다. 예를 들어, 완성 모델을 프롬프트에 따라서 요약, 번역, 스토리, 코드, 가사 등을 생성할 수 있다.\n",
    "- chat model : 대화 응답을 생성하도록 설계된 특수한 종류의 완성 모델이다. 메세지 목록을 입력으로 받으며, 각 메세지에는 역할(시스템, 사용자 또는 어시스턴트)과 콘텐츠가 있다. 채팅 모델은 이전 메세지와 시스템 지시를 기반으로 어시스턴트 역할에 대한 새 메세지를 생성하려고 시도한다.\n",
    "\n",
    "완성모델과 채팅 모델의 주요 차이점은 완성 모델을 하나의 텍스트 입력을 프롬프트로 기대하는 반면, 채팅 모델은 메세지 목록을 입력으로 기대한다는 점이다."
   ],
   "id": "6b171c0c906105ed"
  },
  {
   "metadata": {},
   "cell_type": "markdown",
   "source": [
    "### Data Connection\n",
    "\n",
    "data connection은 모델에 제공하려는 추가적인 non-parametic 지식을 검색하는 데 필요한 빌딩 블록을 의미한다. 이 아이디어는 5개의 주요 블록(원천 - 로드 - 변환 - 임베드 - 저장 - 검색)으로 이뤄지는 애플리케이션에 사용자별 데이터를 통합하는 일반적인 흐름을 다루기 위한 것이다."
   ],
   "id": "2c0096c288cb8440"
  },
  {
   "metadata": {},
   "cell_type": "markdown",
   "source": [
    "#### Document loaders\n",
    "\n",
    "document loader는 CSV, file directory, HTML, JSON, markdown, PDF 등 다양한 source로부터 문서를 읽어 들이는 일을 한다. document loader는 구성된 소스로부터 데이터를 문서로 loading하기 위한 `.load` method를 노출한다. 출력은 텍스트와 관련 메타데이터를 포함하는 `Document` 객체이다."
   ],
   "id": "74da156da6e08b63"
  },
  {
   "metadata": {
    "ExecuteTime": {
     "end_time": "2025-02-09T15:37:38.837067Z",
     "start_time": "2025-02-09T15:37:38.821618Z"
    }
   },
   "cell_type": "code",
   "source": [
    "dot_data = pd.read_csv(\n",
    "    '../../data/dot_plot_2024_12.csv',\n",
    "    index_col = 0\n",
    ")"
   ],
   "id": "bcce9ebe7a37d9f4",
   "outputs": [],
   "execution_count": 11
  },
  {
   "metadata": {
    "ExecuteTime": {
     "end_time": "2025-02-09T15:37:39.046334Z",
     "start_time": "2025-02-09T15:37:39.036896Z"
    }
   },
   "cell_type": "code",
   "source": "dot_data",
   "id": "dccbfa034fecfb6e",
   "outputs": [
    {
     "data": {
      "text/plain": [
       "             2024  2025  2026  2027  Longer run\n",
       "Target rate                                    \n",
       "4.750         NaN   NaN   NaN   NaN         NaN\n",
       "4.625         4.0   NaN   NaN   NaN         NaN\n",
       "4.500         NaN   NaN   NaN   NaN         NaN\n",
       "4.375        15.0   1.0   NaN   NaN         NaN\n",
       "4.250         NaN   NaN   NaN   NaN         NaN\n",
       "4.125         NaN   3.0   NaN   NaN         NaN\n",
       "4.000         NaN   NaN   NaN   NaN         NaN\n",
       "3.875         NaN  10.0   3.0   2.0         1.0\n",
       "3.750         NaN   NaN   NaN   NaN         1.0\n",
       "3.625         NaN   3.0   4.0   4.0         2.0\n",
       "3.500         NaN   NaN   NaN   NaN         2.0\n",
       "3.375         NaN   1.0   5.0   1.0         1.0\n",
       "3.250         NaN   NaN   NaN   NaN         NaN\n",
       "3.125         NaN   1.0   4.0   7.0         1.0\n",
       "3.000         NaN   NaN   NaN   NaN         3.0\n",
       "2.875         NaN   NaN   1.0   2.0         4.0\n",
       "2.750         NaN   NaN   1.0   1.0         1.0\n",
       "2.625         NaN   NaN   NaN   1.0         1.0\n",
       "2.500         NaN   NaN   NaN   NaN         1.0\n",
       "2.375         NaN   NaN   1.0   1.0         1.0\n",
       "2.250         NaN   NaN   NaN   NaN         NaN"
      ],
      "text/html": [
       "<div>\n",
       "<style scoped>\n",
       "    .dataframe tbody tr th:only-of-type {\n",
       "        vertical-align: middle;\n",
       "    }\n",
       "\n",
       "    .dataframe tbody tr th {\n",
       "        vertical-align: top;\n",
       "    }\n",
       "\n",
       "    .dataframe thead th {\n",
       "        text-align: right;\n",
       "    }\n",
       "</style>\n",
       "<table border=\"1\" class=\"dataframe\">\n",
       "  <thead>\n",
       "    <tr style=\"text-align: right;\">\n",
       "      <th></th>\n",
       "      <th>2024</th>\n",
       "      <th>2025</th>\n",
       "      <th>2026</th>\n",
       "      <th>2027</th>\n",
       "      <th>Longer run</th>\n",
       "    </tr>\n",
       "    <tr>\n",
       "      <th>Target rate</th>\n",
       "      <th></th>\n",
       "      <th></th>\n",
       "      <th></th>\n",
       "      <th></th>\n",
       "      <th></th>\n",
       "    </tr>\n",
       "  </thead>\n",
       "  <tbody>\n",
       "    <tr>\n",
       "      <th>4.750</th>\n",
       "      <td>NaN</td>\n",
       "      <td>NaN</td>\n",
       "      <td>NaN</td>\n",
       "      <td>NaN</td>\n",
       "      <td>NaN</td>\n",
       "    </tr>\n",
       "    <tr>\n",
       "      <th>4.625</th>\n",
       "      <td>4.0</td>\n",
       "      <td>NaN</td>\n",
       "      <td>NaN</td>\n",
       "      <td>NaN</td>\n",
       "      <td>NaN</td>\n",
       "    </tr>\n",
       "    <tr>\n",
       "      <th>4.500</th>\n",
       "      <td>NaN</td>\n",
       "      <td>NaN</td>\n",
       "      <td>NaN</td>\n",
       "      <td>NaN</td>\n",
       "      <td>NaN</td>\n",
       "    </tr>\n",
       "    <tr>\n",
       "      <th>4.375</th>\n",
       "      <td>15.0</td>\n",
       "      <td>1.0</td>\n",
       "      <td>NaN</td>\n",
       "      <td>NaN</td>\n",
       "      <td>NaN</td>\n",
       "    </tr>\n",
       "    <tr>\n",
       "      <th>4.250</th>\n",
       "      <td>NaN</td>\n",
       "      <td>NaN</td>\n",
       "      <td>NaN</td>\n",
       "      <td>NaN</td>\n",
       "      <td>NaN</td>\n",
       "    </tr>\n",
       "    <tr>\n",
       "      <th>4.125</th>\n",
       "      <td>NaN</td>\n",
       "      <td>3.0</td>\n",
       "      <td>NaN</td>\n",
       "      <td>NaN</td>\n",
       "      <td>NaN</td>\n",
       "    </tr>\n",
       "    <tr>\n",
       "      <th>4.000</th>\n",
       "      <td>NaN</td>\n",
       "      <td>NaN</td>\n",
       "      <td>NaN</td>\n",
       "      <td>NaN</td>\n",
       "      <td>NaN</td>\n",
       "    </tr>\n",
       "    <tr>\n",
       "      <th>3.875</th>\n",
       "      <td>NaN</td>\n",
       "      <td>10.0</td>\n",
       "      <td>3.0</td>\n",
       "      <td>2.0</td>\n",
       "      <td>1.0</td>\n",
       "    </tr>\n",
       "    <tr>\n",
       "      <th>3.750</th>\n",
       "      <td>NaN</td>\n",
       "      <td>NaN</td>\n",
       "      <td>NaN</td>\n",
       "      <td>NaN</td>\n",
       "      <td>1.0</td>\n",
       "    </tr>\n",
       "    <tr>\n",
       "      <th>3.625</th>\n",
       "      <td>NaN</td>\n",
       "      <td>3.0</td>\n",
       "      <td>4.0</td>\n",
       "      <td>4.0</td>\n",
       "      <td>2.0</td>\n",
       "    </tr>\n",
       "    <tr>\n",
       "      <th>3.500</th>\n",
       "      <td>NaN</td>\n",
       "      <td>NaN</td>\n",
       "      <td>NaN</td>\n",
       "      <td>NaN</td>\n",
       "      <td>2.0</td>\n",
       "    </tr>\n",
       "    <tr>\n",
       "      <th>3.375</th>\n",
       "      <td>NaN</td>\n",
       "      <td>1.0</td>\n",
       "      <td>5.0</td>\n",
       "      <td>1.0</td>\n",
       "      <td>1.0</td>\n",
       "    </tr>\n",
       "    <tr>\n",
       "      <th>3.250</th>\n",
       "      <td>NaN</td>\n",
       "      <td>NaN</td>\n",
       "      <td>NaN</td>\n",
       "      <td>NaN</td>\n",
       "      <td>NaN</td>\n",
       "    </tr>\n",
       "    <tr>\n",
       "      <th>3.125</th>\n",
       "      <td>NaN</td>\n",
       "      <td>1.0</td>\n",
       "      <td>4.0</td>\n",
       "      <td>7.0</td>\n",
       "      <td>1.0</td>\n",
       "    </tr>\n",
       "    <tr>\n",
       "      <th>3.000</th>\n",
       "      <td>NaN</td>\n",
       "      <td>NaN</td>\n",
       "      <td>NaN</td>\n",
       "      <td>NaN</td>\n",
       "      <td>3.0</td>\n",
       "    </tr>\n",
       "    <tr>\n",
       "      <th>2.875</th>\n",
       "      <td>NaN</td>\n",
       "      <td>NaN</td>\n",
       "      <td>1.0</td>\n",
       "      <td>2.0</td>\n",
       "      <td>4.0</td>\n",
       "    </tr>\n",
       "    <tr>\n",
       "      <th>2.750</th>\n",
       "      <td>NaN</td>\n",
       "      <td>NaN</td>\n",
       "      <td>1.0</td>\n",
       "      <td>1.0</td>\n",
       "      <td>1.0</td>\n",
       "    </tr>\n",
       "    <tr>\n",
       "      <th>2.625</th>\n",
       "      <td>NaN</td>\n",
       "      <td>NaN</td>\n",
       "      <td>NaN</td>\n",
       "      <td>1.0</td>\n",
       "      <td>1.0</td>\n",
       "    </tr>\n",
       "    <tr>\n",
       "      <th>2.500</th>\n",
       "      <td>NaN</td>\n",
       "      <td>NaN</td>\n",
       "      <td>NaN</td>\n",
       "      <td>NaN</td>\n",
       "      <td>1.0</td>\n",
       "    </tr>\n",
       "    <tr>\n",
       "      <th>2.375</th>\n",
       "      <td>NaN</td>\n",
       "      <td>NaN</td>\n",
       "      <td>1.0</td>\n",
       "      <td>1.0</td>\n",
       "      <td>1.0</td>\n",
       "    </tr>\n",
       "    <tr>\n",
       "      <th>2.250</th>\n",
       "      <td>NaN</td>\n",
       "      <td>NaN</td>\n",
       "      <td>NaN</td>\n",
       "      <td>NaN</td>\n",
       "      <td>NaN</td>\n",
       "    </tr>\n",
       "  </tbody>\n",
       "</table>\n",
       "</div>"
      ]
     },
     "execution_count": 12,
     "metadata": {},
     "output_type": "execute_result"
    }
   ],
   "execution_count": 12
  },
  {
   "metadata": {
    "ExecuteTime": {
     "end_time": "2025-02-09T15:37:39.857857Z",
     "start_time": "2025-02-09T15:37:39.846257Z"
    }
   },
   "cell_type": "code",
   "source": [
    "from langchain.document_loaders.csv_loader import CSVLoader\n",
    "loader = CSVLoader(\n",
    "    file_path = '../../data/dot_plot_2024_12.csv'\n",
    ")\n",
    "data = loader.load()"
   ],
   "id": "ed43cb49d07412d8",
   "outputs": [],
   "execution_count": 13
  },
  {
   "metadata": {},
   "cell_type": "markdown",
   "source": "출력은 다음과 같다. 객체가 `Document`인 것을 확인할 수 있다.",
   "id": "5233e73e990346f"
  },
  {
   "metadata": {
    "ExecuteTime": {
     "end_time": "2025-02-09T15:37:40.445303Z",
     "start_time": "2025-02-09T15:37:40.442388Z"
    }
   },
   "cell_type": "code",
   "source": "data",
   "id": "649476ce46c34006",
   "outputs": [
    {
     "data": {
      "text/plain": [
       "[Document(metadata={'source': '../../data/dot_plot_2024_12.csv', 'row': 0}, page_content='Target rate: 4.750\\n2024: \\n2025: \\n2026: \\n2027: \\nLonger run: '),\n",
       " Document(metadata={'source': '../../data/dot_plot_2024_12.csv', 'row': 1}, page_content='Target rate: 4.625\\n2024: 4\\n2025: \\n2026: \\n2027: \\nLonger run: '),\n",
       " Document(metadata={'source': '../../data/dot_plot_2024_12.csv', 'row': 2}, page_content='Target rate: 4.500\\n2024: \\n2025: \\n2026: \\n2027: \\nLonger run: '),\n",
       " Document(metadata={'source': '../../data/dot_plot_2024_12.csv', 'row': 3}, page_content='Target rate: 4.375\\n2024: 15\\n2025: 1\\n2026: \\n2027: \\nLonger run: '),\n",
       " Document(metadata={'source': '../../data/dot_plot_2024_12.csv', 'row': 4}, page_content='Target rate: 4.250\\n2024: \\n2025: \\n2026: \\n2027: \\nLonger run: '),\n",
       " Document(metadata={'source': '../../data/dot_plot_2024_12.csv', 'row': 5}, page_content='Target rate: 4.125\\n2024: \\n2025: 3\\n2026: \\n2027: \\nLonger run: '),\n",
       " Document(metadata={'source': '../../data/dot_plot_2024_12.csv', 'row': 6}, page_content='Target rate: 4.000\\n2024: \\n2025: \\n2026: \\n2027: \\nLonger run: '),\n",
       " Document(metadata={'source': '../../data/dot_plot_2024_12.csv', 'row': 7}, page_content='Target rate: 3.875\\n2024: \\n2025: 10\\n2026: 3\\n2027: 2\\nLonger run: 1'),\n",
       " Document(metadata={'source': '../../data/dot_plot_2024_12.csv', 'row': 8}, page_content='Target rate: 3.750\\n2024: \\n2025: \\n2026: \\n2027: \\nLonger run: 1'),\n",
       " Document(metadata={'source': '../../data/dot_plot_2024_12.csv', 'row': 9}, page_content='Target rate: 3.625\\n2024: \\n2025: 3\\n2026: 4\\n2027: 4\\nLonger run: 2'),\n",
       " Document(metadata={'source': '../../data/dot_plot_2024_12.csv', 'row': 10}, page_content='Target rate: 3.500\\n2024: \\n2025: \\n2026: \\n2027: \\nLonger run: 2'),\n",
       " Document(metadata={'source': '../../data/dot_plot_2024_12.csv', 'row': 11}, page_content='Target rate: 3.375\\n2024: \\n2025: 1\\n2026: 5\\n2027: 1\\nLonger run: 1'),\n",
       " Document(metadata={'source': '../../data/dot_plot_2024_12.csv', 'row': 12}, page_content='Target rate: 3.250\\n2024: \\n2025: \\n2026: \\n2027: \\nLonger run: '),\n",
       " Document(metadata={'source': '../../data/dot_plot_2024_12.csv', 'row': 13}, page_content='Target rate: 3.125\\n2024: \\n2025: 1\\n2026: 4\\n2027: 7\\nLonger run: 1'),\n",
       " Document(metadata={'source': '../../data/dot_plot_2024_12.csv', 'row': 14}, page_content='Target rate: 3.000\\n2024: \\n2025: \\n2026: \\n2027: \\nLonger run: 3'),\n",
       " Document(metadata={'source': '../../data/dot_plot_2024_12.csv', 'row': 15}, page_content='Target rate: 2.875\\n2024: \\n2025: \\n2026: 1\\n2027: 2\\nLonger run: 4'),\n",
       " Document(metadata={'source': '../../data/dot_plot_2024_12.csv', 'row': 16}, page_content='Target rate: 2.750\\n2024: \\n2025: \\n2026: 1\\n2027: 1\\nLonger run: 1'),\n",
       " Document(metadata={'source': '../../data/dot_plot_2024_12.csv', 'row': 17}, page_content='Target rate: 2.625\\n2024: \\n2025: \\n2026: \\n2027: 1\\nLonger run: 1'),\n",
       " Document(metadata={'source': '../../data/dot_plot_2024_12.csv', 'row': 18}, page_content='Target rate: 2.500\\n2024: \\n2025: \\n2026: \\n2027: \\nLonger run: 1'),\n",
       " Document(metadata={'source': '../../data/dot_plot_2024_12.csv', 'row': 19}, page_content='Target rate: 2.375\\n2024: \\n2025: \\n2026: 1\\n2027: 1\\nLonger run: 1'),\n",
       " Document(metadata={'source': '../../data/dot_plot_2024_12.csv', 'row': 20}, page_content='Target rate: 2.250\\n2024: \\n2025: \\n2026: \\n2027: \\nLonger run: ')]"
      ]
     },
     "execution_count": 14,
     "metadata": {},
     "output_type": "execute_result"
    }
   ],
   "execution_count": 14
  },
  {
   "metadata": {},
   "cell_type": "markdown",
   "source": [
    "#### Document Transformation\n",
    "\n",
    "문서를 가져온 후에는 필요에 더 잘 맞게 수정하는 것이 일반적이다. 기본적인 예로, 긴 문서를 모델의 문맥 창에 맞는 작은 chunk로 나누는 것이 있다. 랭체인에는 text splitters라고 하는 다양한 사전 구축된 문서 변환기가 존재한다. 텍스트 분할기는 문맥 및 관련 정보를 보존하면서 문서를 의미론적 연관성이 있는 청크로 더 쉽게 분할한다.\n",
    "\n",
    "텍스트 분할기를 사용하면 텍스트를 분할하는 방법과 청크의 길이를 측정하는 방법을 결정할 수 있다. 예를 들어, 글자(character) 수준에서 작동하는 `RecursiveCharacterTextSplitter` module을 사용하여 문서를 분할해 보자."
   ],
   "id": "ff5b0dac571ddef6"
  },
  {
   "metadata": {
    "ExecuteTime": {
     "end_time": "2025-02-09T15:37:43.555402Z",
     "start_time": "2025-02-09T15:37:43.544049Z"
    }
   },
   "cell_type": "code",
   "source": [
    "from langchain.text_splitter import RecursiveCharacterTextSplitter\n",
    "\n",
    "with open('../../data/Artificial Intelligence in the Financial System.txt') as file :\n",
    "    text_file = file.read()\n",
    "\n",
    "text_splitter = RecursiveCharacterTextSplitter(\n",
    "    chunk_size = 100,\n",
    "    chunk_overlap = 20,\n",
    "    length_function = len\n",
    ")\n",
    "\n",
    "texts = text_splitter.create_documents([text_file])"
   ],
   "id": "42572cb9044a1a1b",
   "outputs": [],
   "execution_count": 15
  },
  {
   "metadata": {},
   "cell_type": "markdown",
   "source": "여기서 `chunk_size`는 각 청크의 글자 수를 나타내고 `chunk_overlap`은 연속된 청크 간에 겹치는 글자 수를 나타낸다. 출력은 다음과 같다",
   "id": "444738528d5e64f1"
  },
  {
   "metadata": {
    "ExecuteTime": {
     "end_time": "2025-02-09T15:37:45.287758Z",
     "start_time": "2025-02-09T15:37:45.285379Z"
    }
   },
   "cell_type": "code",
   "source": [
    "print(texts[0])\n",
    "print(texts[1])\n",
    "print(texts[2])"
   ],
   "id": "d78148a1f55f6426",
   "outputs": [
    {
     "name": "stdout",
     "output_type": "stream",
     "text": [
      "page_content='Discussions of artificial intelligence (AI) inevitably center on two main points: risks and'\n",
      "page_content='points: risks and benefits.1 Both of these can be frustratingly vague and amorphous. Proponents of'\n",
      "page_content='Proponents of AI project its widespread adoption will be as momentous as the industrial'\n"
     ]
    }
   ],
   "execution_count": 16
  },
  {
   "metadata": {},
   "cell_type": "markdown",
   "source": [
    "#### Text Embedding Model\n",
    "\n",
    "embedding은 nonparametic 지식을 LLM에 통합하는 핵심 단계이다. 실제로 embedding이 vector DB에 제대로 저장되면 사용자 쿼리의 거리를 측정할 수 있는 비모수적 지식이 된다.\n",
    "\n",
    "임베딩을 시작하려면 임베딩 모델이 필요한데, 랭체인은 비모수적 지식과 사용자 쿼리의 임베딩을 각각 처리하는 두 가지 주요 모듈로 구성된 `Embedding` 클래스를 제공한다."
   ],
   "id": "b6f76cad824b153d"
  },
  {
   "metadata": {
    "ExecuteTime": {
     "end_time": "2025-02-09T15:37:49.688147Z",
     "start_time": "2025-02-09T15:37:49.614324Z"
    }
   },
   "cell_type": "code",
   "source": [
    "from langchain_openai import OpenAIEmbeddings\n",
    "from dotenv import load_dotenv\n",
    "\n",
    "load_dotenv()\n",
    "os.environ['OPENAI_API_KEY'] = openai.api_key"
   ],
   "id": "9482ab4fab99a8c3",
   "outputs": [],
   "execution_count": 17
  },
  {
   "metadata": {
    "ExecuteTime": {
     "end_time": "2025-02-09T15:37:51.095510Z",
     "start_time": "2025-02-09T15:37:50.384818Z"
    }
   },
   "cell_type": "code",
   "source": [
    "embedding_model = OpenAIEmbeddings(model = 'text-embedding-3-small')\n",
    "embeddings = embedding_model.embed_documents(\n",
    "    [\n",
    "        \"Good morning!\",\n",
    "        \"Good afternoon!\",\n",
    "        'Oh, hello!',\n",
    "        'I want to report an accident',\n",
    "        'Sorry to hear that, May I ask your name?',\n",
    "        'Sure, Mario Rossi.',\n",
    "    ]\n",
    ")\n",
    "\n",
    "print('<embedded documents>')\n",
    "print(\n",
    "    f\"Number of vector : {len(embeddings)} \\nDimension of vector : {len(embeddings[0])}\"\n",
    ")"
   ],
   "id": "90ab1124730550db",
   "outputs": [
    {
     "name": "stdout",
     "output_type": "stream",
     "text": [
      "<embedded documents>\n",
      "Number of vector : 6 \n",
      "Dimension of vector : 1536\n"
     ]
    }
   ],
   "execution_count": 18
  },
  {
   "metadata": {},
   "cell_type": "markdown",
   "source": "문서 질의가 모두 임베딩된 후에 할 일은 두 요소 간의 유사도를 계산하고 문서 임베딩에서 가장 적합한 정보를 검색하는 것이다.",
   "id": "b7ee4c7d816e7c84"
  },
  {
   "metadata": {
    "ExecuteTime": {
     "end_time": "2025-02-09T15:37:53.192764Z",
     "start_time": "2025-02-09T15:37:52.625856Z"
    }
   },
   "cell_type": "code",
   "source": [
    "embedded_query = embedding_model.embed_query(\n",
    "    \"What was the name mentioned in the conversation?\"\n",
    ")"
   ],
   "id": "882ea24c9e5b4c63",
   "outputs": [],
   "execution_count": 19
  },
  {
   "metadata": {
    "ExecuteTime": {
     "end_time": "2025-02-09T15:37:53.538044Z",
     "start_time": "2025-02-09T15:37:53.535787Z"
    }
   },
   "cell_type": "code",
   "source": [
    "print('<questionare>')\n",
    "print(f\"Dimension of ter vector : {len(embeddings[0])}\")\n",
    "print(f\"Sample of the first 5 elements of the vector : {embedded_query[:5]}\")"
   ],
   "id": "afae8c97debcb272",
   "outputs": [
    {
     "name": "stdout",
     "output_type": "stream",
     "text": [
      "<questionare>\n",
      "Dimension of ter vector : 1536\n",
      "Sample of the first 5 elements of the vector : [-0.010684116743505001, -0.010173137299716473, -0.0019674645736813545, 0.023056013509631157, -0.02686513401567936]\n"
     ]
    }
   ],
   "execution_count": 20
  },
  {
   "metadata": {},
   "cell_type": "markdown",
   "source": [
    "#### Vector Database\n",
    "\n",
    "Vector DB는 임베딩을 사용하여 텍스트, 이미지, 오디오 또는 비디오와 같은 비정형 데이터를 저장하고 검색할 수 있는 데이터베이스의 한 유형이다. 임베딩을 사용하면 벡터 저장소는 빠르고 정확한 유사도 검색, 즉 주어진 쿼리에 가장 관련성이 높은 데이터를 사용할 수 있다. 여기서는 고밀도 벡터의 효율적인 유사도 검색 및 클러스터링을 위해 META AI Research에서 개발한 FAISS Vector storage를 사용해 보자."
   ],
   "id": "ed5e3b904585e2b8"
  },
  {
   "metadata": {
    "ExecuteTime": {
     "end_time": "2025-02-09T15:39:23.724045Z",
     "start_time": "2025-02-09T15:39:23.716128Z"
    }
   },
   "cell_type": "code",
   "source": [
    "from dotenv import load_dotenv\n",
    "from langchain.document_loaders import TextLoader\n",
    "from langchain.text_splitter import CharacterTextSplitter\n",
    "from langchain_openai import OpenAIEmbeddings\n",
    "from langchain.vectorstores import FAISS\n",
    "\n",
    "load_dotenv()\n",
    "\n",
    "loader = TextLoader(\"../../data/Artificial Intelligence in the Financial System.txt\", encoding=\"utf-8\")\n",
    "raw_documents = loader.load()\n",
    "\n",
    "text_splitter = CharacterTextSplitter(\n",
    "    chunk_size=1100,\n",
    "    chunk_overlap=0,\n",
    "    separator=\"\\n\"\n",
    ")\n",
    "documents = text_splitter.split_documents(raw_documents)"
   ],
   "id": "91d171af8cd8e54c",
   "outputs": [],
   "execution_count": 25
  },
  {
   "metadata": {
    "ExecuteTime": {
     "end_time": "2025-02-09T15:39:32.685677Z",
     "start_time": "2025-02-09T15:39:32.682777Z"
    }
   },
   "cell_type": "code",
   "source": [
    "# 텍스트 리스트로 변환 \n",
    "texts = [doc.page_content for doc in documents]"
   ],
   "id": "e9b6a7c907940c25",
   "outputs": [],
   "execution_count": 26
  },
  {
   "metadata": {
    "ExecuteTime": {
     "end_time": "2025-02-09T15:39:45.016237Z",
     "start_time": "2025-02-09T15:39:43.898021Z"
    }
   },
   "cell_type": "code",
   "source": [
    "# FAISS 벡터 저장소 생성\n",
    "embeddings = OpenAIEmbeddings()\n",
    "db = FAISS.from_texts(texts, embeddings)"
   ],
   "id": "27299eb269901923",
   "outputs": [],
   "execution_count": 27
  },
  {
   "metadata": {
    "ExecuteTime": {
     "end_time": "2025-02-09T15:39:49.453306Z",
     "start_time": "2025-02-09T15:39:49.450476Z"
    }
   },
   "cell_type": "code",
   "source": "db",
   "id": "b1e8bba4a2fb9b8",
   "outputs": [
    {
     "data": {
      "text/plain": [
       "<langchain_community.vectorstores.faiss.FAISS at 0x14660e790>"
      ]
     },
     "execution_count": 29,
     "metadata": {},
     "output_type": "execute_result"
    }
   ],
   "execution_count": 29
  },
  {
   "metadata": {},
   "cell_type": "markdown",
   "source": "이제 비모수적 지식을 임베딩하고 저장했으니, 코사인 유사도를 측정값으로 사용하여 가장 유사한 텍스트 청크를 검색하는 데 사용할 수 있도록 사용자의 쿼리도 임베딩해 보자",
   "id": "1c884662fd0a4b05"
  },
  {
   "metadata": {
    "ExecuteTime": {
     "end_time": "2025-02-09T15:39:51.814660Z",
     "start_time": "2025-02-09T15:39:51.292571Z"
    }
   },
   "cell_type": "code",
   "source": [
    "query = \"How does AI affect the financial system?\"\n",
    "docs = db.similarity_search(query) \n",
    "print(docs[0].page_content) # query에 알맞은 응답을 생성한다."
   ],
   "id": "e4b4cc5e76dae012",
   "outputs": [
    {
     "name": "stdout",
     "output_type": "stream",
     "text": [
      "Looking at the financial industry-specific implications of AI, it is helpful to consider not only how it may change the financial system, but also how regulatory frameworks should respond to this emerging technology. Are the existing frameworks sufficient? If not, how can regulators best balance the risks AI may pose to bank safety and soundness and financial stability with the need to allow for continued innovation?\n",
      "Broader availability of generative AI and large language models have created headlines and spiking stock prices, but the financial services sector has been using AI for some time.2 Over time, it has become clear that AI's impact could be far-reaching, particularly as the technology becomes more efficient, new sources of data become available, and as AI technology becomes more affordable.\n",
      "Do We Need a Definition of AI?\n"
     ]
    }
   ],
   "execution_count": 30
  },
  {
   "metadata": {},
   "cell_type": "markdown",
   "source": "출력은 질문에 대한 답을 포함할 가능성이 더 높은 텍스트 조각이다. 엔드 투 엔드 시나리오에서는 대화형 응답을 생성하기 위한 LLM의 문맥으로 사용된다.",
   "id": "ce9ce170fdb5bfb6"
  },
  {
   "metadata": {},
   "cell_type": "markdown",
   "source": [
    "#### Retrievers\n",
    "\n",
    "검색기는 자연어 질문이나 키워드와 같은 비정형 쿼리와 관련된 문서를 반환할 수 있는 랭체인의 구성 요소이다. 검색기는 문서 자체를 저장할 필요 없이 source에서 문서를 검색하기만 하면 된다. 검색기는 키워드 매칭, 의미론적 검색, 순위 알고리즘 등 다양한 방법을 사용해 관련 문서를 찾을 수 있다.\n",
    "\n",
    "검색기와 벡터 저장소의 차이점은 검색기가 벡터 저장소보다 더 일반적이고 유연하다는 점이다. 검색기는 모든 방법을 사용해 관련 문서를 찾을 수 있는 반면, 벡터 저장소는 임베딩과 유사도 메트릭에 의존한다. 또한 검색기는 웹 페이지, 데이터베이스, 파일 등 다양한 문서 소스를 사용할 수 있는 반면, 벡터 저장소는 데이터 자체를 저장해야 한다.\n",
    "\n",
    "그러나 데이터가 벡터 저장소에 의해 임베딩되고 색인된 경우, 벡터 저장소를 검색기의 백본으로 사용할 수도 있다. 이 경우 검색기는 벡터 저장소를 사용하여 임베딩된 데이터에 대해 유사도 검색을 수행하고 가장 관련성이 높은 문서를 반환할 수 있다. 이것은 랭체인의 주요 검색기 유형 중 하나이며, 벡터 저장소 검색기라고 불린다.\n",
    "\n",
    "예를 들어서, 이전에 초기화했던 FAISS 벡터 저장소를 고려하고 그 위에 검색기를 마운팅해 보자."
   ],
   "id": "e3c53b348d446121"
  },
  {
   "metadata": {
    "ExecuteTime": {
     "end_time": "2025-02-09T15:41:06.171287Z",
     "start_time": "2025-02-09T15:41:01.675385Z"
    }
   },
   "cell_type": "code",
   "source": [
    "from langchain.chains import RetrievalQA\n",
    "from langchain_openai import OpenAI\n",
    "\n",
    "retriever = db.as_retriever()\n",
    "qa = RetrievalQA.from_chain_type(\n",
    "    llm = ChatOpenAI(model = 'gpt-4o-mini'), \n",
    "    chain_type = 'stuff',\n",
    "    retriever = retriever\n",
    ")\n",
    "query = \"How does AI affect the financial system?\"\n",
    "qa.invoke(query)"
   ],
   "id": "e109e24d0d36c425",
   "outputs": [
    {
     "data": {
      "text/plain": [
       "{'query': 'How does AI affect the financial system?',\n",
       " 'result': \"AI has the potential to reshape the financial services industry in several ways. It can improve efficiency, lower operational costs, enhance fraud prevention, and provide better customer service. AI's ability to analyze large datasets can lead to more informed decision-making and improved risk management within banks. Additionally, AI may influence monetary policy discussions by affecting labor markets, productivity, and rates of unemployment and interest. However, the integration of AI also presents risks, such as model risks, data management concerns, and challenges related to cyber-resiliency. Overall, while AI offers significant benefits to the financial system, it also requires careful consideration of regulatory frameworks to balance innovation with safety and soundness.\"}"
      ]
     },
     "execution_count": 33,
     "metadata": {},
     "output_type": "execute_result"
    }
   ],
   "execution_count": 33
  },
  {
   "metadata": {},
   "cell_type": "markdown",
   "source": [
    "### Memories\n",
    "\n",
    "LLM기반 애플리케이션에서 기억은 애플리케이션이 장단기적으로 사용자 상호 작용에 대한 참조를 유지할 수 있게 해 준다. Chat GPT를 사용할 때를 떠올려 보자. 사용자는 Chat GPT와 상호 작용하는 동안 모델에 명시적으로 말하지 않고도 이전 상호 작용을 참조해 후속 질문을 할 수 있다. 또한 모든 대화는 타래에 저장되므로, 이전 대화를 이어서 하고 싶을 경우 모든 문맥을 Chat GPT에 제공할 필요 없이 타래를 다시 열기만 하면 된다. 이는 사용자의 상호 작용을 기억 변수에 저장하고 후속 질문을 처리하는 동안 이 기억을 문맥으로 사용할 수 있는 Chat GPT의 기능 덕분에 가능하다.\n",
    "\n",
    "langchain은 애플리케이션 내에서 기억 시스템을 설계할 수 있는 여러 모듈을 제공해 읽기, 쓰기 기능을 모두 지원한다. 기억 시스템에서 해야 할 첫 번째 단계는 인간과의 상호 작용을 실제로 어딘가에 저장하는 것이다. 이를 위해 다양한 기억 시스템을 Redis, Cassandra, Postgres등 다양한 서드파티와 통합해 활용할 수 있다. 그 다음, 기억 시스템에 질의하는 방법을 정의할 때 활용할 수 있는 다양한 기억 유형이 있다.\n",
    "\n",
    "- conversation buffer memory : 랭체인에서 사용할 수 있는 '단순한 기본형' 기억 유형이다. 이를 통해 채팅 메세지를 저장하고 변수에 추출할 수 있다.\n",
    "- conversation buffer window memory : 대화 버퍼 기억과 같되, 시간이 지남에 따라서 긴 대화 기록을 관리할 수 있도록 최대 K회까지 상호 작용을 기억하는 sliding window를 둔다는 차이가 있다.\n",
    "- entity memory : 개체 기억은 언어 모델이 대화에서 측정 개체에 관해 주어진 사실을 기억할 수 있도록 하는 랭체인의 기능이다. LLM을 사용해 입력 테스트에서 개체에 대한 정보를 추출하는 방식으로 작동하며, 추출된 사실을 기억 저장소에 저장해 시간이 지남에 따라서 해당 개체에 대한 지식을 쌓는다. 언어 모델은 개체에 대한 새로운 정보를 기억하거나 학습해야 할 때마다 기억 저장소에 액세스하고 업데이트할 수 있다.\n",
    "- conversation knowledge graph memory : 지식 그래프를 사용해 기억을 생성한다. 여기서 지식 그래프는 그래프 구조로 지식을 표현하고 정리하는 방식을 의미한다. 대화 지식 그래프 기억을 사용해, 각 대화의 입출력을 지식으로 저장한 다음, 이를 사용해 현재 상황에 따라 관련성 있고 일관성있는 답변을 생성할 수 있다. 또한, 지식 그래프에서 질의해 현재 개체 또는 대화 이력을 가져올 수도 있다.\n",
    "- conversation summary memory : 시간이 지남에 따름 대화 요약을 생성한다. 저장할 대화가 길어질 때 매우 유용하다.\n",
    "- conversation summary buffer memory : 버퍼 기억과 대화 요약 기억의 아이디어를 결합한 것이다. 최근 대화에 대한 버처를 기억하되, 오래된 대화를 완전히 삭제하지 않고 요약을 만들어서 함께 사용한다.\n",
    "- conversation token buffer memory : 대화 요약 버퍼 기억과 유사하되, 상호 작용 요약 시작 시점을 결정하기 위해 상호작용의 횟수가 아닌 토큰 길이를 기준으로 한다는 차이가 있다.\n",
    "- vector store-backed memory : 이 유형의 기억은 앞서 다룬 임베딩과 벡터 저장소의 개념을 활용한다. 상호 작용을 백터로 저장한 다음 검색기를 사용해 질의할 때마다 가장 유사도가 높은 상위 K개의 텍스트를 검색한다는 점에서 이전의 모든 기억과 다르다."
   ],
   "id": "fbcae39706f119f2"
  },
  {
   "metadata": {
    "ExecuteTime": {
     "end_time": "2025-02-09T15:41:38.224775Z",
     "start_time": "2025-02-09T15:41:36.924285Z"
    }
   },
   "cell_type": "code",
   "source": [
    "from langchain.memory import ConversationSummaryMemory, ChatMessageHistory\n",
    "\n",
    "memory = ConversationSummaryMemory(llm = ChatOpenAI(temperature = 0, model = 'gpt-4o-mini'))\n",
    "memory.save_context(\n",
    "    {'input': '2025년에 미국 주식 시장 소형주 투자를 하고 싶은데 투자할만한 종목이 있을까? 퀀텀컴퓨팅 및 AI와 관련된 종목 위주로 했으면 좋겠어.'},\n",
    "    {'output': '2025년 투자할 만한 미국 소형주에는 Spectral AI(ticker : MDAI)가 있습니다.'}\n",
    ")\n",
    "memory.load_memory_variables({}) # 저장된 타래로부터 불러온다"
   ],
   "id": "74561b5d44335a80",
   "outputs": [
    {
     "data": {
      "text/plain": [
       "{'history': 'The human expresses a desire to invest in small-cap stocks in the U.S. stock market in 2025, specifically looking for companies related to quantum computing and AI. The AI suggests Spectral AI (ticker: MDAI) as a potential investment.'}"
      ]
     },
     "execution_count": 35,
     "metadata": {},
     "output_type": "execute_result"
    }
   ],
   "execution_count": 35
  },
  {
   "metadata": {},
   "cell_type": "markdown",
   "source": "메모리는 초기화한 OpenAI LLM을 활용해 대화를 요약하였다. 애플리케이션 내에서 어떤 기억을 사용할지 정해진 바는 없지만, 특정 기억이 특히 적합한 몇 가지 시나리오가 있다. 예를 들어, 지식 그래프 기억은 대규모의 다양한 데이터 말뭉치에서 정보에 액세스하고 의미론적 관게에 기반해 응답을 생성해야 하는 애플리케이션에 유용하며, 대화 요약 버퍼 기억은 여러 차례에 걸쳐 일관된 문맥을 유지하면서 이전 대화 이력을 압축 및 요약할 수 있는 대화형 에이전트를 만드는 데 적합할 수 있다.",
   "id": "3ba71c4a89baaf6"
  },
  {
   "metadata": {},
   "cell_type": "markdown",
   "source": [
    "### Chain\n",
    "\n",
    "chain은 일련의 작동과 LLM 호출을 미리 정해둔 것이다. 체인을 활용하면 LLM을 서로 또는 다른 컴포넌트와 결합해야 하는 복잡한 애플리케이션을 쉽게 구축할 수 있다. \n",
    "\n",
    "랭체인은 시작하기 위한 네 가지 주요 유형의 체인을 제공한다."
   ],
   "id": "329753ae1c5e640e"
  },
  {
   "metadata": {},
   "cell_type": "markdown",
   "source": [
    "#### LLM Chain\n",
    "\n",
    "가장 일반적인 유형의 체인이다. prompt template, LLM, output parser로 구성된다. 여기서 output parser는 언어 모델 응답을 구조화하는 데 도움이 되는 컴포넌트이다."
   ],
   "id": "8f37b47a7a6c6474"
  },
  {
   "metadata": {
    "ExecuteTime": {
     "end_time": "2025-02-09T15:41:50.405879Z",
     "start_time": "2025-02-09T15:41:50.403585Z"
    }
   },
   "cell_type": "code",
   "source": [
    "from langchain import PromptTemplate\n",
    "\n",
    "template = \"\"\"\n",
    "sentence : {sentence}\n",
    "translate to {language}\n",
    "\"\"\"\n",
    "prompt = PromptTemplate(\n",
    "    template = template,\n",
    "    input_variables = ['sentence','language']\n",
    ")"
   ],
   "id": "546e0cc8abe6844b",
   "outputs": [],
   "execution_count": 36
  },
  {
   "metadata": {},
   "cell_type": "markdown",
   "source": "이 체인은 여러 입력 변수를 받아서 `PromptTemplate`을 사용해 프롬프트 형식으로 formatting을 하고 모델에 전달한다. 이제 이를 LLMChain에 넣어 보자",
   "id": "60cb5784164f38ca"
  },
  {
   "metadata": {
    "ExecuteTime": {
     "end_time": "2025-02-09T15:41:55.029062Z",
     "start_time": "2025-02-09T15:41:53.942057Z"
    }
   },
   "cell_type": "code",
   "source": [
    "from langchain.chains import LLMChain\n",
    "from langchain_openai import OpenAI\n",
    "\n",
    "llm = ChatOpenAI(temperature = 0, model = 'gpt-4o-mini')\n",
    "llm_chain = LLMChain(prompt = prompt, llm = llm)\n",
    "llm_chain.predict(\n",
    "    sentence = \"지난 해 애플 주식을 10주 샀는데 20%가 상승했어요.\",\n",
    "    language = '영어'\n",
    ")"
   ],
   "id": "4904d49be2144c5e",
   "outputs": [
    {
     "data": {
      "text/plain": [
       "'\"I bought 10 shares of Apple stock last year, and it has risen by 20%.\"'"
      ]
     },
     "execution_count": 37,
     "metadata": {},
     "output_type": "execute_result"
    }
   ],
   "execution_count": 37
  },
  {
   "metadata": {
    "ExecuteTime": {
     "end_time": "2025-02-09T15:42:10.137039Z",
     "start_time": "2025-02-09T15:42:09.406516Z"
    }
   },
   "cell_type": "code",
   "source": [
    "# LLMChain deprecation 해결\n",
    "\n",
    "from langchain import PromptTemplate\n",
    "from langchain_core.output_parsers import StrOutputParser\n",
    "from langchain_core.runnables import RunnableSequence, RunnablePassthrough\n",
    "\n",
    "template = \"\"\"\n",
    "sentence : {sentence}\n",
    "translate to {language}\n",
    "\"\"\"\n",
    "prompt = PromptTemplate(\n",
    "    template = template, \n",
    "    input_variables = [\"sentence\", \"language\"]\n",
    ")\n",
    "\n",
    "llm = ChatOpenAI(temperature = 0)\n",
    "\n",
    "output_parser = StrOutputParser()\n",
    "\n",
    "chain = RunnableSequence(\n",
    "    {\n",
    "        \"sentence\": RunnablePassthrough(),\n",
    "        \"language\": RunnablePassthrough()\n",
    "    }\n",
    "    | prompt\n",
    "    | llm\n",
    "    | output_parser\n",
    ")\n",
    "\n",
    "result = chain.invoke({\n",
    "    'sentence' : \"지난 해 애플 주식을 10주 샀는데 20%가 상승했어요.\",\n",
    "    'language' : '영어'\n",
    "})\n",
    "print(result)"
   ],
   "id": "bd266a2df91ca04d",
   "outputs": [
    {
     "name": "stdout",
     "output_type": "stream",
     "text": [
      "Translation: Last year, I bought 10 shares of Apple stock and it increased by 20%.\n"
     ]
    }
   ],
   "execution_count": 38
  },
  {
   "metadata": {},
   "cell_type": "markdown",
   "source": [
    "#### RouterChain\n",
    "\n",
    "특정 조건에 따라 입력 변수를 다른 체인으로 라우팅할 수 있는 체인 유형이다. 조건 값을 반환하는 함수나 표현식으로 지정할 수 있다. 조건이 충족되지 않는 경우 사용할 기본 체인을 지정할 수도 있다. \n",
    "\n",
    "예를 들어서 이 체인을 사용하여 여행 일정 계획이나 레스토랑 예약과 같은 다양한 유형의 요청을 처리할 수 있는 챗봇을 만들 수 있다. 이 목표를 달성하기 위해 사용자의 쿼리 유형에 따라 두 가지 프롬프트를 차별화할 수 있다."
   ],
   "id": "4ed1d987ab863de0"
  },
  {
   "metadata": {
    "ExecuteTime": {
     "end_time": "2025-02-09T15:42:15.510521Z",
     "start_time": "2025-02-09T15:42:15.507560Z"
    }
   },
   "cell_type": "code",
   "source": [
    "portfolio_template = \"\"\"\n",
    "당신은 전문 투자 조언가입니다.\n",
    "당신은 고객이 제시한 종목 중 상승 가능성이 가장 큰 종목 혹은 가장 성장가능성이 큰 종목을 찾도록 도와줍니다.\n",
    "당신은 고객의 선호에 따라 2025년 기준으로 최선의 포트폴리오를 구성하도록 도움을 줍니다.\n",
    "\n",
    "여기에 질문이 있습니다 :\n",
    "{input}\n",
    "\"\"\"\n",
    "\n",
    "risk_manager_template = \"\"\"\n",
    "당신은 포트폴리오 리스크를 관리해주는 전문 리스크 매니저입니다.\n",
    "당신은 고객이 보유중인 포트폴리오의 잠재적인 시장 위험 및 신용 위험, 운영 위험 등을 평가합니다.\n",
    "여기서 고객이 얼마나 리스크를 감당할 수 있는지 고려해야 합니다.\n",
    "\n",
    "여기 질문이 있습니다 :\n",
    "{input}\n",
    "\"\"\""
   ],
   "id": "212dbf030c76e04f",
   "outputs": [],
   "execution_count": 39
  },
  {
   "metadata": {},
   "cell_type": "markdown",
   "source": "`RouterChain` 덕분에 사용자의 쿼리에 따라 다른 프롬프트를 활성화할 수 있는 체인을 구축할 수 있다. 체인이 두 가지 다른 사용자의 쿼리에 어떻게 반응하는지에 대한 샘플 출력을 볼 수 있다.",
   "id": "96d3494a9b76585c"
  },
  {
   "metadata": {
    "ExecuteTime": {
     "end_time": "2025-02-09T15:42:20.149312Z",
     "start_time": "2025-02-09T15:42:20.127664Z"
    }
   },
   "cell_type": "code",
   "source": [
    "from langchain.chains.router import MultiPromptChain\n",
    "from langchain.chains import ConversationChain\n",
    "from langchain.chains.llm import LLMChain\n",
    "from langchain.prompts import PromptTemplate\n",
    "from langchain.chains.router.llm_router import LLMRouterChain, RouterOutputParser\n",
    "from langchain.chains.router.multi_prompt_prompt import MULTI_PROMPT_ROUTER_TEMPLATE\n",
    "\n",
    "prompt_infos = [\n",
    "    {\n",
    "        \"name\": \"포트폴리오 구성\",\n",
    "        \"description\": \"주식 종목 포트폴리오 구성을 돕습니다\",\n",
    "        \"prompt_template\": portfolio_template,\n",
    "    },\n",
    "    {\n",
    "        \"name\": \"리스크 관리\",\n",
    "        \"description\": \"고객의 포트폴리오 위험 관리를 도와줍니다\",\n",
    "        \"prompt_template\": risk_manager_template,\n",
    "    },\n",
    "]"
   ],
   "id": "44e1eb7ced6f4ebe",
   "outputs": [],
   "execution_count": 40
  },
  {
   "metadata": {
    "ExecuteTime": {
     "end_time": "2025-02-09T15:42:25.594071Z",
     "start_time": "2025-02-09T15:42:25.584933Z"
    }
   },
   "cell_type": "code",
   "source": [
    "destination_chains = {}\n",
    "for p_info in prompt_infos:\n",
    "    name = p_info[\"name\"]\n",
    "    prompt_template = p_info[\"prompt_template\"]\n",
    "    prompt = PromptTemplate(template=prompt_template, input_variables=[\"input\"])\n",
    "    chain = LLMChain(llm=llm, prompt=prompt)\n",
    "    destination_chains[name] = chain\n",
    "default_chain = ConversationChain(llm = llm, output_key = \"text\")"
   ],
   "id": "bd513578b28a0a5c",
   "outputs": [
    {
     "name": "stderr",
     "output_type": "stream",
     "text": [
      "/var/folders/1q/pl9tj55n57s9jg28npxw61n80000gn/T/ipykernel_2904/812518829.py:8: LangChainDeprecationWarning: The class `ConversationChain` was deprecated in LangChain 0.2.7 and will be removed in 1.0. Use :meth:`~RunnableWithMessageHistory: https://python.langchain.com/v0.2/api_reference/core/runnables/langchain_core.runnables.history.RunnableWithMessageHistory.html` instead.\n",
      "  default_chain = ConversationChain(llm = llm, output_key = \"text\")\n",
      "/Users/junghunlee/anaconda3/envs/langchain/lib/python3.11/site-packages/pydantic/main.py:214: LangChainDeprecationWarning: Please see the migration guide at: https://python.langchain.com/docs/versions/migrating_memory/\n",
      "  validated_self = self.__pydantic_validator__.validate_python(data, self_instance=self)\n"
     ]
    }
   ],
   "execution_count": 41
  },
  {
   "metadata": {
    "ExecuteTime": {
     "end_time": "2025-02-09T15:42:33.627807Z",
     "start_time": "2025-02-09T15:42:33.624077Z"
    }
   },
   "cell_type": "code",
   "source": [
    "destinations = [f\"{p['name']}: {p['description']}\" for p in prompt_infos]\n",
    "destinations_str = \"\\n\".join(destinations)\n",
    "router_template = MULTI_PROMPT_ROUTER_TEMPLATE.format(destinations=destinations_str)\n",
    "router_prompt = PromptTemplate(\n",
    "    template=router_template,\n",
    "    input_variables=[\"input\"],\n",
    "    output_parser=RouterOutputParser(),\n",
    ")\n",
    "router_chain = LLMRouterChain.from_llm(llm, router_prompt)"
   ],
   "id": "9c2d5cf94fac7a5e",
   "outputs": [],
   "execution_count": 42
  },
  {
   "metadata": {
    "ExecuteTime": {
     "end_time": "2025-02-09T15:42:34.420123Z",
     "start_time": "2025-02-09T15:42:34.412296Z"
    }
   },
   "cell_type": "code",
   "source": [
    "chain = MultiPromptChain(\n",
    "    router_chain=router_chain,\n",
    "    destination_chains=destination_chains,\n",
    "    default_chain=default_chain,\n",
    "    verbose=True,\n",
    ")"
   ],
   "id": "37824907b4ab7912",
   "outputs": [
    {
     "name": "stderr",
     "output_type": "stream",
     "text": [
      "/var/folders/1q/pl9tj55n57s9jg28npxw61n80000gn/T/ipykernel_2904/1641175374.py:1: LangChainDeprecationWarning: Please see migration guide here for recommended implementation: https://python.langchain.com/docs/versions/migrating_chains/multi_prompt_chain/\n",
      "  chain = MultiPromptChain(\n"
     ]
    }
   ],
   "execution_count": 43
  },
  {
   "metadata": {
    "ExecuteTime": {
     "end_time": "2025-02-09T15:42:56.549736Z",
     "start_time": "2025-02-09T15:42:51.314642Z"
    }
   },
   "cell_type": "code",
   "source": [
    "print(\n",
    "    chain.invoke('저는 현재 미국 NASDAQ에 상장되어 있는 AAPL, MSFT, WMT, JPM, SPY를 투자할까 고민중이에요.')\n",
    ")"
   ],
   "id": "275e0869f8a822d9",
   "outputs": [
    {
     "name": "stdout",
     "output_type": "stream",
     "text": [
      "\n",
      "\n",
      "\u001B[1m> Entering new MultiPromptChain chain...\u001B[0m\n",
      "포트폴리오 구성: {'input': '저는 현재 미국 NASDAQ에 상장되어 있는 AAPL, MSFT, WMT, JPM, SPY를 투자할까 고민중이에요.'}\n",
      "\u001B[1m> Finished chain.\u001B[0m\n",
      "{'input': '저는 현재 미국 NASDAQ에 상장되어 있는 AAPL, MSFT, WMT, JPM, SPY를 투자할까 고민중이에요.', 'text': '고객님의 투자 고민에 대해 감사합니다. 각 종목의 잠재성과 리스크를 고려하여 최선의 결정을 내리는 것이 중요합니다. \\n\\nAAPL (애플), MSFT (마이크로소프트), WMT (월마트), JPM (JP모건), SPY (S&P 500 ETF)는 모두 안정적이고 성장 가능성이 있는 기업들입니다. \\n\\n2025년까지의 투자를 고려한다면 기술 기업인 AAPL과 MSFT는 계속해서 혁신을 이끌어나가고 있으며, 성장 가능성이 높을 것으로 예상됩니다. \\n\\n월마트는 소매업계에서 안정적인 성과를 내고 있지만, 기술 기업들에 비해 성장 속도가 느릴 수 있습니다. \\n\\nJP모건은 금융업계에서 강력한 입지를 가지고 있지만, 금융 시장의 변동성에 민감할 수 있습니다. \\n\\nSPY는 S&P 500 지수를 추종하는 ETF로, 시장 전반의 성과를 반영하므로 안정적인 투자 수단으로 고려될 수 있습니다. \\n\\n고객님의 투자 목표와 리스크 허용도에 따라 종목을 선택하시면 될 것 같습니다. 더 자세한 상담이 필요하시다면 언제든지 문의해 주세요. 감사합니다.'}\n"
     ]
    }
   ],
   "execution_count": 45
  },
  {
   "metadata": {},
   "cell_type": "markdown",
   "source": [
    "#### Sequential Chain\n",
    "\n",
    "여러 개의 체인을 순서대로 실행할 수 있는 체인 유형이다. 체인의 순서와 출력을 다음 체인에 전달하는 방법을 지정할 수 있다. 순차적 체인의 가장 단순한 모듈로, 기본적으로 한 체인의 출력을 다음 체인의 입력으로 사용한다. 그러나 더 복잡한 모듈을 사용하여 체인 간의 입출력을 보다 유연하게 설정할 수도 있다.\n",
    "\n",
    "예를 들어, 주어진 주제에 대한 요약을 먼저 생성한 다음 이를 다른 언어로 번역하는 AI 시스템을 생각해 보자. 이를 위해 먼저 두 개의 체인을 생성한다."
   ],
   "id": "81fccd3a5762e622"
  },
  {
   "metadata": {
    "ExecuteTime": {
     "end_time": "2025-02-09T15:44:02.677822Z",
     "start_time": "2025-02-09T15:44:02.631301Z"
    }
   },
   "cell_type": "code",
   "source": [
    "from langchain.chains import LLMChain\n",
    "from langchain.prompts import PromptTemplate\n",
    "\n",
    "llm = ChatOpenAI(temperature = 0.7, model = 'gpt-4o-mini')\n",
    "template = \"\"\"\n",
    "당신은 요약 전문가입니다. {text}에 관한 요약을 생성하세요.\n",
    "본문 : \n",
    "\"\"\"\n",
    "prompt_template = PromptTemplate(\n",
    "    input_variables = ['text'],\n",
    "    template = template\n",
    ")\n",
    "summary_chain = LLMChain(\n",
    "    llm = llm,\n",
    "    prompt = prompt_template\n",
    ")"
   ],
   "id": "d9686c0946fe2d43",
   "outputs": [],
   "execution_count": 46
  },
  {
   "metadata": {
    "ExecuteTime": {
     "end_time": "2025-02-09T15:44:05.257492Z",
     "start_time": "2025-02-09T15:44:05.255020Z"
    }
   },
   "cell_type": "code",
   "source": [
    "template = \"\"\"\n",
    "당신은 번역가입니다. 주어진 텍스트 입력을 {language}로 번역하세요.\n",
    "번역 :\n",
    "\"\"\"\n",
    "prompt_template = PromptTemplate(\n",
    "    input_variables = ['language'],\n",
    "    template = template\n",
    ")\n",
    "translator_chain = LLMChain(\n",
    "    llm = llm,\n",
    "    prompt = prompt_template\n",
    ")"
   ],
   "id": "bffc25faafd069f",
   "outputs": [],
   "execution_count": 47
  },
  {
   "metadata": {},
   "cell_type": "markdown",
   "source": "이제 `SimpleSequentialChain` module을 사용해 이들을 결합해 보자",
   "id": "db59afd8b179f038"
  },
  {
   "metadata": {
    "ExecuteTime": {
     "end_time": "2025-02-09T15:44:08.903653Z",
     "start_time": "2025-02-09T15:44:08.900733Z"
    }
   },
   "cell_type": "code",
   "source": [
    "text_demo = \"\"\"\n",
    "Due to evolving legal landscape & changes in the framework of administrative law, Federal Reserve Board will soon seek public comment on significant changes to improve transparency of bank stress tests & reduce volatility of resulting capital requirements\n",
    "\n",
    "In view of the evolving legal landscape, the Federal Reserve Board will soon seek public comment on significant changes to improve the transparency of its bank stress tests and to reduce the volatility of resulting capital buffer requirements.\n",
    "\n",
    "The Board's stress test evaluates the resilience of large banks by estimating their losses, revenue, and capital levels under a hypothetical recession scenario that changes each year. Capital acts as a cushion to absorb losses and allows banks to continue lending to households and businesses even during a recession. Since its inception over 15 years ago, large banks in the stress test have more than doubled their capital levels, an increase of more than $1 trillion.\n",
    "\n",
    "The Board intends to propose changes that include, but are not limited to: disclosing and seeking public comment on all of the models that determine the hypothetical losses and revenue of banks under stress; averaging results over two years to reduce the year-over-year changes in the capital requirements that result from the stress test; and ensuring that the public can comment on the hypothetical scenarios used annually for the test, before the scenarios are finalized. These proposed changes are not designed to materially affect overall capital requirements.\n",
    "\n",
    "The framework of administrative law has changed significantly in recent years. The Board analyzed the current stress test in view of the evolving legal landscape and determined to modify the test in important respects to improve its resiliency.\n",
    "\n",
    "The Board will continue its exploratory analysis, which assesses additional risks to the banking system in ways that are separate from the stress test. The analysis would be used to inform bank supervision and financial stability assessments. It will continue to be disclosed in aggregate and not affect bank capital requirements.\n",
    "\n",
    "For the 2025 stress test, the Board plans to take immediate steps to reduce the volatility of the results and begin to improve model transparency. The Board intends to begin the public comment process on its comprehensive changes to the stress test during the early part of 2025.\n",
    "\n",
    "For media inquiries, please email media@frb.gov or call 202-452-2955.\n",
    "\"\"\""
   ],
   "id": "e4140fb8f983ac79",
   "outputs": [],
   "execution_count": 48
  },
  {
   "metadata": {
    "ExecuteTime": {
     "end_time": "2025-02-09T15:44:23.253096Z",
     "start_time": "2025-02-09T15:44:13.081313Z"
    }
   },
   "cell_type": "code",
   "source": [
    "from langchain.chains import SimpleSequentialChain\n",
    "overall_chain = SimpleSequentialChain(\n",
    "    chains = [summary_chain, translator_chain],\n",
    "    verbose = True\n",
    ")\n",
    "translated_summary = overall_chain.run(text_demo)"
   ],
   "id": "5b4defc3bde0ad38",
   "outputs": [
    {
     "name": "stdout",
     "output_type": "stream",
     "text": [
      "\n",
      "\n",
      "\u001B[1m> Entering new SimpleSequentialChain chain...\u001B[0m\n",
      "\u001B[36;1m\u001B[1;3m연방준비제도(Federal Reserve Board)는 행정법의 변화에 따라 은행 스트레스 테스트의 투명성을 개선하고 자본 요구 사항의 변동성을 줄이기 위해 대중의 의견을 곧 받을 예정입니다. 스트레스 테스트는 대형 은행의 회복력을 평가하기 위해 가상의 경기 침체 시나리오 하에서 손실, 수익 및 자본 수준을 추정합니다. \n",
      "\n",
      "연준은 다음과 같은 주요 변경 사항을 제안할 계획입니다: 스트레스 테스트에 사용되는 모델을 공개하고 대중의 의견을 받으며, 자본 요구 사항의 연간 변동성을 줄이기 위해 결과를 2년 동안 평균화하고, 가상의 시나리오에 대해 대중의 의견을 요청하는 것입니다. 이러한 변경은 전체 자본 요구 사항에 큰 영향을 미치지 않을 것입니다.\n",
      "\n",
      "2025년 스트레스 테스트를 위해 연준은 즉각적인 조치를 통해 결과의 변동성을 줄이고 모델 투명성을 개선할 예정이며, 관련된 의견 수렴 과정을 2025년 초에 시작할 계획입니다. 추가적인 위험 분석도 지속적으로 진행되어 은행 감독 및 금융 안정성 평가에 활용될 것입니다.\u001B[0m\n",
      "\u001B[33;1m\u001B[1;3mThe Federal Reserve Board is set to seek public comment in order to improve the transparency of bank stress tests and reduce the volatility of capital requirements in accordance with changes in administrative law. Stress tests estimate losses, revenues, and capital levels under hypothetical recession scenarios to evaluate the resilience of large banks.\n",
      "\n",
      "The Fed plans to propose several key changes: disclosing the models used in stress tests and soliciting public feedback, averaging the results over two years to reduce annual volatility in capital requirements, and requesting public input on hypothetical scenarios. These changes are not expected to have a significant impact on overall capital requirements.\n",
      "\n",
      "For the 2025 stress tests, the Fed intends to take immediate actions to reduce the volatility of results and improve model transparency, with plans to initiate the related comment process in early 2025. Additional risk analyses will also continue to be conducted to support bank supervision and financial stability assessments.\u001B[0m\n",
      "\n",
      "\u001B[1m> Finished chain.\u001B[0m\n"
     ]
    }
   ],
   "execution_count": 49
  },
  {
   "metadata": {},
   "cell_type": "markdown",
   "source": [
    "#### Transformation Chain\n",
    "\n",
    "일부 함수나 표현식을 사용해 입력 변수나 다른 체인의 출력을 변환할 수 있는 체인 유형이다. 입력 또는 출력을 인수로 받아 새 값을 반환하는 함수로 변환을 지정할 수 있으며, 체인의 출력 형식을 지정할 수도 있다."
   ],
   "id": "bfcab02adc0c0d4f"
  },
  {
   "metadata": {},
   "cell_type": "markdown",
   "source": [
    "### Agent\n",
    "\n",
    "에이전트는 LLM기반 애플리케이션 내에서 의사 결정을 내리는 주체이다. 에이전트는 일련의 도구에 액세스할 수 있으며 사용자 입력과 상황에 따라 어떤 도구를 호출할지 결정할 수 있다. Agent는 동적이고 적응력이 뛰어나므로 상황이나 목표에 따라 작동을 변경하거나 조정할 수 있다. 실제로 체인에서는 작동 순서가 하드코딩돼 있지만 에이전트에서는 올바른 순서로 올바른 작동을 계획하고 실행하는 것을 목표로 LLM이 추론 엔진으로 사용된다."
   ],
   "id": "bf6a49b4c0232442"
  },
  {
   "metadata": {},
   "cell_type": "markdown",
   "source": "에이전트에 대해 이야기할 때 핵심 개념은 도구의 개념이다. 실제로, 에이전트가 사용자의 쿼리를 처리하기 위해 모든 적절한 행동을 계획하는 데 능숙하지만 정보나 실행력이 부족하여 실제로 실행할 수 없다면 어떻게 될까? 예를 들어서, 웹 검색을 통해 질문에 답을 할 수 있는 에이전트를 구축하고 싶다고 해 보자. 에이전트 자체로는 웹에 액세스할 수 없으므로, 도구로 내용을 제공해야 한다. 이를 위해서는 `Langchain`에서 제공하는 `SerpAPI`를 사용한다.",
   "id": "5a5b44592f1a89a7"
  },
  {
   "metadata": {
    "ExecuteTime": {
     "end_time": "2025-02-09T15:44:42.571045Z",
     "start_time": "2025-02-09T15:44:42.325890Z"
    }
   },
   "cell_type": "code",
   "source": [
    "from langchain import SerpAPIWrapper\n",
    "from langchain.agents import AgentType, initialize_agent\n",
    "from langchain.tools import BaseTool, StructuredTool, Tool, tool\n",
    "import os\n",
    "from dotenv import load_dotenv\n",
    "\n",
    "load_dotenv()\n",
    "os.environ['SERPAPI_API_KEY'] = serp_api_key"
   ],
   "id": "27d0626a1be2302",
   "outputs": [],
   "execution_count": 50
  },
  {
   "metadata": {
    "ExecuteTime": {
     "end_time": "2025-02-09T15:45:12.746181Z",
     "start_time": "2025-02-09T15:45:02.489331Z"
    }
   },
   "cell_type": "code",
   "source": [
    "search = SerpAPIWrapper()\n",
    "tools = [\n",
    "    Tool.from_function(\n",
    "        func = search.run,\n",
    "        name = 'Search',\n",
    "        description = '현재 이벤트에 관해 질문할 때 유용함'\n",
    "    )\n",
    "]\n",
    "\n",
    "agent = initialize_agent(\n",
    "    tools,\n",
    "    llm = ChatOpenAI(temperature = 0, model = 'gpt-4o-mini'),\n",
    "    agent = AgentType.ZERO_SHOT_REACT_DESCRIPTION,\n",
    "    verbose = True,\n",
    ")\n",
    "\n",
    "agent.invoke('팔란티어(PLTR)가 NASDAQ100에 편입된 날짜는?')"
   ],
   "id": "70eec25341bfc788",
   "outputs": [
    {
     "name": "stderr",
     "output_type": "stream",
     "text": [
      "/var/folders/1q/pl9tj55n57s9jg28npxw61n80000gn/T/ipykernel_2904/1296295030.py:10: LangChainDeprecationWarning: LangChain agents will continue to be supported, but it is recommended for new use cases to be built with LangGraph. LangGraph offers a more flexible and full-featured framework for building agents, including support for tool-calling, persistence of state, and human-in-the-loop workflows. See LangGraph documentation for more details: https://langchain-ai.github.io/langgraph/. Refer here for its pre-built ReAct agent: https://langchain-ai.github.io/langgraph/how-tos/create-react-agent/\n",
      "  agent = initialize_agent(\n"
     ]
    },
    {
     "name": "stdout",
     "output_type": "stream",
     "text": [
      "\n",
      "\n",
      "\u001B[1m> Entering new AgentExecutor chain...\u001B[0m\n",
      "\u001B[32;1m\u001B[1;3m팔란티어(PLTR)가 NASDAQ100에 편입된 날짜를 알아보아야 한다. 이를 위해 검색을 진행하겠다.\n",
      "Action: Search\n",
      "Action Input: \"Palantir PLTR NASDAQ100 inclusion date\"\u001B[0m\n",
      "Observation: \u001B[36;1m\u001B[1;3mDec. 23\u001B[0m\n",
      "Thought:\u001B[32;1m\u001B[1;3m팔란티어(PLTR)는 2023년 12월 23일에 NASDAQ100에 편입되었다. \n",
      "Final Answer: 팔란티어(PLTR)는 2023년 12월 23일에 NASDAQ100에 편입되었다.\u001B[0m\n",
      "\n",
      "\u001B[1m> Finished chain.\u001B[0m\n"
     ]
    },
    {
     "data": {
      "text/plain": [
       "{'input': '팔란티어(PLTR)가 NASDAQ100에 편입된 날짜는?',\n",
       " 'output': '팔란티어(PLTR)는 2023년 12월 23일에 NASDAQ100에 편입되었다.'}"
      ]
     },
     "execution_count": 51,
     "metadata": {},
     "output_type": "execute_result"
    }
   ],
   "execution_count": 51
  },
  {
   "metadata": {},
   "cell_type": "markdown",
   "source": "Agent를 초기화할 때 에이전트의 유형을 `ZERO_SHOT_REACT_DESCRIPTION`으로 설정하였는데, 이것은 우리가 선택할 수 있는 구성 중 하나이며, 특히 에이전트가 ReAct 접근 방식을 사용해 도구의 설명만으로 어떤 도구를 선택할지 결정하도록 구성한다. 이 구성 외에도 langchain은 다음과 같은 유형의 에이전트를 제공한다.",
   "id": "f7495224be20b6e0"
  },
  {
   "metadata": {},
   "cell_type": "markdown",
   "source": [
    "#### Structured input ReAct \n",
    "\n",
    "정형 입력 데이터를 기반으로 자연어 응답을 생성하기 위해 ReAct 프레임워크를 사용하는 에이전트 유형이다. 에이전트는 테이블, 목록, 또는 key-value 쌍과 같은 다양한 유형의 입력 데이터를 처리할 수 있다. 에이전트는 언어 모델과 프롬프트를 사용하여 유익하고 간결하며 일관성 있는 응답을 생성한다.\n",
    "\n",
    "#### Open AI functions\n",
    "\n",
    "Open AI 함수 API를 사용해 OpenAI의 다양한 언어 모델 및 도구에 액세스할 수 있는 에이전트 유형이다. 언어 모델과 프롬프트를 사용해 OpenAI 함수 API에 대한 요성을 생성하고 응답을 가져온다.\n",
    "\n",
    "#### Conversation\n",
    "\n",
    "언어 모형을 사용해 사용자와 자연어 대화를 하는 에이전트 유형이다. 에이전트는 채팅, 질문 답변 또는 과업 완료와 같은 다양한 유형의 대화형 과업을 처리할 수 있다. 에이전트는 언어 모델과 프롬프트를 사용해 관련성 있고 유창하며 매력적인 응답을 생성한다.\n",
    "\n",
    "#### Self talk with search\n",
    "\n",
    "언어 모델을 사용하여 스스로 질문을 생성한 다음, 웹에서 답을 검색하는 에이전트 유형이다. 에이전트는 이 기술을 사용하여 새로운 정보를 학습하거나 자신의 지식을 테스트할 수 있다.\n",
    "\n",
    "#### ReAct document store \n",
    "\n",
    "데이터베이스에 저장된 문서를 기반으로 자연어 응답을 생성하기 위해 ReAct 프레임워크를 사용하는 에이전트 유형이다. 에이전트는 뉴스 기사,블로그 게시물 또는 연구 논문과 같은 다양한 유형의 문서를 처리할 수 있다.\n",
    "\n",
    "#### Plan & execute agents\n",
    "\n",
    "언어 모델을 사용해 사용자의 입력과 목표에 따라서 수행할 일련의 행동을 선택하는 실험적인 에이전트 유형이다. 에이전트는 선택한 행동을 실행하기 위해 다양한 도구나 모델을 사용할 수 있다. 에이전트는 언어 모델과 프롬프트를 사용하여 계획, 행동 들을 생성한 다음 `AgentExecuter`를 사용하여 이를 실행한다.\n",
    "\n",
    "Langchain Agent는 LLM이 외부 세계와 상호 작용하게 할 때마다 중추적인 역할을 한다. 또한 에이전트가 LLM을 검색하고 응답을 생성할 뿐만 아니라, 추론 엔진으로 활용하여 최적화된 행동 시퀀스를 계획하는 방법도 굉장히 흥미롭다."
   ],
   "id": "7d3001a6253e40c6"
  }
 ],
 "metadata": {
  "kernelspec": {
   "display_name": "Python 3",
   "language": "python",
   "name": "python3"
  },
  "language_info": {
   "codemirror_mode": {
    "name": "ipython",
    "version": 2
   },
   "file_extension": ".py",
   "mimetype": "text/x-python",
   "name": "python",
   "nbconvert_exporter": "python",
   "pygments_lexer": "ipython2",
   "version": "2.7.6"
  }
 },
 "nbformat": 4,
 "nbformat_minor": 5
}
