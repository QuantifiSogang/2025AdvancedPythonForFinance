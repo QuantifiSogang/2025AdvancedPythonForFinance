{
 "cells": [
  {
   "metadata": {},
   "cell_type": "markdown",
   "source": [
    "## Introduction to DataBase System\n",
    "\n",
    "데이터베이스(Database)는 데이터를 체계적으로 저장하고 관리하는 시스템이다. 데이터를 구조화된 형태로 저장하여 효율적인 검색, 수정, 삭제가 가능하도록 돕는다. 데이터베이스는 크게 엑셀처럼 행과 열로 관리되는 관계형 데이터베이스(RDBMS)와 키와 밸류 형태로 관리되는 NoSQL 데이터베이스로 이뤄진다. \n",
    "\n",
    "그중 관계형 데이터베이스는 데이터를 테이블 형태로 저장하며, 각 테이블은 행(Row)과 열(Column)로 구성된다. 데이터베이스는 대량의 데이터를 안정적으로 관리하고, 여러 사용자와 애플리케이션이 동시에 데이터를 활용할 수 있게 한다. 관계형 데이터베이스는 특히 금융 데이터를 다루는 데 있어서 알맞은 형태로, 시계열 및 고객 데이터와 거래 기록들을 다루는 데 있어서 알맞게 사용가능하다. 최근에는 High Frequency 데이터 처리 및 market depth, order book 데이터 관리의 중요성이 대두되면서, NoSQL형 데이터도 증가하는 추세에 있다."
   ],
   "id": "58dd67e780627bd2"
  },
  {
   "cell_type": "code",
   "id": "initial_id",
   "metadata": {
    "collapsed": true,
    "ExecuteTime": {
     "end_time": "2025-02-15T11:05:36.470576Z",
     "start_time": "2025-02-15T11:05:35.693701Z"
    }
   },
   "source": [
    "import yfinance as yf\n",
    "import numpy as np\n",
    "import pandas as pd\n",
    "import sqlite3\n",
    "\n",
    "TICKERS = ['^SPX','^IXIC','^RUT','^DJI','^XAX']\n",
    "START_DATE = '1990-01-01'"
   ],
   "outputs": [],
   "execution_count": 1
  },
  {
   "metadata": {},
   "cell_type": "markdown",
   "source": [
    "### 1. Structured Query Language\n",
    "\n",
    "`SQL(Structured Query Language)`은 관계형 데이터베이스를 관리하기 위한 표준 언어이다. 1970년대 IBM에서 SEQUEL이라는 이름으로 처음 개발되었으며, 이후 ANSI와 ISO에 의해 표준화되었다. SQL은 관계형 데이터베이스에서 데이터를 표 형식으로 다루며, 데이터 간의 관계를 정의하고 관리하는 데 적합하다. \n",
    "\n",
    "SQL은 데이터 정의, 조작, 제어라는 세 가지 주요 기능으로 나뉘는데, **데이터 정의** 는 테이블과 같은 데이터베이스 구조를 생성, 수정, 삭제하는 작업으로, 주로 데이터베이스 설계 초기 단계에서 사용된다. **데이터 조작** 은 삽입, 조회, 수정, 삭제와 같은 데이터를 직접 다루는 작업으로, 데이터베이스의 일상적인 사용에서 가장 많이 쓰인다. **데이터 제어** 는 사용자 권한을 관리하고 데이터베이스의 보안을 설정하는 데 초점이 맞춰져 있다. 이러한 기능은 데이터베이스의 설계부터 운영까지 모든 단계에서 필수적이다. 예를 들어, 새로운 테이블을 생성하고 데이터를 삽입한 뒤, 특정 사용자에게만 접근 권한을 부여하는 방식으로 활용될 수 있다. SQL의 각 기능은 효율적인 데이터 관리를 가능하게 하며, 데이터 무결성과 보안을 보장한다.\n",
    "\n",
    "SQL은 데이터를 정의하는 DDL(Data Definition Language), 데이터를 조작하는 DML(Data Manipulation Language), 데이터를 제어하는 DCL(Data Control Language)로 구성되어 있다. 이 세 가지 기능은 데이터베이스의 구조 설계, 데이터 처리, 보안 관리의 모든 단계를 포함한다. \n",
    "\n",
    "현재 MySQL, PostgreSQL, SQLite와 같은 많은 데이터베이스 시스템이 SQL을 지원하며, 효율적이고 안정적인 데이터 관리를 가능하게 한다."
   ],
   "id": "5c1c3e35de96a127"
  },
  {
   "metadata": {},
   "cell_type": "markdown",
   "source": [
    "#### 1.1 DDL (Data Definition Language)\n",
    "\n",
    "테이블과 관련 열을 생성, 변경, 삭제하는 명령어를 데이터 정의어라고 한다. DDL은 데이터베이스의 구조를 정의하고 관리하는 데 사용된다. 테이블, 인덱스, 뷰 등의 데이터베이스 객체를 생성, 수정, 삭제하는 명령어를 포함한다. 대표적인 명령어로는 `CREATE`, `ALTER`, `DROP` 등이 있다. \n",
    "\n",
    "예를 들어, `CREATE TABLE` 명령어를 사용해 새로운 테이블을 정의할 수 있다. 또한, `ALTER TABLE`을 사용해 기존 테이블에 새로운 열을 추가하거나 수정할 수 있다. \n",
    "\n",
    "DDL은 데이터베이스의 설계 초기 단계에서 중요하며, 데이터의 논리적 구조를 설정하는 역할을 한다. 데이터 타입과 제약 조건을 설정함으로써 데이터의 일관성과 무결성을 보장할 수 있다. 금융 데이터베이스에서는 주식 가격, 거래 기록, 경제 지표 등을 저장하는 테이블을 설계하는 데 자주 사용된다. 스키마 설계와 데이터 정의는 데이터베이스 성능과 데이터 분석의 정확성에 큰 영향을 미친다."
   ],
   "id": "efb7c4efc6d38da"
  },
  {
   "metadata": {},
   "cell_type": "markdown",
   "source": [
    "**Create Table**\n",
    "\n",
    "가장 기초적인 작업은 테이블을 생성하는 것이다. 테이블은 하나의 엑셀 데이터를 생성하는 것과 같다고 보면 된다. 한 종목의 시계열 데이터는 대략 7개의 컬럼(날짜, 시가, 고가, 저가, 종가, 수정종가, 거래량)을 가진 table을 생성한다고 보면 편하다. DB데이터는 `sqlite3` 라이브러리의 `connect()` 함수를 통해 연결을 우선적으로 해 줘야 한다. `cursur()` method는 파이썬 내에서 SQL 명령문을 실행하도록 해 주는 역할을 한다."
   ],
   "id": "41b2122395254346"
  },
  {
   "metadata": {
    "ExecuteTime": {
     "end_time": "2025-02-15T11:13:22.685854Z",
     "start_time": "2025-02-15T11:13:22.681218Z"
    }
   },
   "cell_type": "code",
   "source": [
    "DB_PATH = 'price.db' # 경로 (디렉토리 내에 생성)\n",
    "conn = sqlite3.connect(DB_PATH) # DB에 연결\n",
    "cursor = conn.cursor() # 데이터베이스에 접근해서, SQL문을 실행가능한 상태로 변경"
   ],
   "id": "90d6eaeddd282d4b",
   "outputs": [],
   "execution_count": 2
  },
  {
   "metadata": {
    "ExecuteTime": {
     "end_time": "2025-02-15T11:14:05.628158Z",
     "start_time": "2025-02-15T11:14:05.623737Z"
    }
   },
   "cell_type": "code",
   "source": "type(conn) # Connection ",
   "id": "481d57d2cde23e40",
   "outputs": [
    {
     "data": {
      "text/plain": [
       "sqlite3.Connection"
      ]
     },
     "execution_count": 3,
     "metadata": {},
     "output_type": "execute_result"
    }
   ],
   "execution_count": 3
  },
  {
   "metadata": {},
   "cell_type": "markdown",
   "source": "price.db에 `stock_prices`이라는 table을 생성해 보자",
   "id": "22658ee1cfe61a90"
  },
  {
   "metadata": {
    "ExecuteTime": {
     "end_time": "2025-02-15T11:16:44.698865Z",
     "start_time": "2025-02-15T11:16:44.694389Z"
    }
   },
   "cell_type": "code",
   "source": [
    "cursor.execute(\n",
    "    f\"\"\"\n",
    "        CREATE table if not exists stock_prices (\n",
    "            price varchar(10),\n",
    "            ticker varchar(10),\n",
    "            value real, \n",
    "            primary key (price, ticker)\n",
    "        )\n",
    "    \"\"\"\n",
    ")"
   ],
   "id": "37b24852ae56f322",
   "outputs": [
    {
     "data": {
      "text/plain": [
       "<sqlite3.Cursor at 0x127a41240>"
      ]
     },
     "execution_count": 4,
     "metadata": {},
     "output_type": "execute_result"
    }
   ],
   "execution_count": 4
  },
  {
   "metadata": {},
   "cell_type": "markdown",
   "source": [
    "DB에 접속하면 실제로 stock_prices이라는 이름의 table이 생성되는 것을 확인할 수 있다. 여기서 SQL문의 `primary_key`는 테이블에서 각 행을 유일하게 식별하는 컬럼으로, 데이터를 불러서 읽을 때 좀 더 빠르게 읽을 수 있도록 한다. 테이블과 열의 이름을 정할 때에는 다음 규칙을 따라야 한다.\n",
    "\n",
    "- 동일 한 사용자가 동일한 이름의 테이블을 중복하여 생성이 불가능하다. 또한, 테이블 안의 열 이름도 동일한 이름으로 생성 불가능하다.\n",
    "- `SELECT`, `FROM`, `COUNT`와 같은 예약어는 사용할 수 없다.\n",
    "- 테이블 이름은 문자로 시작해야 한다. 이 규칙은 python의 변수 사용 규칙과 같다. 한글과 특문을 사용할 수는 있지만 권장되지 않는다.\n",
    "- 문자의 길이는 1~30 byte 이내여야 한다."
   ],
   "id": "d415f4c38586d873"
  },
  {
   "metadata": {},
   "cell_type": "markdown",
   "source": [
    "**Modify Tables**\n",
    "\n",
    "기존에 존재하는 테이블에 컬럼을 추가하여 저장하거나, 기존의 컬럼의 내용을 수정하고 싶을 수 있다. `ALTER` 명령문은 SQL에서 테이블 또는 데이터베이스 객체의 구조를 변경할 때 사용된다. 테이블에 새로운 열(Column)을 추가하거나 기존 열을 수정 또는 삭제하는 등의 작업을 수행할 수 있다. 또한, 제약 조건(Constraints) 추가, 데이터 타입 변경 등도 가능하다.\n",
    "\n",
    "이미 생성한 테이블에 맨 끝쪽에 returns를 추가한다고 상상해 보자. 아래와 같이 SQL문을 작성할 수 있다."
   ],
   "id": "b23fe0dfdcaf222e"
  },
  {
   "metadata": {
    "ExecuteTime": {
     "end_time": "2025-02-15T11:18:51.111299Z",
     "start_time": "2025-02-15T11:18:51.107492Z"
    }
   },
   "cell_type": "code",
   "source": [
    "cursor.execute(\n",
    "    f\"\"\"\n",
    "        ALTER TABLE stock_prices\n",
    "        add returns real\n",
    "    \"\"\"\n",
    ")"
   ],
   "id": "1797eb0eb645a598",
   "outputs": [
    {
     "data": {
      "text/plain": [
       "<sqlite3.Cursor at 0x127a41240>"
      ]
     },
     "execution_count": 5,
     "metadata": {},
     "output_type": "execute_result"
    }
   ],
   "execution_count": 5
  },
  {
   "metadata": {},
   "cell_type": "markdown",
   "source": "또는, 이미 추가된 컬럼을 삭제할 수도 있다.",
   "id": "4b263b90de4125e"
  },
  {
   "metadata": {
    "ExecuteTime": {
     "end_time": "2025-02-15T11:19:27.294764Z",
     "start_time": "2025-02-15T11:19:27.290658Z"
    }
   },
   "cell_type": "code",
   "source": [
    "cursor.execute(\n",
    "    f\"\"\"\n",
    "        ALTER TABLE stock_prices\n",
    "        drop column returns;\n",
    "    \"\"\"\n",
    ")"
   ],
   "id": "b61ca8886e160a14",
   "outputs": [
    {
     "data": {
      "text/plain": [
       "<sqlite3.Cursor at 0x127a41240>"
      ]
     },
     "execution_count": 6,
     "metadata": {},
     "output_type": "execute_result"
    }
   ],
   "execution_count": 6
  },
  {
   "metadata": {},
   "cell_type": "markdown",
   "source": [
    "`ALTER TABLE ~ ADD`절의 특징은 다음과 같다.\n",
    "\n",
    "- 새로운 열을 추가할 수 있지만, 테이블에 있던 기존의 열은 삭제할 수 없다.\n",
    "- 새로 생성되는 열은 위치를 지정할 수 없다\n",
    "- 테이블에 이미 행이 있다면 열을 추가하였을 때 새로운 열의 데이터 값을 `NULL`로 초기화된다."
   ],
   "id": "a8709d796a308f77"
  },
  {
   "metadata": {},
   "cell_type": "markdown",
   "source": "`ALTER TABLE ~ MODIFY`절을 사용하여 열의 정의를 수정할 수 있다. 열의 수정 대상은 열의 데이터 타입과 크기, Default Value이다. 단, 여기서는 SQLlite3을 사용하기 때문에, Modify는 지원되지 않는다.",
   "id": "abed2e8731f1d999"
  },
  {
   "metadata": {},
   "cell_type": "markdown",
   "source": "`ALTER TABLE ~ RENAME COLUMN` 절을 사용하면 열 이름을 수정할 수 있다.",
   "id": "88e291de75b66575"
  },
  {
   "metadata": {
    "ExecuteTime": {
     "end_time": "2025-02-15T11:20:41.047672Z",
     "start_time": "2025-02-15T11:20:41.043900Z"
    }
   },
   "cell_type": "code",
   "source": [
    "cursor.execute(\n",
    "    f\"\"\"\n",
    "        ALTER TABLE stock_prices\n",
    "        add returns real\n",
    "    \"\"\"\n",
    ")"
   ],
   "id": "5520fd54acbf5b86",
   "outputs": [
    {
     "data": {
      "text/plain": [
       "<sqlite3.Cursor at 0x127a41240>"
      ]
     },
     "execution_count": 7,
     "metadata": {},
     "output_type": "execute_result"
    }
   ],
   "execution_count": 7
  },
  {
   "metadata": {
    "ExecuteTime": {
     "end_time": "2025-02-15T11:21:06.244451Z",
     "start_time": "2025-02-15T11:21:06.240575Z"
    }
   },
   "cell_type": "code",
   "source": [
    "cursor.execute(\n",
    "    f\"\"\"\n",
    "        alter table stock_prices\n",
    "        rename column returns to return;\n",
    "    \"\"\"\n",
    ")"
   ],
   "id": "8b379bb8c9800c7e",
   "outputs": [
    {
     "data": {
      "text/plain": [
       "<sqlite3.Cursor at 0x127a41240>"
      ]
     },
     "execution_count": 8,
     "metadata": {},
     "output_type": "execute_result"
    }
   ],
   "execution_count": 8
  },
  {
   "metadata": {},
   "cell_type": "markdown",
   "source": [
    "**Delete table**\n",
    "\n",
    "table을 생성한 후 더이상 사용하지 않거나 쓸모 없다고 판단되는 경우 table 자체를 삭제할 수도 있다. `DROP` 명령문은 데이터베이스에서 특정 테이블을 완전히 삭제하는 데 사용된다. 이 명령어를 실행하면 테이블의 구조와 모든 데이터가 완전히 제거되며, 복구할 수 없다. 삭제된 테이블과 관련된 모든 인덱스, 제약 조건, 그리고 해당 테이블에 저장된 데이터도 함께 삭제된다."
   ],
   "id": "d840f3e7f741636c"
  },
  {
   "metadata": {
    "ExecuteTime": {
     "end_time": "2025-02-15T11:21:42.208342Z",
     "start_time": "2025-02-15T11:21:42.203186Z"
    }
   },
   "cell_type": "code",
   "source": [
    "cursor.execute(\n",
    "    f\"\"\"\n",
    "        DROP table stock_prices\n",
    "    \"\"\"\n",
    ")"
   ],
   "id": "687d38efc8a04e0b",
   "outputs": [
    {
     "data": {
      "text/plain": [
       "<sqlite3.Cursor at 0x127a41240>"
      ]
     },
     "execution_count": 9,
     "metadata": {},
     "output_type": "execute_result"
    }
   ],
   "execution_count": 9
  },
  {
   "metadata": {},
   "cell_type": "markdown",
   "source": "이제 실제로 테이블을 생성해 보자. ",
   "id": "baa7f30faaddcbb3"
  },
  {
   "metadata": {
    "ExecuteTime": {
     "end_time": "2025-02-15T11:23:24.446283Z",
     "start_time": "2025-02-15T11:23:24.442504Z"
    }
   },
   "cell_type": "code",
   "source": [
    "cursor.execute(\"\"\"\n",
    "    CREATE TABLE IF NOT EXISTS stock_prices (\n",
    "        date DATE NOT NULL,\n",
    "        field VARCHAR(10) NOT NULL,\n",
    "        ticker VARCHAR(10) NOT NULL,\n",
    "        value REAL NOT NULL,\n",
    "        PRIMARY KEY (date, field, ticker)\n",
    "    )\n",
    "\"\"\")"
   ],
   "id": "b563fb3bbff49fa4",
   "outputs": [
    {
     "data": {
      "text/plain": [
       "<sqlite3.Cursor at 0x127a41240>"
      ]
     },
     "execution_count": 10,
     "metadata": {},
     "output_type": "execute_result"
    }
   ],
   "execution_count": 10
  },
  {
   "metadata": {},
   "cell_type": "markdown",
   "source": [
    "#### 1.2 DML (Data Manipulation Language)\n",
    "\n",
    "테이블을 생성하였으니, 알맞은 데이터를 적재할 차례이다. DML은 데이터베이스에 저장된 데이터를 조회하거나 수정, 삽입, 삭제하는 작업을 수행한다. **가장 자주 사용되는 SQL 기능**으로, 데이터를 직접 다루기 때문에 **실시간 데이터 분석과 관리에서 중요**하다. \n",
    "\n",
    "대표적인 명령어로는 데이터를 삽입하는 `INSERT`, 데이터를 검색하는 `SELECT`, 데이터를 수정하는 `UPDATE`, 데이터를 삭제하는 `DELETE`가 있다. 예를 들어, `SELECT` 명령어를 사용해 특정 주식의 일별 가격을 조회할 수 있다. 혹은, 전체 가격 테이블에서 특정 종목의 가격 전체의 열을 불러올 수도 있다.\n",
    "\n",
    "주로 데이터의 상태를 변경하거나 원하는 데이터를 추출하는 데 사용되며, 데이터베이스 사용자의 주요 인터페이스 역할을 한다. 금융 데이터에서는 특정 날짜의 주식 가격을 조회하거나, 거래 내역을 삽입하고 수정하는 데 활용된다. DML은 데이터를 효율적으로 다룰 수 있도록 설계되어 있어, 대규모 데이터베이스에서도 빠르고 정확하게 작동한다."
   ],
   "id": "79859f04ec65b1f0"
  },
  {
   "metadata": {
    "ExecuteTime": {
     "end_time": "2025-02-15T11:24:55.468398Z",
     "start_time": "2025-02-15T11:24:52.669808Z"
    }
   },
   "cell_type": "code",
   "source": "data = yf.download(TICKERS, start = START_DATE, progress = False)",
   "id": "687d84b8c7d57250",
   "outputs": [],
   "execution_count": 11
  },
  {
   "metadata": {
    "ExecuteTime": {
     "end_time": "2025-02-15T11:25:21.149801Z",
     "start_time": "2025-02-15T11:25:21.144901Z"
    }
   },
   "cell_type": "code",
   "source": "data['Adj Close']",
   "id": "ab2ec3868b510472",
   "outputs": [
    {
     "data": {
      "text/plain": [
       "Ticker              ^DJI         ^IXIC         ^RUT         ^SPX         ^XAX\n",
       "Date                                                                         \n",
       "1990-01-02           NaN    459.299988   169.949997   359.690002          NaN\n",
       "1990-01-03           NaN    460.899994   170.789993   358.760010          NaN\n",
       "1990-01-04           NaN    459.399994   170.089996   355.670013          NaN\n",
       "1990-01-05           NaN    458.200012   169.649994   352.200012          NaN\n",
       "1990-01-08           NaN    458.700012   169.550003   353.790009          NaN\n",
       "...                  ...           ...          ...          ...          ...\n",
       "2025-02-10  44470.410156  19714.269531  2287.939941  6066.439941  5079.399902\n",
       "2025-02-11  44593.648438  19643.859375  2275.699951  6068.500000  5133.839844\n",
       "2025-02-12  44368.558594  19649.949219  2255.889893  6051.970215  5145.459961\n",
       "2025-02-13  44711.429688  19945.640625  2282.179932  6115.069824  5140.950195\n",
       "2025-02-14  44546.078125  20026.769531  2279.979980  6114.629883  5100.709961\n",
       "\n",
       "[8847 rows x 5 columns]"
      ],
      "text/html": [
       "<div>\n",
       "<style scoped>\n",
       "    .dataframe tbody tr th:only-of-type {\n",
       "        vertical-align: middle;\n",
       "    }\n",
       "\n",
       "    .dataframe tbody tr th {\n",
       "        vertical-align: top;\n",
       "    }\n",
       "\n",
       "    .dataframe thead th {\n",
       "        text-align: right;\n",
       "    }\n",
       "</style>\n",
       "<table border=\"1\" class=\"dataframe\">\n",
       "  <thead>\n",
       "    <tr style=\"text-align: right;\">\n",
       "      <th>Ticker</th>\n",
       "      <th>^DJI</th>\n",
       "      <th>^IXIC</th>\n",
       "      <th>^RUT</th>\n",
       "      <th>^SPX</th>\n",
       "      <th>^XAX</th>\n",
       "    </tr>\n",
       "    <tr>\n",
       "      <th>Date</th>\n",
       "      <th></th>\n",
       "      <th></th>\n",
       "      <th></th>\n",
       "      <th></th>\n",
       "      <th></th>\n",
       "    </tr>\n",
       "  </thead>\n",
       "  <tbody>\n",
       "    <tr>\n",
       "      <th>1990-01-02</th>\n",
       "      <td>NaN</td>\n",
       "      <td>459.299988</td>\n",
       "      <td>169.949997</td>\n",
       "      <td>359.690002</td>\n",
       "      <td>NaN</td>\n",
       "    </tr>\n",
       "    <tr>\n",
       "      <th>1990-01-03</th>\n",
       "      <td>NaN</td>\n",
       "      <td>460.899994</td>\n",
       "      <td>170.789993</td>\n",
       "      <td>358.760010</td>\n",
       "      <td>NaN</td>\n",
       "    </tr>\n",
       "    <tr>\n",
       "      <th>1990-01-04</th>\n",
       "      <td>NaN</td>\n",
       "      <td>459.399994</td>\n",
       "      <td>170.089996</td>\n",
       "      <td>355.670013</td>\n",
       "      <td>NaN</td>\n",
       "    </tr>\n",
       "    <tr>\n",
       "      <th>1990-01-05</th>\n",
       "      <td>NaN</td>\n",
       "      <td>458.200012</td>\n",
       "      <td>169.649994</td>\n",
       "      <td>352.200012</td>\n",
       "      <td>NaN</td>\n",
       "    </tr>\n",
       "    <tr>\n",
       "      <th>1990-01-08</th>\n",
       "      <td>NaN</td>\n",
       "      <td>458.700012</td>\n",
       "      <td>169.550003</td>\n",
       "      <td>353.790009</td>\n",
       "      <td>NaN</td>\n",
       "    </tr>\n",
       "    <tr>\n",
       "      <th>...</th>\n",
       "      <td>...</td>\n",
       "      <td>...</td>\n",
       "      <td>...</td>\n",
       "      <td>...</td>\n",
       "      <td>...</td>\n",
       "    </tr>\n",
       "    <tr>\n",
       "      <th>2025-02-10</th>\n",
       "      <td>44470.410156</td>\n",
       "      <td>19714.269531</td>\n",
       "      <td>2287.939941</td>\n",
       "      <td>6066.439941</td>\n",
       "      <td>5079.399902</td>\n",
       "    </tr>\n",
       "    <tr>\n",
       "      <th>2025-02-11</th>\n",
       "      <td>44593.648438</td>\n",
       "      <td>19643.859375</td>\n",
       "      <td>2275.699951</td>\n",
       "      <td>6068.500000</td>\n",
       "      <td>5133.839844</td>\n",
       "    </tr>\n",
       "    <tr>\n",
       "      <th>2025-02-12</th>\n",
       "      <td>44368.558594</td>\n",
       "      <td>19649.949219</td>\n",
       "      <td>2255.889893</td>\n",
       "      <td>6051.970215</td>\n",
       "      <td>5145.459961</td>\n",
       "    </tr>\n",
       "    <tr>\n",
       "      <th>2025-02-13</th>\n",
       "      <td>44711.429688</td>\n",
       "      <td>19945.640625</td>\n",
       "      <td>2282.179932</td>\n",
       "      <td>6115.069824</td>\n",
       "      <td>5140.950195</td>\n",
       "    </tr>\n",
       "    <tr>\n",
       "      <th>2025-02-14</th>\n",
       "      <td>44546.078125</td>\n",
       "      <td>20026.769531</td>\n",
       "      <td>2279.979980</td>\n",
       "      <td>6114.629883</td>\n",
       "      <td>5100.709961</td>\n",
       "    </tr>\n",
       "  </tbody>\n",
       "</table>\n",
       "<p>8847 rows × 5 columns</p>\n",
       "</div>"
      ]
     },
     "execution_count": 14,
     "metadata": {},
     "output_type": "execute_result"
    }
   ],
   "execution_count": 14
  },
  {
   "metadata": {},
   "cell_type": "markdown",
   "source": "yahoo finance를 비롯하여 대부분의 가격을 다루는 DataBase는 다음과 같이 MultiIndex 형태로 스키마를 관리한다.",
   "id": "cb4dd3ea3fa163ff"
  },
  {
   "metadata": {
    "ExecuteTime": {
     "end_time": "2025-02-15T11:24:59.555921Z",
     "start_time": "2025-02-15T11:24:59.551500Z"
    }
   },
   "cell_type": "code",
   "source": "data.columns",
   "id": "97c909fb20659048",
   "outputs": [
    {
     "data": {
      "text/plain": [
       "MultiIndex([('Adj Close',  '^DJI'),\n",
       "            ('Adj Close', '^IXIC'),\n",
       "            ('Adj Close',  '^RUT'),\n",
       "            ('Adj Close',  '^SPX'),\n",
       "            ('Adj Close',  '^XAX'),\n",
       "            (    'Close',  '^DJI'),\n",
       "            (    'Close', '^IXIC'),\n",
       "            (    'Close',  '^RUT'),\n",
       "            (    'Close',  '^SPX'),\n",
       "            (    'Close',  '^XAX'),\n",
       "            (     'High',  '^DJI'),\n",
       "            (     'High', '^IXIC'),\n",
       "            (     'High',  '^RUT'),\n",
       "            (     'High',  '^SPX'),\n",
       "            (     'High',  '^XAX'),\n",
       "            (      'Low',  '^DJI'),\n",
       "            (      'Low', '^IXIC'),\n",
       "            (      'Low',  '^RUT'),\n",
       "            (      'Low',  '^SPX'),\n",
       "            (      'Low',  '^XAX'),\n",
       "            (     'Open',  '^DJI'),\n",
       "            (     'Open', '^IXIC'),\n",
       "            (     'Open',  '^RUT'),\n",
       "            (     'Open',  '^SPX'),\n",
       "            (     'Open',  '^XAX'),\n",
       "            (   'Volume',  '^DJI'),\n",
       "            (   'Volume', '^IXIC'),\n",
       "            (   'Volume',  '^RUT'),\n",
       "            (   'Volume',  '^SPX'),\n",
       "            (   'Volume',  '^XAX')],\n",
       "           names=['Price', 'Ticker'])"
      ]
     },
     "execution_count": 12,
     "metadata": {},
     "output_type": "execute_result"
    }
   ],
   "execution_count": 12
  },
  {
   "metadata": {},
   "cell_type": "markdown",
   "source": "SQL의 `INSERT`를 활용해 개별적으로 데이터를 적재할 수 있다. 이러는 경우, 모든 데이터에 대해서 하나하나 데이터를 적재하면 된다",
   "id": "7d9047fc281ef27e"
  },
  {
   "metadata": {
    "ExecuteTime": {
     "end_time": "2025-02-15T11:26:12.473135Z",
     "start_time": "2025-02-15T11:26:12.462590Z"
    }
   },
   "cell_type": "code",
   "source": "data = data.stack(level=1).reset_index()",
   "id": "b9cb8431cea774ff",
   "outputs": [
    {
     "name": "stderr",
     "output_type": "stream",
     "text": [
      "/var/folders/1q/pl9tj55n57s9jg28npxw61n80000gn/T/ipykernel_12290/4055030117.py:1: FutureWarning: The previous implementation of stack is deprecated and will be removed in a future version of pandas. See the What's New notes for pandas 2.1.0 for details. Specify future_stack=True to adopt the new implementation and silence this warning.\n",
      "  data = data.stack(level=1).reset_index()\n"
     ]
    }
   ],
   "execution_count": 15
  },
  {
   "metadata": {
    "ExecuteTime": {
     "end_time": "2025-02-15T11:26:15.546085Z",
     "start_time": "2025-02-15T11:26:15.540292Z"
    }
   },
   "cell_type": "code",
   "source": "data",
   "id": "8bf03377d7ba729d",
   "outputs": [
    {
     "data": {
      "text/plain": [
       "Price       Date Ticker     Adj Close         Close          High  \\\n",
       "0     1990-01-02  ^IXIC    459.299988    459.299988    459.299988   \n",
       "1     1990-01-02   ^RUT    169.949997    169.949997    169.960007   \n",
       "2     1990-01-02   ^SPX    359.690002    359.690002    359.690002   \n",
       "3     1990-01-03  ^IXIC    460.899994    460.899994    461.600006   \n",
       "4     1990-01-03   ^RUT    170.789993    170.789993    170.800003   \n",
       "...          ...    ...           ...           ...           ...   \n",
       "42210 2025-02-14   ^DJI  44546.078125  44546.078125  44769.050781   \n",
       "42211 2025-02-14  ^IXIC  20026.769531  20026.769531  20045.759766   \n",
       "42212 2025-02-14   ^RUT   2279.979980   2279.979980   2297.709961   \n",
       "42213 2025-02-14   ^SPX   6114.629883   6114.629883   6127.470215   \n",
       "42214 2025-02-14   ^XAX   5100.709961   5100.709961   5204.830078   \n",
       "\n",
       "Price           Low          Open        Volume  \n",
       "0        452.700012    452.899994  1.107200e+08  \n",
       "1        168.220001    168.309998  1.620700e+08  \n",
       "2        351.980011    353.399994  1.620700e+08  \n",
       "3        460.000000    461.100006  1.526600e+08  \n",
       "4        169.960007    169.960007  1.923300e+08  \n",
       "...             ...           ...           ...  \n",
       "42210  44498.960938  44720.988281  4.745700e+08  \n",
       "42211  19932.150391  19956.820312  7.995720e+09  \n",
       "42212   2276.629883   2287.850098  4.335190e+09  \n",
       "42213   6107.620117   6115.520020  4.335190e+09  \n",
       "42214   5088.310059   5140.950195  0.000000e+00  \n",
       "\n",
       "[42215 rows x 8 columns]"
      ],
      "text/html": [
       "<div>\n",
       "<style scoped>\n",
       "    .dataframe tbody tr th:only-of-type {\n",
       "        vertical-align: middle;\n",
       "    }\n",
       "\n",
       "    .dataframe tbody tr th {\n",
       "        vertical-align: top;\n",
       "    }\n",
       "\n",
       "    .dataframe thead th {\n",
       "        text-align: right;\n",
       "    }\n",
       "</style>\n",
       "<table border=\"1\" class=\"dataframe\">\n",
       "  <thead>\n",
       "    <tr style=\"text-align: right;\">\n",
       "      <th>Price</th>\n",
       "      <th>Date</th>\n",
       "      <th>Ticker</th>\n",
       "      <th>Adj Close</th>\n",
       "      <th>Close</th>\n",
       "      <th>High</th>\n",
       "      <th>Low</th>\n",
       "      <th>Open</th>\n",
       "      <th>Volume</th>\n",
       "    </tr>\n",
       "  </thead>\n",
       "  <tbody>\n",
       "    <tr>\n",
       "      <th>0</th>\n",
       "      <td>1990-01-02</td>\n",
       "      <td>^IXIC</td>\n",
       "      <td>459.299988</td>\n",
       "      <td>459.299988</td>\n",
       "      <td>459.299988</td>\n",
       "      <td>452.700012</td>\n",
       "      <td>452.899994</td>\n",
       "      <td>1.107200e+08</td>\n",
       "    </tr>\n",
       "    <tr>\n",
       "      <th>1</th>\n",
       "      <td>1990-01-02</td>\n",
       "      <td>^RUT</td>\n",
       "      <td>169.949997</td>\n",
       "      <td>169.949997</td>\n",
       "      <td>169.960007</td>\n",
       "      <td>168.220001</td>\n",
       "      <td>168.309998</td>\n",
       "      <td>1.620700e+08</td>\n",
       "    </tr>\n",
       "    <tr>\n",
       "      <th>2</th>\n",
       "      <td>1990-01-02</td>\n",
       "      <td>^SPX</td>\n",
       "      <td>359.690002</td>\n",
       "      <td>359.690002</td>\n",
       "      <td>359.690002</td>\n",
       "      <td>351.980011</td>\n",
       "      <td>353.399994</td>\n",
       "      <td>1.620700e+08</td>\n",
       "    </tr>\n",
       "    <tr>\n",
       "      <th>3</th>\n",
       "      <td>1990-01-03</td>\n",
       "      <td>^IXIC</td>\n",
       "      <td>460.899994</td>\n",
       "      <td>460.899994</td>\n",
       "      <td>461.600006</td>\n",
       "      <td>460.000000</td>\n",
       "      <td>461.100006</td>\n",
       "      <td>1.526600e+08</td>\n",
       "    </tr>\n",
       "    <tr>\n",
       "      <th>4</th>\n",
       "      <td>1990-01-03</td>\n",
       "      <td>^RUT</td>\n",
       "      <td>170.789993</td>\n",
       "      <td>170.789993</td>\n",
       "      <td>170.800003</td>\n",
       "      <td>169.960007</td>\n",
       "      <td>169.960007</td>\n",
       "      <td>1.923300e+08</td>\n",
       "    </tr>\n",
       "    <tr>\n",
       "      <th>...</th>\n",
       "      <td>...</td>\n",
       "      <td>...</td>\n",
       "      <td>...</td>\n",
       "      <td>...</td>\n",
       "      <td>...</td>\n",
       "      <td>...</td>\n",
       "      <td>...</td>\n",
       "      <td>...</td>\n",
       "    </tr>\n",
       "    <tr>\n",
       "      <th>42210</th>\n",
       "      <td>2025-02-14</td>\n",
       "      <td>^DJI</td>\n",
       "      <td>44546.078125</td>\n",
       "      <td>44546.078125</td>\n",
       "      <td>44769.050781</td>\n",
       "      <td>44498.960938</td>\n",
       "      <td>44720.988281</td>\n",
       "      <td>4.745700e+08</td>\n",
       "    </tr>\n",
       "    <tr>\n",
       "      <th>42211</th>\n",
       "      <td>2025-02-14</td>\n",
       "      <td>^IXIC</td>\n",
       "      <td>20026.769531</td>\n",
       "      <td>20026.769531</td>\n",
       "      <td>20045.759766</td>\n",
       "      <td>19932.150391</td>\n",
       "      <td>19956.820312</td>\n",
       "      <td>7.995720e+09</td>\n",
       "    </tr>\n",
       "    <tr>\n",
       "      <th>42212</th>\n",
       "      <td>2025-02-14</td>\n",
       "      <td>^RUT</td>\n",
       "      <td>2279.979980</td>\n",
       "      <td>2279.979980</td>\n",
       "      <td>2297.709961</td>\n",
       "      <td>2276.629883</td>\n",
       "      <td>2287.850098</td>\n",
       "      <td>4.335190e+09</td>\n",
       "    </tr>\n",
       "    <tr>\n",
       "      <th>42213</th>\n",
       "      <td>2025-02-14</td>\n",
       "      <td>^SPX</td>\n",
       "      <td>6114.629883</td>\n",
       "      <td>6114.629883</td>\n",
       "      <td>6127.470215</td>\n",
       "      <td>6107.620117</td>\n",
       "      <td>6115.520020</td>\n",
       "      <td>4.335190e+09</td>\n",
       "    </tr>\n",
       "    <tr>\n",
       "      <th>42214</th>\n",
       "      <td>2025-02-14</td>\n",
       "      <td>^XAX</td>\n",
       "      <td>5100.709961</td>\n",
       "      <td>5100.709961</td>\n",
       "      <td>5204.830078</td>\n",
       "      <td>5088.310059</td>\n",
       "      <td>5140.950195</td>\n",
       "      <td>0.000000e+00</td>\n",
       "    </tr>\n",
       "  </tbody>\n",
       "</table>\n",
       "<p>42215 rows × 8 columns</p>\n",
       "</div>"
      ]
     },
     "execution_count": 16,
     "metadata": {},
     "output_type": "execute_result"
    }
   ],
   "execution_count": 16
  },
  {
   "metadata": {
    "ExecuteTime": {
     "end_time": "2025-02-15T11:26:45.287875Z",
     "start_time": "2025-02-15T11:26:45.284251Z"
    }
   },
   "cell_type": "code",
   "source": "data = data[['Date','Ticker','Open','High','Low','Close','Adj Close','Volume']]",
   "id": "9c59c0046c353461",
   "outputs": [],
   "execution_count": 17
  },
  {
   "metadata": {
    "ExecuteTime": {
     "end_time": "2025-02-15T11:26:53.643670Z",
     "start_time": "2025-02-15T11:26:53.638424Z"
    }
   },
   "cell_type": "code",
   "source": "data",
   "id": "348cca215e57995f",
   "outputs": [
    {
     "data": {
      "text/plain": [
       "Price       Date Ticker          Open          High           Low  \\\n",
       "0     1990-01-02  ^IXIC    452.899994    459.299988    452.700012   \n",
       "1     1990-01-02   ^RUT    168.309998    169.960007    168.220001   \n",
       "2     1990-01-02   ^SPX    353.399994    359.690002    351.980011   \n",
       "3     1990-01-03  ^IXIC    461.100006    461.600006    460.000000   \n",
       "4     1990-01-03   ^RUT    169.960007    170.800003    169.960007   \n",
       "...          ...    ...           ...           ...           ...   \n",
       "42210 2025-02-14   ^DJI  44720.988281  44769.050781  44498.960938   \n",
       "42211 2025-02-14  ^IXIC  19956.820312  20045.759766  19932.150391   \n",
       "42212 2025-02-14   ^RUT   2287.850098   2297.709961   2276.629883   \n",
       "42213 2025-02-14   ^SPX   6115.520020   6127.470215   6107.620117   \n",
       "42214 2025-02-14   ^XAX   5140.950195   5204.830078   5088.310059   \n",
       "\n",
       "Price         Close     Adj Close        Volume  \n",
       "0        459.299988    459.299988  1.107200e+08  \n",
       "1        169.949997    169.949997  1.620700e+08  \n",
       "2        359.690002    359.690002  1.620700e+08  \n",
       "3        460.899994    460.899994  1.526600e+08  \n",
       "4        170.789993    170.789993  1.923300e+08  \n",
       "...             ...           ...           ...  \n",
       "42210  44546.078125  44546.078125  4.745700e+08  \n",
       "42211  20026.769531  20026.769531  7.995720e+09  \n",
       "42212   2279.979980   2279.979980  4.335190e+09  \n",
       "42213   6114.629883   6114.629883  4.335190e+09  \n",
       "42214   5100.709961   5100.709961  0.000000e+00  \n",
       "\n",
       "[42215 rows x 8 columns]"
      ],
      "text/html": [
       "<div>\n",
       "<style scoped>\n",
       "    .dataframe tbody tr th:only-of-type {\n",
       "        vertical-align: middle;\n",
       "    }\n",
       "\n",
       "    .dataframe tbody tr th {\n",
       "        vertical-align: top;\n",
       "    }\n",
       "\n",
       "    .dataframe thead th {\n",
       "        text-align: right;\n",
       "    }\n",
       "</style>\n",
       "<table border=\"1\" class=\"dataframe\">\n",
       "  <thead>\n",
       "    <tr style=\"text-align: right;\">\n",
       "      <th>Price</th>\n",
       "      <th>Date</th>\n",
       "      <th>Ticker</th>\n",
       "      <th>Open</th>\n",
       "      <th>High</th>\n",
       "      <th>Low</th>\n",
       "      <th>Close</th>\n",
       "      <th>Adj Close</th>\n",
       "      <th>Volume</th>\n",
       "    </tr>\n",
       "  </thead>\n",
       "  <tbody>\n",
       "    <tr>\n",
       "      <th>0</th>\n",
       "      <td>1990-01-02</td>\n",
       "      <td>^IXIC</td>\n",
       "      <td>452.899994</td>\n",
       "      <td>459.299988</td>\n",
       "      <td>452.700012</td>\n",
       "      <td>459.299988</td>\n",
       "      <td>459.299988</td>\n",
       "      <td>1.107200e+08</td>\n",
       "    </tr>\n",
       "    <tr>\n",
       "      <th>1</th>\n",
       "      <td>1990-01-02</td>\n",
       "      <td>^RUT</td>\n",
       "      <td>168.309998</td>\n",
       "      <td>169.960007</td>\n",
       "      <td>168.220001</td>\n",
       "      <td>169.949997</td>\n",
       "      <td>169.949997</td>\n",
       "      <td>1.620700e+08</td>\n",
       "    </tr>\n",
       "    <tr>\n",
       "      <th>2</th>\n",
       "      <td>1990-01-02</td>\n",
       "      <td>^SPX</td>\n",
       "      <td>353.399994</td>\n",
       "      <td>359.690002</td>\n",
       "      <td>351.980011</td>\n",
       "      <td>359.690002</td>\n",
       "      <td>359.690002</td>\n",
       "      <td>1.620700e+08</td>\n",
       "    </tr>\n",
       "    <tr>\n",
       "      <th>3</th>\n",
       "      <td>1990-01-03</td>\n",
       "      <td>^IXIC</td>\n",
       "      <td>461.100006</td>\n",
       "      <td>461.600006</td>\n",
       "      <td>460.000000</td>\n",
       "      <td>460.899994</td>\n",
       "      <td>460.899994</td>\n",
       "      <td>1.526600e+08</td>\n",
       "    </tr>\n",
       "    <tr>\n",
       "      <th>4</th>\n",
       "      <td>1990-01-03</td>\n",
       "      <td>^RUT</td>\n",
       "      <td>169.960007</td>\n",
       "      <td>170.800003</td>\n",
       "      <td>169.960007</td>\n",
       "      <td>170.789993</td>\n",
       "      <td>170.789993</td>\n",
       "      <td>1.923300e+08</td>\n",
       "    </tr>\n",
       "    <tr>\n",
       "      <th>...</th>\n",
       "      <td>...</td>\n",
       "      <td>...</td>\n",
       "      <td>...</td>\n",
       "      <td>...</td>\n",
       "      <td>...</td>\n",
       "      <td>...</td>\n",
       "      <td>...</td>\n",
       "      <td>...</td>\n",
       "    </tr>\n",
       "    <tr>\n",
       "      <th>42210</th>\n",
       "      <td>2025-02-14</td>\n",
       "      <td>^DJI</td>\n",
       "      <td>44720.988281</td>\n",
       "      <td>44769.050781</td>\n",
       "      <td>44498.960938</td>\n",
       "      <td>44546.078125</td>\n",
       "      <td>44546.078125</td>\n",
       "      <td>4.745700e+08</td>\n",
       "    </tr>\n",
       "    <tr>\n",
       "      <th>42211</th>\n",
       "      <td>2025-02-14</td>\n",
       "      <td>^IXIC</td>\n",
       "      <td>19956.820312</td>\n",
       "      <td>20045.759766</td>\n",
       "      <td>19932.150391</td>\n",
       "      <td>20026.769531</td>\n",
       "      <td>20026.769531</td>\n",
       "      <td>7.995720e+09</td>\n",
       "    </tr>\n",
       "    <tr>\n",
       "      <th>42212</th>\n",
       "      <td>2025-02-14</td>\n",
       "      <td>^RUT</td>\n",
       "      <td>2287.850098</td>\n",
       "      <td>2297.709961</td>\n",
       "      <td>2276.629883</td>\n",
       "      <td>2279.979980</td>\n",
       "      <td>2279.979980</td>\n",
       "      <td>4.335190e+09</td>\n",
       "    </tr>\n",
       "    <tr>\n",
       "      <th>42213</th>\n",
       "      <td>2025-02-14</td>\n",
       "      <td>^SPX</td>\n",
       "      <td>6115.520020</td>\n",
       "      <td>6127.470215</td>\n",
       "      <td>6107.620117</td>\n",
       "      <td>6114.629883</td>\n",
       "      <td>6114.629883</td>\n",
       "      <td>4.335190e+09</td>\n",
       "    </tr>\n",
       "    <tr>\n",
       "      <th>42214</th>\n",
       "      <td>2025-02-14</td>\n",
       "      <td>^XAX</td>\n",
       "      <td>5140.950195</td>\n",
       "      <td>5204.830078</td>\n",
       "      <td>5088.310059</td>\n",
       "      <td>5100.709961</td>\n",
       "      <td>5100.709961</td>\n",
       "      <td>0.000000e+00</td>\n",
       "    </tr>\n",
       "  </tbody>\n",
       "</table>\n",
       "<p>42215 rows × 8 columns</p>\n",
       "</div>"
      ]
     },
     "execution_count": 18,
     "metadata": {},
     "output_type": "execute_result"
    }
   ],
   "execution_count": 18
  },
  {
   "metadata": {
    "ExecuteTime": {
     "end_time": "2025-02-15T11:27:10.031144Z",
     "start_time": "2025-02-15T11:27:10.028991Z"
    }
   },
   "cell_type": "code",
   "source": "data.columns = ['date', 'ticker', 'Open', 'High', 'Low', 'Close', 'Adj Close', 'Volume']",
   "id": "e33bd89fe7ff86df",
   "outputs": [],
   "execution_count": 20
  },
  {
   "metadata": {
    "ExecuteTime": {
     "end_time": "2025-02-15T11:27:23.667131Z",
     "start_time": "2025-02-15T11:27:23.663579Z"
    }
   },
   "cell_type": "code",
   "source": "data['date']",
   "id": "e4dff10928c71258",
   "outputs": [
    {
     "data": {
      "text/plain": [
       "0       1990-01-02\n",
       "1       1990-01-02\n",
       "2       1990-01-02\n",
       "3       1990-01-03\n",
       "4       1990-01-03\n",
       "           ...    \n",
       "42210   2025-02-14\n",
       "42211   2025-02-14\n",
       "42212   2025-02-14\n",
       "42213   2025-02-14\n",
       "42214   2025-02-14\n",
       "Name: date, Length: 42215, dtype: datetime64[ns]"
      ]
     },
     "execution_count": 22,
     "metadata": {},
     "output_type": "execute_result"
    }
   ],
   "execution_count": 22
  },
  {
   "metadata": {
    "ExecuteTime": {
     "end_time": "2025-02-15T11:27:39.650505Z",
     "start_time": "2025-02-15T11:27:39.629716Z"
    }
   },
   "cell_type": "code",
   "source": "data['date'] = data['date'].astype(str) # sql lite는 datetime 형태의 타입이 지원되지 않으므로, str형태로 변환",
   "id": "1e0400c73352228a",
   "outputs": [],
   "execution_count": 23
  },
  {
   "metadata": {
    "ExecuteTime": {
     "end_time": "2025-02-15T11:28:15.292960Z",
     "start_time": "2025-02-15T11:28:14.310581Z"
    }
   },
   "cell_type": "code",
   "source": [
    "records = []\n",
    "for _, row in data.iterrows():\n",
    "    for field in ['Open', 'High', 'Low', 'Close', 'Adj Close', 'Volume']:\n",
    "        records.append((row['date'], field, row['ticker'], row[field]))"
   ],
   "id": "63a3c28243ddc46f",
   "outputs": [],
   "execution_count": 24
  },
  {
   "metadata": {
    "ExecuteTime": {
     "end_time": "2025-02-15T11:28:17.901927Z",
     "start_time": "2025-02-15T11:28:17.881889Z"
    }
   },
   "cell_type": "code",
   "source": "records",
   "id": "3e5ecf84d0ad29c7",
   "outputs": [
    {
     "data": {
      "text/plain": [
       "[('1990-01-02', 'Open', '^IXIC', 452.8999938964844),\n",
       " ('1990-01-02', 'High', '^IXIC', 459.29998779296875),\n",
       " ('1990-01-02', 'Low', '^IXIC', 452.70001220703125),\n",
       " ('1990-01-02', 'Close', '^IXIC', 459.29998779296875),\n",
       " ('1990-01-02', 'Adj Close', '^IXIC', 459.29998779296875),\n",
       " ('1990-01-02', 'Volume', '^IXIC', 110720000.0),\n",
       " ('1990-01-02', 'Open', '^RUT', 168.30999755859375),\n",
       " ('1990-01-02', 'High', '^RUT', 169.9600067138672),\n",
       " ('1990-01-02', 'Low', '^RUT', 168.22000122070312),\n",
       " ('1990-01-02', 'Close', '^RUT', 169.9499969482422),\n",
       " ('1990-01-02', 'Adj Close', '^RUT', 169.9499969482422),\n",
       " ('1990-01-02', 'Volume', '^RUT', 162070000.0),\n",
       " ('1990-01-02', 'Open', '^SPX', 353.3999938964844),\n",
       " ('1990-01-02', 'High', '^SPX', 359.69000244140625),\n",
       " ('1990-01-02', 'Low', '^SPX', 351.9800109863281),\n",
       " ('1990-01-02', 'Close', '^SPX', 359.69000244140625),\n",
       " ('1990-01-02', 'Adj Close', '^SPX', 359.69000244140625),\n",
       " ('1990-01-02', 'Volume', '^SPX', 162070000.0),\n",
       " ('1990-01-03', 'Open', '^IXIC', 461.1000061035156),\n",
       " ('1990-01-03', 'High', '^IXIC', 461.6000061035156),\n",
       " ('1990-01-03', 'Low', '^IXIC', 460.0),\n",
       " ('1990-01-03', 'Close', '^IXIC', 460.8999938964844),\n",
       " ('1990-01-03', 'Adj Close', '^IXIC', 460.8999938964844),\n",
       " ('1990-01-03', 'Volume', '^IXIC', 152660000.0),\n",
       " ('1990-01-03', 'Open', '^RUT', 169.9600067138672),\n",
       " ('1990-01-03', 'High', '^RUT', 170.8000030517578),\n",
       " ('1990-01-03', 'Low', '^RUT', 169.9600067138672),\n",
       " ('1990-01-03', 'Close', '^RUT', 170.7899932861328),\n",
       " ('1990-01-03', 'Adj Close', '^RUT', 170.7899932861328),\n",
       " ('1990-01-03', 'Volume', '^RUT', 192330000.0),\n",
       " ('1990-01-03', 'Open', '^SPX', 359.69000244140625),\n",
       " ('1990-01-03', 'High', '^SPX', 360.5899963378906),\n",
       " ('1990-01-03', 'Low', '^SPX', 357.8900146484375),\n",
       " ('1990-01-03', 'Close', '^SPX', 358.760009765625),\n",
       " ('1990-01-03', 'Adj Close', '^SPX', 358.760009765625),\n",
       " ('1990-01-03', 'Volume', '^SPX', 192330000.0),\n",
       " ('1990-01-04', 'Open', '^IXIC', 460.3999938964844),\n",
       " ('1990-01-04', 'High', '^IXIC', 460.79998779296875),\n",
       " ('1990-01-04', 'Low', '^IXIC', 456.8999938964844),\n",
       " ('1990-01-04', 'Close', '^IXIC', 459.3999938964844),\n",
       " ('1990-01-04', 'Adj Close', '^IXIC', 459.3999938964844),\n",
       " ('1990-01-04', 'Volume', '^IXIC', 147950000.0),\n",
       " ('1990-01-04', 'Open', '^RUT', 170.77999877929688),\n",
       " ('1990-01-04', 'High', '^RUT', 170.7899932861328),\n",
       " ('1990-01-04', 'Low', '^RUT', 169.5800018310547),\n",
       " ('1990-01-04', 'Close', '^RUT', 170.08999633789062),\n",
       " ('1990-01-04', 'Adj Close', '^RUT', 170.08999633789062),\n",
       " ('1990-01-04', 'Volume', '^RUT', 177000000.0),\n",
       " ('1990-01-04', 'Open', '^SPX', 358.760009765625),\n",
       " ('1990-01-04', 'High', '^SPX', 358.760009765625),\n",
       " ('1990-01-04', 'Low', '^SPX', 352.8900146484375),\n",
       " ('1990-01-04', 'Close', '^SPX', 355.6700134277344),\n",
       " ('1990-01-04', 'Adj Close', '^SPX', 355.6700134277344),\n",
       " ('1990-01-04', 'Volume', '^SPX', 177000000.0),\n",
       " ('1990-01-05', 'Open', '^IXIC', 457.8999938964844),\n",
       " ('1990-01-05', 'High', '^IXIC', 459.3999938964844),\n",
       " ('1990-01-05', 'Low', '^IXIC', 457.79998779296875),\n",
       " ('1990-01-05', 'Close', '^IXIC', 458.20001220703125),\n",
       " ('1990-01-05', 'Adj Close', '^IXIC', 458.20001220703125),\n",
       " ('1990-01-05', 'Volume', '^IXIC', 137230000.0),\n",
       " ('1990-01-05', 'Open', '^RUT', 170.08999633789062),\n",
       " ('1990-01-05', 'High', '^RUT', 170.1199951171875),\n",
       " ('1990-01-05', 'Low', '^RUT', 169.44000244140625),\n",
       " ('1990-01-05', 'Close', '^RUT', 169.64999389648438),\n",
       " ('1990-01-05', 'Adj Close', '^RUT', 169.64999389648438),\n",
       " ('1990-01-05', 'Volume', '^RUT', 158530000.0),\n",
       " ('1990-01-05', 'Open', '^SPX', 355.6700134277344),\n",
       " ('1990-01-05', 'High', '^SPX', 355.6700134277344),\n",
       " ('1990-01-05', 'Low', '^SPX', 351.3500061035156),\n",
       " ('1990-01-05', 'Close', '^SPX', 352.20001220703125),\n",
       " ('1990-01-05', 'Adj Close', '^SPX', 352.20001220703125),\n",
       " ('1990-01-05', 'Volume', '^SPX', 158530000.0),\n",
       " ('1990-01-08', 'Open', '^IXIC', 457.1000061035156),\n",
       " ('1990-01-08', 'High', '^IXIC', 458.70001220703125),\n",
       " ('1990-01-08', 'Low', '^IXIC', 456.5),\n",
       " ('1990-01-08', 'Close', '^IXIC', 458.70001220703125),\n",
       " ('1990-01-08', 'Adj Close', '^IXIC', 458.70001220703125),\n",
       " ('1990-01-08', 'Volume', '^IXIC', 115500000.0),\n",
       " ('1990-01-08', 'Open', '^RUT', 169.6699981689453),\n",
       " ('1990-01-08', 'High', '^RUT', 169.67999267578125),\n",
       " ('1990-01-08', 'Low', '^RUT', 169.0500030517578),\n",
       " ('1990-01-08', 'Close', '^RUT', 169.5500030517578),\n",
       " ('1990-01-08', 'Adj Close', '^RUT', 169.5500030517578),\n",
       " ('1990-01-08', 'Volume', '^RUT', 140110000.0),\n",
       " ('1990-01-08', 'Open', '^SPX', 352.20001220703125),\n",
       " ('1990-01-08', 'High', '^SPX', 354.239990234375),\n",
       " ('1990-01-08', 'Low', '^SPX', 350.5400085449219),\n",
       " ('1990-01-08', 'Close', '^SPX', 353.7900085449219),\n",
       " ('1990-01-08', 'Adj Close', '^SPX', 353.7900085449219),\n",
       " ('1990-01-08', 'Volume', '^SPX', 140110000.0),\n",
       " ('1990-01-09', 'Open', '^IXIC', 459.20001220703125),\n",
       " ('1990-01-09', 'High', '^IXIC', 459.6000061035156),\n",
       " ('1990-01-09', 'Low', '^IXIC', 456.6000061035156),\n",
       " ('1990-01-09', 'Close', '^IXIC', 456.79998779296875),\n",
       " ('1990-01-09', 'Adj Close', '^IXIC', 456.79998779296875),\n",
       " ('1990-01-09', 'Volume', '^IXIC', 131130000.0),\n",
       " ('1990-01-09', 'Open', '^RUT', 169.5399932861328),\n",
       " ('1990-01-09', 'High', '^RUT', 169.86000061035156),\n",
       " ('1990-01-09', 'Low', '^RUT', 169.24000549316406),\n",
       " ('1990-01-09', 'Close', '^RUT', 169.3000030517578),\n",
       " ('1990-01-09', 'Adj Close', '^RUT', 169.3000030517578),\n",
       " ('1990-01-09', 'Volume', '^RUT', 155210000.0),\n",
       " ('1990-01-09', 'Open', '^SPX', 353.8299865722656),\n",
       " ('1990-01-09', 'High', '^SPX', 354.1700134277344),\n",
       " ('1990-01-09', 'Low', '^SPX', 349.6099853515625),\n",
       " ('1990-01-09', 'Close', '^SPX', 349.6199951171875),\n",
       " ('1990-01-09', 'Adj Close', '^SPX', 349.6199951171875),\n",
       " ('1990-01-09', 'Volume', '^SPX', 155210000.0),\n",
       " ('1990-01-10', 'Open', '^IXIC', 455.1000061035156),\n",
       " ('1990-01-10', 'High', '^IXIC', 456.29998779296875),\n",
       " ('1990-01-10', 'Low', '^IXIC', 450.6000061035156),\n",
       " ('1990-01-10', 'Close', '^IXIC', 450.70001220703125),\n",
       " ('1990-01-10', 'Adj Close', '^IXIC', 450.70001220703125),\n",
       " ('1990-01-10', 'Volume', '^IXIC', 143890000.0),\n",
       " ('1990-01-10', 'Open', '^RUT', 169.30999755859375),\n",
       " ('1990-01-10', 'High', '^RUT', 169.30999755859375),\n",
       " ('1990-01-10', 'Low', '^RUT', 167.80999755859375),\n",
       " ('1990-01-10', 'Close', '^RUT', 167.94000244140625),\n",
       " ('1990-01-10', 'Adj Close', '^RUT', 167.94000244140625),\n",
       " ('1990-01-10', 'Volume', '^RUT', 175990000.0),\n",
       " ('1990-01-10', 'Open', '^SPX', 349.6199951171875),\n",
       " ('1990-01-10', 'High', '^SPX', 349.6199951171875),\n",
       " ('1990-01-10', 'Low', '^SPX', 344.32000732421875),\n",
       " ('1990-01-10', 'Close', '^SPX', 347.30999755859375),\n",
       " ('1990-01-10', 'Adj Close', '^SPX', 347.30999755859375),\n",
       " ('1990-01-10', 'Volume', '^SPX', 175990000.0),\n",
       " ('1990-01-11', 'Open', '^IXIC', 451.70001220703125),\n",
       " ('1990-01-11', 'High', '^IXIC', 452.5),\n",
       " ('1990-01-11', 'Low', '^IXIC', 448.79998779296875),\n",
       " ('1990-01-11', 'Close', '^IXIC', 448.8999938964844),\n",
       " ('1990-01-11', 'Adj Close', '^IXIC', 448.8999938964844),\n",
       " ('1990-01-11', 'Volume', '^IXIC', 133000000.0),\n",
       " ('1990-01-11', 'Open', '^RUT', 167.92999267578125),\n",
       " ('1990-01-11', 'High', '^RUT', 168.3699951171875),\n",
       " ('1990-01-11', 'Low', '^RUT', 167.82000732421875),\n",
       " ('1990-01-11', 'Close', '^RUT', 168.00999450683594),\n",
       " ('1990-01-11', 'Adj Close', '^RUT', 168.00999450683594),\n",
       " ('1990-01-11', 'Volume', '^RUT', 154390000.0),\n",
       " ('1990-01-11', 'Open', '^SPX', 347.30999755859375),\n",
       " ('1990-01-11', 'High', '^SPX', 350.1400146484375),\n",
       " ('1990-01-11', 'Low', '^SPX', 347.30999755859375),\n",
       " ('1990-01-11', 'Close', '^SPX', 348.5299987792969),\n",
       " ('1990-01-11', 'Adj Close', '^SPX', 348.5299987792969),\n",
       " ('1990-01-11', 'Volume', '^SPX', 154390000.0),\n",
       " ('1990-01-12', 'Open', '^IXIC', 442.70001220703125),\n",
       " ('1990-01-12', 'High', '^IXIC', 446.6000061035156),\n",
       " ('1990-01-12', 'Low', '^IXIC', 439.29998779296875),\n",
       " ('1990-01-12', 'Close', '^IXIC', 439.70001220703125),\n",
       " ('1990-01-12', 'Adj Close', '^IXIC', 439.70001220703125),\n",
       " ('1990-01-12', 'Volume', '^IXIC', 143500000.0),\n",
       " ('1990-01-12', 'Open', '^RUT', 168.02000427246094),\n",
       " ('1990-01-12', 'High', '^RUT', 168.02000427246094),\n",
       " ('1990-01-12', 'Low', '^RUT', 164.22999572753906),\n",
       " ('1990-01-12', 'Close', '^RUT', 164.3699951171875),\n",
       " ('1990-01-12', 'Adj Close', '^RUT', 164.3699951171875),\n",
       " ('1990-01-12', 'Volume', '^RUT', 183880000.0),\n",
       " ('1990-01-12', 'Open', '^SPX', 348.5299987792969),\n",
       " ('1990-01-12', 'High', '^SPX', 348.5299987792969),\n",
       " ('1990-01-12', 'Low', '^SPX', 339.489990234375),\n",
       " ('1990-01-12', 'Close', '^SPX', 339.92999267578125),\n",
       " ('1990-01-12', 'Adj Close', '^SPX', 339.92999267578125),\n",
       " ('1990-01-12', 'Volume', '^SPX', 183880000.0),\n",
       " ('1990-01-15', 'Open', '^IXIC', 438.20001220703125),\n",
       " ('1990-01-15', 'High', '^IXIC', 439.3999938964844),\n",
       " ('1990-01-15', 'Low', '^IXIC', 436.3999938964844),\n",
       " ('1990-01-15', 'Close', '^IXIC', 436.6000061035156),\n",
       " ('1990-01-15', 'Adj Close', '^IXIC', 436.6000061035156),\n",
       " ('1990-01-15', 'Volume', '^IXIC', 108060000.0),\n",
       " ('1990-01-15', 'Open', '^RUT', 164.3699951171875),\n",
       " ('1990-01-15', 'High', '^RUT', 164.3699951171875),\n",
       " ('1990-01-15', 'Low', '^RUT', 162.85000610351562),\n",
       " ('1990-01-15', 'Close', '^RUT', 162.92999267578125),\n",
       " ('1990-01-15', 'Adj Close', '^RUT', 162.92999267578125),\n",
       " ('1990-01-15', 'Volume', '^RUT', 140590000.0),\n",
       " ('1990-01-15', 'Open', '^SPX', 339.92999267578125),\n",
       " ('1990-01-15', 'High', '^SPX', 339.94000244140625),\n",
       " ('1990-01-15', 'Low', '^SPX', 336.57000732421875),\n",
       " ('1990-01-15', 'Close', '^SPX', 337.0),\n",
       " ('1990-01-15', 'Adj Close', '^SPX', 337.0),\n",
       " ('1990-01-15', 'Volume', '^SPX', 140590000.0),\n",
       " ('1990-01-16', 'Open', '^IXIC', 432.8999938964844),\n",
       " ('1990-01-16', 'High', '^IXIC', 440.20001220703125),\n",
       " ('1990-01-16', 'Low', '^IXIC', 432.1000061035156),\n",
       " ('1990-01-16', 'Close', '^IXIC', 440.20001220703125),\n",
       " ('1990-01-16', 'Adj Close', '^IXIC', 440.20001220703125),\n",
       " ('1990-01-16', 'Volume', '^IXIC', 147590000.0),\n",
       " ('1990-01-16', 'Open', '^RUT', 162.94000244140625),\n",
       " ('1990-01-16', 'High', '^RUT', 163.3000030517578),\n",
       " ('1990-01-16', 'Low', '^RUT', 161.33999633789062),\n",
       " ('1990-01-16', 'Close', '^RUT', 163.3000030517578),\n",
       " ('1990-01-16', 'Adj Close', '^RUT', 163.3000030517578),\n",
       " ('1990-01-16', 'Volume', '^RUT', 186070000.0),\n",
       " ('1990-01-16', 'Open', '^SPX', 337.0),\n",
       " ('1990-01-16', 'High', '^SPX', 340.75),\n",
       " ('1990-01-16', 'Low', '^SPX', 333.3699951171875),\n",
       " ('1990-01-16', 'Close', '^SPX', 340.75),\n",
       " ('1990-01-16', 'Adj Close', '^SPX', 340.75),\n",
       " ('1990-01-16', 'Volume', '^SPX', 186070000.0),\n",
       " ('1990-01-17', 'Open', '^IXIC', 440.5),\n",
       " ('1990-01-17', 'High', '^IXIC', 442.5),\n",
       " ('1990-01-17', 'Low', '^IXIC', 438.5),\n",
       " ('1990-01-17', 'Close', '^IXIC', 438.70001220703125),\n",
       " ('1990-01-17', 'Adj Close', '^IXIC', 438.70001220703125),\n",
       " ('1990-01-17', 'Volume', '^IXIC', 139150000.0),\n",
       " ('1990-01-17', 'Open', '^RUT', 163.30999755859375),\n",
       " ('1990-01-17', 'High', '^RUT', 164.25999450683594),\n",
       " ('1990-01-17', 'Low', '^RUT', 163.30999755859375),\n",
       " ('1990-01-17', 'Close', '^RUT', 163.50999450683594),\n",
       " ('1990-01-17', 'Adj Close', '^RUT', 163.50999450683594),\n",
       " ('1990-01-17', 'Volume', '^RUT', 170470000.0),\n",
       " ('1990-01-17', 'Open', '^SPX', 340.7699890136719),\n",
       " ('1990-01-17', 'High', '^SPX', 342.010009765625),\n",
       " ('1990-01-17', 'Low', '^SPX', 336.260009765625),\n",
       " ('1990-01-17', 'Close', '^SPX', 337.3999938964844),\n",
       " ('1990-01-17', 'Adj Close', '^SPX', 337.3999938964844),\n",
       " ('1990-01-17', 'Volume', '^SPX', 170470000.0),\n",
       " ('1990-01-18', 'Open', '^IXIC', 436.20001220703125),\n",
       " ('1990-01-18', 'High', '^IXIC', 437.79998779296875),\n",
       " ('1990-01-18', 'Low', '^IXIC', 435.6000061035156),\n",
       " ('1990-01-18', 'Close', '^IXIC', 437.5),\n",
       " ('1990-01-18', 'Adj Close', '^IXIC', 437.5),\n",
       " ('1990-01-18', 'Volume', '^IXIC', 136330000.0),\n",
       " ('1990-01-18', 'Open', '^RUT', 163.5),\n",
       " ('1990-01-18', 'High', '^RUT', 163.5),\n",
       " ('1990-01-18', 'Low', '^RUT', 162.3300018310547),\n",
       " ('1990-01-18', 'Close', '^RUT', 162.75999450683594),\n",
       " ('1990-01-18', 'Adj Close', '^RUT', 162.75999450683594),\n",
       " ('1990-01-18', 'Volume', '^RUT', 178590000.0),\n",
       " ('1990-01-18', 'Open', '^SPX', 337.3999938964844),\n",
       " ('1990-01-18', 'High', '^SPX', 338.3800048828125),\n",
       " ('1990-01-18', 'Low', '^SPX', 333.9800109863281),\n",
       " ('1990-01-18', 'Close', '^SPX', 338.19000244140625),\n",
       " ('1990-01-18', 'Adj Close', '^SPX', 338.19000244140625),\n",
       " ('1990-01-18', 'Volume', '^SPX', 178590000.0),\n",
       " ('1990-01-19', 'Open', '^IXIC', 440.5),\n",
       " ('1990-01-19', 'High', '^IXIC', 441.20001220703125),\n",
       " ('1990-01-19', 'Low', '^IXIC', 439.20001220703125),\n",
       " ('1990-01-19', 'Close', '^IXIC', 440.8999938964844),\n",
       " ('1990-01-19', 'Adj Close', '^IXIC', 440.8999938964844),\n",
       " ('1990-01-19', 'Volume', '^IXIC', 152170000.0),\n",
       " ('1990-01-19', 'Open', '^RUT', 162.77000427246094),\n",
       " ('1990-01-19', 'High', '^RUT', 163.58999633789062),\n",
       " ('1990-01-19', 'Low', '^RUT', 162.77000427246094),\n",
       " ('1990-01-19', 'Close', '^RUT', 163.57000732421875),\n",
       " ('1990-01-19', 'Adj Close', '^RUT', 163.57000732421875),\n",
       " ('1990-01-19', 'Volume', '^RUT', 185590000.0),\n",
       " ('1990-01-19', 'Open', '^SPX', 338.19000244140625),\n",
       " ('1990-01-19', 'High', '^SPX', 340.4800109863281),\n",
       " ('1990-01-19', 'Low', '^SPX', 338.19000244140625),\n",
       " ('1990-01-19', 'Close', '^SPX', 339.1499938964844),\n",
       " ('1990-01-19', 'Adj Close', '^SPX', 339.1499938964844),\n",
       " ('1990-01-19', 'Volume', '^SPX', 185590000.0),\n",
       " ('1990-01-22', 'Open', '^IXIC', 439.70001220703125),\n",
       " ('1990-01-22', 'High', '^IXIC', 440.70001220703125),\n",
       " ('1990-01-22', 'Low', '^IXIC', 431.70001220703125),\n",
       " ('1990-01-22', 'Close', '^IXIC', 431.8999938964844),\n",
       " ('1990-01-22', 'Adj Close', '^IXIC', 431.8999938964844),\n",
       " ('1990-01-22', 'Volume', '^IXIC', 130490000.0),\n",
       " ('1990-01-22', 'Open', '^RUT', 163.57000732421875),\n",
       " ('1990-01-22', 'High', '^RUT', 163.69000244140625),\n",
       " ('1990-01-22', 'Low', '^RUT', 161.02999877929688),\n",
       " ('1990-01-22', 'Close', '^RUT', 161.1300048828125),\n",
       " ('1990-01-22', 'Adj Close', '^RUT', 161.1300048828125),\n",
       " ('1990-01-22', 'Volume', '^RUT', 148380000.0),\n",
       " ('1990-01-22', 'Open', '^SPX', 339.1400146484375),\n",
       " ('1990-01-22', 'High', '^SPX', 339.9599914550781),\n",
       " ('1990-01-22', 'Low', '^SPX', 330.2799987792969),\n",
       " ('1990-01-22', 'Close', '^SPX', 330.3800048828125),\n",
       " ('1990-01-22', 'Adj Close', '^SPX', 330.3800048828125),\n",
       " ('1990-01-22', 'Volume', '^SPX', 148380000.0),\n",
       " ('1990-01-23', 'Open', '^IXIC', 432.5),\n",
       " ('1990-01-23', 'High', '^IXIC', 433.79998779296875),\n",
       " ('1990-01-23', 'Low', '^IXIC', 428.8999938964844),\n",
       " ('1990-01-23', 'Close', '^IXIC', 430.3999938964844),\n",
       " ('1990-01-23', 'Adj Close', '^IXIC', 430.3999938964844),\n",
       " ('1990-01-23', 'Volume', '^IXIC', 141440000.0),\n",
       " ('1990-01-23', 'Open', '^RUT', 161.13999938964844),\n",
       " ('1990-01-23', 'High', '^RUT', 161.3699951171875),\n",
       " ('1990-01-23', 'Low', '^RUT', 159.92999267578125),\n",
       " ('1990-01-23', 'Close', '^RUT', 160.41000366210938),\n",
       " ('1990-01-23', 'Adj Close', '^RUT', 160.41000366210938),\n",
       " ('1990-01-23', 'Volume', '^RUT', 179300000.0),\n",
       " ('1990-01-23', 'Open', '^SPX', 330.3800048828125),\n",
       " ('1990-01-23', 'High', '^SPX', 332.760009765625),\n",
       " ('1990-01-23', 'Low', '^SPX', 328.6700134277344),\n",
       " ('1990-01-23', 'Close', '^SPX', 331.6099853515625),\n",
       " ('1990-01-23', 'Adj Close', '^SPX', 331.6099853515625),\n",
       " ('1990-01-23', 'Volume', '^SPX', 179300000.0),\n",
       " ('1990-01-24', 'Open', '^IXIC', 419.8999938964844),\n",
       " ('1990-01-24', 'High', '^IXIC', 427.20001220703125),\n",
       " ('1990-01-24', 'Low', '^IXIC', 419.79998779296875),\n",
       " ('1990-01-24', 'Close', '^IXIC', 425.70001220703125),\n",
       " ('1990-01-24', 'Adj Close', '^IXIC', 425.70001220703125),\n",
       " ('1990-01-24', 'Volume', '^IXIC', 163430000.0),\n",
       " ('1990-01-24', 'Open', '^RUT', 160.4199981689453),\n",
       " ('1990-01-24', 'High', '^RUT', 160.4199981689453),\n",
       " ('1990-01-24', 'Low', '^RUT', 156.97999572753906),\n",
       " ('1990-01-24', 'Close', '^RUT', 158.16000366210938),\n",
       " ('1990-01-24', 'Adj Close', '^RUT', 158.16000366210938),\n",
       " ('1990-01-24', 'Volume', '^RUT', 207830000.0),\n",
       " ('1990-01-24', 'Open', '^SPX', 331.6099853515625),\n",
       " ('1990-01-24', 'High', '^SPX', 331.7099914550781),\n",
       " ('1990-01-24', 'Low', '^SPX', 324.1700134277344),\n",
       " ('1990-01-24', 'Close', '^SPX', 330.260009765625),\n",
       " ('1990-01-24', 'Adj Close', '^SPX', 330.260009765625),\n",
       " ('1990-01-24', 'Volume', '^SPX', 207830000.0),\n",
       " ('1990-01-25', 'Open', '^IXIC', 428.29998779296875),\n",
       " ('1990-01-25', 'High', '^IXIC', 429.0),\n",
       " ('1990-01-25', 'Low', '^IXIC', 425.1000061035156),\n",
       " ('1990-01-25', 'Close', '^IXIC', 425.20001220703125),\n",
       " ('1990-01-25', 'Adj Close', '^IXIC', 425.20001220703125),\n",
       " ('1990-01-25', 'Volume', '^IXIC', 130500000.0),\n",
       " ('1990-01-25', 'Open', '^RUT', 158.1699981689453),\n",
       " ('1990-01-25', 'High', '^RUT', 158.92999267578125),\n",
       " ('1990-01-25', 'Low', '^RUT', 157.7899932861328),\n",
       " ('1990-01-25', 'Close', '^RUT', 157.99000549316406),\n",
       " ('1990-01-25', 'Adj Close', '^RUT', 157.99000549316406),\n",
       " ('1990-01-25', 'Volume', '^RUT', 172270000.0),\n",
       " ('1990-01-25', 'Open', '^SPX', 330.260009765625),\n",
       " ('1990-01-25', 'High', '^SPX', 332.3299865722656),\n",
       " ('1990-01-25', 'Low', '^SPX', 325.3299865722656),\n",
       " ('1990-01-25', 'Close', '^SPX', 326.0799865722656),\n",
       " ('1990-01-25', 'Adj Close', '^SPX', 326.0799865722656),\n",
       " ('1990-01-25', 'Volume', '^SPX', 172270000.0),\n",
       " ('1990-01-26', 'Open', '^IXIC', 424.20001220703125),\n",
       " ('1990-01-26', 'High', '^IXIC', 425.8999938964844),\n",
       " ('1990-01-26', 'Low', '^IXIC', 419.5),\n",
       " ('1990-01-26', 'Close', '^IXIC', 421.29998779296875),\n",
       " ('1990-01-26', 'Adj Close', '^IXIC', 421.29998779296875),\n",
       " ('1990-01-26', 'Volume', '^IXIC', 136340000.0),\n",
       " ('1990-01-26', 'Open', '^RUT', 157.97999572753906),\n",
       " ('1990-01-26', 'High', '^RUT', 157.97999572753906),\n",
       " ('1990-01-26', 'Low', '^RUT', 156.22000122070312),\n",
       " ('1990-01-26', 'Close', '^RUT', 156.61000061035156),\n",
       " ('1990-01-26', 'Adj Close', '^RUT', 156.61000061035156),\n",
       " ('1990-01-26', 'Volume', '^RUT', 198190000.0),\n",
       " ('1990-01-26', 'Open', '^SPX', 326.0899963378906),\n",
       " ('1990-01-26', 'High', '^SPX', 328.5799865722656),\n",
       " ('1990-01-26', 'Low', '^SPX', 321.44000244140625),\n",
       " ('1990-01-26', 'Close', '^SPX', 325.79998779296875),\n",
       " ('1990-01-26', 'Adj Close', '^SPX', 325.79998779296875),\n",
       " ('1990-01-26', 'Volume', '^SPX', 198190000.0),\n",
       " ('1990-01-29', 'Open', '^IXIC', 422.79998779296875),\n",
       " ('1990-01-29', 'High', '^IXIC', 422.8999938964844),\n",
       " ('1990-01-29', 'Low', '^IXIC', 416.5),\n",
       " ('1990-01-29', 'Close', '^IXIC', 418.1000061035156),\n",
       " ('1990-01-29', 'Adj Close', '^IXIC', 418.1000061035156),\n",
       " ('1990-01-29', 'Volume', '^IXIC', 118590000.0),\n",
       " ('1990-01-29', 'Open', '^RUT', 156.60000610351562),\n",
       " ('1990-01-29', 'High', '^RUT', 156.75),\n",
       " ('1990-01-29', 'Low', '^RUT', 154.69000244140625),\n",
       " ('1990-01-29', 'Close', '^RUT', 154.94000244140625),\n",
       " ('1990-01-29', 'Adj Close', '^RUT', 154.94000244140625),\n",
       " ('1990-01-29', 'Volume', '^RUT', 150770000.0),\n",
       " ('1990-01-29', 'Open', '^SPX', 325.79998779296875),\n",
       " ('1990-01-29', 'High', '^SPX', 327.30999755859375),\n",
       " ('1990-01-29', 'Low', '^SPX', 321.7900085449219),\n",
       " ('1990-01-29', 'Close', '^SPX', 325.20001220703125),\n",
       " ('1990-01-29', 'Adj Close', '^SPX', 325.20001220703125),\n",
       " ('1990-01-29', 'Volume', '^SPX', 150770000.0),\n",
       " ('1990-01-30', 'Open', '^IXIC', 416.20001220703125),\n",
       " ('1990-01-30', 'High', '^IXIC', 417.5),\n",
       " ('1990-01-30', 'Low', '^IXIC', 410.0),\n",
       " ('1990-01-30', 'Close', '^IXIC', 410.70001220703125),\n",
       " ('1990-01-30', 'Adj Close', '^IXIC', 410.70001220703125),\n",
       " ('1990-01-30', 'Volume', '^IXIC', 160160000.0),\n",
       " ('1990-01-30', 'Open', '^RUT', 154.9499969482422),\n",
       " ('1990-01-30', 'High', '^RUT', 154.97000122070312),\n",
       " ('1990-01-30', 'Low', '^RUT', 152.44000244140625),\n",
       " ('1990-01-30', 'Close', '^RUT', 152.6199951171875),\n",
       " ('1990-01-30', 'Adj Close', '^RUT', 152.6199951171875),\n",
       " ('1990-01-30', 'Volume', '^RUT', 186030000.0),\n",
       " ('1990-01-30', 'Open', '^SPX', 325.20001220703125),\n",
       " ('1990-01-30', 'High', '^SPX', 325.7300109863281),\n",
       " ('1990-01-30', 'Low', '^SPX', 319.8299865722656),\n",
       " ('1990-01-30', 'Close', '^SPX', 322.9800109863281),\n",
       " ('1990-01-30', 'Adj Close', '^SPX', 322.9800109863281),\n",
       " ('1990-01-30', 'Volume', '^SPX', 186030000.0),\n",
       " ('1990-01-31', 'Open', '^IXIC', 412.20001220703125),\n",
       " ('1990-01-31', 'High', '^IXIC', 415.8999938964844),\n",
       " ('1990-01-31', 'Low', '^IXIC', 411.29998779296875),\n",
       " ('1990-01-31', 'Close', '^IXIC', 415.79998779296875),\n",
       " ('1990-01-31', 'Adj Close', '^IXIC', 415.79998779296875),\n",
       " ('1990-01-31', 'Volume', '^IXIC', 148000000.0),\n",
       " ('1990-01-31', 'Open', '^RUT', 152.61000061035156),\n",
       " ('1990-01-31', 'High', '^RUT', 153.52999877929688),\n",
       " ('1990-01-31', 'Low', '^RUT', 152.61000061035156),\n",
       " ('1990-01-31', 'Close', '^RUT', 153.27000427246094),\n",
       " ('1990-01-31', 'Adj Close', '^RUT', 153.27000427246094),\n",
       " ('1990-01-31', 'Volume', '^RUT', 189660000.0),\n",
       " ('1990-01-31', 'Open', '^SPX', 322.9800109863281),\n",
       " ('1990-01-31', 'High', '^SPX', 329.0799865722656),\n",
       " ('1990-01-31', 'Low', '^SPX', 322.9800109863281),\n",
       " ('1990-01-31', 'Close', '^SPX', 329.0799865722656),\n",
       " ('1990-01-31', 'Adj Close', '^SPX', 329.0799865722656),\n",
       " ('1990-01-31', 'Volume', '^SPX', 189660000.0),\n",
       " ('1990-02-01', 'Open', '^IXIC', 416.79998779296875),\n",
       " ('1990-02-01', 'High', '^IXIC', 417.8999938964844),\n",
       " ('1990-02-01', 'Low', '^IXIC', 416.20001220703125),\n",
       " ('1990-02-01', 'Close', '^IXIC', 417.79998779296875),\n",
       " ('1990-02-01', 'Adj Close', '^IXIC', 417.79998779296875),\n",
       " ('1990-02-01', 'Volume', '^IXIC', 135470000.0),\n",
       " ('1990-02-01', 'Open', '^RUT', 153.27000427246094),\n",
       " ('1990-02-01', 'High', '^RUT', 154.36000061035156),\n",
       " ('1990-02-01', 'Low', '^RUT', 153.27000427246094),\n",
       " ('1990-02-01', 'Close', '^RUT', 154.36000061035156),\n",
       " ('1990-02-01', 'Adj Close', '^RUT', 154.36000061035156),\n",
       " ('1990-02-01', 'Volume', '^RUT', 154580000.0),\n",
       " ('1990-02-01', 'Open', '^SPX', 329.0799865722656),\n",
       " ('1990-02-01', 'High', '^SPX', 329.8599853515625),\n",
       " ('1990-02-01', 'Low', '^SPX', 327.760009765625),\n",
       " ('1990-02-01', 'Close', '^SPX', 328.7900085449219),\n",
       " ('1990-02-01', 'Adj Close', '^SPX', 328.7900085449219),\n",
       " ('1990-02-01', 'Volume', '^SPX', 154580000.0),\n",
       " ('1990-02-02', 'Open', '^IXIC', 418.79998779296875),\n",
       " ('1990-02-02', 'High', '^IXIC', 423.29998779296875),\n",
       " ('1990-02-02', 'Low', '^IXIC', 417.6000061035156),\n",
       " ('1990-02-02', 'Close', '^IXIC', 422.20001220703125),\n",
       " ('1990-02-02', 'Adj Close', '^IXIC', 422.20001220703125),\n",
       " ('1990-02-02', 'Volume', '^IXIC', 135020000.0),\n",
       " ('1990-02-02', 'Open', '^RUT', 154.3699951171875),\n",
       " ('1990-02-02', 'High', '^RUT', 156.02999877929688),\n",
       " ('1990-02-02', 'Low', '^RUT', 154.1999969482422),\n",
       " ('1990-02-02', 'Close', '^RUT', 156.0),\n",
       " ('1990-02-02', 'Adj Close', '^RUT', 156.0),\n",
       " ('1990-02-02', 'Volume', '^RUT', 164400000.0),\n",
       " ('1990-02-02', 'Open', '^SPX', 328.7900085449219),\n",
       " ('1990-02-02', 'High', '^SPX', 332.1000061035156),\n",
       " ('1990-02-02', 'Low', '^SPX', 328.0899963378906),\n",
       " ('1990-02-02', 'Close', '^SPX', 330.9200134277344),\n",
       " ('1990-02-02', 'Adj Close', '^SPX', 330.9200134277344),\n",
       " ('1990-02-02', 'Volume', '^SPX', 164400000.0),\n",
       " ('1990-02-05', 'Open', '^IXIC', 422.8999938964844),\n",
       " ('1990-02-05', 'High', '^IXIC', 424.79998779296875),\n",
       " ('1990-02-05', 'Low', '^IXIC', 422.3999938964844),\n",
       " ('1990-02-05', 'Close', '^IXIC', 424.70001220703125),\n",
       " ('1990-02-05', 'Adj Close', '^IXIC', 424.70001220703125),\n",
       " ('1990-02-05', 'Volume', '^IXIC', 108350000.0),\n",
       " ('1990-02-05', 'Open', '^RUT', 156.0),\n",
       " ('1990-02-05', 'High', '^RUT', 156.88999938964844),\n",
       " ('1990-02-05', 'Low', '^RUT', 156.0),\n",
       " ('1990-02-05', 'Close', '^RUT', 156.88999938964844),\n",
       " ('1990-02-05', 'Adj Close', '^RUT', 156.88999938964844),\n",
       " ('1990-02-05', 'Volume', '^RUT', 130950000.0),\n",
       " ('1990-02-05', 'Open', '^SPX', 330.9200134277344),\n",
       " ('1990-02-05', 'High', '^SPX', 332.1600036621094),\n",
       " ('1990-02-05', 'Low', '^SPX', 330.45001220703125),\n",
       " ('1990-02-05', 'Close', '^SPX', 331.8500061035156),\n",
       " ('1990-02-05', 'Adj Close', '^SPX', 331.8500061035156),\n",
       " ('1990-02-05', 'Volume', '^SPX', 130950000.0),\n",
       " ('1990-02-06', 'Open', '^IXIC', 425.0),\n",
       " ('1990-02-06', 'High', '^IXIC', 425.20001220703125),\n",
       " ('1990-02-06', 'Low', '^IXIC', 422.20001220703125),\n",
       " ('1990-02-06', 'Close', '^IXIC', 424.0),\n",
       " ('1990-02-06', 'Adj Close', '^IXIC', 424.0),\n",
       " ('1990-02-06', 'Volume', '^IXIC', 119700000.0),\n",
       " ('1990-02-06', 'Open', '^RUT', 156.47000122070312),\n",
       " ('1990-02-06', 'High', '^RUT', 156.89999389648438),\n",
       " ('1990-02-06', 'Low', '^RUT', 156.3300018310547),\n",
       " ('1990-02-06', 'Close', '^RUT', 156.89999389648438),\n",
       " ('1990-02-06', 'Adj Close', '^RUT', 156.89999389648438),\n",
       " ('1990-02-06', 'Volume', '^RUT', 134070000.0),\n",
       " ('1990-02-06', 'Open', '^SPX', 331.8500061035156),\n",
       " ('1990-02-06', 'High', '^SPX', 331.8599853515625),\n",
       " ('1990-02-06', 'Low', '^SPX', 328.20001220703125),\n",
       " ('1990-02-06', 'Close', '^SPX', 329.6600036621094),\n",
       " ('1990-02-06', 'Adj Close', '^SPX', 329.6600036621094),\n",
       " ('1990-02-06', 'Volume', '^SPX', 134070000.0),\n",
       " ('1990-02-07', 'Open', '^IXIC', 422.0),\n",
       " ('1990-02-07', 'High', '^IXIC', 426.8999938964844),\n",
       " ('1990-02-07', 'Low', '^IXIC', 421.79998779296875),\n",
       " ('1990-02-07', 'Close', '^IXIC', 426.79998779296875),\n",
       " ('1990-02-07', 'Adj Close', '^IXIC', 426.79998779296875),\n",
       " ('1990-02-07', 'Volume', '^IXIC', 149300000.0),\n",
       " ('1990-02-07', 'Open', '^RUT', 156.88999938964844),\n",
       " ('1990-02-07', 'High', '^RUT', 158.25),\n",
       " ('1990-02-07', 'Low', '^RUT', 156.3699951171875),\n",
       " ('1990-02-07', 'Close', '^RUT', 158.25),\n",
       " ('1990-02-07', 'Adj Close', '^RUT', 158.25),\n",
       " ('1990-02-07', 'Volume', '^RUT', 186710000.0),\n",
       " ('1990-02-07', 'Open', '^SPX', 329.6600036621094),\n",
       " ('1990-02-07', 'High', '^SPX', 333.760009765625),\n",
       " ('1990-02-07', 'Low', '^SPX', 326.54998779296875),\n",
       " ('1990-02-07', 'Close', '^SPX', 333.75),\n",
       " ('1990-02-07', 'Adj Close', '^SPX', 333.75),\n",
       " ('1990-02-07', 'Volume', '^SPX', 186710000.0),\n",
       " ('1990-02-08', 'Open', '^IXIC', 428.79998779296875),\n",
       " ('1990-02-08', 'High', '^IXIC', 430.20001220703125),\n",
       " ('1990-02-08', 'Low', '^IXIC', 427.1000061035156),\n",
       " ('1990-02-08', 'Close', '^IXIC', 427.29998779296875),\n",
       " ('1990-02-08', 'Adj Close', '^IXIC', 427.29998779296875),\n",
       " ('1990-02-08', 'Volume', '^IXIC', 140030000.0),\n",
       " ('1990-02-08', 'Open', '^RUT', 158.22999572753906),\n",
       " ('1990-02-08', 'High', '^RUT', 159.22000122070312),\n",
       " ('1990-02-08', 'Low', '^RUT', 158.22999572753906),\n",
       " ('1990-02-08', 'Close', '^RUT', 158.58999633789062),\n",
       " ('1990-02-08', 'Adj Close', '^RUT', 158.58999633789062),\n",
       " ('1990-02-08', 'Volume', '^RUT', 176240000.0),\n",
       " ('1990-02-08', 'Open', '^SPX', 333.75),\n",
       " ('1990-02-08', 'High', '^SPX', 336.0899963378906),\n",
       " ('1990-02-08', 'Low', '^SPX', 332.0),\n",
       " ('1990-02-08', 'Close', '^SPX', 332.9599914550781),\n",
       " ('1990-02-08', 'Adj Close', '^SPX', 332.9599914550781),\n",
       " ('1990-02-08', 'Volume', '^SPX', 176240000.0),\n",
       " ('1990-02-09', 'Open', '^IXIC', 428.70001220703125),\n",
       " ('1990-02-09', 'High', '^IXIC', 429.1000061035156),\n",
       " ('1990-02-09', 'Low', '^IXIC', 427.5),\n",
       " ('1990-02-09', 'Close', '^IXIC', 428.79998779296875),\n",
       " ('1990-02-09', 'Adj Close', '^IXIC', 428.79998779296875),\n",
       " ('1990-02-09', 'Volume', '^IXIC', 125330000.0),\n",
       " ('1990-02-09', 'Open', '^RUT', 158.6300048828125),\n",
       " ('1990-02-09', 'High', '^RUT', 159.13999938964844),\n",
       " ('1990-02-09', 'Low', '^RUT', 158.6300048828125),\n",
       " ('1990-02-09', 'Close', '^RUT', 159.1300048828125),\n",
       " ('1990-02-09', 'Adj Close', '^RUT', 159.1300048828125),\n",
       " ('1990-02-09', 'Volume', '^RUT', 146910000.0),\n",
       " ('1990-02-09', 'Open', '^SPX', 333.0199890136719),\n",
       " ('1990-02-09', 'High', '^SPX', 334.6000061035156),\n",
       " ('1990-02-09', 'Low', '^SPX', 332.4100036621094),\n",
       " ('1990-02-09', 'Close', '^SPX', 333.6199951171875),\n",
       " ('1990-02-09', 'Adj Close', '^SPX', 333.6199951171875),\n",
       " ('1990-02-09', 'Volume', '^SPX', 146910000.0),\n",
       " ('1990-02-12', 'Open', '^IXIC', 428.79998779296875),\n",
       " ('1990-02-12', 'High', '^IXIC', 428.79998779296875),\n",
       " ('1990-02-12', 'Low', '^IXIC', 425.79998779296875),\n",
       " ('1990-02-12', 'Close', '^IXIC', 426.3999938964844),\n",
       " ('1990-02-12', 'Adj Close', '^IXIC', 426.3999938964844),\n",
       " ('1990-02-12', 'Volume', '^IXIC', 113030000.0),\n",
       " ('1990-02-12', 'Open', '^RUT', 159.1300048828125),\n",
       " ('1990-02-12', 'High', '^RUT', 159.1999969482422),\n",
       " ('1990-02-12', 'Low', '^RUT', 158.33999633789062),\n",
       " ('1990-02-12', 'Close', '^RUT', 158.5),\n",
       " ('1990-02-12', 'Adj Close', '^RUT', 158.5),\n",
       " ('1990-02-12', 'Volume', '^RUT', 118390000.0),\n",
       " ('1990-02-12', 'Open', '^SPX', 333.6199951171875),\n",
       " ('1990-02-12', 'High', '^SPX', 333.6199951171875),\n",
       " ('1990-02-12', 'Low', '^SPX', 329.9700012207031),\n",
       " ('1990-02-12', 'Close', '^SPX', 330.0799865722656),\n",
       " ('1990-02-12', 'Adj Close', '^SPX', 330.0799865722656),\n",
       " ('1990-02-12', 'Volume', '^SPX', 118390000.0),\n",
       " ('1990-02-13', 'Open', '^IXIC', 425.29998779296875),\n",
       " ('1990-02-13', 'High', '^IXIC', 427.0),\n",
       " ('1990-02-13', 'Low', '^IXIC', 423.8999938964844),\n",
       " ('1990-02-13', 'Close', '^IXIC', 425.79998779296875),\n",
       " ('1990-02-13', 'Adj Close', '^IXIC', 425.79998779296875),\n",
       " ('1990-02-13', 'Volume', '^IXIC', 127230000.0),\n",
       " ('1990-02-13', 'Open', '^RUT', 158.5),\n",
       " ('1990-02-13', 'High', '^RUT', 158.58999633789062),\n",
       " ('1990-02-13', 'Low', '^RUT', 157.9199981689453),\n",
       " ('1990-02-13', 'Close', '^RUT', 158.19000244140625),\n",
       " ('1990-02-13', 'Adj Close', '^RUT', 158.19000244140625),\n",
       " ('1990-02-13', 'Volume', '^RUT', 144490000.0),\n",
       " ('1990-02-13', 'Open', '^SPX', 330.0799865722656),\n",
       " ('1990-02-13', 'High', '^SPX', 331.6099853515625),\n",
       " ('1990-02-13', 'Low', '^SPX', 327.9200134277344),\n",
       " ('1990-02-13', 'Close', '^SPX', 331.0199890136719),\n",
       " ('1990-02-13', 'Adj Close', '^SPX', 331.0199890136719),\n",
       " ('1990-02-13', 'Volume', '^SPX', 144490000.0),\n",
       " ('1990-02-14', 'Open', '^IXIC', 426.79998779296875),\n",
       " ('1990-02-14', 'High', '^IXIC', 427.20001220703125),\n",
       " ('1990-02-14', 'Low', '^IXIC', 425.5),\n",
       " ('1990-02-14', 'Close', '^IXIC', 426.6000061035156),\n",
       " ('1990-02-14', 'Adj Close', '^IXIC', 426.6000061035156),\n",
       " ('1990-02-14', 'Volume', '^IXIC', 139540000.0),\n",
       " ('1990-02-14', 'Open', '^RUT', 158.17999267578125),\n",
       " ('1990-02-14', 'High', '^RUT', 158.57000732421875),\n",
       " ('1990-02-14', 'Low', '^RUT', 157.9600067138672),\n",
       " ('1990-02-14', 'Close', '^RUT', 158.22000122070312),\n",
       " ('1990-02-14', 'Adj Close', '^RUT', 158.22000122070312),\n",
       " ('1990-02-14', 'Volume', '^RUT', 138530000.0),\n",
       " ('1990-02-14', 'Open', '^SPX', 331.0199890136719),\n",
       " ('1990-02-14', 'High', '^SPX', 333.20001220703125),\n",
       " ('1990-02-14', 'Low', '^SPX', 330.6400146484375),\n",
       " ('1990-02-14', 'Close', '^SPX', 332.010009765625),\n",
       " ('1990-02-14', 'Adj Close', '^SPX', 332.010009765625),\n",
       " ('1990-02-14', 'Volume', '^SPX', 138530000.0),\n",
       " ('1990-02-15', 'Open', '^IXIC', 426.29998779296875),\n",
       " ('1990-02-15', 'High', '^IXIC', 429.70001220703125),\n",
       " ('1990-02-15', 'Low', '^IXIC', 425.8999938964844),\n",
       " ('1990-02-15', 'Close', '^IXIC', 429.6000061035156),\n",
       " ('1990-02-15', 'Adj Close', '^IXIC', 429.6000061035156),\n",
       " ('1990-02-15', 'Volume', '^IXIC', 152380000.0),\n",
       " ('1990-02-15', 'Open', '^RUT', 158.22999572753906),\n",
       " ('1990-02-15', 'High', '^RUT', 159.1999969482422),\n",
       " ('1990-02-15', 'Low', '^RUT', 158.22999572753906),\n",
       " ('1990-02-15', 'Close', '^RUT', 159.1999969482422),\n",
       " ('1990-02-15', 'Adj Close', '^RUT', 159.1999969482422),\n",
       " ('1990-02-15', 'Volume', '^RUT', 174620000.0),\n",
       " ('1990-02-15', 'Open', '^SPX', 332.010009765625),\n",
       " ('1990-02-15', 'High', '^SPX', 335.2099914550781),\n",
       " ('1990-02-15', 'Low', '^SPX', 331.6099853515625),\n",
       " ('1990-02-15', 'Close', '^SPX', 334.8900146484375),\n",
       " ('1990-02-15', 'Adj Close', '^SPX', 334.8900146484375),\n",
       " ('1990-02-15', 'Volume', '^SPX', 174620000.0),\n",
       " ('1990-02-16', 'Open', '^IXIC', 430.0),\n",
       " ('1990-02-16', 'High', '^IXIC', 430.8999938964844),\n",
       " ('1990-02-16', 'Low', '^IXIC', 428.8999938964844),\n",
       " ('1990-02-16', 'Close', '^IXIC', 429.0),\n",
       " ('1990-02-16', 'Adj Close', '^IXIC', 429.0),\n",
       " ('1990-02-16', 'Volume', '^IXIC', 120220000.0),\n",
       " ('1990-02-16', 'Open', '^RUT', 159.1999969482422),\n",
       " ('1990-02-16', 'High', '^RUT', 160.35000610351562),\n",
       " ('1990-02-16', 'Low', '^RUT', 159.1999969482422),\n",
       " ('1990-02-16', 'Close', '^RUT', 159.3000030517578),\n",
       " ('1990-02-16', 'Adj Close', '^RUT', 159.3000030517578),\n",
       " ('1990-02-16', 'Volume', '^RUT', 166840000.0),\n",
       " ('1990-02-16', 'Open', '^SPX', 334.8900146484375),\n",
       " ('1990-02-16', 'High', '^SPX', 335.6400146484375),\n",
       " ('1990-02-16', 'Low', '^SPX', 332.4200134277344),\n",
       " ('1990-02-16', 'Close', '^SPX', 332.7200012207031),\n",
       " ('1990-02-16', 'Adj Close', '^SPX', 332.7200012207031),\n",
       " ('1990-02-16', 'Volume', '^SPX', 166840000.0),\n",
       " ('1990-02-20', 'Open', '^IXIC', 425.3999938964844),\n",
       " ('1990-02-20', 'High', '^IXIC', 427.8999938964844),\n",
       " ('1990-02-20', 'Low', '^IXIC', 421.79998779296875),\n",
       " ('1990-02-20', 'Close', '^IXIC', 423.79998779296875),\n",
       " ('1990-02-20', 'Adj Close', '^IXIC', 423.79998779296875),\n",
       " ('1990-02-20', 'Volume', '^IXIC', 108280000.0),\n",
       " ('1990-02-20', 'Open', '^RUT', 159.30999755859375),\n",
       " ('1990-02-20', 'High', '^RUT', 159.30999755859375),\n",
       " ('1990-02-20', 'Low', '^RUT', 157.3800048828125),\n",
       " ('1990-02-20', 'Close', '^RUT', 157.86000061035156),\n",
       " ('1990-02-20', 'Adj Close', '^RUT', 157.86000061035156),\n",
       " ('1990-02-20', 'Volume', '^RUT', 147300000.0),\n",
       " ('1990-02-20', 'Open', '^SPX', 332.7200012207031),\n",
       " ('1990-02-20', 'High', '^SPX', 332.7200012207031),\n",
       " ('1990-02-20', 'Low', '^SPX', 326.260009765625),\n",
       " ('1990-02-20', 'Close', '^SPX', 327.989990234375),\n",
       " ('1990-02-20', 'Adj Close', '^SPX', 327.989990234375),\n",
       " ('1990-02-20', 'Volume', '^SPX', 147300000.0),\n",
       " ('1990-02-21', 'Open', '^IXIC', 418.8999938964844),\n",
       " ('1990-02-21', 'High', '^IXIC', 421.8999938964844),\n",
       " ('1990-02-21', 'Low', '^IXIC', 418.3999938964844),\n",
       " ('1990-02-21', 'Close', '^IXIC', 421.5),\n",
       " ('1990-02-21', 'Adj Close', '^IXIC', 421.5),\n",
       " ('1990-02-21', 'Volume', '^IXIC', 120100000.0),\n",
       " ('1990-02-21', 'Open', '^RUT', 157.85000610351562),\n",
       " ('1990-02-21', 'High', '^RUT', 157.85000610351562),\n",
       " ('1990-02-21', 'Low', '^RUT', 156.14999389648438),\n",
       " ('1990-02-21', 'Close', '^RUT', 157.0500030517578),\n",
       " ('1990-02-21', 'Adj Close', '^RUT', 157.0500030517578),\n",
       " ('1990-02-21', 'Volume', '^RUT', 159240000.0),\n",
       " ('1990-02-21', 'Open', '^SPX', 327.9100036621094),\n",
       " ('1990-02-21', 'High', '^SPX', 328.1700134277344),\n",
       " ('1990-02-21', 'Low', '^SPX', 324.4700012207031),\n",
       " ('1990-02-21', 'Close', '^SPX', 327.6700134277344),\n",
       " ('1990-02-21', 'Adj Close', '^SPX', 327.6700134277344),\n",
       " ('1990-02-21', 'Volume', '^SPX', 159240000.0),\n",
       " ('1990-02-22', 'Open', '^IXIC', 422.6000061035156),\n",
       " ('1990-02-22', 'High', '^IXIC', 425.1000061035156),\n",
       " ('1990-02-22', 'Low', '^IXIC', 422.20001220703125),\n",
       " ('1990-02-22', 'Close', '^IXIC', 422.79998779296875),\n",
       " ('1990-02-22', 'Adj Close', '^IXIC', 422.79998779296875),\n",
       " ('1990-02-22', 'Volume', '^IXIC', 134870000.0),\n",
       " ('1990-02-22', 'Open', '^RUT', 157.0500030517578),\n",
       " ('1990-02-22', 'High', '^RUT', 158.27000427246094),\n",
       " ('1990-02-22', 'Low', '^RUT', 157.0500030517578),\n",
       " ('1990-02-22', 'Close', '^RUT', 157.8000030517578),\n",
       " ('1990-02-22', 'Adj Close', '^RUT', 157.8000030517578),\n",
       " ('1990-02-22', 'Volume', '^RUT', 184320000.0),\n",
       " ('1990-02-22', 'Open', '^SPX', 327.6700134277344),\n",
       " ('1990-02-22', 'High', '^SPX', 330.9800109863281),\n",
       " ('1990-02-22', 'Low', '^SPX', 325.70001220703125),\n",
       " ('1990-02-22', 'Close', '^SPX', 325.70001220703125),\n",
       " ('1990-02-22', 'Adj Close', '^SPX', 325.70001220703125),\n",
       " ('1990-02-22', 'Volume', '^SPX', 184320000.0),\n",
       " ('1990-02-23', 'Open', '^IXIC', 421.1000061035156),\n",
       " ('1990-02-23', 'High', '^IXIC', 421.5),\n",
       " ('1990-02-23', 'Low', '^IXIC', 418.1000061035156),\n",
       " ('1990-02-23', 'Close', '^IXIC', 419.5),\n",
       " ('1990-02-23', 'Adj Close', '^IXIC', 419.5),\n",
       " ('1990-02-23', 'Volume', '^IXIC', 117220000.0),\n",
       " ('1990-02-23', 'Open', '^RUT', 157.7899932861328),\n",
       " ('1990-02-23', 'High', '^RUT', 157.7899932861328),\n",
       " ('1990-02-23', 'Low', '^RUT', 156.1999969482422),\n",
       " ('1990-02-23', 'Close', '^RUT', 156.63999938964844),\n",
       " ('1990-02-23', 'Adj Close', '^RUT', 156.63999938964844),\n",
       " ('1990-02-23', 'Volume', '^RUT', 148490000.0),\n",
       " ('1990-02-23', 'Open', '^SPX', 325.70001220703125),\n",
       " ('1990-02-23', 'High', '^SPX', 326.1499938964844),\n",
       " ('1990-02-23', 'Low', '^SPX', 322.1000061035156),\n",
       " ('1990-02-23', 'Close', '^SPX', 324.1499938964844),\n",
       " ('1990-02-23', 'Adj Close', '^SPX', 324.1499938964844),\n",
       " ('1990-02-23', 'Volume', '^SPX', 148490000.0),\n",
       " ('1990-02-26', 'Open', '^IXIC', 419.5),\n",
       " ('1990-02-26', 'High', '^IXIC', 421.0),\n",
       " ('1990-02-26', 'Low', '^IXIC', 418.70001220703125),\n",
       " ('1990-02-26', 'Close', '^IXIC', 421.0),\n",
       " ('1990-02-26', 'Adj Close', '^IXIC', 421.0),\n",
       " ('1990-02-26', 'Volume', '^IXIC', 114600000.0),\n",
       " ('1990-02-26', 'Open', '^RUT', 156.63999938964844),\n",
       " ('1990-02-26', 'High', '^RUT', 156.63999938964844),\n",
       " ('1990-02-26', 'Low', '^RUT', 155.97000122070312),\n",
       " ('1990-02-26', 'Close', '^RUT', 156.35000610351562),\n",
       " ('1990-02-26', 'Adj Close', '^RUT', 156.35000610351562),\n",
       " ('1990-02-26', 'Volume', '^RUT', 148900000.0),\n",
       " ('1990-02-26', 'Open', '^SPX', 324.1600036621094),\n",
       " ('1990-02-26', 'High', '^SPX', 328.6700134277344),\n",
       " ('1990-02-26', 'Low', '^SPX', 323.9800109863281),\n",
       " ('1990-02-26', 'Close', '^SPX', 328.6700134277344),\n",
       " ('1990-02-26', 'Adj Close', '^SPX', 328.6700134277344),\n",
       " ('1990-02-26', 'Volume', '^SPX', 148900000.0),\n",
       " ('1990-02-27', 'Open', '^IXIC', 422.1000061035156),\n",
       " ('1990-02-27', 'High', '^IXIC', 423.5),\n",
       " ('1990-02-27', 'Low', '^IXIC', 421.3999938964844),\n",
       " ('1990-02-27', 'Close', '^IXIC', 422.6000061035156),\n",
       " ('1990-02-27', 'Adj Close', '^IXIC', 422.6000061035156),\n",
       " ('1990-02-27', 'Volume', '^IXIC', 130850000.0),\n",
       " ('1990-02-27', 'Open', '^RUT', 156.35000610351562),\n",
       " ('1990-02-27', 'High', '^RUT', 156.97999572753906),\n",
       " ('1990-02-27', 'Low', '^RUT', 156.35000610351562),\n",
       " ('1990-02-27', 'Close', '^RUT', 156.83999633789062),\n",
       " ('1990-02-27', 'Adj Close', '^RUT', 156.83999633789062),\n",
       " ('1990-02-27', 'Volume', '^RUT', 152590000.0),\n",
       " ('1990-02-27', 'Open', '^SPX', 328.67999267578125),\n",
       " ('1990-02-27', 'High', '^SPX', 331.94000244140625),\n",
       " ('1990-02-27', 'Low', '^SPX', 328.4700012207031),\n",
       " ('1990-02-27', 'Close', '^SPX', 330.260009765625),\n",
       " ('1990-02-27', 'Adj Close', '^SPX', 330.260009765625),\n",
       " ('1990-02-27', 'Volume', '^SPX', 152590000.0),\n",
       " ('1990-02-28', 'Open', '^IXIC', 423.29998779296875),\n",
       " ('1990-02-28', 'High', '^IXIC', 425.79998779296875),\n",
       " ('1990-02-28', 'Low', '^IXIC', 422.6000061035156),\n",
       " ('1990-02-28', 'Close', '^IXIC', 425.79998779296875),\n",
       " ('1990-02-28', 'Adj Close', '^IXIC', 425.79998779296875),\n",
       " ('1990-02-28', 'Volume', '^IXIC', 129400000.0),\n",
       " ('1990-02-28', 'Open', '^RUT', 156.83999633789062),\n",
       " ('1990-02-28', 'High', '^RUT', 157.8800048828125),\n",
       " ('1990-02-28', 'Low', '^RUT', 156.8300018310547),\n",
       " ('1990-02-28', 'Close', '^RUT', 157.72000122070312),\n",
       " ('1990-02-28', 'Adj Close', '^RUT', 157.72000122070312),\n",
       " ('1990-02-28', 'Volume', '^RUT', 184400000.0),\n",
       " ('1990-02-28', 'Open', '^SPX', 330.260009765625),\n",
       " ('1990-02-28', 'High', '^SPX', 333.4800109863281),\n",
       " ('1990-02-28', 'Low', '^SPX', 330.1600036621094),\n",
       " ('1990-02-28', 'Close', '^SPX', 331.8900146484375),\n",
       " ('1990-02-28', 'Adj Close', '^SPX', 331.8900146484375),\n",
       " ('1990-02-28', 'Volume', '^SPX', 184400000.0),\n",
       " ('1990-03-01', 'Open', '^IXIC', 425.29998779296875),\n",
       " ('1990-03-01', 'High', '^IXIC', 427.70001220703125),\n",
       " ('1990-03-01', 'Low', '^IXIC', 424.5),\n",
       " ('1990-03-01', 'Close', '^IXIC', 427.20001220703125),\n",
       " ('1990-03-01', 'Adj Close', '^IXIC', 427.20001220703125),\n",
       " ('1990-03-01', 'Volume', '^IXIC', 134240000.0),\n",
       " ('1990-03-01', 'Open', '^RUT', 157.7100067138672),\n",
       " ('1990-03-01', 'High', '^RUT', 158.05999755859375),\n",
       " ('1990-03-01', 'Low', '^RUT', 157.38999938964844),\n",
       " ('1990-03-01', 'Close', '^RUT', 158.0399932861328),\n",
       " ('1990-03-01', 'Adj Close', '^RUT', 158.0399932861328),\n",
       " ('1990-03-01', 'Volume', '^RUT', 157930000.0),\n",
       " ('1990-03-01', 'Open', '^SPX', 331.8900146484375),\n",
       " ('1990-03-01', 'High', '^SPX', 334.3999938964844),\n",
       " ('1990-03-01', 'Low', '^SPX', 331.0799865722656),\n",
       " ('1990-03-01', 'Close', '^SPX', 332.739990234375),\n",
       " ('1990-03-01', 'Adj Close', '^SPX', 332.739990234375),\n",
       " ('1990-03-01', 'Volume', '^SPX', 157930000.0),\n",
       " ('1990-03-02', 'Open', '^IXIC', 428.20001220703125),\n",
       " ('1990-03-02', 'High', '^IXIC', 431.0),\n",
       " ('1990-03-02', 'Low', '^IXIC', 427.6000061035156),\n",
       " ('1990-03-02', 'Close', '^IXIC', 431.0),\n",
       " ('1990-03-02', 'Adj Close', '^IXIC', 431.0),\n",
       " ('1990-03-02', 'Volume', '^IXIC', 132370000.0),\n",
       " ('1990-03-02', 'Open', '^RUT', 158.0399932861328),\n",
       " ('1990-03-02', 'High', '^RUT', 159.19000244140625),\n",
       " ('1990-03-02', 'Low', '^RUT', 158.0399932861328),\n",
       " ('1990-03-02', 'Close', '^RUT', 159.19000244140625),\n",
       " ('1990-03-02', 'Adj Close', '^RUT', 159.19000244140625),\n",
       " ('1990-03-02', 'Volume', '^RUT', 164330000.0),\n",
       " ('1990-03-02', 'Open', '^SPX', 332.739990234375),\n",
       " ('1990-03-02', 'High', '^SPX', 335.5400085449219),\n",
       " ('1990-03-02', 'Low', '^SPX', 332.7200012207031),\n",
       " ('1990-03-02', 'Close', '^SPX', 335.5400085449219),\n",
       " ('1990-03-02', 'Adj Close', '^SPX', 335.5400085449219),\n",
       " ('1990-03-02', 'Volume', '^SPX', 164330000.0),\n",
       " ('1990-03-05', 'Open', '^IXIC', 430.79998779296875),\n",
       " ('1990-03-05', 'High', '^IXIC', 431.20001220703125),\n",
       " ('1990-03-05', 'Low', '^IXIC', 429.3999938964844),\n",
       " ('1990-03-05', 'Close', '^IXIC', 430.20001220703125),\n",
       " ('1990-03-05', 'Adj Close', '^IXIC', 430.20001220703125),\n",
       " ('1990-03-05', 'Volume', '^IXIC', 111000000.0),\n",
       " ('1990-03-05', 'Open', '^RUT', 159.19000244140625),\n",
       " ('1990-03-05', 'High', '^RUT', 159.47000122070312),\n",
       " ('1990-03-05', 'Low', '^RUT', 159.05999755859375),\n",
       " ('1990-03-05', 'Close', '^RUT', 159.2899932861328),\n",
       " ('1990-03-05', 'Adj Close', '^RUT', 159.2899932861328),\n",
       " ('1990-03-05', 'Volume', '^RUT', 140110000.0),\n",
       " ('1990-03-05', 'Open', '^SPX', 335.5400085449219),\n",
       " ('1990-03-05', 'High', '^SPX', 336.3800048828125),\n",
       " ('1990-03-05', 'Low', '^SPX', 333.489990234375),\n",
       " ('1990-03-05', 'Close', '^SPX', 333.739990234375),\n",
       " ('1990-03-05', 'Adj Close', '^SPX', 333.739990234375),\n",
       " ('1990-03-05', 'Volume', '^SPX', 140110000.0),\n",
       " ('1990-03-06', 'Open', '^IXIC', 429.29998779296875),\n",
       " ('1990-03-06', 'High', '^IXIC', 432.6000061035156),\n",
       " ('1990-03-06', 'Low', '^IXIC', 428.6000061035156),\n",
       " ('1990-03-06', 'Close', '^IXIC', 432.29998779296875),\n",
       " ('1990-03-06', 'Adj Close', '^IXIC', 432.29998779296875),\n",
       " ('1990-03-06', 'Volume', '^IXIC', 139150000.0),\n",
       " ('1990-03-06', 'Open', '^RUT', 159.3000030517578),\n",
       " ('1990-03-06', 'High', '^RUT', 160.39999389648438),\n",
       " ('1990-03-06', 'Low', '^RUT', 159.2899932861328),\n",
       " ('1990-03-06', 'Close', '^RUT', 160.39999389648438),\n",
       " ('1990-03-06', 'Adj Close', '^RUT', 160.39999389648438),\n",
       " ('1990-03-06', 'Volume', '^RUT', 143640000.0),\n",
       " ('1990-03-06', 'Open', '^SPX', 333.739990234375),\n",
       " ('1990-03-06', 'High', '^SPX', 337.92999267578125),\n",
       " ('1990-03-06', 'Low', '^SPX', 333.57000732421875),\n",
       " ('1990-03-06', 'Close', '^SPX', 337.92999267578125),\n",
       " ('1990-03-06', 'Adj Close', '^SPX', 337.92999267578125),\n",
       " ('1990-03-06', 'Volume', '^SPX', 143640000.0),\n",
       " ('1990-03-07', 'Open', '^IXIC', 433.1000061035156),\n",
       " ('1990-03-07', 'High', '^IXIC', 433.5),\n",
       " ('1990-03-07', 'Low', '^IXIC', 432.1000061035156),\n",
       " ('1990-03-07', 'Close', '^IXIC', 432.5),\n",
       " ('1990-03-07', 'Adj Close', '^IXIC', 432.5),\n",
       " ('1990-03-07', 'Volume', '^IXIC', 167550000.0),\n",
       " ('1990-03-07', 'Open', '^RUT', 160.3800048828125),\n",
       " ('1990-03-07', 'High', '^RUT', 160.9199981689453),\n",
       " ('1990-03-07', 'Low', '^RUT', 160.3800048828125),\n",
       " ('1990-03-07', 'Close', '^RUT', 160.89999389648438),\n",
       " ('1990-03-07', 'Adj Close', '^RUT', 160.89999389648438),\n",
       " ('1990-03-07', 'Volume', '^RUT', 163580000.0),\n",
       " ('1990-03-07', 'Open', '^SPX', 337.92999267578125),\n",
       " ('1990-03-07', 'High', '^SPX', 338.8399963378906),\n",
       " ('1990-03-07', 'Low', '^SPX', 336.3299865722656),\n",
       " ('1990-03-07', 'Close', '^SPX', 336.95001220703125),\n",
       " ('1990-03-07', 'Adj Close', '^SPX', 336.95001220703125),\n",
       " ('1990-03-07', 'Volume', '^SPX', 163580000.0),\n",
       " ('1990-03-08', 'Open', '^IXIC', 433.6000061035156),\n",
       " ('1990-03-08', 'High', '^IXIC', 436.6000061035156),\n",
       " ('1990-03-08', 'Low', '^IXIC', 432.6000061035156),\n",
       " ('1990-03-08', 'Close', '^IXIC', 436.5),\n",
       " ('1990-03-08', 'Adj Close', '^IXIC', 436.5),\n",
       " ('1990-03-08', 'Volume', '^IXIC', 145730000.0),\n",
       " ('1990-03-08', 'Open', '^RUT', 160.88999938964844),\n",
       " ('1990-03-08', 'High', '^RUT', 162.07000732421875),\n",
       " ('1990-03-08', 'Low', '^RUT', 160.88999938964844),\n",
       " ('1990-03-08', 'Close', '^RUT', 162.07000732421875),\n",
       " ('1990-03-08', 'Adj Close', '^RUT', 162.07000732421875),\n",
       " ('1990-03-08', 'Volume', '^RUT', 170900000.0),\n",
       " ('1990-03-08', 'Open', '^SPX', 336.95001220703125),\n",
       " ('1990-03-08', 'High', '^SPX', 340.6600036621094),\n",
       " ('1990-03-08', 'Low', '^SPX', 336.95001220703125),\n",
       " ('1990-03-08', 'Close', '^SPX', 340.2699890136719),\n",
       " ('1990-03-08', 'Adj Close', '^SPX', 340.2699890136719),\n",
       " ('1990-03-08', 'Volume', '^SPX', 170900000.0),\n",
       " ('1990-03-09', 'Open', '^IXIC', 437.0),\n",
       " ('1990-03-09', 'High', '^IXIC', 437.1000061035156),\n",
       " ('1990-03-09', 'Low', '^IXIC', 435.3999938964844),\n",
       " ('1990-03-09', 'Close', '^IXIC', 436.79998779296875),\n",
       " ('1990-03-09', 'Adj Close', '^IXIC', 436.79998779296875),\n",
       " ('1990-03-09', 'Volume', '^IXIC', 135120000.0),\n",
       " ('1990-03-09', 'Open', '^RUT', 162.0800018310547),\n",
       " ('1990-03-09', 'High', '^RUT', 162.1999969482422),\n",
       " ('1990-03-09', 'Low', '^RUT', 161.72000122070312),\n",
       " ('1990-03-09', 'Close', '^RUT', 162.0800018310547),\n",
       " ('1990-03-09', 'Adj Close', '^RUT', 162.0800018310547),\n",
       " ('1990-03-09', 'Volume', '^RUT', 150410000.0),\n",
       " ('1990-03-09', 'Open', '^SPX', 340.1199951171875),\n",
       " ('1990-03-09', 'High', '^SPX', 340.2699890136719),\n",
       " ('1990-03-09', 'Low', '^SPX', 336.8399963378906),\n",
       " ('1990-03-09', 'Close', '^SPX', 337.92999267578125),\n",
       " ('1990-03-09', 'Adj Close', '^SPX', 337.92999267578125),\n",
       " ('1990-03-09', 'Volume', '^SPX', 150410000.0),\n",
       " ('1990-03-12', 'Open', '^IXIC', 435.29998779296875),\n",
       " ('1990-03-12', 'High', '^IXIC', 436.6000061035156),\n",
       " ('1990-03-12', 'Low', '^IXIC', 435.0),\n",
       " ('1990-03-12', 'Close', '^IXIC', 436.6000061035156),\n",
       " ('1990-03-12', 'Adj Close', '^IXIC', 436.6000061035156),\n",
       " ('1990-03-12', 'Volume', '^IXIC', 103840000.0),\n",
       " ('1990-03-12', 'Open', '^RUT', 162.07000732421875),\n",
       " ('1990-03-12', 'High', '^RUT', 162.22999572753906),\n",
       " ('1990-03-12', 'Low', '^RUT', 161.72999572753906),\n",
       " ('1990-03-12', 'Close', '^RUT', 162.22999572753906),\n",
       " ('1990-03-12', 'Adj Close', '^RUT', 162.22999572753906),\n",
       " ('1990-03-12', 'Volume', '^RUT', 114790000.0),\n",
       " ('1990-03-12', 'Open', '^SPX', 337.92999267578125),\n",
       " ('1990-03-12', 'High', '^SPX', 339.0799865722656),\n",
       " ('1990-03-12', 'Low', '^SPX', 336.1400146484375),\n",
       " ('1990-03-12', 'Close', '^SPX', 338.6700134277344),\n",
       " ('1990-03-12', 'Adj Close', '^SPX', 338.6700134277344),\n",
       " ('1990-03-12', 'Volume', '^SPX', 114790000.0),\n",
       " ('1990-03-13', 'Open', '^IXIC', 436.1000061035156),\n",
       " ('1990-03-13', 'High', '^IXIC', 437.0),\n",
       " ('1990-03-13', 'Low', '^IXIC', 434.6000061035156),\n",
       " ('1990-03-13', 'Close', '^IXIC', 434.6000061035156),\n",
       " ('1990-03-13', 'Adj Close', '^IXIC', 434.6000061035156),\n",
       " ('1990-03-13', 'Volume', '^IXIC', 123620000.0),\n",
       " ('1990-03-13', 'Open', '^RUT', 162.22999572753906),\n",
       " ('1990-03-13', 'High', '^RUT', 162.6300048828125),\n",
       " ('1990-03-13', 'Low', '^RUT', 161.9600067138672),\n",
       " ('1990-03-13', 'Close', '^RUT', 162.05999755859375),\n",
       " ('1990-03-13', 'Adj Close', '^RUT', 162.05999755859375),\n",
       " ('1990-03-13', 'Volume', '^RUT', 145440000.0),\n",
       " ('1990-03-13', 'Open', '^SPX', 338.6700134277344),\n",
       " ('1990-03-13', 'High', '^SPX', 338.6700134277344),\n",
       " ('1990-03-13', 'Low', '^SPX', 335.3599853515625),\n",
       " ('1990-03-13', 'Close', '^SPX', 336.0),\n",
       " ('1990-03-13', 'Adj Close', '^SPX', 336.0),\n",
       " ('1990-03-13', 'Volume', '^SPX', 145440000.0),\n",
       " ('1990-03-14', 'Open', '^IXIC', 435.70001220703125),\n",
       " ('1990-03-14', 'High', '^IXIC', 436.3999938964844),\n",
       " ('1990-03-14', 'Low', '^IXIC', 434.5),\n",
       " ('1990-03-14', 'Close', '^IXIC', 436.20001220703125),\n",
       " ('1990-03-14', 'Adj Close', '^IXIC', 436.20001220703125),\n",
       " ('1990-03-14', 'Volume', '^IXIC', 122180000.0),\n",
       " ('1990-03-14', 'Open', '^RUT', 162.05999755859375),\n",
       " ('1990-03-14', 'High', '^RUT', 162.7899932861328),\n",
       " ('1990-03-14', 'Low', '^RUT', 162.05999755859375),\n",
       " ('1990-03-14', 'Close', '^RUT', 162.77999877929688),\n",
       " ('1990-03-14', 'Adj Close', '^RUT', 162.77999877929688),\n",
       " ('1990-03-14', 'Volume', '^RUT', 145060000.0),\n",
       " ('1990-03-14', 'Open', '^SPX', 336.0),\n",
       " ('1990-03-14', 'High', '^SPX', 337.6300048828125),\n",
       " ('1990-03-14', 'Low', '^SPX', 334.92999267578125),\n",
       " ('1990-03-14', 'Close', '^SPX', 336.8699951171875),\n",
       " ('1990-03-14', 'Adj Close', '^SPX', 336.8699951171875),\n",
       " ('1990-03-14', 'Volume', '^SPX', 145060000.0),\n",
       " ('1990-03-15', 'Open', '^IXIC', 436.70001220703125),\n",
       " ('1990-03-15', 'High', '^IXIC', 438.3999938964844),\n",
       " ('1990-03-15', 'Low', '^IXIC', 436.29998779296875),\n",
       " ('1990-03-15', 'Close', '^IXIC', 438.1000061035156),\n",
       " ('1990-03-15', 'Adj Close', '^IXIC', 438.1000061035156),\n",
       " ('1990-03-15', 'Volume', '^IXIC', 128680000.0),\n",
       " ('1990-03-15', 'Open', '^RUT', 162.7899932861328),\n",
       " ('1990-03-15', 'High', '^RUT', 163.32000732421875),\n",
       " ('1990-03-15', 'Low', '^RUT', 162.7899932861328),\n",
       " ('1990-03-15', 'Close', '^RUT', 163.25999450683594),\n",
       " ('1990-03-15', 'Adj Close', '^RUT', 163.25999450683594),\n",
       " ('1990-03-15', 'Volume', '^RUT', 144410000.0),\n",
       " ('1990-03-15', 'Open', '^SPX', 336.8699951171875),\n",
       " ('1990-03-15', 'High', '^SPX', 338.9100036621094),\n",
       " ('1990-03-15', 'Low', '^SPX', 336.8699951171875),\n",
       " ('1990-03-15', 'Close', '^SPX', 338.07000732421875),\n",
       " ('1990-03-15', 'Adj Close', '^SPX', 338.07000732421875),\n",
       " ('1990-03-15', 'Volume', '^SPX', 144410000.0),\n",
       " ('1990-03-16', 'Open', '^IXIC', 440.3999938964844),\n",
       " ('1990-03-16', 'High', '^IXIC', 443.1000061035156),\n",
       " ('1990-03-16', 'Low', '^IXIC', 439.6000061035156),\n",
       " ('1990-03-16', 'Close', '^IXIC', 442.20001220703125),\n",
       " ('1990-03-16', 'Adj Close', '^IXIC', 442.20001220703125),\n",
       " ('1990-03-16', 'Volume', '^IXIC', 176040000.0),\n",
       " ('1990-03-16', 'Open', '^RUT', 163.25999450683594),\n",
       " ('1990-03-16', 'High', '^RUT', 164.2899932861328),\n",
       " ('1990-03-16', 'Low', '^RUT', 163.24000549316406),\n",
       " ('1990-03-16', 'Close', '^RUT', 164.2100067138672),\n",
       " ('1990-03-16', 'Adj Close', '^RUT', 164.2100067138672),\n",
       " ('1990-03-16', 'Volume', '^RUT', 222520000.0),\n",
       " ('1990-03-16', 'Open', '^SPX', 338.07000732421875),\n",
       " ('1990-03-16', 'High', '^SPX', 341.9100036621094),\n",
       " ('1990-03-16', 'Low', '^SPX', 338.07000732421875),\n",
       " ('1990-03-16', 'Close', '^SPX', 341.9100036621094),\n",
       " ('1990-03-16', 'Adj Close', '^SPX', 341.9100036621094),\n",
       " ('1990-03-16', 'Volume', '^SPX', 222520000.0),\n",
       " ('1990-03-19', 'Open', '^IXIC', 440.3999938964844),\n",
       " ('1990-03-19', 'High', '^IXIC', 442.8999938964844),\n",
       " ('1990-03-19', 'Low', '^IXIC', 439.0),\n",
       " ('1990-03-19', 'Close', '^IXIC', 442.8999938964844),\n",
       " ('1990-03-19', 'Adj Close', '^IXIC', 442.8999938964844),\n",
       " ('1990-03-19', 'Volume', '^IXIC', 129400000.0),\n",
       " ('1990-03-19', 'Open', '^RUT', 164.2100067138672),\n",
       " ('1990-03-19', 'High', '^RUT', 164.3800048828125),\n",
       " ('1990-03-19', 'Low', '^RUT', 163.4199981689453),\n",
       " ('1990-03-19', 'Close', '^RUT', 164.3800048828125),\n",
       " ('1990-03-19', 'Adj Close', '^RUT', 164.3800048828125),\n",
       " ('1990-03-19', 'Volume', '^RUT', 142300000.0),\n",
       " ('1990-03-19', 'Open', '^SPX', 341.9100036621094),\n",
       " ('1990-03-19', 'High', '^SPX', 343.760009765625),\n",
       " ('1990-03-19', 'Low', '^SPX', 339.1199951171875),\n",
       " ('1990-03-19', 'Close', '^SPX', 343.5299987792969),\n",
       " ('1990-03-19', 'Adj Close', '^SPX', 343.5299987792969),\n",
       " ('1990-03-19', 'Volume', '^SPX', 142300000.0),\n",
       " ('1990-03-20', 'Open', '^IXIC', 443.20001220703125),\n",
       " ('1990-03-20', 'High', '^IXIC', 443.29998779296875),\n",
       " ('1990-03-20', 'Low', '^IXIC', 439.70001220703125),\n",
       " ('1990-03-20', 'Close', '^IXIC', 440.1000061035156),\n",
       " ('1990-03-20', 'Adj Close', '^IXIC', 440.1000061035156),\n",
       " ('1990-03-20', 'Volume', '^IXIC', 142220000.0),\n",
       " ('1990-03-20', 'Open', '^RUT', 164.50999450683594),\n",
       " ('1990-03-20', 'High', '^RUT', 164.83999633789062),\n",
       " ('1990-03-20', 'Low', '^RUT', 164.08999633789062),\n",
       " ('1990-03-20', 'Close', '^RUT', 164.24000549316406),\n",
       " ('1990-03-20', 'Adj Close', '^RUT', 164.24000549316406),\n",
       " ('1990-03-20', 'Volume', '^RUT', 177320000.0),\n",
       " ('1990-03-20', 'Open', '^SPX', 343.5299987792969),\n",
       " ('1990-03-20', 'High', '^SPX', 344.489990234375),\n",
       " ('1990-03-20', 'Low', '^SPX', 340.8699951171875),\n",
       " ('1990-03-20', 'Close', '^SPX', 341.57000732421875),\n",
       " ('1990-03-20', 'Adj Close', '^SPX', 341.57000732421875),\n",
       " ('1990-03-20', 'Volume', '^SPX', 177320000.0),\n",
       " ('1990-03-21', 'Open', '^IXIC', 439.6000061035156),\n",
       " ('1990-03-21', 'High', '^IXIC', 440.8999938964844),\n",
       " ('1990-03-21', 'Low', '^IXIC', 439.20001220703125),\n",
       " ('1990-03-21', 'Close', '^IXIC', 439.29998779296875),\n",
       " ('1990-03-21', 'Adj Close', '^IXIC', 439.29998779296875),\n",
       " ('1990-03-21', 'Volume', '^IXIC', 131080000.0),\n",
       " ('1990-03-21', 'Open', '^RUT', 164.25999450683594),\n",
       " ('1990-03-21', 'High', '^RUT', 164.35000610351562),\n",
       " ('1990-03-21', 'Low', '^RUT', 164.0500030517578),\n",
       " ('1990-03-21', 'Close', '^RUT', 164.24000549316406),\n",
       " ...]"
      ]
     },
     "execution_count": 25,
     "metadata": {},
     "output_type": "execute_result"
    }
   ],
   "execution_count": 25
  },
  {
   "metadata": {
    "ExecuteTime": {
     "end_time": "2025-02-15T11:29:56.053262Z",
     "start_time": "2025-02-15T11:29:55.785220Z"
    }
   },
   "cell_type": "code",
   "source": [
    "cursor.executemany(\n",
    "    \"insert or ignore into stock_prices (date, field, ticker, value) values (?, ?, ?, ?)\", \n",
    "    records\n",
    ")"
   ],
   "id": "99da2be33d91d66b",
   "outputs": [
    {
     "data": {
      "text/plain": [
       "<sqlite3.Cursor at 0x127a41240>"
      ]
     },
     "execution_count": 26,
     "metadata": {},
     "output_type": "execute_result"
    }
   ],
   "execution_count": 26
  },
  {
   "metadata": {
    "ExecuteTime": {
     "end_time": "2025-02-15T11:30:23.282561Z",
     "start_time": "2025-02-15T11:30:23.277238Z"
    }
   },
   "cell_type": "code",
   "source": "conn.commit() # commit 실행",
   "id": "5a7b1f02900294df",
   "outputs": [],
   "execution_count": 27
  },
  {
   "metadata": {
    "ExecuteTime": {
     "end_time": "2025-02-15T11:31:26.664503Z",
     "start_time": "2025-02-15T11:31:26.662241Z"
    }
   },
   "cell_type": "code",
   "source": "conn",
   "id": "1b063f207a592ab4",
   "outputs": [
    {
     "data": {
      "text/plain": [
       "<sqlite3.Connection at 0x1278b75b0>"
      ]
     },
     "execution_count": 28,
     "metadata": {},
     "output_type": "execute_result"
    }
   ],
   "execution_count": 28
  },
  {
   "metadata": {
    "ExecuteTime": {
     "end_time": "2025-02-15T11:31:48.550546Z",
     "start_time": "2025-02-15T11:31:48.546684Z"
    }
   },
   "cell_type": "code",
   "source": [
    "df = pd.read_sql(\"SELECT * FROM stock_prices LIMIT 10\", conn) # 저장된 데이터를 확인\n",
    "print(df)"
   ],
   "id": "f12c2193b1a0654f",
   "outputs": [
    {
     "name": "stdout",
     "output_type": "stream",
     "text": [
      "         date      field ticker         value\n",
      "0  1990-01-02       Open  ^IXIC  4.529000e+02\n",
      "1  1990-01-02       High  ^IXIC  4.593000e+02\n",
      "2  1990-01-02        Low  ^IXIC  4.527000e+02\n",
      "3  1990-01-02      Close  ^IXIC  4.593000e+02\n",
      "4  1990-01-02  Adj Close  ^IXIC  4.593000e+02\n",
      "5  1990-01-02     Volume  ^IXIC  1.107200e+08\n",
      "6  1990-01-02       Open   ^RUT  1.683100e+02\n",
      "7  1990-01-02       High   ^RUT  1.699600e+02\n",
      "8  1990-01-02        Low   ^RUT  1.682200e+02\n",
      "9  1990-01-02      Close   ^RUT  1.699500e+02\n"
     ]
    }
   ],
   "execution_count": 29
  },
  {
   "metadata": {
    "ExecuteTime": {
     "end_time": "2025-02-15T11:33:02.783157Z",
     "start_time": "2025-02-15T11:33:02.780806Z"
    }
   },
   "cell_type": "code",
   "source": "conn.close() # 데이터 연결 종료",
   "id": "578b5aada366a35a",
   "outputs": [],
   "execution_count": 30
  },
  {
   "metadata": {},
   "cell_type": "markdown",
   "source": [
    "#### 1.3 DCL (Data Control Language)\n",
    "\n",
    "DCL은 데이터베이스에 대한 접근 권한을 관리하고 보안을 유지하는 데 사용된다. 대표적인 명령어로는 권한을 부여하는 `GRANT`와 권한을 회수하는 `REVOKE`가 있다. 예를 들어, 특정 사용자에게 주식 데이터베이스의 읽기 권한만 부여하거나, 수정 권한을 제한할 수 있다. \n",
    "\n",
    "DCL은 데이터베이스의 무단 접근을 방지하고, 데이터의 기밀성을 보장하는 데 중요한 역할을 한다. 금융 데이터베이스에서는 민감한 데이터에 대한 접근을 통제해 데이터 유출이나 보안 사고를 예방할 수 있다. 또한, 데이터베이스 관리자는 사용자의 역할(Role)을 설정하고, 각 역할에 적합한 권한을 할당할 수 있다. 따라서 DCL은 데이터 무결성과 신뢰성을 유지하는 데 필수적이다. 데이터 보호가 중요한 환경에서는 DCL 명령어를 활용한 권한 관리를 정기적으로 점검해야 한다.\n",
    "\n",
    "여기서는 데이터 적재 및 관리와 거리가 멀기 때문에 따로 다루지는 않도록 한다."
   ],
   "id": "1f93e32d3cfa71ff"
  },
  {
   "metadata": {},
   "cell_type": "markdown",
   "source": [
    "### 2. Rules of Data Management\n",
    "\n",
    "Data Base에서 무결성과 제약 조건은 반드시 지켜져야 하는 약속이다. 무결성과 제약 조건은 무엇인지 알아보자."
   ],
   "id": "ac01beab99b2c113"
  },
  {
   "metadata": {},
   "cell_type": "markdown",
   "source": [
    "#### 2.1 Data Integrity\n",
    "\n",
    "데이터베이스에 저장된 데이터 값과 사용자가 의도한 데이터 값은 일치헤야 한다. 또한, 데이터는 정확성, 유효성, 일관성, 신뢰성이 지켜져야 하며, 이를 어기는 잘못된 입력과 갱신 또는 삭제로부터 보호되어야 한다. 예를 들어, 특정 종목의 코드 또는 Ticker는 식별자이기 때문에 identification과 같으므로 유일한 값이어야 한다. 그러나, key 값에 중복 값이 입력되거나 `NULL`값이 입력된다면 데이터 식별에 큰 문제가 생길 수 있다. 둘째로, 숫자로 이뤄진 컬럼에 'two'와 같은 문자열이 들어가는 경우 이 값을 숫자로 인정해야 할지 말아야 할지 어렵게 된다.\n",
    "\n",
    "이처럼, 데이터베이스의 관리 규칙이 지켜지지 않으면 데이터베이스 시스템을 운영하는 데 큰 혼란이 올 수 있다. 데이터베이스의 데이터는 사용자의 목적에 맞게 입력되고 저장되어야 하며, **규칙을 위반하지 말아야** 한다. 이를 위해 DB system은 데이터에 접근하거나 데이터를 처리할 때마다 부적절한 데이터가 입력되는지 검사하여 데이터가 결점이 없는 것을 검사한다. 이 기본 규칙을 Data Integrity라고 한다.\n",
    "\n",
    "|유형| 설명                                                                                                                                       |\n",
    "|:---:|:-----------------------------------------------------------------------------------------------------------------------------------------|\n",
    "|Entity Integrity| primary key로 선택된 열은 고유해야 하며, NULL값을 가질 수 없다.                                                                                             |\n",
    "|Reference Integrity| primary key와 foreign key의 관계이다. <br> 외래 키가 있는 테이블의 경우, 기본 키와 외래 키 간의 관계가 항상 유지됨을 보장한다. <br> 참조하는 외래 키가 존재하면 행은 삭제될 수 없고, 기본 키도 변경될 수 없다. |\n",
    "|Domain Integrity| 데이터 형태, 범위, 기본값, 유일성에 관한 제한이다. <br> 주어진 속성 값은 그 속성이 정의된 도메인에 속한 값이어야 한다.                                                                 |\n",
    "|Business Integrity| 사용자의 업무 규칙에 따른 비즈니스적인 제약 조건이다                                                                                                            |"
   ],
   "id": "818366626e21f52d"
  },
  {
   "metadata": {},
   "cell_type": "markdown",
   "source": [
    "#### 2.2 Constraint \n",
    "\n",
    "제약 조건이란, 정해 놓은 규칙에 맞는 데이터만 입력받고 규칙에 어긋나는 데이터는 거부하여 데이터 무결성을 지키는 방법이다. 대표적인 제약 조건의 종류는 다음과 같다.\n",
    "\n",
    "##### 1. Primary Key Constraint\n",
    "\n",
    "`UNIQUE` + `NOT NULL`을 만족해야 한다. 또한, 테이블을 대표하여 각 행을 유일하게 식별하는 값이어야 한다."
   ],
   "id": "73481ef3d0acbd17"
  },
  {
   "metadata": {
    "ExecuteTime": {
     "end_time": "2025-02-15T11:38:52.370133Z",
     "start_time": "2025-02-15T11:38:52.368222Z"
    }
   },
   "cell_type": "code",
   "source": [
    "conn = sqlite3.connect(DB_PATH)\n",
    "cursor = conn.cursor()"
   ],
   "id": "d94b82df47c1df99",
   "outputs": [],
   "execution_count": 31
  },
  {
   "metadata": {
    "ExecuteTime": {
     "end_time": "2025-02-15T11:39:06.181014Z",
     "start_time": "2025-02-15T11:39:06.178752Z"
    }
   },
   "cell_type": "code",
   "source": [
    "cursor.execute(\"PRAGMA table_info(stock_prices);\") # table 내의 primary key 가져오기\n",
    "columns = cursor.fetchall()"
   ],
   "id": "7ec16fd03c3996d",
   "outputs": [],
   "execution_count": 32
  },
  {
   "metadata": {
    "ExecuteTime": {
     "end_time": "2025-02-15T11:39:09.675208Z",
     "start_time": "2025-02-15T11:39:09.672366Z"
    }
   },
   "cell_type": "code",
   "source": "columns",
   "id": "7afa641da5a3b403",
   "outputs": [
    {
     "data": {
      "text/plain": [
       "[(0, 'date', 'DATE', 1, None, 1),\n",
       " (1, 'field', 'VARCHAR(10)', 1, None, 2),\n",
       " (2, 'ticker', 'VARCHAR(10)', 1, None, 3),\n",
       " (3, 'value', 'REAL', 1, None, 0)]"
      ]
     },
     "execution_count": 33,
     "metadata": {},
     "output_type": "execute_result"
    }
   ],
   "execution_count": 33
  },
  {
   "metadata": {},
   "cell_type": "markdown",
   "source": [
    "##### 2. Foreign Key Constraint\n",
    "\n",
    "열 값이 부모 테이블의 참조 열을 반드시 참조해야 한다. 참조되는 열은 `UNIQUE`하거나 `PRIMARY KEY`이다"
   ],
   "id": "5b4945e7b4767296"
  },
  {
   "metadata": {
    "ExecuteTime": {
     "end_time": "2025-02-15T11:39:51.326516Z",
     "start_time": "2025-02-15T11:39:51.321572Z"
    }
   },
   "cell_type": "code",
   "source": [
    "cursor.execute(\n",
    "    \"\"\"\n",
    "    create table if not exists ticker_info (\n",
    "        number integer primary key autoincrement,\n",
    "        ticker varchar(10) not null\n",
    "    )\n",
    "    \"\"\"\n",
    ")"
   ],
   "id": "12cb7015c3073c3f",
   "outputs": [
    {
     "data": {
      "text/plain": [
       "<sqlite3.Cursor at 0x127e13740>"
      ]
     },
     "execution_count": 34,
     "metadata": {},
     "output_type": "execute_result"
    }
   ],
   "execution_count": 34
  },
  {
   "metadata": {
    "ExecuteTime": {
     "end_time": "2025-02-15T11:40:39.948830Z",
     "start_time": "2025-02-15T11:40:39.946730Z"
    }
   },
   "cell_type": "code",
   "source": "TICKERS",
   "id": "e4c80683b7be28a8",
   "outputs": [
    {
     "data": {
      "text/plain": [
       "['^SPX', '^IXIC', '^RUT', '^DJI', '^XAX']"
      ]
     },
     "execution_count": 35,
     "metadata": {},
     "output_type": "execute_result"
    }
   ],
   "execution_count": 35
  },
  {
   "metadata": {
    "ExecuteTime": {
     "end_time": "2025-02-15T11:40:48.932245Z",
     "start_time": "2025-02-15T11:40:48.928757Z"
    }
   },
   "cell_type": "code",
   "source": [
    "cursor.executemany(\n",
    "    \"insert or ignore into ticker_info (ticker) values (?)\", \n",
    "    [(ticker,) for ticker in TICKERS]\n",
    ")\n",
    "conn.commit()"
   ],
   "id": "d2db4db8092c293f",
   "outputs": [],
   "execution_count": 36
  },
  {
   "metadata": {
    "ExecuteTime": {
     "end_time": "2025-02-15T11:40:51.453974Z",
     "start_time": "2025-02-15T11:40:51.450125Z"
    }
   },
   "cell_type": "code",
   "source": [
    "cursor.execute(\"SELECT * FROM ticker_info;\")\n",
    "print(cursor.fetchall())"
   ],
   "id": "5ba10a1b50c0bf3d",
   "outputs": [
    {
     "name": "stdout",
     "output_type": "stream",
     "text": [
      "[(1, '^SPX'), (2, '^IXIC'), (3, '^RUT'), (4, '^DJI'), (5, '^XAX')]\n"
     ]
    }
   ],
   "execution_count": 37
  },
  {
   "metadata": {
    "ExecuteTime": {
     "end_time": "2025-02-15T11:41:39.253082Z",
     "start_time": "2025-02-15T11:41:39.250526Z"
    }
   },
   "cell_type": "code",
   "source": [
    "cursor.execute(\"SELECT * FROM ticker_info;\")\n",
    "ticker_info = cursor.fetchall()"
   ],
   "id": "db8585d830a21438",
   "outputs": [],
   "execution_count": 38
  },
  {
   "metadata": {
    "ExecuteTime": {
     "end_time": "2025-02-15T11:41:39.562864Z",
     "start_time": "2025-02-15T11:41:39.560395Z"
    }
   },
   "cell_type": "code",
   "source": "ticker_info",
   "id": "8513fe9d75f5f58",
   "outputs": [
    {
     "data": {
      "text/plain": [
       "[(1, '^SPX'), (2, '^IXIC'), (3, '^RUT'), (4, '^DJI'), (5, '^XAX')]"
      ]
     },
     "execution_count": 39,
     "metadata": {},
     "output_type": "execute_result"
    }
   ],
   "execution_count": 39
  },
  {
   "metadata": {},
   "cell_type": "markdown",
   "source": "`join` keyword를 사용하면 ticker info로부터 저장된 티커를 참조하여 stock prices의 value를 가져올 수 있다.",
   "id": "7d4369b9978d5e81"
  },
  {
   "metadata": {
    "ExecuteTime": {
     "end_time": "2025-02-15T11:43:46.845923Z",
     "start_time": "2025-02-15T11:43:46.843488Z"
    }
   },
   "cell_type": "code",
   "source": [
    "cursor.execute(\n",
    "    \"\"\"\n",
    "    select stock_prices.date, stock_prices.field, stock_prices.ticker, stock_prices.value\n",
    "    from stock_prices\n",
    "    join ticker_info ON stock_prices.ticker = ticker_info.ticker\n",
    "    where stock_prices.ticker = '^SPX'\n",
    "    \"\"\"\n",
    ")"
   ],
   "id": "57ab2e7031f30181",
   "outputs": [
    {
     "data": {
      "text/plain": [
       "<sqlite3.Cursor at 0x127e13740>"
      ]
     },
     "execution_count": 44,
     "metadata": {},
     "output_type": "execute_result"
    }
   ],
   "execution_count": 44
  },
  {
   "metadata": {
    "ExecuteTime": {
     "end_time": "2025-02-15T11:43:47.272407Z",
     "start_time": "2025-02-15T11:43:47.213748Z"
    }
   },
   "cell_type": "code",
   "source": "df = pd.DataFrame(cursor.fetchall())",
   "id": "fd72fa45744aa4b4",
   "outputs": [],
   "execution_count": 45
  },
  {
   "metadata": {
    "ExecuteTime": {
     "end_time": "2025-02-15T11:44:22.413678Z",
     "start_time": "2025-02-15T11:44:22.353993Z"
    }
   },
   "cell_type": "code",
   "source": "df[df[1] == 'Close'][3].plot()",
   "id": "ad2368a32535753b",
   "outputs": [
    {
     "data": {
      "text/plain": [
       "<Axes: >"
      ]
     },
     "execution_count": 52,
     "metadata": {},
     "output_type": "execute_result"
    },
    {
     "data": {
      "text/plain": [
       "<Figure size 640x480 with 1 Axes>"
      ],
      "image/png": "[encoded data removed]"
     },
     "metadata": {},
     "output_type": "display_data"
    }
   ],
   "execution_count": 52
  },
  {
   "metadata": {},
   "cell_type": "markdown",
   "source": "`where` 조건을 두 개 이상 사용해 특정 티커의 수정 종가만 불러올 수 있다.",
   "id": "a83fafd5c65dc90a"
  },
  {
   "metadata": {
    "ExecuteTime": {
     "end_time": "2025-02-15T11:45:23.027127Z",
     "start_time": "2025-02-15T11:45:23.024084Z"
    }
   },
   "cell_type": "code",
   "source": [
    "cursor.execute(\n",
    "    \"\"\"\n",
    "    select stock_prices.date, stock_prices.field, stock_prices.ticker, stock_prices.value\n",
    "    from stock_prices\n",
    "    join ticker_info ON stock_prices.ticker = ticker_info.ticker\n",
    "    where stock_prices.ticker = '^SPX' and stock_prices.field = 'Adj Close'\n",
    "    \"\"\"\n",
    ")"
   ],
   "id": "9144e8bdbbc6c4e0",
   "outputs": [
    {
     "data": {
      "text/plain": [
       "<sqlite3.Cursor at 0x127e13740>"
      ]
     },
     "execution_count": 53,
     "metadata": {},
     "output_type": "execute_result"
    }
   ],
   "execution_count": 53
  },
  {
   "metadata": {
    "ExecuteTime": {
     "end_time": "2025-02-15T11:45:23.527790Z",
     "start_time": "2025-02-15T11:45:23.506212Z"
    }
   },
   "cell_type": "code",
   "source": "adj_close = pd.DataFrame(cursor.fetchall())",
   "id": "43669f8dbe449c2",
   "outputs": [],
   "execution_count": 54
  },
  {
   "metadata": {
    "ExecuteTime": {
     "end_time": "2025-02-15T11:45:24.109331Z",
     "start_time": "2025-02-15T11:45:24.105705Z"
    }
   },
   "cell_type": "code",
   "source": "adj_close.head()",
   "id": "6fe711a81cb13f6b",
   "outputs": [
    {
     "data": {
      "text/plain": [
       "            0          1     2           3\n",
       "0  1990-01-02  Adj Close  ^SPX  359.690002\n",
       "1  1990-01-03  Adj Close  ^SPX  358.760010\n",
       "2  1990-01-04  Adj Close  ^SPX  355.670013\n",
       "3  1990-01-05  Adj Close  ^SPX  352.200012\n",
       "4  1990-01-08  Adj Close  ^SPX  353.790009"
      ],
      "text/html": [
       "<div>\n",
       "<style scoped>\n",
       "    .dataframe tbody tr th:only-of-type {\n",
       "        vertical-align: middle;\n",
       "    }\n",
       "\n",
       "    .dataframe tbody tr th {\n",
       "        vertical-align: top;\n",
       "    }\n",
       "\n",
       "    .dataframe thead th {\n",
       "        text-align: right;\n",
       "    }\n",
       "</style>\n",
       "<table border=\"1\" class=\"dataframe\">\n",
       "  <thead>\n",
       "    <tr style=\"text-align: right;\">\n",
       "      <th></th>\n",
       "      <th>0</th>\n",
       "      <th>1</th>\n",
       "      <th>2</th>\n",
       "      <th>3</th>\n",
       "    </tr>\n",
       "  </thead>\n",
       "  <tbody>\n",
       "    <tr>\n",
       "      <th>0</th>\n",
       "      <td>1990-01-02</td>\n",
       "      <td>Adj Close</td>\n",
       "      <td>^SPX</td>\n",
       "      <td>359.690002</td>\n",
       "    </tr>\n",
       "    <tr>\n",
       "      <th>1</th>\n",
       "      <td>1990-01-03</td>\n",
       "      <td>Adj Close</td>\n",
       "      <td>^SPX</td>\n",
       "      <td>358.760010</td>\n",
       "    </tr>\n",
       "    <tr>\n",
       "      <th>2</th>\n",
       "      <td>1990-01-04</td>\n",
       "      <td>Adj Close</td>\n",
       "      <td>^SPX</td>\n",
       "      <td>355.670013</td>\n",
       "    </tr>\n",
       "    <tr>\n",
       "      <th>3</th>\n",
       "      <td>1990-01-05</td>\n",
       "      <td>Adj Close</td>\n",
       "      <td>^SPX</td>\n",
       "      <td>352.200012</td>\n",
       "    </tr>\n",
       "    <tr>\n",
       "      <th>4</th>\n",
       "      <td>1990-01-08</td>\n",
       "      <td>Adj Close</td>\n",
       "      <td>^SPX</td>\n",
       "      <td>353.790009</td>\n",
       "    </tr>\n",
       "  </tbody>\n",
       "</table>\n",
       "</div>"
      ]
     },
     "execution_count": 55,
     "metadata": {},
     "output_type": "execute_result"
    }
   ],
   "execution_count": 55
  },
  {
   "metadata": {
    "ExecuteTime": {
     "end_time": "2025-02-15T11:45:33.877242Z",
     "start_time": "2025-02-15T11:45:33.817275Z"
    }
   },
   "cell_type": "code",
   "source": "adj_close[3].plot()",
   "id": "75d2d1fbe46a3884",
   "outputs": [
    {
     "data": {
      "text/plain": [
       "<Axes: >"
      ]
     },
     "execution_count": 56,
     "metadata": {},
     "output_type": "execute_result"
    },
    {
     "data": {
      "text/plain": [
       "<Figure size 640x480 with 1 Axes>"
      ],
      "image/png": "[encoded data removed]"
     },
     "metadata": {},
     "output_type": "display_data"
    }
   ],
   "execution_count": 56
  },
  {
   "metadata": {},
   "cell_type": "markdown",
   "source": [
    "##### 3. Unique Key Constraint\n",
    "\n",
    "중복된 값을 허용하지 않는다. 유일한 값으로 존재해야 한다."
   ],
   "id": "5bd3cbb229e778d8"
  },
  {
   "metadata": {},
   "cell_type": "markdown",
   "source": [
    "##### 4. Not NULL Constraint\n",
    "\n",
    "`NULL` 값을 허용하지 않는다. 반드시 값을 입력해야 한다."
   ],
   "id": "1f468b5f53008be2"
  },
  {
   "metadata": {
    "ExecuteTime": {
     "end_time": "2025-02-15T11:46:05.160118Z",
     "start_time": "2025-02-15T11:46:05.156135Z"
    }
   },
   "cell_type": "code",
   "source": [
    "cursor.execute(\n",
    "    \"\"\"\n",
    "    SELECT * FROM stock_prices WHERE date = '2025-02-14'\n",
    "    \"\"\"\n",
    ")\n",
    "cursor.fetchall()"
   ],
   "id": "80bfa5cd98e929cb",
   "outputs": [
    {
     "data": {
      "text/plain": [
       "[('2025-02-14', 'Adj Close', '^DJI', 44546.078125),\n",
       " ('2025-02-14', 'Adj Close', '^IXIC', 20026.76953125),\n",
       " ('2025-02-14', 'Adj Close', '^RUT', 2279.97998046875),\n",
       " ('2025-02-14', 'Adj Close', '^SPX', 6114.6298828125),\n",
       " ('2025-02-14', 'Adj Close', '^XAX', 5100.7099609375),\n",
       " ('2025-02-14', 'Close', '^DJI', 44546.078125),\n",
       " ('2025-02-14', 'Close', '^IXIC', 20026.76953125),\n",
       " ('2025-02-14', 'Close', '^RUT', 2279.97998046875),\n",
       " ('2025-02-14', 'Close', '^SPX', 6114.6298828125),\n",
       " ('2025-02-14', 'Close', '^XAX', 5100.7099609375),\n",
       " ('2025-02-14', 'High', '^DJI', 44769.05078125),\n",
       " ('2025-02-14', 'High', '^IXIC', 20045.759765625),\n",
       " ('2025-02-14', 'High', '^RUT', 2297.7099609375),\n",
       " ('2025-02-14', 'High', '^SPX', 6127.47021484375),\n",
       " ('2025-02-14', 'High', '^XAX', 5204.830078125),\n",
       " ('2025-02-14', 'Low', '^DJI', 44498.9609375),\n",
       " ('2025-02-14', 'Low', '^IXIC', 19932.150390625),\n",
       " ('2025-02-14', 'Low', '^RUT', 2276.6298828125),\n",
       " ('2025-02-14', 'Low', '^SPX', 6107.6201171875),\n",
       " ('2025-02-14', 'Low', '^XAX', 5088.31005859375),\n",
       " ('2025-02-14', 'Open', '^DJI', 44720.98828125),\n",
       " ('2025-02-14', 'Open', '^IXIC', 19956.8203125),\n",
       " ('2025-02-14', 'Open', '^RUT', 2287.85009765625),\n",
       " ('2025-02-14', 'Open', '^SPX', 6115.52001953125),\n",
       " ('2025-02-14', 'Open', '^XAX', 5140.9501953125),\n",
       " ('2025-02-14', 'Volume', '^DJI', 474570000.0),\n",
       " ('2025-02-14', 'Volume', '^IXIC', 7995720000.0),\n",
       " ('2025-02-14', 'Volume', '^RUT', 4335190000.0),\n",
       " ('2025-02-14', 'Volume', '^SPX', 4335190000.0),\n",
       " ('2025-02-14', 'Volume', '^XAX', 0.0)]"
      ]
     },
     "execution_count": 57,
     "metadata": {},
     "output_type": "execute_result"
    }
   ],
   "execution_count": 57
  },
  {
   "metadata": {},
   "cell_type": "markdown",
   "source": [
    "### 3. Transaction\n",
    "\n",
    "Transaction이란 데이터베이스의 DML과 값은 논리적인 작업을 의미한다. 실행과 동시성 제어를 위한 중요한 개념이다. 관계형 DB는 데이터를 처리할 때 트랜젝션을 통해 정상 종료나 사용자 프로세스 실패, 시스템 실패와 같은 비정상 종료에 대해 데이터의 신뢰성과 일관성을 보장한다.\n",
    "\n",
    "일반적으로 DML 실행과 실행에 대한 commit, roll back 단계까지를 트랜젝션이라고 부르지만, 실무에서는 데이터베이스에서 `SELECT`문으로 데이터를 조회하고 DML을 실행하여 종료하는 과정까지를 transaction으로 지칭한다. 정상적인 상황이라면, 마지막 단계에서 commit 혹은 roll back으로 종료된다.\n",
    "\n",
    "|개념|내용|\n",
    "|:---|:---|\n",
    "|Atonomicity|트랜젝션의 처리가 완전히 끝나지 않았을 경우에는 전혀 이뤄지지 않은 것과 같아야 한다.|\n",
    "|Consistency|트랜젝션의 실행이 성공적으로 완료되면 DB는 모순 없이 일관성이 보존된 상태여야 한다.|\n",
    "|Isolation|어떤 트랜젝션도 다른 트랜젝션의 부분적 실행 결과를 볼 수 없다|\n",
    "|Durability|트랜젝션이 성공하면 트랜젝션의 결과를 영구적으로 보장해야 한다|"
   ],
   "id": "87203dbf75fbc7fd"
  },
  {
   "metadata": {},
   "cell_type": "markdown",
   "source": [
    "#### 3.1 Atonomicity\n",
    "\n",
    "데이터 적재 혹은 삭제와 같은 작업이 완전히 실행되거나 완전히 실패하는 상태 중 하나여야 한다는 의미이다. (All or Nothing). 절반만 삭제되거나 절반만 저장되는 경우는 없다."
   ],
   "id": "648776e5d9d88aad"
  },
  {
   "metadata": {},
   "cell_type": "markdown",
   "source": [
    "#### 3.2 Consistency\n",
    "\n",
    "트랜젝션이 완료되면 데이터베이스의 데이터는 일관되게 유지되어야 한다. 예를 들어, 한번 적재된 데이터는 별도의 작업을 하기 전까지 수정이 불가능하다."
   ],
   "id": "38ed147318ac0151"
  },
  {
   "metadata": {},
   "cell_type": "markdown",
   "source": [
    "#### 3.3 Isolation\n",
    "\n",
    "트랜젝션이 완료되지 않은 동안에는 다른 트랜젝션이 참조하거나 변경할 수 없다. 하나의 작업에서 데이터베이스에 연결한 경우, 다른 작업에서 데이터베이스를 수정하거나 참조할 수 없다. DB는 이러한 고립성을 유지하기 위해, 포트가 여러 군데에서 접근을 시도하는 경우 기본적으로 데이터베이스를 잠군다. (Locking)"
   ],
   "id": "ff6dd532b0eec61f"
  },
  {
   "metadata": {},
   "cell_type": "markdown",
   "source": [
    "#### 3.4 Durability\n",
    "\n",
    "트랜젝션이 정상적으로 완료되면 해당 데이터는 저장되어 보존되어야 한다. 보존을 보장함으로써 DB 시스템의 신뢰성과 일관성을 유지할 수 있으며, 장애가 발생하였을 때 복구가 가능해진다."
   ],
   "id": "d9ac04e329481645"
  },
  {
   "metadata": {
    "ExecuteTime": {
     "end_time": "2025-02-15T09:42:02.201410Z",
     "start_time": "2025-02-15T09:42:02.199053Z"
    }
   },
   "cell_type": "code",
   "source": "conn.close()",
   "id": "e4d0b6ab46a388e5",
   "outputs": [],
   "execution_count": 72
  }
 ],
 "metadata": {
  "kernelspec": {
   "display_name": "Python 3",
   "language": "python",
   "name": "python3"
  },
  "language_info": {
   "codemirror_mode": {
    "name": "ipython",
    "version": 2
   },
   "file_extension": ".py",
   "mimetype": "text/x-python",
   "name": "python",
   "nbconvert_exporter": "python",
   "pygments_lexer": "ipython2",
   "version": "2.7.6"
  }
 },
 "nbformat": 4,
 "nbformat_minor": 5
}
