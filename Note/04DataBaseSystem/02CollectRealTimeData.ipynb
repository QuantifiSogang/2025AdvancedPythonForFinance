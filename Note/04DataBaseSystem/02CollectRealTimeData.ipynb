{
 "cells": [
  {
   "metadata": {},
   "cell_type": "markdown",
   "source": [
    "## Handle Real Time Data \n",
    "\n",
    "금융 데이터는 실시간으로 데이터가 수집되기 때문에 수집과 가공, 저장이 동시에 이뤄지는 경우가 많다. 이번 장에서는 실제 데이터를 수집하고, 확인하는 과정을 실행해 보고, 가공하여 데이터베이스에 저장하는 과정까지 실습해 보자."
   ],
   "id": "756c53f4e7339d79"
  },
  {
   "metadata": {
    "ExecuteTime": {
     "end_time": "2025-02-15T11:57:47.770244Z",
     "start_time": "2025-02-15T11:57:46.863857Z"
    }
   },
   "cell_type": "code",
   "source": [
    "import numpy as np\n",
    "import pandas as pd\n",
    "\n",
    "import ccxt.pro as ccxtpro\n",
    "import asyncio\n",
    "import datetime"
   ],
   "id": "fe83011300371c54",
   "outputs": [],
   "execution_count": 1
  },
  {
   "metadata": {},
   "cell_type": "markdown",
   "source": [
    "### 1. Asynchronous\n",
    "\n",
    "비동기(Asynchronous)는 작업을 동시에 실행할 수 있도록 하여, 하나의 작업이 완료될 때까지 기다리지 않고 다른 작업을 수행할 수 있는 방식이다. Python에서는 `asyncio` 및 `async/await` 키워드를 사용하여 네트워크 요청, 파일 I/O 등 대기 시간이 긴 작업을 효율적으로 처리할 수 있다. 이를 통해 프로그램이 비효율적인 대기 시간을 줄이고, 여러 작업을 병렬적으로 실행하여 성능을 향상시킬 수 있다. 즉, 요청과 결과가 동시에 일어나지 않는 것을 의미한다. 노드 사이의 작업 처리 단위를 동시에 맞추지 않음으로써 효율을 좀 더 높인다는 것이다.\n",
    "\n",
    "**`async` (비동기 함수 정의)**\n",
    "\n",
    "- `async` 키워드는 비동기 함수(Asynchronous Function) 를 정의할 때 사용된다.\n",
    "- 비동기 함수는 일반 함수처럼 즉시 실행되지 않고, 코루틴(Coroutine) 객체를 반환한다.\n",
    "\n",
    "**`await` (비동기 작업 실행)**\n",
    "\n",
    "- `await` 키워드는 비동기 함수 내부에서만 사용 가능하다.\n",
    "- `await`을 사용하면 비동기 작업이 완료될 때까지 기다렸다가 실행을 계속 진행한다.\n",
    "- `await` 없이 실행하면 RuntimeWarning: coroutine was never awaited 오류가 발생한다."
   ],
   "id": "f9b1ed65848852d8"
  },
  {
   "metadata": {},
   "cell_type": "markdown",
   "source": [
    "#### 1.1 실시간 체결 강도\n",
    "\n",
    "실습을 위해 `ccxt` library를 설치한다. ccxt는 거래소의 가상화폐 데이터를 가져올 수 있도록 도움을 주는 라이브러리이다. 한국 거래소인 upbit의 실시간 체결 강도를 가져오는 함수를 다음과 같이 작성한다."
   ],
   "id": "561d58f18a6f0678"
  },
  {
   "cell_type": "code",
   "id": "initial_id",
   "metadata": {
    "collapsed": true,
    "ExecuteTime": {
     "end_time": "2025-02-15T12:00:42.355423Z",
     "start_time": "2025-02-15T12:00:42.352975Z"
    }
   },
   "source": [
    "async def real_time_execution_strength():\n",
    "    exchange = ccxtpro.upbit()\n",
    "    while True:\n",
    "        ticker = await exchange.watch_ticker(symbol = \"BTC/KRW\")\n",
    "\n",
    "        timestamp = ticker['timestamp']\n",
    "        now = datetime.datetime.fromtimestamp(timestamp/1000)\n",
    "        last = ticker['last']\n",
    "        acc_ask_volume = ticker['info']['acc_ask_volume']\n",
    "        acc_bid_volume = ticker['info']['acc_bid_volume']\n",
    "        volume_power = acc_bid_volume / acc_ask_volume * 100\n",
    "\n",
    "        print(f\"time: {now} price: {last: ,} execution_strength: {volume_power:.2f}\")"
   ],
   "outputs": [],
   "execution_count": 2
  },
  {
   "metadata": {},
   "cell_type": "markdown",
   "source": "jupyter notebook 내에서는 비동기 처리가 이미 작동중이기 때문에, python 커널에서 실행하는 것이 바람직하다.",
   "id": "641ce61106be6ee9"
  },
  {
   "metadata": {
    "ExecuteTime": {
     "end_time": "2025-02-15T12:00:44.102104Z",
     "start_time": "2025-02-15T12:00:43.814066Z"
    }
   },
   "cell_type": "code",
   "source": [
    "if __name__ == '__main__': # py 파일에서 실행\n",
    "    asyncio.run(real_time_execution_strength()) "
   ],
   "id": "5b565fa7fa69a6bc",
   "outputs": [
    {
     "ename": "RuntimeError",
     "evalue": "asyncio.run() cannot be called from a running event loop",
     "output_type": "error",
     "traceback": [
      "\u001B[0;31m---------------------------------------------------------------------------\u001B[0m",
      "\u001B[0;31mRuntimeError\u001B[0m                              Traceback (most recent call last)",
      "Cell \u001B[0;32mIn[3], line 2\u001B[0m\n\u001B[1;32m      1\u001B[0m \u001B[38;5;28;01mif\u001B[39;00m \u001B[38;5;18m__name__\u001B[39m \u001B[38;5;241m==\u001B[39m \u001B[38;5;124m'\u001B[39m\u001B[38;5;124m__main__\u001B[39m\u001B[38;5;124m'\u001B[39m: \u001B[38;5;66;03m# py 파일에서 실행\u001B[39;00m\n\u001B[0;32m----> 2\u001B[0m     asyncio\u001B[38;5;241m.\u001B[39mrun(real_time_execution_strength())\n",
      "File \u001B[0;32m~/anaconda3/envs/langchain/lib/python3.11/asyncio/runners.py:186\u001B[0m, in \u001B[0;36mrun\u001B[0;34m(main, debug)\u001B[0m\n\u001B[1;32m    161\u001B[0m \u001B[38;5;250m\u001B[39m\u001B[38;5;124;03m\"\"\"Execute the coroutine and return the result.\u001B[39;00m\n\u001B[1;32m    162\u001B[0m \n\u001B[1;32m    163\u001B[0m \u001B[38;5;124;03mThis function runs the passed coroutine, taking care of\u001B[39;00m\n\u001B[0;32m   (...)\u001B[0m\n\u001B[1;32m    182\u001B[0m \u001B[38;5;124;03m    asyncio.run(main())\u001B[39;00m\n\u001B[1;32m    183\u001B[0m \u001B[38;5;124;03m\"\"\"\u001B[39;00m\n\u001B[1;32m    184\u001B[0m \u001B[38;5;28;01mif\u001B[39;00m events\u001B[38;5;241m.\u001B[39m_get_running_loop() \u001B[38;5;129;01mis\u001B[39;00m \u001B[38;5;129;01mnot\u001B[39;00m \u001B[38;5;28;01mNone\u001B[39;00m:\n\u001B[1;32m    185\u001B[0m     \u001B[38;5;66;03m# fail fast with short traceback\u001B[39;00m\n\u001B[0;32m--> 186\u001B[0m     \u001B[38;5;28;01mraise\u001B[39;00m \u001B[38;5;167;01mRuntimeError\u001B[39;00m(\n\u001B[1;32m    187\u001B[0m         \u001B[38;5;124m\"\u001B[39m\u001B[38;5;124masyncio.run() cannot be called from a running event loop\u001B[39m\u001B[38;5;124m\"\u001B[39m)\n\u001B[1;32m    189\u001B[0m \u001B[38;5;28;01mwith\u001B[39;00m Runner(debug\u001B[38;5;241m=\u001B[39mdebug) \u001B[38;5;28;01mas\u001B[39;00m runner:\n\u001B[1;32m    190\u001B[0m     \u001B[38;5;28;01mreturn\u001B[39;00m runner\u001B[38;5;241m.\u001B[39mrun(main)\n",
      "\u001B[0;31mRuntimeError\u001B[0m: asyncio.run() cannot be called from a running event loop"
     ]
    }
   ],
   "execution_count": 3
  },
  {
   "metadata": {},
   "cell_type": "markdown",
   "source": "혹은, `nest_asyncio`를 통해 Jupyter 내에서 실행이 가능하다. 단, 권장하지는 않는다",
   "id": "16c6ef68c0b4da7b"
  },
  {
   "metadata": {
    "ExecuteTime": {
     "end_time": "2025-02-15T09:55:01.391591Z",
     "start_time": "2025-02-15T09:54:56.115265Z"
    }
   },
   "cell_type": "code",
   "source": [
    "import nest_asyncio\n",
    "nest_asyncio.apply()\n",
    "\n",
    "asyncio.run(real_time_execution_strength())"
   ],
   "id": "9d9b4d203b80860b",
   "outputs": [
    {
     "name": "stdout",
     "output_type": "stream",
     "text": [
      "time: 2025-02-15 18:54:51.661000 price:  146,909,000.0 execution_strength: 110.35\n",
      "time: 2025-02-15 18:54:59.090000 price:  146,909,000.0 execution_strength: 110.35\n",
      "time: 2025-02-15 18:54:59.090000 price:  146,909,000.0 execution_strength: 110.35\n"
     ]
    },
    {
     "ename": "KeyboardInterrupt",
     "evalue": "",
     "output_type": "error",
     "traceback": [
      "\u001B[0;31m---------------------------------------------------------------------------\u001B[0m",
      "\u001B[0;31mKeyboardInterrupt\u001B[0m                         Traceback (most recent call last)",
      "Cell \u001B[0;32mIn[5], line 4\u001B[0m\n\u001B[1;32m      1\u001B[0m \u001B[38;5;28;01mimport\u001B[39;00m \u001B[38;5;21;01mnest_asyncio\u001B[39;00m\n\u001B[1;32m      2\u001B[0m nest_asyncio\u001B[38;5;241m.\u001B[39mapply()\n\u001B[0;32m----> 4\u001B[0m asyncio\u001B[38;5;241m.\u001B[39mrun(real_time_execution_strength())\n",
      "File \u001B[0;32m~/anaconda3/envs/langchain/lib/python3.11/site-packages/nest_asyncio.py:30\u001B[0m, in \u001B[0;36m_patch_asyncio.<locals>.run\u001B[0;34m(main, debug)\u001B[0m\n\u001B[1;32m     28\u001B[0m task \u001B[38;5;241m=\u001B[39m asyncio\u001B[38;5;241m.\u001B[39mensure_future(main)\n\u001B[1;32m     29\u001B[0m \u001B[38;5;28;01mtry\u001B[39;00m:\n\u001B[0;32m---> 30\u001B[0m     \u001B[38;5;28;01mreturn\u001B[39;00m loop\u001B[38;5;241m.\u001B[39mrun_until_complete(task)\n\u001B[1;32m     31\u001B[0m \u001B[38;5;28;01mfinally\u001B[39;00m:\n\u001B[1;32m     32\u001B[0m     \u001B[38;5;28;01mif\u001B[39;00m \u001B[38;5;129;01mnot\u001B[39;00m task\u001B[38;5;241m.\u001B[39mdone():\n",
      "File \u001B[0;32m~/anaconda3/envs/langchain/lib/python3.11/site-packages/nest_asyncio.py:92\u001B[0m, in \u001B[0;36m_patch_loop.<locals>.run_until_complete\u001B[0;34m(self, future)\u001B[0m\n\u001B[1;32m     90\u001B[0m     f\u001B[38;5;241m.\u001B[39m_log_destroy_pending \u001B[38;5;241m=\u001B[39m \u001B[38;5;28;01mFalse\u001B[39;00m\n\u001B[1;32m     91\u001B[0m \u001B[38;5;28;01mwhile\u001B[39;00m \u001B[38;5;129;01mnot\u001B[39;00m f\u001B[38;5;241m.\u001B[39mdone():\n\u001B[0;32m---> 92\u001B[0m     \u001B[38;5;28mself\u001B[39m\u001B[38;5;241m.\u001B[39m_run_once()\n\u001B[1;32m     93\u001B[0m     \u001B[38;5;28;01mif\u001B[39;00m \u001B[38;5;28mself\u001B[39m\u001B[38;5;241m.\u001B[39m_stopping:\n\u001B[1;32m     94\u001B[0m         \u001B[38;5;28;01mbreak\u001B[39;00m\n",
      "File \u001B[0;32m~/anaconda3/envs/langchain/lib/python3.11/site-packages/nest_asyncio.py:115\u001B[0m, in \u001B[0;36m_patch_loop.<locals>._run_once\u001B[0;34m(self)\u001B[0m\n\u001B[1;32m    108\u001B[0m     heappop(scheduled)\n\u001B[1;32m    110\u001B[0m timeout \u001B[38;5;241m=\u001B[39m (\n\u001B[1;32m    111\u001B[0m     \u001B[38;5;241m0\u001B[39m \u001B[38;5;28;01mif\u001B[39;00m ready \u001B[38;5;129;01mor\u001B[39;00m \u001B[38;5;28mself\u001B[39m\u001B[38;5;241m.\u001B[39m_stopping\n\u001B[1;32m    112\u001B[0m     \u001B[38;5;28;01melse\u001B[39;00m \u001B[38;5;28mmin\u001B[39m(\u001B[38;5;28mmax\u001B[39m(\n\u001B[1;32m    113\u001B[0m         scheduled[\u001B[38;5;241m0\u001B[39m]\u001B[38;5;241m.\u001B[39m_when \u001B[38;5;241m-\u001B[39m \u001B[38;5;28mself\u001B[39m\u001B[38;5;241m.\u001B[39mtime(), \u001B[38;5;241m0\u001B[39m), \u001B[38;5;241m86400\u001B[39m) \u001B[38;5;28;01mif\u001B[39;00m scheduled\n\u001B[1;32m    114\u001B[0m     \u001B[38;5;28;01melse\u001B[39;00m \u001B[38;5;28;01mNone\u001B[39;00m)\n\u001B[0;32m--> 115\u001B[0m event_list \u001B[38;5;241m=\u001B[39m \u001B[38;5;28mself\u001B[39m\u001B[38;5;241m.\u001B[39m_selector\u001B[38;5;241m.\u001B[39mselect(timeout)\n\u001B[1;32m    116\u001B[0m \u001B[38;5;28mself\u001B[39m\u001B[38;5;241m.\u001B[39m_process_events(event_list)\n\u001B[1;32m    118\u001B[0m end_time \u001B[38;5;241m=\u001B[39m \u001B[38;5;28mself\u001B[39m\u001B[38;5;241m.\u001B[39mtime() \u001B[38;5;241m+\u001B[39m \u001B[38;5;28mself\u001B[39m\u001B[38;5;241m.\u001B[39m_clock_resolution\n",
      "File \u001B[0;32m~/anaconda3/envs/langchain/lib/python3.11/selectors.py:566\u001B[0m, in \u001B[0;36mKqueueSelector.select\u001B[0;34m(self, timeout)\u001B[0m\n\u001B[1;32m    564\u001B[0m ready \u001B[38;5;241m=\u001B[39m []\n\u001B[1;32m    565\u001B[0m \u001B[38;5;28;01mtry\u001B[39;00m:\n\u001B[0;32m--> 566\u001B[0m     kev_list \u001B[38;5;241m=\u001B[39m \u001B[38;5;28mself\u001B[39m\u001B[38;5;241m.\u001B[39m_selector\u001B[38;5;241m.\u001B[39mcontrol(\u001B[38;5;28;01mNone\u001B[39;00m, max_ev, timeout)\n\u001B[1;32m    567\u001B[0m \u001B[38;5;28;01mexcept\u001B[39;00m \u001B[38;5;167;01mInterruptedError\u001B[39;00m:\n\u001B[1;32m    568\u001B[0m     \u001B[38;5;28;01mreturn\u001B[39;00m ready\n",
      "\u001B[0;31mKeyboardInterrupt\u001B[0m: "
     ]
    }
   ],
   "execution_count": 5
  },
  {
   "metadata": {},
   "cell_type": "markdown",
   "source": [
    "#### 1.2 실시간 체결\n",
    "\n",
    "upbit에서 가상화폐가 실시간으로 체결되는 데이터를 가져올 수 있다. 대개 1초 내에 수백 건의 거래가 체결되며, 비동기 처리를 사용해야 실시간으로 데이터를 적재할 수 있다."
   ],
   "id": "cef85e52021d46f9"
  },
  {
   "metadata": {
    "ExecuteTime": {
     "end_time": "2025-02-15T12:02:29.309108Z",
     "start_time": "2025-02-15T12:02:29.306216Z"
    }
   },
   "cell_type": "code",
   "source": [
    "import pprint\n",
    "\n",
    "async def real_time_trade():\n",
    "    exchange = ccxtpro.upbit()\n",
    "    while True:\n",
    "        trade = await exchange.watch_trades(symbol=\"BTC/KRW\")\n",
    "        pprint.pprint(trade)"
   ],
   "id": "f1d8f1b16d1df585",
   "outputs": [],
   "execution_count": 4
  },
  {
   "metadata": {
    "ExecuteTime": {
     "end_time": "2025-02-15T10:01:42.794713Z",
     "start_time": "2025-02-15T10:01:40.177698Z"
    }
   },
   "cell_type": "code",
   "source": "asyncio.run(real_time_trade())",
   "id": "aa3d1e80b970e2b0",
   "outputs": [
    {
     "name": "stdout",
     "output_type": "stream",
     "text": [
      "[{'amount': 0.00521753,\n",
      "  'cost': 766522.98489,\n",
      "  'datetime': '2025-02-15T10:01:38.008Z',\n",
      "  'fee': {'cost': None, 'currency': None},\n",
      "  'fees': [],\n",
      "  'id': '17396136979760000',\n",
      "  'info': {'ask_bid': 'BID',\n",
      "           'best_ask_price': 146913000,\n",
      "           'best_ask_size': 0.03239076,\n",
      "           'best_bid_price': 146912000,\n",
      "           'best_bid_size': 0.48796783,\n",
      "           'change': 'RISE',\n",
      "           'change_price': 362000.0,\n",
      "           'code': 'KRW-BTC',\n",
      "           'prev_closing_price': 146551000.0,\n",
      "           'sequential_id': 17396136979760000,\n",
      "           'stream_type': 'SNAPSHOT',\n",
      "           'timestamp': 1739613698008,\n",
      "           'trade_date': '2025-02-15',\n",
      "           'trade_price': 146913000.0,\n",
      "           'trade_time': '10:01:37',\n",
      "           'trade_timestamp': 1739613697976,\n",
      "           'trade_volume': 0.00521753,\n",
      "           'type': 'trade'},\n",
      "  'order': None,\n",
      "  'price': 146913000.0,\n",
      "  'side': 'buy',\n",
      "  'symbol': 'BTC/KRW',\n",
      "  'takerOrMaker': None,\n",
      "  'timestamp': 1739613698008,\n",
      "  'type': None}]\n"
     ]
    },
    {
     "ename": "KeyboardInterrupt",
     "evalue": "",
     "output_type": "error",
     "traceback": [
      "\u001B[0;31m---------------------------------------------------------------------------\u001B[0m",
      "\u001B[0;31mKeyboardInterrupt\u001B[0m                         Traceback (most recent call last)",
      "Cell \u001B[0;32mIn[9], line 1\u001B[0m\n\u001B[0;32m----> 1\u001B[0m asyncio\u001B[38;5;241m.\u001B[39mrun(real_time_trade())\n",
      "File \u001B[0;32m~/anaconda3/envs/langchain/lib/python3.11/site-packages/nest_asyncio.py:30\u001B[0m, in \u001B[0;36m_patch_asyncio.<locals>.run\u001B[0;34m(main, debug)\u001B[0m\n\u001B[1;32m     28\u001B[0m task \u001B[38;5;241m=\u001B[39m asyncio\u001B[38;5;241m.\u001B[39mensure_future(main)\n\u001B[1;32m     29\u001B[0m \u001B[38;5;28;01mtry\u001B[39;00m:\n\u001B[0;32m---> 30\u001B[0m     \u001B[38;5;28;01mreturn\u001B[39;00m loop\u001B[38;5;241m.\u001B[39mrun_until_complete(task)\n\u001B[1;32m     31\u001B[0m \u001B[38;5;28;01mfinally\u001B[39;00m:\n\u001B[1;32m     32\u001B[0m     \u001B[38;5;28;01mif\u001B[39;00m \u001B[38;5;129;01mnot\u001B[39;00m task\u001B[38;5;241m.\u001B[39mdone():\n",
      "File \u001B[0;32m~/anaconda3/envs/langchain/lib/python3.11/site-packages/nest_asyncio.py:92\u001B[0m, in \u001B[0;36m_patch_loop.<locals>.run_until_complete\u001B[0;34m(self, future)\u001B[0m\n\u001B[1;32m     90\u001B[0m     f\u001B[38;5;241m.\u001B[39m_log_destroy_pending \u001B[38;5;241m=\u001B[39m \u001B[38;5;28;01mFalse\u001B[39;00m\n\u001B[1;32m     91\u001B[0m \u001B[38;5;28;01mwhile\u001B[39;00m \u001B[38;5;129;01mnot\u001B[39;00m f\u001B[38;5;241m.\u001B[39mdone():\n\u001B[0;32m---> 92\u001B[0m     \u001B[38;5;28mself\u001B[39m\u001B[38;5;241m.\u001B[39m_run_once()\n\u001B[1;32m     93\u001B[0m     \u001B[38;5;28;01mif\u001B[39;00m \u001B[38;5;28mself\u001B[39m\u001B[38;5;241m.\u001B[39m_stopping:\n\u001B[1;32m     94\u001B[0m         \u001B[38;5;28;01mbreak\u001B[39;00m\n",
      "File \u001B[0;32m~/anaconda3/envs/langchain/lib/python3.11/site-packages/nest_asyncio.py:115\u001B[0m, in \u001B[0;36m_patch_loop.<locals>._run_once\u001B[0;34m(self)\u001B[0m\n\u001B[1;32m    108\u001B[0m     heappop(scheduled)\n\u001B[1;32m    110\u001B[0m timeout \u001B[38;5;241m=\u001B[39m (\n\u001B[1;32m    111\u001B[0m     \u001B[38;5;241m0\u001B[39m \u001B[38;5;28;01mif\u001B[39;00m ready \u001B[38;5;129;01mor\u001B[39;00m \u001B[38;5;28mself\u001B[39m\u001B[38;5;241m.\u001B[39m_stopping\n\u001B[1;32m    112\u001B[0m     \u001B[38;5;28;01melse\u001B[39;00m \u001B[38;5;28mmin\u001B[39m(\u001B[38;5;28mmax\u001B[39m(\n\u001B[1;32m    113\u001B[0m         scheduled[\u001B[38;5;241m0\u001B[39m]\u001B[38;5;241m.\u001B[39m_when \u001B[38;5;241m-\u001B[39m \u001B[38;5;28mself\u001B[39m\u001B[38;5;241m.\u001B[39mtime(), \u001B[38;5;241m0\u001B[39m), \u001B[38;5;241m86400\u001B[39m) \u001B[38;5;28;01mif\u001B[39;00m scheduled\n\u001B[1;32m    114\u001B[0m     \u001B[38;5;28;01melse\u001B[39;00m \u001B[38;5;28;01mNone\u001B[39;00m)\n\u001B[0;32m--> 115\u001B[0m event_list \u001B[38;5;241m=\u001B[39m \u001B[38;5;28mself\u001B[39m\u001B[38;5;241m.\u001B[39m_selector\u001B[38;5;241m.\u001B[39mselect(timeout)\n\u001B[1;32m    116\u001B[0m \u001B[38;5;28mself\u001B[39m\u001B[38;5;241m.\u001B[39m_process_events(event_list)\n\u001B[1;32m    118\u001B[0m end_time \u001B[38;5;241m=\u001B[39m \u001B[38;5;28mself\u001B[39m\u001B[38;5;241m.\u001B[39mtime() \u001B[38;5;241m+\u001B[39m \u001B[38;5;28mself\u001B[39m\u001B[38;5;241m.\u001B[39m_clock_resolution\n",
      "File \u001B[0;32m~/anaconda3/envs/langchain/lib/python3.11/selectors.py:566\u001B[0m, in \u001B[0;36mKqueueSelector.select\u001B[0;34m(self, timeout)\u001B[0m\n\u001B[1;32m    564\u001B[0m ready \u001B[38;5;241m=\u001B[39m []\n\u001B[1;32m    565\u001B[0m \u001B[38;5;28;01mtry\u001B[39;00m:\n\u001B[0;32m--> 566\u001B[0m     kev_list \u001B[38;5;241m=\u001B[39m \u001B[38;5;28mself\u001B[39m\u001B[38;5;241m.\u001B[39m_selector\u001B[38;5;241m.\u001B[39mcontrol(\u001B[38;5;28;01mNone\u001B[39;00m, max_ev, timeout)\n\u001B[1;32m    567\u001B[0m \u001B[38;5;28;01mexcept\u001B[39;00m \u001B[38;5;167;01mInterruptedError\u001B[39;00m:\n\u001B[1;32m    568\u001B[0m     \u001B[38;5;28;01mreturn\u001B[39;00m ready\n",
      "\u001B[0;31mKeyboardInterrupt\u001B[0m: "
     ]
    }
   ],
   "execution_count": 9
  },
  {
   "metadata": {},
   "cell_type": "markdown",
   "source": [
    "#### 1.3 실시간 호가\n",
    "\n",
    "거래가 실제로 이뤄진 경우 체결로 기록되지만, 매수자와 매도자가 거래 전 제시하는 금액을 각각 매수호가와 매도 호가라고 한다. 이를 합쳐 **호가**라고 하며, 이 금액의 차이를 **Bid-Ask Spread**라고 한다."
   ],
   "id": "566119ed75cf2423"
  },
  {
   "metadata": {
    "ExecuteTime": {
     "end_time": "2025-02-15T12:06:52.104725Z",
     "start_time": "2025-02-15T12:06:52.101221Z"
    }
   },
   "cell_type": "code",
   "source": [
    "async def real_time_bid_ask():\n",
    "    exchange = ccxtpro.upbit()\n",
    "    while True:\n",
    "        orderbook = await exchange.watch_order_book(symbol=\"BTC/KRW\")\n",
    "        pprint.pprint(orderbook)\n",
    "        await exchange.close()"
   ],
   "id": "b672b3124c6a77a4",
   "outputs": [],
   "execution_count": 11
  },
  {
   "metadata": {
    "ExecuteTime": {
     "end_time": "2025-02-15T10:04:36.087303Z",
     "start_time": "2025-02-15T10:04:33.352286Z"
    }
   },
   "cell_type": "code",
   "source": "asyncio.run(real_time_bid_ask())",
   "id": "1afdd0ca2bdcebb2",
   "outputs": [
    {
     "name": "stdout",
     "output_type": "stream",
     "text": [
      "{'asks': [[146917000.0, 0.03926307], [146918000.0, 3.61578804], [146920000.0, 0.59928279], [146924000.0, 0.00709662], [146925000.0, 0.00053425], [146929000.0, 0.01189731], [146930000.0, 0.50325613], [146931000.0, 0.05569305], [146961000.0, 0.00010208], [146967000.0, 0.00040884], [146978000.0, 0.0070844], [146985000.0, 0.00343171], [146987000.0, 6.804e-05], [146991000.0, 0.13680676], [146992000.0, 0.00487801]],\n",
      " 'bids': [[146915000.0, 0.01593154], [146914000.0, 0.04025453], [146913000.0, 0.05778384], [146912000.0, 0.40752654], [146911000.0, 0.00293023], [146910000.0, 0.00171683], [146909000.0, 0.02531745], [146900000.0, 0.03176151], [146896000.0, 0.00018], [146887000.0, 0.00272318], [146883000.0, 0.00204142], [146871000.0, 0.00531777], [146861000.0, 0.00068], [146852000.0, 7.231e-05], [146850000.0, 0.00120036]],\n",
      " 'datetime': '2025-02-15T10:04:30.892Z',\n",
      " 'nonce': None,\n",
      " 'symbol': 'BTC/KRW',\n",
      " 'timestamp': 1739613870892}\n",
      "{'asks': [[146917000.0, 0.03926307], [146918000.0, 3.61578804], [146920000.0, 0.59928279], [146924000.0, 0.00709662], [146925000.0, 0.00053425], [146929000.0, 0.01189731], [146930000.0, 0.50325613], [146931000.0, 0.05569305], [146961000.0, 0.00010208], [146967000.0, 0.00040884], [146978000.0, 0.0070844], [146985000.0, 0.00343171], [146987000.0, 6.804e-05], [146991000.0, 0.13680676], [146992000.0, 0.00487801]],\n",
      " 'bids': [[146915000.0, 0.01593154], [146914000.0, 0.04025453], [146913000.0, 0.05778384], [146912000.0, 0.40752654], [146911000.0, 0.00293023], [146910000.0, 0.00171683], [146909000.0, 0.02531745], [146900000.0, 0.03176151], [146896000.0, 0.00018], [146887000.0, 0.00272318], [146883000.0, 0.00204142], [146871000.0, 0.00531777], [146861000.0, 0.00068], [146852000.0, 7.231e-05], [146850000.0, 0.00120036]],\n",
      " 'datetime': '2025-02-15T10:04:30.892Z',\n",
      " 'nonce': None,\n",
      " 'symbol': 'BTC/KRW',\n",
      " 'timestamp': 1739613870892}\n",
      "{'asks': [[146917000.0, 0.03926307], [146918000.0, 3.61578804], [146920000.0, 0.59928279], [146924000.0, 0.00709662], [146925000.0, 0.00053425], [146929000.0, 0.01189731], [146930000.0, 0.50325613], [146931000.0, 0.05569305], [146961000.0, 0.00010208], [146967000.0, 0.00040884], [146978000.0, 0.0070844], [146985000.0, 0.00343171], [146987000.0, 6.804e-05], [146991000.0, 0.13680676], [146992000.0, 0.00487801]],\n",
      " 'bids': [[146915000.0, 0.01593154], [146914000.0, 0.04025453], [146913000.0, 0.05778384], [146912000.0, 0.40752654], [146911000.0, 0.00293023], [146910000.0, 0.00171683], [146909000.0, 0.02531745], [146900000.0, 0.03176151], [146896000.0, 0.00018], [146887000.0, 0.00272318], [146883000.0, 0.00204142], [146871000.0, 0.00531777], [146861000.0, 0.00068], [146852000.0, 7.231e-05], [146850000.0, 0.00120036]],\n",
      " 'datetime': '2025-02-15T10:04:30.892Z',\n",
      " 'nonce': None,\n",
      " 'symbol': 'BTC/KRW',\n",
      " 'timestamp': 1739613870892}\n",
      "{'asks': [[146917000.0, 0.03926307], [146918000.0, 3.61578804], [146920000.0, 0.59928279], [146924000.0, 0.00709662], [146925000.0, 0.00053425], [146929000.0, 0.01189731], [146930000.0, 0.50325613], [146931000.0, 0.05569305], [146961000.0, 0.00010208], [146967000.0, 0.00040884], [146978000.0, 0.0070844], [146985000.0, 0.00343171], [146987000.0, 6.804e-05], [146991000.0, 0.13680676], [146992000.0, 0.00487801]],\n",
      " 'bids': [[146915000.0, 0.01593154], [146914000.0, 0.04025453], [146913000.0, 0.05778384], [146912000.0, 0.40752654], [146911000.0, 0.00293023], [146910000.0, 0.00171683], [146909000.0, 0.02531745], [146900000.0, 0.03176151], [146896000.0, 0.00018], [146887000.0, 0.00272318], [146883000.0, 0.00204142], [146871000.0, 0.00531777], [146861000.0, 0.00068], [146852000.0, 7.231e-05], [146850000.0, 0.00120036]],\n",
      " 'datetime': '2025-02-15T10:04:30.892Z',\n",
      " 'nonce': None,\n",
      " 'symbol': 'BTC/KRW',\n",
      " 'timestamp': 1739613870892}\n",
      "{'asks': [[146917000.0, 0.03926307], [146918000.0, 3.61578804], [146920000.0, 0.59928279], [146924000.0, 0.00709662], [146925000.0, 0.00053425], [146929000.0, 0.01189731], [146930000.0, 0.50325613], [146931000.0, 0.05569305], [146961000.0, 0.00010208], [146967000.0, 0.00040884], [146978000.0, 0.0070844], [146985000.0, 0.00343171], [146987000.0, 6.804e-05], [146991000.0, 0.13680676], [146992000.0, 0.00487801]],\n",
      " 'bids': [[146915000.0, 0.01593154], [146914000.0, 0.04025453], [146913000.0, 0.05778384], [146912000.0, 0.40752654], [146911000.0, 0.00293023], [146910000.0, 0.00171683], [146909000.0, 0.02531745], [146900000.0, 0.03176151], [146896000.0, 0.00018], [146887000.0, 0.00272318], [146883000.0, 0.00204142], [146871000.0, 0.00531777], [146861000.0, 0.00068], [146852000.0, 7.231e-05], [146850000.0, 0.00120036]],\n",
      " 'datetime': '2025-02-15T10:04:35.093Z',\n",
      " 'nonce': None,\n",
      " 'symbol': 'BTC/KRW',\n",
      " 'timestamp': 1739613875093}\n",
      "{'asks': [[146917000.0, 0.03926307], [146918000.0, 3.61578804], [146920000.0, 0.59928279], [146924000.0, 0.00709662], [146925000.0, 0.00053425], [146929000.0, 0.01189731], [146930000.0, 0.50325613], [146931000.0, 0.05569305], [146961000.0, 0.00010208], [146967000.0, 0.00040884], [146978000.0, 0.0070844], [146985000.0, 0.00343171], [146987000.0, 6.804e-05], [146991000.0, 0.13680676], [146992000.0, 0.00487801]],\n",
      " 'bids': [[146915000.0, 0.01593154], [146914000.0, 0.04025453], [146913000.0, 0.05778384], [146912000.0, 0.40752654], [146911000.0, 0.00293023], [146910000.0, 0.00171683], [146909000.0, 0.02531745], [146900000.0, 0.03176151], [146896000.0, 0.00018], [146887000.0, 0.00272318], [146883000.0, 0.00204142], [146871000.0, 0.00531777], [146861000.0, 0.00068], [146852000.0, 7.231e-05], [146850000.0, 0.00120036]],\n",
      " 'datetime': '2025-02-15T10:04:30.892Z',\n",
      " 'nonce': None,\n",
      " 'symbol': 'BTC/KRW',\n",
      " 'timestamp': 1739613870892}\n",
      "{'asks': [[146917000.0, 0.03926307], [146918000.0, 3.61578804], [146920000.0, 0.59928279], [146924000.0, 0.00709662], [146925000.0, 0.00053425], [146929000.0, 0.01189731], [146930000.0, 0.50325613], [146931000.0, 0.05569305], [146961000.0, 0.00010208], [146967000.0, 0.00040884], [146978000.0, 0.0070844], [146985000.0, 0.00343171], [146987000.0, 6.804e-05], [146991000.0, 0.13680676], [146992000.0, 0.00487801]],\n",
      " 'bids': [[146915000.0, 0.01593154], [146914000.0, 0.04025453], [146913000.0, 0.05778384], [146912000.0, 0.40752654], [146911000.0, 0.00293023], [146910000.0, 0.00171683], [146909000.0, 0.02531745], [146900000.0, 0.03176151], [146896000.0, 0.00018], [146887000.0, 0.00272318], [146883000.0, 0.00204142], [146871000.0, 0.00531777], [146861000.0, 0.00068], [146852000.0, 7.231e-05], [146850000.0, 0.00120036]],\n",
      " 'datetime': '2025-02-15T10:04:35.093Z',\n",
      " 'nonce': None,\n",
      " 'symbol': 'BTC/KRW',\n",
      " 'timestamp': 1739613875093}\n"
     ]
    },
    {
     "ename": "KeyboardInterrupt",
     "evalue": "",
     "output_type": "error",
     "traceback": [
      "\u001B[0;31m---------------------------------------------------------------------------\u001B[0m",
      "\u001B[0;31mKeyboardInterrupt\u001B[0m                         Traceback (most recent call last)",
      "Cell \u001B[0;32mIn[13], line 1\u001B[0m\n\u001B[0;32m----> 1\u001B[0m asyncio\u001B[38;5;241m.\u001B[39mrun(real_time_bid_ask())\n",
      "File \u001B[0;32m~/anaconda3/envs/langchain/lib/python3.11/site-packages/nest_asyncio.py:30\u001B[0m, in \u001B[0;36m_patch_asyncio.<locals>.run\u001B[0;34m(main, debug)\u001B[0m\n\u001B[1;32m     28\u001B[0m task \u001B[38;5;241m=\u001B[39m asyncio\u001B[38;5;241m.\u001B[39mensure_future(main)\n\u001B[1;32m     29\u001B[0m \u001B[38;5;28;01mtry\u001B[39;00m:\n\u001B[0;32m---> 30\u001B[0m     \u001B[38;5;28;01mreturn\u001B[39;00m loop\u001B[38;5;241m.\u001B[39mrun_until_complete(task)\n\u001B[1;32m     31\u001B[0m \u001B[38;5;28;01mfinally\u001B[39;00m:\n\u001B[1;32m     32\u001B[0m     \u001B[38;5;28;01mif\u001B[39;00m \u001B[38;5;129;01mnot\u001B[39;00m task\u001B[38;5;241m.\u001B[39mdone():\n",
      "File \u001B[0;32m~/anaconda3/envs/langchain/lib/python3.11/site-packages/nest_asyncio.py:92\u001B[0m, in \u001B[0;36m_patch_loop.<locals>.run_until_complete\u001B[0;34m(self, future)\u001B[0m\n\u001B[1;32m     90\u001B[0m     f\u001B[38;5;241m.\u001B[39m_log_destroy_pending \u001B[38;5;241m=\u001B[39m \u001B[38;5;28;01mFalse\u001B[39;00m\n\u001B[1;32m     91\u001B[0m \u001B[38;5;28;01mwhile\u001B[39;00m \u001B[38;5;129;01mnot\u001B[39;00m f\u001B[38;5;241m.\u001B[39mdone():\n\u001B[0;32m---> 92\u001B[0m     \u001B[38;5;28mself\u001B[39m\u001B[38;5;241m.\u001B[39m_run_once()\n\u001B[1;32m     93\u001B[0m     \u001B[38;5;28;01mif\u001B[39;00m \u001B[38;5;28mself\u001B[39m\u001B[38;5;241m.\u001B[39m_stopping:\n\u001B[1;32m     94\u001B[0m         \u001B[38;5;28;01mbreak\u001B[39;00m\n",
      "File \u001B[0;32m~/anaconda3/envs/langchain/lib/python3.11/site-packages/nest_asyncio.py:115\u001B[0m, in \u001B[0;36m_patch_loop.<locals>._run_once\u001B[0;34m(self)\u001B[0m\n\u001B[1;32m    108\u001B[0m     heappop(scheduled)\n\u001B[1;32m    110\u001B[0m timeout \u001B[38;5;241m=\u001B[39m (\n\u001B[1;32m    111\u001B[0m     \u001B[38;5;241m0\u001B[39m \u001B[38;5;28;01mif\u001B[39;00m ready \u001B[38;5;129;01mor\u001B[39;00m \u001B[38;5;28mself\u001B[39m\u001B[38;5;241m.\u001B[39m_stopping\n\u001B[1;32m    112\u001B[0m     \u001B[38;5;28;01melse\u001B[39;00m \u001B[38;5;28mmin\u001B[39m(\u001B[38;5;28mmax\u001B[39m(\n\u001B[1;32m    113\u001B[0m         scheduled[\u001B[38;5;241m0\u001B[39m]\u001B[38;5;241m.\u001B[39m_when \u001B[38;5;241m-\u001B[39m \u001B[38;5;28mself\u001B[39m\u001B[38;5;241m.\u001B[39mtime(), \u001B[38;5;241m0\u001B[39m), \u001B[38;5;241m86400\u001B[39m) \u001B[38;5;28;01mif\u001B[39;00m scheduled\n\u001B[1;32m    114\u001B[0m     \u001B[38;5;28;01melse\u001B[39;00m \u001B[38;5;28;01mNone\u001B[39;00m)\n\u001B[0;32m--> 115\u001B[0m event_list \u001B[38;5;241m=\u001B[39m \u001B[38;5;28mself\u001B[39m\u001B[38;5;241m.\u001B[39m_selector\u001B[38;5;241m.\u001B[39mselect(timeout)\n\u001B[1;32m    116\u001B[0m \u001B[38;5;28mself\u001B[39m\u001B[38;5;241m.\u001B[39m_process_events(event_list)\n\u001B[1;32m    118\u001B[0m end_time \u001B[38;5;241m=\u001B[39m \u001B[38;5;28mself\u001B[39m\u001B[38;5;241m.\u001B[39mtime() \u001B[38;5;241m+\u001B[39m \u001B[38;5;28mself\u001B[39m\u001B[38;5;241m.\u001B[39m_clock_resolution\n",
      "File \u001B[0;32m~/anaconda3/envs/langchain/lib/python3.11/selectors.py:566\u001B[0m, in \u001B[0;36mKqueueSelector.select\u001B[0;34m(self, timeout)\u001B[0m\n\u001B[1;32m    564\u001B[0m ready \u001B[38;5;241m=\u001B[39m []\n\u001B[1;32m    565\u001B[0m \u001B[38;5;28;01mtry\u001B[39;00m:\n\u001B[0;32m--> 566\u001B[0m     kev_list \u001B[38;5;241m=\u001B[39m \u001B[38;5;28mself\u001B[39m\u001B[38;5;241m.\u001B[39m_selector\u001B[38;5;241m.\u001B[39mcontrol(\u001B[38;5;28;01mNone\u001B[39;00m, max_ev, timeout)\n\u001B[1;32m    567\u001B[0m \u001B[38;5;28;01mexcept\u001B[39;00m \u001B[38;5;167;01mInterruptedError\u001B[39;00m:\n\u001B[1;32m    568\u001B[0m     \u001B[38;5;28;01mreturn\u001B[39;00m ready\n",
      "\u001B[0;31mKeyboardInterrupt\u001B[0m: "
     ]
    }
   ],
   "execution_count": 13
  },
  {
   "metadata": {},
   "cell_type": "markdown",
   "source": [
    "#### 1.4 다중 자산의 가격 데이터 수집\n",
    "\n",
    "실제 데이터 수집을 위해서는 단일 자산이 아닌 다중 자산의 데이터를 실시간으로 수집해야 하는 경우가 많다. 이 경우 loop를 통해 여러 자산을 비동기로 효율적으로 불러올 수 있다."
   ],
   "id": "ea097ce6f3223c5d"
  },
  {
   "metadata": {
    "ExecuteTime": {
     "end_time": "2025-02-15T10:07:41.669523Z",
     "start_time": "2025-02-15T10:07:38.959622Z"
    }
   },
   "cell_type": "code",
   "source": [
    "async def loop(exchange, symbol):\n",
    "    while True:\n",
    "        trade = await exchange.watch_trades(symbol)\n",
    "        pprint.pprint(trade)\n",
    "\n",
    "async def real_time_multi_asset():\n",
    "    exchange = ccxtpro.upbit()\n",
    "    symbols = ['BTC/KRW', 'ETH/KRW', 'XRP/KRW']\n",
    "\n",
    "    coros = [loop(exchange, symbol) for symbol in symbols]\n",
    "    await asyncio.gather(*coros)\n",
    "    await exchange.close()\n",
    "\n",
    "asyncio.run(real_time_multi_asset())"
   ],
   "id": "d640d1b0208cf1db",
   "outputs": [
    {
     "name": "stdout",
     "output_type": "stream",
     "text": [
      "[{'amount': 0.001605,\n",
      "  'cost': 235795.365,\n",
      "  'datetime': '2025-02-15T10:07:33.639Z',\n",
      "  'fee': {'cost': None, 'currency': None},\n",
      "  'fees': [],\n",
      "  'id': '17396140536120000',\n",
      "  'info': {'ask_bid': 'ASK',\n",
      "           'best_ask_price': 146920000,\n",
      "           'best_ask_size': 0.46371795,\n",
      "           'best_bid_price': 146913000,\n",
      "           'best_bid_size': 0.01690955,\n",
      "           'change': 'RISE',\n",
      "           'change_price': 362000.0,\n",
      "           'code': 'KRW-BTC',\n",
      "           'prev_closing_price': 146551000.0,\n",
      "           'sequential_id': 17396140536120000,\n",
      "           'stream_type': 'SNAPSHOT',\n",
      "           'timestamp': 1739614053639,\n",
      "           'trade_date': '2025-02-15',\n",
      "           'trade_price': 146913000.0,\n",
      "           'trade_time': '10:07:33',\n",
      "           'trade_timestamp': 1739614053612,\n",
      "           'trade_volume': 0.001605,\n",
      "           'type': 'trade'},\n",
      "  'order': None,\n",
      "  'price': 146913000.0,\n",
      "  'side': 'sell',\n",
      "  'symbol': 'BTC/KRW',\n",
      "  'takerOrMaker': None,\n",
      "  'timestamp': 1739614053639,\n",
      "  'type': None}]\n",
      "[{'amount': 0.001605,\n",
      "  'cost': 235795.365,\n",
      "  'datetime': '2025-02-15T10:07:33.639Z',\n",
      "  'fee': {'cost': None, 'currency': None},\n",
      "  'fees': [],\n",
      "  'id': '17396140536120000',\n",
      "  'info': {'ask_bid': 'ASK',\n",
      "           'best_ask_price': 146920000,\n",
      "           'best_ask_size': 0.46371795,\n",
      "           'best_bid_price': 146913000,\n",
      "           'best_bid_size': 0.01690955,\n",
      "           'change': 'RISE',\n",
      "           'change_price': 362000.0,\n",
      "           'code': 'KRW-BTC',\n",
      "           'prev_closing_price': 146551000.0,\n",
      "           'sequential_id': 17396140536120000,\n",
      "           'stream_type': 'SNAPSHOT',\n",
      "           'timestamp': 1739614053639,\n",
      "           'trade_date': '2025-02-15',\n",
      "           'trade_price': 146913000.0,\n",
      "           'trade_time': '10:07:33',\n",
      "           'trade_timestamp': 1739614053612,\n",
      "           'trade_volume': 0.001605,\n",
      "           'type': 'trade'},\n",
      "  'order': None,\n",
      "  'price': 146913000.0,\n",
      "  'side': 'sell',\n",
      "  'symbol': 'BTC/KRW',\n",
      "  'takerOrMaker': None,\n",
      "  'timestamp': 1739614053639,\n",
      "  'type': None}]\n",
      "[{'amount': 0.10662948,\n",
      "  'cost': 433981.9836,\n",
      "  'datetime': '2025-02-15T10:07:32.913Z',\n",
      "  'fee': {'cost': None, 'currency': None},\n",
      "  'fees': [],\n",
      "  'id': '17396140528710000',\n",
      "  'info': {'ask_bid': 'BID',\n",
      "           'best_ask_price': 4070000,\n",
      "           'best_ask_size': 0.8754191,\n",
      "           'best_bid_price': 4068000,\n",
      "           'best_bid_size': 12.21174171,\n",
      "           'change': 'FALL',\n",
      "           'change_price': 25000.0,\n",
      "           'code': 'KRW-ETH',\n",
      "           'prev_closing_price': 4095000.0,\n",
      "           'sequential_id': 17396140528710000,\n",
      "           'stream_type': 'SNAPSHOT',\n",
      "           'timestamp': 1739614052913,\n",
      "           'trade_date': '2025-02-15',\n",
      "           'trade_price': 4070000.0,\n",
      "           'trade_time': '10:07:32',\n",
      "           'trade_timestamp': 1739614052871,\n",
      "           'trade_volume': 0.10662948,\n",
      "           'type': 'trade'},\n",
      "  'order': None,\n",
      "  'price': 4070000.0,\n",
      "  'side': 'buy',\n",
      "  'symbol': 'ETH/KRW',\n",
      "  'takerOrMaker': None,\n",
      "  'timestamp': 1739614052913,\n",
      "  'type': None}]\n",
      "[{'amount': 0.001605,\n",
      "  'cost': 235795.365,\n",
      "  'datetime': '2025-02-15T10:07:33.639Z',\n",
      "  'fee': {'cost': None, 'currency': None},\n",
      "  'fees': [],\n",
      "  'id': '17396140536120000',\n",
      "  'info': {'ask_bid': 'ASK',\n",
      "           'best_ask_price': 146920000,\n",
      "           'best_ask_size': 0.46371795,\n",
      "           'best_bid_price': 146913000,\n",
      "           'best_bid_size': 0.01690955,\n",
      "           'change': 'RISE',\n",
      "           'change_price': 362000.0,\n",
      "           'code': 'KRW-BTC',\n",
      "           'prev_closing_price': 146551000.0,\n",
      "           'sequential_id': 17396140536120000,\n",
      "           'stream_type': 'SNAPSHOT',\n",
      "           'timestamp': 1739614053639,\n",
      "           'trade_date': '2025-02-15',\n",
      "           'trade_price': 146913000.0,\n",
      "           'trade_time': '10:07:33',\n",
      "           'trade_timestamp': 1739614053612,\n",
      "           'trade_volume': 0.001605,\n",
      "           'type': 'trade'},\n",
      "  'order': None,\n",
      "  'price': 146913000.0,\n",
      "  'side': 'sell',\n",
      "  'symbol': 'BTC/KRW',\n",
      "  'takerOrMaker': None,\n",
      "  'timestamp': 1739614053639,\n",
      "  'type': None}]\n",
      "[{'amount': 0.10662948,\n",
      "  'cost': 433981.9836,\n",
      "  'datetime': '2025-02-15T10:07:32.913Z',\n",
      "  'fee': {'cost': None, 'currency': None},\n",
      "  'fees': [],\n",
      "  'id': '17396140528710000',\n",
      "  'info': {'ask_bid': 'BID',\n",
      "           'best_ask_price': 4070000,\n",
      "           'best_ask_size': 0.8754191,\n",
      "           'best_bid_price': 4068000,\n",
      "           'best_bid_size': 12.21174171,\n",
      "           'change': 'FALL',\n",
      "           'change_price': 25000.0,\n",
      "           'code': 'KRW-ETH',\n",
      "           'prev_closing_price': 4095000.0,\n",
      "           'sequential_id': 17396140528710000,\n",
      "           'stream_type': 'SNAPSHOT',\n",
      "           'timestamp': 1739614052913,\n",
      "           'trade_date': '2025-02-15',\n",
      "           'trade_price': 4070000.0,\n",
      "           'trade_time': '10:07:32',\n",
      "           'trade_timestamp': 1739614052871,\n",
      "           'trade_volume': 0.10662948,\n",
      "           'type': 'trade'},\n",
      "  'order': None,\n",
      "  'price': 4070000.0,\n",
      "  'side': 'buy',\n",
      "  'symbol': 'ETH/KRW',\n",
      "  'takerOrMaker': None,\n",
      "  'timestamp': 1739614052913,\n",
      "  'type': None}]\n",
      "[{'amount': 404.75250119,\n",
      "  'cost': 1699150.99999562,\n",
      "  'datetime': '2025-02-15T10:07:39.163Z',\n",
      "  'fee': {'cost': None, 'currency': None},\n",
      "  'fees': [],\n",
      "  'id': '17396140591260000',\n",
      "  'info': {'ask_bid': 'BID',\n",
      "           'best_ask_price': 4198,\n",
      "           'best_ask_size': 57212.96078042,\n",
      "           'best_bid_price': 4197,\n",
      "           'best_bid_size': 586.48865431,\n",
      "           'change': 'RISE',\n",
      "           'change_price': 80.0,\n",
      "           'code': 'KRW-XRP',\n",
      "           'prev_closing_price': 4118.0,\n",
      "           'sequential_id': 17396140591260000,\n",
      "           'stream_type': 'SNAPSHOT',\n",
      "           'timestamp': 1739614059163,\n",
      "           'trade_date': '2025-02-15',\n",
      "           'trade_price': 4198.0,\n",
      "           'trade_time': '10:07:39',\n",
      "           'trade_timestamp': 1739614059126,\n",
      "           'trade_volume': 404.75250119,\n",
      "           'type': 'trade'},\n",
      "  'order': None,\n",
      "  'price': 4198.0,\n",
      "  'side': 'buy',\n",
      "  'symbol': 'XRP/KRW',\n",
      "  'takerOrMaker': None,\n",
      "  'timestamp': 1739614059163,\n",
      "  'type': None}]\n"
     ]
    },
    {
     "ename": "KeyboardInterrupt",
     "evalue": "",
     "output_type": "error",
     "traceback": [
      "\u001B[0;31m---------------------------------------------------------------------------\u001B[0m",
      "\u001B[0;31mKeyboardInterrupt\u001B[0m                         Traceback (most recent call last)",
      "Cell \u001B[0;32mIn[14], line 14\u001B[0m\n\u001B[1;32m     11\u001B[0m     \u001B[38;5;28;01mawait\u001B[39;00m asyncio\u001B[38;5;241m.\u001B[39mgather(\u001B[38;5;241m*\u001B[39mcoros)\n\u001B[1;32m     12\u001B[0m     \u001B[38;5;28;01mawait\u001B[39;00m exchange\u001B[38;5;241m.\u001B[39mclose()\n\u001B[0;32m---> 14\u001B[0m asyncio\u001B[38;5;241m.\u001B[39mrun(real_time_multi_asset())\n",
      "File \u001B[0;32m~/anaconda3/envs/langchain/lib/python3.11/site-packages/nest_asyncio.py:30\u001B[0m, in \u001B[0;36m_patch_asyncio.<locals>.run\u001B[0;34m(main, debug)\u001B[0m\n\u001B[1;32m     28\u001B[0m task \u001B[38;5;241m=\u001B[39m asyncio\u001B[38;5;241m.\u001B[39mensure_future(main)\n\u001B[1;32m     29\u001B[0m \u001B[38;5;28;01mtry\u001B[39;00m:\n\u001B[0;32m---> 30\u001B[0m     \u001B[38;5;28;01mreturn\u001B[39;00m loop\u001B[38;5;241m.\u001B[39mrun_until_complete(task)\n\u001B[1;32m     31\u001B[0m \u001B[38;5;28;01mfinally\u001B[39;00m:\n\u001B[1;32m     32\u001B[0m     \u001B[38;5;28;01mif\u001B[39;00m \u001B[38;5;129;01mnot\u001B[39;00m task\u001B[38;5;241m.\u001B[39mdone():\n",
      "File \u001B[0;32m~/anaconda3/envs/langchain/lib/python3.11/site-packages/nest_asyncio.py:92\u001B[0m, in \u001B[0;36m_patch_loop.<locals>.run_until_complete\u001B[0;34m(self, future)\u001B[0m\n\u001B[1;32m     90\u001B[0m     f\u001B[38;5;241m.\u001B[39m_log_destroy_pending \u001B[38;5;241m=\u001B[39m \u001B[38;5;28;01mFalse\u001B[39;00m\n\u001B[1;32m     91\u001B[0m \u001B[38;5;28;01mwhile\u001B[39;00m \u001B[38;5;129;01mnot\u001B[39;00m f\u001B[38;5;241m.\u001B[39mdone():\n\u001B[0;32m---> 92\u001B[0m     \u001B[38;5;28mself\u001B[39m\u001B[38;5;241m.\u001B[39m_run_once()\n\u001B[1;32m     93\u001B[0m     \u001B[38;5;28;01mif\u001B[39;00m \u001B[38;5;28mself\u001B[39m\u001B[38;5;241m.\u001B[39m_stopping:\n\u001B[1;32m     94\u001B[0m         \u001B[38;5;28;01mbreak\u001B[39;00m\n",
      "File \u001B[0;32m~/anaconda3/envs/langchain/lib/python3.11/site-packages/nest_asyncio.py:115\u001B[0m, in \u001B[0;36m_patch_loop.<locals>._run_once\u001B[0;34m(self)\u001B[0m\n\u001B[1;32m    108\u001B[0m     heappop(scheduled)\n\u001B[1;32m    110\u001B[0m timeout \u001B[38;5;241m=\u001B[39m (\n\u001B[1;32m    111\u001B[0m     \u001B[38;5;241m0\u001B[39m \u001B[38;5;28;01mif\u001B[39;00m ready \u001B[38;5;129;01mor\u001B[39;00m \u001B[38;5;28mself\u001B[39m\u001B[38;5;241m.\u001B[39m_stopping\n\u001B[1;32m    112\u001B[0m     \u001B[38;5;28;01melse\u001B[39;00m \u001B[38;5;28mmin\u001B[39m(\u001B[38;5;28mmax\u001B[39m(\n\u001B[1;32m    113\u001B[0m         scheduled[\u001B[38;5;241m0\u001B[39m]\u001B[38;5;241m.\u001B[39m_when \u001B[38;5;241m-\u001B[39m \u001B[38;5;28mself\u001B[39m\u001B[38;5;241m.\u001B[39mtime(), \u001B[38;5;241m0\u001B[39m), \u001B[38;5;241m86400\u001B[39m) \u001B[38;5;28;01mif\u001B[39;00m scheduled\n\u001B[1;32m    114\u001B[0m     \u001B[38;5;28;01melse\u001B[39;00m \u001B[38;5;28;01mNone\u001B[39;00m)\n\u001B[0;32m--> 115\u001B[0m event_list \u001B[38;5;241m=\u001B[39m \u001B[38;5;28mself\u001B[39m\u001B[38;5;241m.\u001B[39m_selector\u001B[38;5;241m.\u001B[39mselect(timeout)\n\u001B[1;32m    116\u001B[0m \u001B[38;5;28mself\u001B[39m\u001B[38;5;241m.\u001B[39m_process_events(event_list)\n\u001B[1;32m    118\u001B[0m end_time \u001B[38;5;241m=\u001B[39m \u001B[38;5;28mself\u001B[39m\u001B[38;5;241m.\u001B[39mtime() \u001B[38;5;241m+\u001B[39m \u001B[38;5;28mself\u001B[39m\u001B[38;5;241m.\u001B[39m_clock_resolution\n",
      "File \u001B[0;32m~/anaconda3/envs/langchain/lib/python3.11/selectors.py:566\u001B[0m, in \u001B[0;36mKqueueSelector.select\u001B[0;34m(self, timeout)\u001B[0m\n\u001B[1;32m    564\u001B[0m ready \u001B[38;5;241m=\u001B[39m []\n\u001B[1;32m    565\u001B[0m \u001B[38;5;28;01mtry\u001B[39;00m:\n\u001B[0;32m--> 566\u001B[0m     kev_list \u001B[38;5;241m=\u001B[39m \u001B[38;5;28mself\u001B[39m\u001B[38;5;241m.\u001B[39m_selector\u001B[38;5;241m.\u001B[39mcontrol(\u001B[38;5;28;01mNone\u001B[39;00m, max_ev, timeout)\n\u001B[1;32m    567\u001B[0m \u001B[38;5;28;01mexcept\u001B[39;00m \u001B[38;5;167;01mInterruptedError\u001B[39;00m:\n\u001B[1;32m    568\u001B[0m     \u001B[38;5;28;01mreturn\u001B[39;00m ready\n",
      "\u001B[0;31mKeyboardInterrupt\u001B[0m: "
     ]
    }
   ],
   "execution_count": 14
  },
  {
   "metadata": {},
   "cell_type": "markdown",
   "source": [
    "### 2. Handling Multi Web Socket Data\n",
    "\n",
    "웹소켓(WebSocket)은 클라이언트와 서버 간에 지속적인 양방향 통신을 가능하게 하는 프로토콜이다. 일반적인 HTTP 요청과 달리, 웹소켓은 한 번 연결되면 지속적으로 데이터를 주고받을 수 있어 실시간성이 중요한 서비스(예: 주식 시세, 채팅, 게임 등)에 적합하다.\n",
    "\n",
    "ccxt의 모듈은 하나의 웹 소켓으로 이뤄져 있으며, 다중 웹소켓을 호출해 실시간으로 처리할 수 있다."
   ],
   "id": "4abbbc36041c6edc"
  },
  {
   "metadata": {
    "ExecuteTime": {
     "end_time": "2025-02-15T10:08:42.446060Z",
     "start_time": "2025-02-15T10:08:37.961075Z"
    }
   },
   "cell_type": "code",
   "source": [
    "async def watch_ticker(exchange, symbol):\n",
    "    \"\"\"\n",
    "    ticker를 실시간으로 관측하는 함수\n",
    "    :param exchange: 거래소를 지정한다.\n",
    "    :param symbol: 관찰할 가상화폐의 심볼을 지정한다.\n",
    "    \"\"\"\n",
    "    while True:\n",
    "        ticker = await exchange.watch_ticker(symbol)\n",
    "        pprint.pprint(ticker)\n",
    "\n",
    "async def watch_order_book(exchange, symbol):\n",
    "    while True:\n",
    "        order_book = await exchange.watch_order_book(symbol)\n",
    "        pprint.pprint(order_book)\n",
    "\n",
    "async def web_socket():\n",
    "    symbol = \"BTC/KRW\"\n",
    "    exchange = ccxtpro.upbit()\n",
    "\n",
    "    coros = [ # 다중 웹소켓 처리\n",
    "        watch_ticker(exchange, symbol),\n",
    "        watch_order_book(exchange, symbol),\n",
    "    ]\n",
    "\n",
    "    await asyncio.gather(*coros)\n",
    "    await exchange.close()\n",
    "\n",
    "asyncio.run(web_socket())"
   ],
   "id": "18be322f245d632b",
   "outputs": [
    {
     "name": "stdout",
     "output_type": "stream",
     "text": [
      "{'ask': None,\n",
      " 'askVolume': None,\n",
      " 'average': 146731500.0,\n",
      " 'baseVolume': 1354.5190273,\n",
      " 'bid': None,\n",
      " 'bidVolume': None,\n",
      " 'change': 361000.0,\n",
      " 'close': 146912000.0,\n",
      " 'datetime': '2025-02-15T10:08:37.655Z',\n",
      " 'high': 147598000.0,\n",
      " 'indexPrice': None,\n",
      " 'info': {'acc_ask_volume': 206.25263714,\n",
      "          'acc_bid_volume': 227.71368169,\n",
      "          'acc_trade_price': 63778431323.84846,\n",
      "          'acc_trade_price_24h': 198488954881.77502,\n",
      "          'acc_trade_volume': 433.96631883,\n",
      "          'acc_trade_volume_24h': 1354.5190273,\n",
      "          'ask_bid': 'BID',\n",
      "          'change': 'RISE',\n",
      "          'change_price': 361000.0,\n",
      "          'change_rate': 0.0024633063,\n",
      "          'code': 'KRW-BTC',\n",
      "          'delisting_date': None,\n",
      "          'high_price': 147598000.0,\n",
      "          'highest_52_week_date': '2025-01-20',\n",
      "          'highest_52_week_price': 163325000.0,\n",
      "          'is_trading_suspended': False,\n",
      "          'low_price': 146200000.0,\n",
      "          'lowest_52_week_date': '2024-02-26',\n",
      "          'lowest_52_week_price': 70000000.0,\n",
      "          'market_state': 'ACTIVE',\n",
      "          'market_warning': 'NONE',\n",
      "          'opening_price': 146551000.0,\n",
      "          'prev_closing_price': 146551000.0,\n",
      "          'signed_change_price': 361000.0,\n",
      "          'signed_change_rate': 0.0024633063,\n",
      "          'stream_type': 'SNAPSHOT',\n",
      "          'timestamp': 1739614117690,\n",
      "          'trade_date': '20250215',\n",
      "          'trade_price': 146912000.0,\n",
      "          'trade_time': '100837',\n",
      "          'trade_timestamp': 1739614117655,\n",
      "          'trade_volume': 0.03260011,\n",
      "          'type': 'ticker'},\n",
      " 'last': 146912000.0,\n",
      " 'low': 146200000.0,\n",
      " 'markPrice': None,\n",
      " 'open': 146551000.0,\n",
      " 'percentage': 0.0024633063,\n",
      " 'previousClose': 146551000.0,\n",
      " 'quoteVolume': 198488954881.77502,\n",
      " 'symbol': 'BTC/KRW',\n",
      " 'timestamp': 1739614117655,\n",
      " 'vwap': 146538329.01663145}\n",
      "{'ask': None,\n",
      " 'askVolume': None,\n",
      " 'average': 146730000.0,\n",
      " 'baseVolume': 1354.5190273,\n",
      " 'bid': None,\n",
      " 'bidVolume': None,\n",
      " 'change': 358000.0,\n",
      " 'close': 146909000.0,\n",
      " 'datetime': '2025-02-15T10:08:39.110Z',\n",
      " 'high': 147598000.0,\n",
      " 'indexPrice': None,\n",
      " 'info': {'acc_ask_volume': 206.25933458,\n",
      "          'acc_bid_volume': 227.71368169,\n",
      "          'acc_trade_price': 63779415238.06142,\n",
      "          'acc_trade_price_24h': 198488954881.77502,\n",
      "          'acc_trade_volume': 433.97301627,\n",
      "          'acc_trade_volume_24h': 1354.5190273,\n",
      "          'ask_bid': 'ASK',\n",
      "          'change': 'RISE',\n",
      "          'change_price': 358000.0,\n",
      "          'change_rate': 0.0024428356,\n",
      "          'code': 'KRW-BTC',\n",
      "          'delisting_date': None,\n",
      "          'high_price': 147598000.0,\n",
      "          'highest_52_week_date': '2025-01-20',\n",
      "          'highest_52_week_price': 163325000.0,\n",
      "          'is_trading_suspended': False,\n",
      "          'low_price': 146200000.0,\n",
      "          'lowest_52_week_date': '2024-02-26',\n",
      "          'lowest_52_week_price': 70000000.0,\n",
      "          'market_state': 'ACTIVE',\n",
      "          'market_warning': 'NONE',\n",
      "          'opening_price': 146551000.0,\n",
      "          'prev_closing_price': 146551000.0,\n",
      "          'signed_change_price': 358000.0,\n",
      "          'signed_change_rate': 0.0024428356,\n",
      "          'stream_type': 'REALTIME',\n",
      "          'timestamp': 1739614119155,\n",
      "          'trade_date': '20250215',\n",
      "          'trade_price': 146909000.0,\n",
      "          'trade_time': '100839',\n",
      "          'trade_timestamp': 1739614119110,\n",
      "          'trade_volume': 0.00669744,\n",
      "          'type': 'ticker'},\n",
      " 'last': 146909000.0,\n",
      " 'low': 146200000.0,\n",
      " 'markPrice': None,\n",
      " 'open': 146551000.0,\n",
      " 'percentage': 0.0024428356,\n",
      " 'previousClose': 146551000.0,\n",
      " 'quoteVolume': 198488954881.77502,\n",
      " 'symbol': 'BTC/KRW',\n",
      " 'timestamp': 1739614119110,\n",
      " 'vwap': 146538329.01663145}\n",
      "{'ask': None,\n",
      " 'askVolume': None,\n",
      " 'average': 146730000.0,\n",
      " 'baseVolume': 1354.5190273,\n",
      " 'bid': None,\n",
      " 'bidVolume': None,\n",
      " 'change': 358000.0,\n",
      " 'close': 146909000.0,\n",
      " 'datetime': '2025-02-15T10:08:39.110Z',\n",
      " 'high': 147598000.0,\n",
      " 'indexPrice': None,\n",
      " 'info': {'acc_ask_volume': 206.25947071,\n",
      "          'acc_bid_volume': 227.71368169,\n",
      "          'acc_trade_price': 63779435236.78359,\n",
      "          'acc_trade_price_24h': 198488954881.77502,\n",
      "          'acc_trade_volume': 433.9731524,\n",
      "          'acc_trade_volume_24h': 1354.5190273,\n",
      "          'ask_bid': 'ASK',\n",
      "          'change': 'RISE',\n",
      "          'change_price': 358000.0,\n",
      "          'change_rate': 0.0024428356,\n",
      "          'code': 'KRW-BTC',\n",
      "          'delisting_date': None,\n",
      "          'high_price': 147598000.0,\n",
      "          'highest_52_week_date': '2025-01-20',\n",
      "          'highest_52_week_price': 163325000.0,\n",
      "          'is_trading_suspended': False,\n",
      "          'low_price': 146200000.0,\n",
      "          'lowest_52_week_date': '2024-02-26',\n",
      "          'lowest_52_week_price': 70000000.0,\n",
      "          'market_state': 'ACTIVE',\n",
      "          'market_warning': 'NONE',\n",
      "          'opening_price': 146551000.0,\n",
      "          'prev_closing_price': 146551000.0,\n",
      "          'signed_change_price': 358000.0,\n",
      "          'signed_change_rate': 0.0024428356,\n",
      "          'stream_type': 'REALTIME',\n",
      "          'timestamp': 1739614119156,\n",
      "          'trade_date': '20250215',\n",
      "          'trade_price': 146909000.0,\n",
      "          'trade_time': '100839',\n",
      "          'trade_timestamp': 1739614119110,\n",
      "          'trade_volume': 0.00013613,\n",
      "          'type': 'ticker'},\n",
      " 'last': 146909000.0,\n",
      " 'low': 146200000.0,\n",
      " 'markPrice': None,\n",
      " 'open': 146551000.0,\n",
      " 'percentage': 0.0024428356,\n",
      " 'previousClose': 146551000.0,\n",
      " 'quoteVolume': 198488954881.77502,\n",
      " 'symbol': 'BTC/KRW',\n",
      " 'timestamp': 1739614119110,\n",
      " 'vwap': 146538329.01663145}\n",
      "{'ask': None,\n",
      " 'askVolume': None,\n",
      " 'average': 146730000.0,\n",
      " 'baseVolume': 1354.5190273,\n",
      " 'bid': None,\n",
      " 'bidVolume': None,\n",
      " 'change': 358000.0,\n",
      " 'close': 146909000.0,\n",
      " 'datetime': '2025-02-15T10:08:39.110Z',\n",
      " 'high': 147598000.0,\n",
      " 'indexPrice': None,\n",
      " 'info': {'acc_ask_volume': 206.26107541,\n",
      "          'acc_bid_volume': 227.71368169,\n",
      "          'acc_trade_price': 63779670981.65589,\n",
      "          'acc_trade_price_24h': 198488954881.77502,\n",
      "          'acc_trade_volume': 433.9747571,\n",
      "          'acc_trade_volume_24h': 1354.5190273,\n",
      "          'ask_bid': 'ASK',\n",
      "          'change': 'RISE',\n",
      "          'change_price': 358000.0,\n",
      "          'change_rate': 0.0024428356,\n",
      "          'code': 'KRW-BTC',\n",
      "          'delisting_date': None,\n",
      "          'high_price': 147598000.0,\n",
      "          'highest_52_week_date': '2025-01-20',\n",
      "          'highest_52_week_price': 163325000.0,\n",
      "          'is_trading_suspended': False,\n",
      "          'low_price': 146200000.0,\n",
      "          'lowest_52_week_date': '2024-02-26',\n",
      "          'lowest_52_week_price': 70000000.0,\n",
      "          'market_state': 'ACTIVE',\n",
      "          'market_warning': 'NONE',\n",
      "          'opening_price': 146551000.0,\n",
      "          'prev_closing_price': 146551000.0,\n",
      "          'signed_change_price': 358000.0,\n",
      "          'signed_change_rate': 0.0024428356,\n",
      "          'stream_type': 'REALTIME',\n",
      "          'timestamp': 1739614119157,\n",
      "          'trade_date': '20250215',\n",
      "          'trade_price': 146909000.0,\n",
      "          'trade_time': '100839',\n",
      "          'trade_timestamp': 1739614119110,\n",
      "          'trade_volume': 0.0016047,\n",
      "          'type': 'ticker'},\n",
      " 'last': 146909000.0,\n",
      " 'low': 146200000.0,\n",
      " 'markPrice': None,\n",
      " 'open': 146551000.0,\n",
      " 'percentage': 0.0024428356,\n",
      " 'previousClose': 146551000.0,\n",
      " 'quoteVolume': 198488954881.77502,\n",
      " 'symbol': 'BTC/KRW',\n",
      " 'timestamp': 1739614119110,\n",
      " 'vwap': 146538329.01663145}\n",
      "{'ask': None,\n",
      " 'askVolume': None,\n",
      " 'average': 146730000.0,\n",
      " 'baseVolume': 1354.5190273,\n",
      " 'bid': None,\n",
      " 'bidVolume': None,\n",
      " 'change': 358000.0,\n",
      " 'close': 146909000.0,\n",
      " 'datetime': '2025-02-15T10:08:39.110Z',\n",
      " 'high': 147598000.0,\n",
      " 'indexPrice': None,\n",
      " 'info': {'acc_ask_volume': 206.28584987,\n",
      "          'acc_bid_volume': 227.71368169,\n",
      "          'acc_trade_price': 63783310572.80003,\n",
      "          'acc_trade_price_24h': 198488954881.77502,\n",
      "          'acc_trade_volume': 433.99953156,\n",
      "          'acc_trade_volume_24h': 1354.5190273,\n",
      "          'ask_bid': 'ASK',\n",
      "          'change': 'RISE',\n",
      "          'change_price': 358000.0,\n",
      "          'change_rate': 0.0024428356,\n",
      "          'code': 'KRW-BTC',\n",
      "          'delisting_date': None,\n",
      "          'high_price': 147598000.0,\n",
      "          'highest_52_week_date': '2025-01-20',\n",
      "          'highest_52_week_price': 163325000.0,\n",
      "          'is_trading_suspended': False,\n",
      "          'low_price': 146200000.0,\n",
      "          'lowest_52_week_date': '2024-02-26',\n",
      "          'lowest_52_week_price': 70000000.0,\n",
      "          'market_state': 'ACTIVE',\n",
      "          'market_warning': 'NONE',\n",
      "          'opening_price': 146551000.0,\n",
      "          'prev_closing_price': 146551000.0,\n",
      "          'signed_change_price': 358000.0,\n",
      "          'signed_change_rate': 0.0024428356,\n",
      "          'stream_type': 'REALTIME',\n",
      "          'timestamp': 1739614119159,\n",
      "          'trade_date': '20250215',\n",
      "          'trade_price': 146909000.0,\n",
      "          'trade_time': '100839',\n",
      "          'trade_timestamp': 1739614119110,\n",
      "          'trade_volume': 0.02477446,\n",
      "          'type': 'ticker'},\n",
      " 'last': 146909000.0,\n",
      " 'low': 146200000.0,\n",
      " 'markPrice': None,\n",
      " 'open': 146551000.0,\n",
      " 'percentage': 0.0024428356,\n",
      " 'previousClose': 146551000.0,\n",
      " 'quoteVolume': 198488954881.77502,\n",
      " 'symbol': 'BTC/KRW',\n",
      " 'timestamp': 1739614119110,\n",
      " 'vwap': 146538329.01663145}\n",
      "{'asks': [[146912000.0, 0.04380878], [146913000.0, 0.00103464], [146920000.0, 0.50588187], [146924000.0, 0.00716469], [146925000.0, 0.00153425], [146929000.0, 0.01189731], [146930000.0, 0.00325613], [146931000.0, 0.05569305], [146961000.0, 0.00010208], [146967000.0, 0.00040884], [146973000.0, 0.03076141], [146978000.0, 0.0070844], [146985000.0, 0.00343171], [146987000.0, 6.804e-05], [146990000.0, 6.804e-05]],\n",
      " 'bids': [[146909000.0, 0.06487856], [146906000.0, 0.03401836], [146902000.0, 0.00085301], [146900000.0, 0.03312297], [146896000.0, 0.00072089], [146887000.0, 0.03150391], [146883000.0, 0.00204142], [146872000.0, 0.00204259], [146871000.0, 0.00531777], [146861000.0, 0.00068], [146850000.0, 0.20555826], [146841000.0, 0.0001181], [146840000.0, 0.00302359], [146831000.0, 0.02121396], [146830000.0, 0.04782641]],\n",
      " 'datetime': '2025-02-15T10:08:37.693Z',\n",
      " 'nonce': None,\n",
      " 'symbol': 'BTC/KRW',\n",
      " 'timestamp': 1739614117693}\n",
      "{'asks': [[146912000.0, 0.04380878], [146913000.0, 0.00103464], [146920000.0, 0.50588187], [146924000.0, 0.00716469], [146925000.0, 0.00153425], [146929000.0, 0.01189731], [146930000.0, 0.00325613], [146931000.0, 0.05569305], [146961000.0, 0.00010208], [146967000.0, 0.00040884], [146973000.0, 0.03076141], [146978000.0, 0.0070844], [146985000.0, 0.00343171], [146987000.0, 6.804e-05], [146990000.0, 6.804e-05]],\n",
      " 'bids': [[146909000.0, 0.03122783], [146906000.0, 0.03401836], [146902000.0, 0.00085301], [146900000.0, 0.03312297], [146896000.0, 0.00072089], [146887000.0, 0.03150391], [146883000.0, 0.00204142], [146872000.0, 0.00204259], [146871000.0, 0.00531777], [146861000.0, 0.00068], [146850000.0, 0.20555826], [146841000.0, 0.0001181], [146840000.0, 0.00302359], [146831000.0, 0.02121396], [146830000.0, 0.04782641]],\n",
      " 'datetime': '2025-02-15T10:08:39.593Z',\n",
      " 'nonce': None,\n",
      " 'symbol': 'BTC/KRW',\n",
      " 'timestamp': 1739614119593}\n",
      "{'asks': [[146912000.0, 0.04517013], [146913000.0, 0.00103464], [146920000.0, 0.50588187], [146924000.0, 0.00716469], [146925000.0, 0.00153425], [146929000.0, 0.01189731], [146930000.0, 0.00325613], [146931000.0, 0.05569305], [146961000.0, 0.00010208], [146967000.0, 0.00040884], [146973000.0, 0.03076141], [146978000.0, 0.0070844], [146985000.0, 0.00343171], [146987000.0, 6.804e-05], [146990000.0, 6.804e-05]],\n",
      " 'bids': [[146909000.0, 0.03122783], [146906000.0, 0.03401836], [146902000.0, 0.00085301], [146900000.0, 0.03312297], [146896000.0, 0.00072089], [146887000.0, 0.03150391], [146883000.0, 0.00204142], [146872000.0, 0.00204259], [146871000.0, 0.00531777], [146861000.0, 0.00068], [146850000.0, 0.20555826], [146841000.0, 0.0001181], [146840000.0, 0.00302359], [146831000.0, 0.02121396], [146830000.0, 0.04782641]],\n",
      " 'datetime': '2025-02-15T10:08:41.192Z',\n",
      " 'nonce': None,\n",
      " 'symbol': 'BTC/KRW',\n",
      " 'timestamp': 1739614121192}\n"
     ]
    },
    {
     "ename": "KeyboardInterrupt",
     "evalue": "",
     "output_type": "error",
     "traceback": [
      "\u001B[0;31m---------------------------------------------------------------------------\u001B[0m",
      "\u001B[0;31mKeyboardInterrupt\u001B[0m                         Traceback (most recent call last)",
      "Cell \u001B[0;32mIn[15], line 23\u001B[0m\n\u001B[1;32m     20\u001B[0m     \u001B[38;5;28;01mawait\u001B[39;00m asyncio\u001B[38;5;241m.\u001B[39mgather(\u001B[38;5;241m*\u001B[39mcoros)\n\u001B[1;32m     21\u001B[0m     \u001B[38;5;28;01mawait\u001B[39;00m exchange\u001B[38;5;241m.\u001B[39mclose()\n\u001B[0;32m---> 23\u001B[0m asyncio\u001B[38;5;241m.\u001B[39mrun(web_socket())\n",
      "File \u001B[0;32m~/anaconda3/envs/langchain/lib/python3.11/site-packages/nest_asyncio.py:30\u001B[0m, in \u001B[0;36m_patch_asyncio.<locals>.run\u001B[0;34m(main, debug)\u001B[0m\n\u001B[1;32m     28\u001B[0m task \u001B[38;5;241m=\u001B[39m asyncio\u001B[38;5;241m.\u001B[39mensure_future(main)\n\u001B[1;32m     29\u001B[0m \u001B[38;5;28;01mtry\u001B[39;00m:\n\u001B[0;32m---> 30\u001B[0m     \u001B[38;5;28;01mreturn\u001B[39;00m loop\u001B[38;5;241m.\u001B[39mrun_until_complete(task)\n\u001B[1;32m     31\u001B[0m \u001B[38;5;28;01mfinally\u001B[39;00m:\n\u001B[1;32m     32\u001B[0m     \u001B[38;5;28;01mif\u001B[39;00m \u001B[38;5;129;01mnot\u001B[39;00m task\u001B[38;5;241m.\u001B[39mdone():\n",
      "File \u001B[0;32m~/anaconda3/envs/langchain/lib/python3.11/site-packages/nest_asyncio.py:92\u001B[0m, in \u001B[0;36m_patch_loop.<locals>.run_until_complete\u001B[0;34m(self, future)\u001B[0m\n\u001B[1;32m     90\u001B[0m     f\u001B[38;5;241m.\u001B[39m_log_destroy_pending \u001B[38;5;241m=\u001B[39m \u001B[38;5;28;01mFalse\u001B[39;00m\n\u001B[1;32m     91\u001B[0m \u001B[38;5;28;01mwhile\u001B[39;00m \u001B[38;5;129;01mnot\u001B[39;00m f\u001B[38;5;241m.\u001B[39mdone():\n\u001B[0;32m---> 92\u001B[0m     \u001B[38;5;28mself\u001B[39m\u001B[38;5;241m.\u001B[39m_run_once()\n\u001B[1;32m     93\u001B[0m     \u001B[38;5;28;01mif\u001B[39;00m \u001B[38;5;28mself\u001B[39m\u001B[38;5;241m.\u001B[39m_stopping:\n\u001B[1;32m     94\u001B[0m         \u001B[38;5;28;01mbreak\u001B[39;00m\n",
      "File \u001B[0;32m~/anaconda3/envs/langchain/lib/python3.11/site-packages/nest_asyncio.py:115\u001B[0m, in \u001B[0;36m_patch_loop.<locals>._run_once\u001B[0;34m(self)\u001B[0m\n\u001B[1;32m    108\u001B[0m     heappop(scheduled)\n\u001B[1;32m    110\u001B[0m timeout \u001B[38;5;241m=\u001B[39m (\n\u001B[1;32m    111\u001B[0m     \u001B[38;5;241m0\u001B[39m \u001B[38;5;28;01mif\u001B[39;00m ready \u001B[38;5;129;01mor\u001B[39;00m \u001B[38;5;28mself\u001B[39m\u001B[38;5;241m.\u001B[39m_stopping\n\u001B[1;32m    112\u001B[0m     \u001B[38;5;28;01melse\u001B[39;00m \u001B[38;5;28mmin\u001B[39m(\u001B[38;5;28mmax\u001B[39m(\n\u001B[1;32m    113\u001B[0m         scheduled[\u001B[38;5;241m0\u001B[39m]\u001B[38;5;241m.\u001B[39m_when \u001B[38;5;241m-\u001B[39m \u001B[38;5;28mself\u001B[39m\u001B[38;5;241m.\u001B[39mtime(), \u001B[38;5;241m0\u001B[39m), \u001B[38;5;241m86400\u001B[39m) \u001B[38;5;28;01mif\u001B[39;00m scheduled\n\u001B[1;32m    114\u001B[0m     \u001B[38;5;28;01melse\u001B[39;00m \u001B[38;5;28;01mNone\u001B[39;00m)\n\u001B[0;32m--> 115\u001B[0m event_list \u001B[38;5;241m=\u001B[39m \u001B[38;5;28mself\u001B[39m\u001B[38;5;241m.\u001B[39m_selector\u001B[38;5;241m.\u001B[39mselect(timeout)\n\u001B[1;32m    116\u001B[0m \u001B[38;5;28mself\u001B[39m\u001B[38;5;241m.\u001B[39m_process_events(event_list)\n\u001B[1;32m    118\u001B[0m end_time \u001B[38;5;241m=\u001B[39m \u001B[38;5;28mself\u001B[39m\u001B[38;5;241m.\u001B[39mtime() \u001B[38;5;241m+\u001B[39m \u001B[38;5;28mself\u001B[39m\u001B[38;5;241m.\u001B[39m_clock_resolution\n",
      "File \u001B[0;32m~/anaconda3/envs/langchain/lib/python3.11/selectors.py:566\u001B[0m, in \u001B[0;36mKqueueSelector.select\u001B[0;34m(self, timeout)\u001B[0m\n\u001B[1;32m    564\u001B[0m ready \u001B[38;5;241m=\u001B[39m []\n\u001B[1;32m    565\u001B[0m \u001B[38;5;28;01mtry\u001B[39;00m:\n\u001B[0;32m--> 566\u001B[0m     kev_list \u001B[38;5;241m=\u001B[39m \u001B[38;5;28mself\u001B[39m\u001B[38;5;241m.\u001B[39m_selector\u001B[38;5;241m.\u001B[39mcontrol(\u001B[38;5;28;01mNone\u001B[39;00m, max_ev, timeout)\n\u001B[1;32m    567\u001B[0m \u001B[38;5;28;01mexcept\u001B[39;00m \u001B[38;5;167;01mInterruptedError\u001B[39;00m:\n\u001B[1;32m    568\u001B[0m     \u001B[38;5;28;01mreturn\u001B[39;00m ready\n",
      "\u001B[0;31mKeyboardInterrupt\u001B[0m: "
     ]
    }
   ],
   "execution_count": 15
  },
  {
   "metadata": {},
   "cell_type": "markdown",
   "source": [
    "### 3. Collect and Store Real time Data\n",
    "\n",
    "데이터베이스 시스템과 결합하여 Upbit로부터 실시간으로 가격 데이터를 수집한 뒤, SQL DB에 저장하는 것을 구현할 수 있다. "
   ],
   "id": "11b718cf52862a13"
  },
  {
   "metadata": {},
   "cell_type": "markdown",
   "source": [
    "#### 3.1 Create Table\n",
    "\n",
    "`sqlite3` library를 이용해 기존의 price.db를 연결한다."
   ],
   "id": "fdc2789362517363"
  },
  {
   "metadata": {
    "ExecuteTime": {
     "end_time": "2025-02-15T12:12:49.385017Z",
     "start_time": "2025-02-15T12:12:49.382332Z"
    }
   },
   "cell_type": "code",
   "source": [
    "import sqlite3\n",
    "\n",
    "DB_NAME = \"price.db\"\n",
    "\n",
    "conn = sqlite3.connect(DB_NAME)\n",
    "cursor = conn.cursor()"
   ],
   "id": "b0b4b57f64eb6024",
   "outputs": [],
   "execution_count": 12
  },
  {
   "metadata": {},
   "cell_type": "markdown",
   "source": "BTC price를 저장할 table을 생성한다. primary key는 date로 하고, value를 저장할 컬럼의 이름은 price로 한다. type은 각각 text와 real이다.",
   "id": "bca8579dbb90c19f"
  },
  {
   "metadata": {
    "ExecuteTime": {
     "end_time": "2025-02-15T12:12:57.091545Z",
     "start_time": "2025-02-15T12:12:57.088567Z"
    }
   },
   "cell_type": "code",
   "source": [
    "cursor.execute(\"\"\"\n",
    "    create table if not exists btc_price (\n",
    "        date text primary key,\n",
    "        price real not null\n",
    "    )\n",
    "\"\"\")\n",
    "conn.commit()\n",
    "conn.close()"
   ],
   "id": "200001c6432a0741",
   "outputs": [],
   "execution_count": 13
  },
  {
   "metadata": {},
   "cell_type": "markdown",
   "source": [
    "#### 3.2 Collect data\n",
    "\n",
    "`ccxt` library 내에서 비동기 처리를 지원하는 모듈을 import 하여 거래소에 연결한다."
   ],
   "id": "eb2d41f055567647"
  },
  {
   "metadata": {
    "ExecuteTime": {
     "end_time": "2025-02-15T12:13:16.160372Z",
     "start_time": "2025-02-15T12:13:16.156831Z"
    }
   },
   "cell_type": "code",
   "source": [
    "import ccxt.async_support as ccxt\n",
    "exchange = ccxt.upbit()"
   ],
   "id": "36c6be81edf87413",
   "outputs": [],
   "execution_count": 14
  },
  {
   "metadata": {},
   "cell_type": "markdown",
   "source": "비동기 처리 함수 `fetch_and_store_btc_price()`를 지정한다. 내부에서는 거래소로부터 데이터를 받아온 뒤 SQL에 실시간 적재하도록 작성한다.",
   "id": "e185c5aa7d1ba272"
  },
  {
   "metadata": {
    "ExecuteTime": {
     "end_time": "2025-02-15T10:21:22.432430Z",
     "start_time": "2025-02-15T10:21:22.428113Z"
    }
   },
   "cell_type": "code",
   "source": [
    "async def fetch_and_store_btc_price():\n",
    "    while True:\n",
    "        try:\n",
    "            ticker = await exchange.fetch_ticker(\"BTC/KRW\") # BTC 가격 가져오기\n",
    "            price = ticker['last']\n",
    "            timestamp = datetime.datetime.now().strftime(\"%Y-%m-%d %H:%M:%S\")\n",
    "\n",
    "            # SQLite3에 저장\n",
    "            conn = sqlite3.connect(DB_NAME) # connect\n",
    "            cursor = conn.cursor()\n",
    "            cursor.execute(\"INSERT OR REPLACE INTO BTC_price (date, price) VALUES (?, ?)\", (timestamp, price))\n",
    "            conn.commit()\n",
    "            conn.close()\n",
    "\n",
    "            print(f\"[{timestamp}] BTC Price: {price} KRW\")\n",
    "        \n",
    "        except Exception as e:\n",
    "            print(f\"error : {e}\")\n",
    "\n",
    "        await asyncio.sleep(1) # 1초 간격으로 요청 (실시간 감시)"
   ],
   "id": "4fa7edb22387fc49",
   "outputs": [],
   "execution_count": 29
  },
  {
   "metadata": {
    "ExecuteTime": {
     "end_time": "2025-02-15T10:21:41.602523Z",
     "start_time": "2025-02-15T10:21:22.788462Z"
    }
   },
   "cell_type": "code",
   "source": "asyncio.run(fetch_and_store_btc_price())",
   "id": "d64fa42c16378092",
   "outputs": [
    {
     "name": "stdout",
     "output_type": "stream",
     "text": [
      "[2025-02-15 19:21:23] BTC Price: 146900000.0 KRW\n",
      "[2025-02-15 19:21:25] BTC Price: 146900000.0 KRW\n",
      "[2025-02-15 19:21:27] BTC Price: 146900000.0 KRW\n",
      "[2025-02-15 19:21:29] BTC Price: 146900000.0 KRW\n",
      "[2025-02-15 19:21:32] BTC Price: 146900000.0 KRW\n",
      "[2025-02-15 19:21:34] BTC Price: 146900000.0 KRW\n",
      "[2025-02-15 19:21:36] BTC Price: 146900000.0 KRW\n",
      "[2025-02-15 19:21:38] BTC Price: 146900000.0 KRW\n",
      "[2025-02-15 19:21:40] BTC Price: 146900000.0 KRW\n"
     ]
    },
    {
     "ename": "KeyboardInterrupt",
     "evalue": "",
     "output_type": "error",
     "traceback": [
      "\u001B[0;31m---------------------------------------------------------------------------\u001B[0m",
      "\u001B[0;31mKeyboardInterrupt\u001B[0m                         Traceback (most recent call last)",
      "Cell \u001B[0;32mIn[30], line 1\u001B[0m\n\u001B[0;32m----> 1\u001B[0m asyncio\u001B[38;5;241m.\u001B[39mrun(fetch_and_store_btc_price())\n",
      "File \u001B[0;32m~/anaconda3/envs/langchain/lib/python3.11/site-packages/nest_asyncio.py:30\u001B[0m, in \u001B[0;36m_patch_asyncio.<locals>.run\u001B[0;34m(main, debug)\u001B[0m\n\u001B[1;32m     28\u001B[0m task \u001B[38;5;241m=\u001B[39m asyncio\u001B[38;5;241m.\u001B[39mensure_future(main)\n\u001B[1;32m     29\u001B[0m \u001B[38;5;28;01mtry\u001B[39;00m:\n\u001B[0;32m---> 30\u001B[0m     \u001B[38;5;28;01mreturn\u001B[39;00m loop\u001B[38;5;241m.\u001B[39mrun_until_complete(task)\n\u001B[1;32m     31\u001B[0m \u001B[38;5;28;01mfinally\u001B[39;00m:\n\u001B[1;32m     32\u001B[0m     \u001B[38;5;28;01mif\u001B[39;00m \u001B[38;5;129;01mnot\u001B[39;00m task\u001B[38;5;241m.\u001B[39mdone():\n",
      "File \u001B[0;32m~/anaconda3/envs/langchain/lib/python3.11/site-packages/nest_asyncio.py:92\u001B[0m, in \u001B[0;36m_patch_loop.<locals>.run_until_complete\u001B[0;34m(self, future)\u001B[0m\n\u001B[1;32m     90\u001B[0m     f\u001B[38;5;241m.\u001B[39m_log_destroy_pending \u001B[38;5;241m=\u001B[39m \u001B[38;5;28;01mFalse\u001B[39;00m\n\u001B[1;32m     91\u001B[0m \u001B[38;5;28;01mwhile\u001B[39;00m \u001B[38;5;129;01mnot\u001B[39;00m f\u001B[38;5;241m.\u001B[39mdone():\n\u001B[0;32m---> 92\u001B[0m     \u001B[38;5;28mself\u001B[39m\u001B[38;5;241m.\u001B[39m_run_once()\n\u001B[1;32m     93\u001B[0m     \u001B[38;5;28;01mif\u001B[39;00m \u001B[38;5;28mself\u001B[39m\u001B[38;5;241m.\u001B[39m_stopping:\n\u001B[1;32m     94\u001B[0m         \u001B[38;5;28;01mbreak\u001B[39;00m\n",
      "File \u001B[0;32m~/anaconda3/envs/langchain/lib/python3.11/site-packages/nest_asyncio.py:115\u001B[0m, in \u001B[0;36m_patch_loop.<locals>._run_once\u001B[0;34m(self)\u001B[0m\n\u001B[1;32m    108\u001B[0m     heappop(scheduled)\n\u001B[1;32m    110\u001B[0m timeout \u001B[38;5;241m=\u001B[39m (\n\u001B[1;32m    111\u001B[0m     \u001B[38;5;241m0\u001B[39m \u001B[38;5;28;01mif\u001B[39;00m ready \u001B[38;5;129;01mor\u001B[39;00m \u001B[38;5;28mself\u001B[39m\u001B[38;5;241m.\u001B[39m_stopping\n\u001B[1;32m    112\u001B[0m     \u001B[38;5;28;01melse\u001B[39;00m \u001B[38;5;28mmin\u001B[39m(\u001B[38;5;28mmax\u001B[39m(\n\u001B[1;32m    113\u001B[0m         scheduled[\u001B[38;5;241m0\u001B[39m]\u001B[38;5;241m.\u001B[39m_when \u001B[38;5;241m-\u001B[39m \u001B[38;5;28mself\u001B[39m\u001B[38;5;241m.\u001B[39mtime(), \u001B[38;5;241m0\u001B[39m), \u001B[38;5;241m86400\u001B[39m) \u001B[38;5;28;01mif\u001B[39;00m scheduled\n\u001B[1;32m    114\u001B[0m     \u001B[38;5;28;01melse\u001B[39;00m \u001B[38;5;28;01mNone\u001B[39;00m)\n\u001B[0;32m--> 115\u001B[0m event_list \u001B[38;5;241m=\u001B[39m \u001B[38;5;28mself\u001B[39m\u001B[38;5;241m.\u001B[39m_selector\u001B[38;5;241m.\u001B[39mselect(timeout)\n\u001B[1;32m    116\u001B[0m \u001B[38;5;28mself\u001B[39m\u001B[38;5;241m.\u001B[39m_process_events(event_list)\n\u001B[1;32m    118\u001B[0m end_time \u001B[38;5;241m=\u001B[39m \u001B[38;5;28mself\u001B[39m\u001B[38;5;241m.\u001B[39mtime() \u001B[38;5;241m+\u001B[39m \u001B[38;5;28mself\u001B[39m\u001B[38;5;241m.\u001B[39m_clock_resolution\n",
      "File \u001B[0;32m~/anaconda3/envs/langchain/lib/python3.11/selectors.py:566\u001B[0m, in \u001B[0;36mKqueueSelector.select\u001B[0;34m(self, timeout)\u001B[0m\n\u001B[1;32m    564\u001B[0m ready \u001B[38;5;241m=\u001B[39m []\n\u001B[1;32m    565\u001B[0m \u001B[38;5;28;01mtry\u001B[39;00m:\n\u001B[0;32m--> 566\u001B[0m     kev_list \u001B[38;5;241m=\u001B[39m \u001B[38;5;28mself\u001B[39m\u001B[38;5;241m.\u001B[39m_selector\u001B[38;5;241m.\u001B[39mcontrol(\u001B[38;5;28;01mNone\u001B[39;00m, max_ev, timeout)\n\u001B[1;32m    567\u001B[0m \u001B[38;5;28;01mexcept\u001B[39;00m \u001B[38;5;167;01mInterruptedError\u001B[39;00m:\n\u001B[1;32m    568\u001B[0m     \u001B[38;5;28;01mreturn\u001B[39;00m ready\n",
      "\u001B[0;31mKeyboardInterrupt\u001B[0m: "
     ]
    }
   ],
   "execution_count": 30
  },
  {
   "metadata": {},
   "cell_type": "markdown",
   "source": [
    "#### 3.3 저장된 데이터 확인\n",
    "\n",
    "database에 저장된 가격 데이터를 확인한다. date는 string 형태로 저장되기 때문에 적절한 변환이 필요하다."
   ],
   "id": "ed399628458d1fc8"
  },
  {
   "metadata": {
    "ExecuteTime": {
     "end_time": "2025-02-15T12:15:48.202084Z",
     "start_time": "2025-02-15T12:15:48.196737Z"
    }
   },
   "cell_type": "code",
   "source": [
    "conn = sqlite3.connect(DB_NAME)\n",
    "data = pd.read_sql_query(\"SELECT * FROM btc_price\", conn)"
   ],
   "id": "59c4db71ab4605b9",
   "outputs": [],
   "execution_count": 15
  },
  {
   "metadata": {
    "ExecuteTime": {
     "end_time": "2025-02-15T12:16:10.542469Z",
     "start_time": "2025-02-15T12:16:10.054163Z"
    }
   },
   "cell_type": "code",
   "source": "data['price'].plot()",
   "id": "5d288a2846839d47",
   "outputs": [
    {
     "data": {
      "text/plain": [
       "<Axes: >"
      ]
     },
     "execution_count": 18,
     "metadata": {},
     "output_type": "execute_result"
    },
    {
     "data": {
      "text/plain": [
       "<Figure size 640x480 with 1 Axes>"
      ],
      "image/png": "[encoded data removed]"
     },
     "metadata": {},
     "output_type": "display_data"
    }
   ],
   "execution_count": 18
  },
  {
   "metadata": {
    "ExecuteTime": {
     "end_time": "2025-02-15T12:17:14.127982Z",
     "start_time": "2025-02-15T12:17:14.125786Z"
    }
   },
   "cell_type": "code",
   "source": "conn.close()",
   "id": "fd65fc0527244c52",
   "outputs": [],
   "execution_count": 19
  }
 ],
 "metadata": {
  "kernelspec": {
   "display_name": "Python 3",
   "language": "python",
   "name": "python3"
  },
  "language_info": {
   "codemirror_mode": {
    "name": "ipython",
    "version": 2
   },
   "file_extension": ".py",
   "mimetype": "text/x-python",
   "name": "python",
   "nbconvert_exporter": "python",
   "pygments_lexer": "ipython2",
   "version": "2.7.6"
  }
 },
 "nbformat": 4,
 "nbformat_minor": 5
}
